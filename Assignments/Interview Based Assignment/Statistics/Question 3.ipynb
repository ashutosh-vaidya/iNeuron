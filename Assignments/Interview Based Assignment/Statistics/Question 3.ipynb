{
 "cells": [
  {
   "cell_type": "markdown",
   "id": "a2e1161d",
   "metadata": {},
   "source": [
    "**Q-3.** Consider the ‘Blood Pressure Before’ and ‘Blood Pressure After’ columns from the\n",
    "data and calculate the following\n",
    "\n",
    "link = https://drive.google.com/file/d/1mCjtYHiX--mMUjicuaP2gH3k-SnFxt8Y/view?usp=share_"
   ]
  },
  {
   "cell_type": "code",
   "execution_count": 27,
   "id": "566b245c",
   "metadata": {},
   "outputs": [],
   "source": [
    "import pandas as pd\n",
    "import numpy as np\n",
    "from scipy import stats\n",
    "import matplotlib.pyplot as plt"
   ]
  },
  {
   "cell_type": "code",
   "execution_count": 17,
   "id": "75ea0427",
   "metadata": {},
   "outputs": [
    {
     "data": {
      "text/html": [
       "<div>\n",
       "<style scoped>\n",
       "    .dataframe tbody tr th:only-of-type {\n",
       "        vertical-align: middle;\n",
       "    }\n",
       "\n",
       "    .dataframe tbody tr th {\n",
       "        vertical-align: top;\n",
       "    }\n",
       "\n",
       "    .dataframe thead th {\n",
       "        text-align: right;\n",
       "    }\n",
       "</style>\n",
       "<table border=\"1\" class=\"dataframe\">\n",
       "  <thead>\n",
       "    <tr style=\"text-align: right;\">\n",
       "      <th></th>\n",
       "      <th>Patient ID</th>\n",
       "      <th>Blood Pressure Before</th>\n",
       "      <th>Blood Pressure After</th>\n",
       "    </tr>\n",
       "  </thead>\n",
       "  <tbody>\n",
       "    <tr>\n",
       "      <th>0</th>\n",
       "      <td>1</td>\n",
       "      <td>130</td>\n",
       "      <td>120</td>\n",
       "    </tr>\n",
       "    <tr>\n",
       "      <th>1</th>\n",
       "      <td>2</td>\n",
       "      <td>142</td>\n",
       "      <td>135</td>\n",
       "    </tr>\n",
       "    <tr>\n",
       "      <th>2</th>\n",
       "      <td>3</td>\n",
       "      <td>120</td>\n",
       "      <td>118</td>\n",
       "    </tr>\n",
       "    <tr>\n",
       "      <th>3</th>\n",
       "      <td>4</td>\n",
       "      <td>135</td>\n",
       "      <td>127</td>\n",
       "    </tr>\n",
       "    <tr>\n",
       "      <th>4</th>\n",
       "      <td>5</td>\n",
       "      <td>148</td>\n",
       "      <td>140</td>\n",
       "    </tr>\n",
       "  </tbody>\n",
       "</table>\n",
       "</div>"
      ],
      "text/plain": [
       "   Patient ID  Blood Pressure Before  Blood Pressure After\n",
       "0           1                    130                   120\n",
       "1           2                    142                   135\n",
       "2           3                    120                   118\n",
       "3           4                    135                   127\n",
       "4           5                    148                   140"
      ]
     },
     "execution_count": 17,
     "metadata": {},
     "output_type": "execute_result"
    }
   ],
   "source": [
    "df = pd.read_csv(\"data.csv\")\n",
    "df.head()"
   ]
  },
  {
   "cell_type": "code",
   "execution_count": 18,
   "id": "2b537c90",
   "metadata": {},
   "outputs": [
    {
     "data": {
      "text/plain": [
       "Index(['Patient ID', 'Blood Pressure Before', 'Blood Pressure After'], dtype='object')"
      ]
     },
     "execution_count": 18,
     "metadata": {},
     "output_type": "execute_result"
    }
   ],
   "source": [
    "df.columns"
   ]
  },
  {
   "cell_type": "code",
   "execution_count": 20,
   "id": "fe7645fe",
   "metadata": {},
   "outputs": [],
   "source": [
    "# Extract the 'Blood Pressure Before' and 'Blood Pressure After' columns\n",
    "bp_before = df[\"Blood Pressure Before\"]\n",
    "bp_after = df[\"Blood Pressure After\"]"
   ]
  },
  {
   "cell_type": "markdown",
   "id": "d1bf7766",
   "metadata": {},
   "source": [
    "**a. Measure the dispersion in both and interpret the results**"
   ]
  },
  {
   "cell_type": "code",
   "execution_count": 22,
   "id": "9bd9f152",
   "metadata": {},
   "outputs": [
    {
     "name": "stdout",
     "output_type": "stream",
     "text": [
      "Dispersion Measures for 'Blood Pressure Before':\n",
      "Range: 28\n",
      "Variance: 43.10\n",
      "Standard Deviation: 6.57\n"
     ]
    }
   ],
   "source": [
    "# Calculate the dispersion measures for 'Blood Pressure Before'\n",
    "range_before = np.max(bp_before) - np.min(bp_before)\n",
    "variance_before = np.var(bp_before)\n",
    "std_before = np.std(bp_before)\n",
    "\n",
    "# Print the results\n",
    "print(\"Dispersion Measures for 'Blood Pressure Before':\")\n",
    "print(f\"Range: {range_before}\")\n",
    "print(f\"Variance: {variance_before:.2f}\")\n",
    "print(f\"Standard Deviation: {std_before:.2f}\")"
   ]
  },
  {
   "cell_type": "code",
   "execution_count": 24,
   "id": "4e56ce55",
   "metadata": {},
   "outputs": [
    {
     "name": "stdout",
     "output_type": "stream",
     "text": [
      "Dispersion Measures for 'Blood Pressure After':\n",
      "Range: 23\n",
      "Variance: 46.97\n",
      "Standard Deviation: 6.85\n"
     ]
    }
   ],
   "source": [
    "# Calculate the dispersion measures for 'Blood Pressure Before'\n",
    "range_after = np.max(bp_after) - np.min(bp_after)\n",
    "variance_after = np.var(bp_after)\n",
    "std_after = np.std(bp_after)\n",
    "\n",
    "# Print the results\n",
    "print(\"Dispersion Measures for 'Blood Pressure After':\")\n",
    "print(f\"Range: {range_after}\")\n",
    "print(f\"Variance: {variance_after:.2f}\")\n",
    "print(f\"Standard Deviation: {std_after:.2f}\")"
   ]
  },
  {
   "cell_type": "markdown",
   "id": "2020048c",
   "metadata": {},
   "source": [
    "**Interpretation:**\n",
    "\n",
    "1. Range: The range for bp_before is 28 and bp_after its is 23. This indicates there is moderate spread of values but bp_before has slightly wider range compared to bp_after.\n",
    "2. Variance: The variance bp_before is 43.10 and bp_after is 46.97 which is relatively low indicating that data points are relatively close to mean.\n",
    "3. Standard Deviation: The standard deviation for bp_before is 6.57 and its 6.85 for bp_after which is pretty much similar indicating that there is comparable amount of variability in the data."
   ]
  },
  {
   "cell_type": "markdown",
   "id": "4954b7ab",
   "metadata": {},
   "source": [
    "**b. Calculate mean and 5% confidence interval and plot it in a graph**"
   ]
  },
  {
   "cell_type": "code",
   "execution_count": 29,
   "id": "4858c8cd",
   "metadata": {},
   "outputs": [
    {
     "name": "stdout",
     "output_type": "stream",
     "text": [
      "Mean and 5% Confidence Interval for 'Blood Pressure Before':\n",
      "Mean: 133.91\n",
      "Confidence Interval: (132.60075849172767, 135.21924150827232)\n"
     ]
    }
   ],
   "source": [
    "# Calculate mean and confidence interval for 'Blood Pressure Before'\n",
    "mean_before = np.mean(bp_before)\n",
    "confidence_interval_before = stats.t.interval(0.95, len(bp_before)-1, loc=mean_before, scale=stats.sem(bp_before))\n",
    "\n",
    "# Print the results\n",
    "print(\"Mean and 5% Confidence Interval for 'Blood Pressure Before':\")\n",
    "print(f\"Mean: {mean_before}\")\n",
    "print(f\"Confidence Interval: {confidence_interval_before}\")"
   ]
  },
  {
   "cell_type": "code",
   "execution_count": 30,
   "id": "2feca8ec",
   "metadata": {},
   "outputs": [
    {
     "name": "stdout",
     "output_type": "stream",
     "text": [
      "Mean and 5% Confidence Interval for 'Blood Pressure After':\n",
      "Mean: 128.36\n",
      "Confidence Interval: (126.99326697818071, 129.7267330218193)\n"
     ]
    }
   ],
   "source": [
    "# Calculate mean and confidence interval for 'Blood Pressure After'\n",
    "mean_after = np.mean(bp_after)\n",
    "confidence_interval_after = stats.t.interval(0.95, len(bp_after)-1, loc=mean_after, scale=stats.sem(bp_after))\n",
    "\n",
    "print(\"Mean and 5% Confidence Interval for 'Blood Pressure After':\")\n",
    "print(f\"Mean: {mean_after}\")\n",
    "print(f\"Confidence Interval: {confidence_interval_after}\")"
   ]
  },
  {
   "cell_type": "code",
   "execution_count": 31,
   "id": "20d8210e",
   "metadata": {},
   "outputs": [
    {
     "data": {
      "image/png": "[encoded data removed]",
      "text/plain": [
       "<Figure size 640x480 with 1 Axes>"
      ]
     },
     "metadata": {},
     "output_type": "display_data"
    }
   ],
   "source": [
    "# Plotting the means and confidence intervals\n",
    "labels = ['Blood Pressure Before', 'Blood Pressure After']\n",
    "means = [mean_before, mean_after]\n",
    "confidence_intervals = [confidence_interval_before, confidence_interval_after]\n",
    "\n",
    "plt.bar(labels, means, yerr=[(ci[1]-ci[0])/2 for ci in confidence_intervals])\n",
    "plt.ylabel('Mean')\n",
    "plt.title('Mean and 5% Confidence Interval')\n",
    "plt.show()"
   ]
  },
  {
   "cell_type": "markdown",
   "id": "7713a8b6",
   "metadata": {},
   "source": [
    "**c. Calculate the Mean absolute deviation and Standard deviation and interpret the results.**"
   ]
  },
  {
   "cell_type": "code",
   "execution_count": 34,
   "id": "1ebc7327",
   "metadata": {},
   "outputs": [
    {
     "name": "stdout",
     "output_type": "stream",
     "text": [
      "Mean Absolute Deviation (MAD) for 'Blood Pressure Before': 5.7118\n",
      "Mean Absolute Deviation (MAD) for 'Blood Pressure After': 5.9\n",
      "Standard Deviation for 'Blood Pressure Before': 6.57\n",
      "Standard Deviation for 'Blood Pressure After': 6.85\n"
     ]
    }
   ],
   "source": [
    "# Calculate the Mean Absolute Deviation (MAD) for 'Blood Pressure Before'\n",
    "mad_before = np.mean(np.abs(bp_before - np.mean(bp_before)))\n",
    "\n",
    "# Calculate the Mean Absolute Deviation (MAD) for 'Blood Pressure After'\n",
    "mad_after = np.mean(np.abs(bp_after - np.mean(bp_after)))\n",
    "\n",
    "# Print the results\n",
    "print(f\"Mean Absolute Deviation (MAD) for 'Blood Pressure Before': {mad_before}\")\n",
    "print(f\"Mean Absolute Deviation (MAD) for 'Blood Pressure After': {mad_after}\")\n",
    "print(f\"Standard Deviation for 'Blood Pressure Before': {std_before:.2f}\")\n",
    "print(f\"Standard Deviation for 'Blood Pressure After': {std_after:.2f}\")"
   ]
  },
  {
   "cell_type": "markdown",
   "id": "e18b4854",
   "metadata": {},
   "source": [
    "**Interpretaion**\n",
    "\n",
    "- Both 'Blood Pressure Before' and 'Blood Pressure After' columns exhibit similar levels of variability and dispersion, as indicated by their comparable MAD and standard deviation values.\n",
    "- The MAD and standard deviation values provide a measure of the average deviation or spread of the data points from the mean.\n",
    "- The higher the MAD or standard deviation, the greater the dispersion or variability of the data points from the mean, indicating a wider spread of values.\n",
    "- Conversely, a lower MAD or standard deviation suggests less variability and a narrower range of values around the mean."
   ]
  },
  {
   "cell_type": "markdown",
   "id": "85ea7696",
   "metadata": {},
   "source": [
    "**d. Calculate the correlation coefficient and check the significance of it at 1% level of significance.**"
   ]
  },
  {
   "cell_type": "code",
   "execution_count": 39,
   "id": "d481576a",
   "metadata": {},
   "outputs": [
    {
     "name": "stdout",
     "output_type": "stream",
     "text": [
      "Correlation Coefficient: 0.98\n",
      "P-value: 0.00\n",
      "The correlation coefficient is statistically significant at the 1% level of significance.\n"
     ]
    }
   ],
   "source": [
    "# Calculate the correlation coefficient and p-value\n",
    "correlation, p_value = stats.pearsonr(bp_before, bp_after)\n",
    "\n",
    "# Print the results\n",
    "print(f\"Correlation Coefficient: {correlation:.2f}\")\n",
    "print(f\"P-value: {p_value:.2f}\")\n",
    "\n",
    "# Check significance at 1% level of significance\n",
    "if p_value < 0.01:\n",
    "    print(\"The correlation coefficient is statistically significant at the 1% level of significance.\")\n",
    "else:\n",
    "    print(\"The correlation coefficient is not statistically significant at the 1% level of significance.\")"
   ]
  },
  {
   "cell_type": "markdown",
   "id": "61264413",
   "metadata": {},
   "source": [
    "**Interpretation:**\n",
    "\n",
    "The correlation coefficient measures the strength and direction of the linear relationship between the 'Blood Pressure Before' and 'Blood Pressure After' variables. A correlation coefficient of **0.98** indicates a **very strong positive linear relationship** between the two variables. This means that as the 'Blood Pressure Before' values increase, the 'Blood Pressure After' values also tend to increase proportionally.\n",
    "\n",
    "The p-value of **0.00** indicates that the correlation coefficient is statistically significant. Since the p-value is less than 0.01 (1% level of significance), we can conclude that the correlation between 'Blood Pressure Before' and 'Blood Pressure After' is statistically significant. This means that the observed correlation coefficient of 0.98 is unlikely to have occurred by chance alone."
   ]
  }
 ],
 "metadata": {
  "kernelspec": {
   "display_name": "Python 3 (ipykernel)",
   "language": "python",
   "name": "python3"
  },
  "language_info": {
   "codemirror_mode": {
    "name": "ipython",
    "version": 3
   },
   "file_extension": ".py",
   "mimetype": "text/x-python",
   "name": "python",
   "nbconvert_exporter": "python",
   "pygments_lexer": "ipython3",
   "version": "3.11.3"
  }
 },
 "nbformat": 4,
 "nbformat_minor": 5
}
