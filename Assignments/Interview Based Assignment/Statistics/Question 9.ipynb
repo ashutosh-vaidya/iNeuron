{
 "cells": [
  {
   "cell_type": "markdown",
   "id": "736a1510",
   "metadata": {},
   "source": [
    "**Q-9.** Given the score of students in multiple exams. \n",
    "\n",
    "Test the hypothesis that the mean scores of all the students are the same. If not, name the student with the highest score.\n",
    "\n",
    "**Ans:** To test the hypothesis that the mean scores of all students are the same and identify the student with the highest score, you can use a one-way analysis of variance (ANOVA) test followed by a post-hoc test to compare individual group means.\n",
    "\n",
    "Null hypothesis is : the mean scores of all the students are not the same."
   ]
  },
  {
   "cell_type": "code",
   "execution_count": 11,
   "id": "a0b949c2",
   "metadata": {},
   "outputs": [],
   "source": [
    "import numpy as np\n",
    "import pandas as pd\n",
    "from scipy.stats import f_oneway\n",
    "from statsmodels.stats.multicomp import pairwise_tukeyhsd"
   ]
  },
  {
   "cell_type": "code",
   "execution_count": 12,
   "id": "ca9daeac",
   "metadata": {},
   "outputs": [
    {
     "data": {
      "text/html": [
       "<div>\n",
       "<style scoped>\n",
       "    .dataframe tbody tr th:only-of-type {\n",
       "        vertical-align: middle;\n",
       "    }\n",
       "\n",
       "    .dataframe tbody tr th {\n",
       "        vertical-align: top;\n",
       "    }\n",
       "\n",
       "    .dataframe thead th {\n",
       "        text-align: right;\n",
       "    }\n",
       "</style>\n",
       "<table border=\"1\" class=\"dataframe\">\n",
       "  <thead>\n",
       "    <tr style=\"text-align: right;\">\n",
       "      <th></th>\n",
       "      <th>name</th>\n",
       "      <th>exam_1</th>\n",
       "      <th>exam_2</th>\n",
       "      <th>final_exam</th>\n",
       "    </tr>\n",
       "  </thead>\n",
       "  <tbody>\n",
       "    <tr>\n",
       "      <th>0</th>\n",
       "      <td>Karan</td>\n",
       "      <td>85</td>\n",
       "      <td>90</td>\n",
       "      <td>92</td>\n",
       "    </tr>\n",
       "    <tr>\n",
       "      <th>1</th>\n",
       "      <td>Deepa</td>\n",
       "      <td>70</td>\n",
       "      <td>80</td>\n",
       "      <td>85</td>\n",
       "    </tr>\n",
       "    <tr>\n",
       "      <th>2</th>\n",
       "      <td>Karthik</td>\n",
       "      <td>90</td>\n",
       "      <td>85</td>\n",
       "      <td>88</td>\n",
       "    </tr>\n",
       "    <tr>\n",
       "      <th>3</th>\n",
       "      <td>Chandan</td>\n",
       "      <td>75</td>\n",
       "      <td>70</td>\n",
       "      <td>75</td>\n",
       "    </tr>\n",
       "    <tr>\n",
       "      <th>4</th>\n",
       "      <td>Jeevan</td>\n",
       "      <td>95</td>\n",
       "      <td>92</td>\n",
       "      <td>96</td>\n",
       "    </tr>\n",
       "  </tbody>\n",
       "</table>\n",
       "</div>"
      ],
      "text/plain": [
       "      name  exam_1  exam_2  final_exam\n",
       "0    Karan      85      90          92\n",
       "1    Deepa      70      80          85\n",
       "2  Karthik      90      85          88\n",
       "3  Chandan      75      70          75\n",
       "4   Jeevan      95      92          96"
      ]
     },
     "execution_count": 12,
     "metadata": {},
     "output_type": "execute_result"
    }
   ],
   "source": [
    "student_exam_score_dict = {\n",
    "    \"name\": pd.Series([\"Karan\", \"Deepa\", \"Karthik\", \"Chandan\", \"Jeevan\"]),\n",
    "    \"exam_1\" : pd.Series([85, 70, 90, 75, 95]),\n",
    "    \"exam_2\" : pd.Series([90, 80, 85, 70, 92]),\n",
    "    \"final_exam\" : ([92, 85, 88, 75, 96])\n",
    "}\n",
    "\n",
    "df = pd.DataFrame(student_exam_score_dict)\n",
    "df"
   ]
  },
  {
   "cell_type": "code",
   "execution_count": 13,
   "id": "f7151e04",
   "metadata": {},
   "outputs": [],
   "source": [
    "# Perform one-way ANOVA test\n",
    "f_statistic, p_value = f_oneway(df['exam_1'], df['exam_2'], df['final_exam'])"
   ]
  },
  {
   "cell_type": "code",
   "execution_count": 22,
   "id": "c480ed87",
   "metadata": {},
   "outputs": [
    {
     "name": "stdout",
     "output_type": "stream",
     "text": [
      "One-way ANOVA Results:\n",
      "======================\n",
      "F-statistic: 0.3236947791164659\n",
      "p-value: 0.73\n"
     ]
    }
   ],
   "source": [
    "# Display ANOVA results\n",
    "print(\"One-way ANOVA Results:\")\n",
    "print(\"======================\")\n",
    "print(f\"F-statistic: {f_statistic}\")\n",
    "print(f\"p-value: {p_value:.2f}\")"
   ]
  },
  {
   "cell_type": "code",
   "execution_count": 29,
   "id": "5dfb5bec",
   "metadata": {},
   "outputs": [
    {
     "data": {
      "text/plain": [
       "False"
      ]
     },
     "execution_count": 29,
     "metadata": {},
     "output_type": "execute_result"
    }
   ],
   "source": [
    "p_value < 0.05"
   ]
  },
  {
   "cell_type": "markdown",
   "id": "af67a089",
   "metadata": {},
   "source": [
    "Since p_value is greater than 0.05 the null hypothesis is accepted. This means the score of all students is not the same"
   ]
  },
  {
   "cell_type": "code",
   "execution_count": 18,
   "id": "78f78ba5",
   "metadata": {},
   "outputs": [],
   "source": [
    " # Find the student with the highest score\n",
    "highest_score_student = df['name'][df['final_exam'].idxmax()]"
   ]
  },
  {
   "cell_type": "code",
   "execution_count": 19,
   "id": "b41ed2e1",
   "metadata": {},
   "outputs": [
    {
     "name": "stdout",
     "output_type": "stream",
     "text": [
      "\n",
      "Student with the Highest Score: Jeevan\n"
     ]
    }
   ],
   "source": [
    "print()\n",
    "print(f\"Student with the Highest Score: {highest_score_student}\")"
   ]
  }
 ],
 "metadata": {
  "kernelspec": {
   "display_name": "Python 3 (ipykernel)",
   "language": "python",
   "name": "python3"
  },
  "language_info": {
   "codemirror_mode": {
    "name": "ipython",
    "version": 3
   },
   "file_extension": ".py",
   "mimetype": "text/x-python",
   "name": "python",
   "nbconvert_exporter": "python",
   "pygments_lexer": "ipython3",
   "version": "3.11.3"
  }
 },
 "nbformat": 4,
 "nbformat_minor": 5
}
