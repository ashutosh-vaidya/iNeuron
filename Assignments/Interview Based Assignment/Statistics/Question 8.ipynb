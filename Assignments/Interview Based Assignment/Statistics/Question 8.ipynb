{
 "cells": [
  {
   "cell_type": "markdown",
   "id": "72000ef9",
   "metadata": {},
   "source": [
    "**Q-8.** The anxiety levels of 10 participants were measured before and after a new therapy. The scores are not normally distributed. Use the Wilcoxon signed-rank test to test whether the therapy had a significant effect on anxiety levels. The data is given below:"
   ]
  },
  {
   "cell_type": "code",
   "execution_count": 5,
   "id": "9e6010c6",
   "metadata": {},
   "outputs": [
    {
     "name": "stdout",
     "output_type": "stream",
     "text": [
      "Wilcoxon Signed-Rank Test Results:\n",
      "=================================\n",
      "Test Statistic: 0.0\n",
      "p-value: 0.001953125\n"
     ]
    }
   ],
   "source": [
    "import numpy as np\n",
    "from scipy.stats import wilcoxon\n",
    "\n",
    "# Data (before and after scores)\n",
    "before_therapy = [10,8,12,15,6,9,11,7,14,10]\n",
    "after_therapy = [7,6,10,12,5,8,9,6,12,8]\n",
    "\n",
    "# Perform the Wilcoxon signed-rank test\n",
    "statistic, p_value = wilcoxon(before_therapy, after_therapy)\n",
    "\n",
    "# Display the results\n",
    "print(\"Wilcoxon Signed-Rank Test Results:\")\n",
    "print(\"=================================\")\n",
    "print(f\"Test Statistic: {statistic}\")\n",
    "print(f\"p-value: {p_value}\")"
   ]
  },
  {
   "cell_type": "markdown",
   "id": "50191cc1",
   "metadata": {},
   "source": [
    "The Wilcoxon signed-rank test results indicate that the test statistic is 0.0, and the **p-value is 0.0.001953125**. \n",
    "\n",
    "The p-value is less than the commonly used significance level of 0.05, suggesting that there is a significant effect of the therapy on anxiety levels. \n",
    "\n",
    "This means that the therapy likely had an impact on reducing anxiety levels in the participants."
   ]
  }
 ],
 "metadata": {
  "kernelspec": {
   "display_name": "Python 3 (ipykernel)",
   "language": "python",
   "name": "python3"
  },
  "language_info": {
   "codemirror_mode": {
    "name": "ipython",
    "version": 3
   },
   "file_extension": ".py",
   "mimetype": "text/x-python",
   "name": "python",
   "nbconvert_exporter": "python",
   "pygments_lexer": "ipython3",
   "version": "3.11.3"
  }
 },
 "nbformat": 4,
 "nbformat_minor": 5
}
