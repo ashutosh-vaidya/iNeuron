{
 "cells": [
  {
   "cell_type": "markdown",
   "id": "4776ddf6",
   "metadata": {},
   "source": [
    "**Q-4.** A group of 20 friends decide to play a game in which they each write a number\n",
    "between 1 and 20 on a slip of paper and put it into a hat. They then draw one slip of paper\n",
    "at random. What is the probability that the number on the slip of paper is a perfect square\n",
    "(i.e., 1, 4, 9, or 16)?"
   ]
  },
  {
   "cell_type": "code",
   "execution_count": 1,
   "id": "f844e0b2",
   "metadata": {},
   "outputs": [
    {
     "name": "stdout",
     "output_type": "stream",
     "text": [
      "The probability of drawing a perfect square number is: 0.20\n"
     ]
    }
   ],
   "source": [
    "# Total number of friends\n",
    "total_friends = 20\n",
    "\n",
    "# Number of favorable outcomes (perfect square numbers)\n",
    "favorable_outcomes = 0\n",
    "\n",
    "# Iterate through the numbers from 1 to 20\n",
    "for num in range(1, total_friends + 1):\n",
    "    # Check if the number is a perfect square\n",
    "    if num**0.5 == int(num**0.5):\n",
    "        favorable_outcomes += 1\n",
    "\n",
    "# Calculate the probability\n",
    "probability = favorable_outcomes / total_friends\n",
    "\n",
    "print(f\"The probability of drawing a perfect square number is: {probability:.2f}\")"
   ]
  }
 ],
 "metadata": {
  "kernelspec": {
   "display_name": "Python 3 (ipykernel)",
   "language": "python",
   "name": "python3"
  },
  "language_info": {
   "codemirror_mode": {
    "name": "ipython",
    "version": 3
   },
   "file_extension": ".py",
   "mimetype": "text/x-python",
   "name": "python",
   "nbconvert_exporter": "python",
   "pygments_lexer": "ipython3",
   "version": "3.11.3"
  }
 },
 "nbformat": 4,
 "nbformat_minor": 5
}
