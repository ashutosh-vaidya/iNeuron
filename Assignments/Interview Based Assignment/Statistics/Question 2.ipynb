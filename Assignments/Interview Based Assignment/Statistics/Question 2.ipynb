{
 "cells": [
  {
   "cell_type": "markdown",
   "id": "a915e485",
   "metadata": {},
   "source": [
    "**Q-2.Consider a dataset containing the heights (in centimeters) of 1000 individuals. The mean height is 170 cm with a standard deviation of 10 cm. The dataset is approximately normally distributed, and its skewness is approximately zero. Based on this information, answer the following questions:**"
   ]
  },
  {
   "cell_type": "code",
   "execution_count": 16,
   "id": "cf1f39ce",
   "metadata": {},
   "outputs": [],
   "source": [
    "from scipy.stats import norm"
   ]
  },
  {
   "cell_type": "code",
   "execution_count": 17,
   "id": "9a853233",
   "metadata": {},
   "outputs": [],
   "source": [
    "n = 1000\n",
    "mean = 170\n",
    "sd = 10"
   ]
  },
  {
   "cell_type": "markdown",
   "id": "62ea4787",
   "metadata": {},
   "source": [
    "**a. What percentage of individuals in the dataset have heights between 160 cm and 180 cm?**"
   ]
  },
  {
   "cell_type": "code",
   "execution_count": 18,
   "id": "7e728809",
   "metadata": {},
   "outputs": [],
   "source": [
    "# Step 1: Calculate the z-scores for 160 cm and 180 cm\n",
    "z1 = (160 - mean) / sd\n",
    "z2 = (180 - mean) / sd"
   ]
  },
  {
   "cell_type": "code",
   "execution_count": 19,
   "id": "8ad4806c",
   "metadata": {},
   "outputs": [],
   "source": [
    "# Step 2: Calculate the area under the cureve between z1 and z2\n",
    "area_under_curve = norm.cdf(z2) - norm.cdf(z1)"
   ]
  },
  {
   "cell_type": "code",
   "execution_count": 20,
   "id": "22c69325",
   "metadata": {},
   "outputs": [],
   "source": [
    "# Step 3: Convert the area to a percentage\n",
    "percentage = area_under_curve * 100"
   ]
  },
  {
   "cell_type": "code",
   "execution_count": 21,
   "id": "fdac9f97",
   "metadata": {},
   "outputs": [
    {
     "name": "stdout",
     "output_type": "stream",
     "text": [
      "The percentage of individuals with heights between 160 cm and 180 cm is approximatly 68.27%\n"
     ]
    }
   ],
   "source": [
    "print(f\"The percentage of individuals with heights between 160 cm and 180 cm is approximatly {percentage:.2f}%\")"
   ]
  },
  {
   "cell_type": "markdown",
   "id": "734b0e70",
   "metadata": {},
   "source": [
    "**b. If we randomly select 100 individuals from the dataset, what is the probability that their average height is greater than 175 cm?**"
   ]
  },
  {
   "cell_type": "code",
   "execution_count": 22,
   "id": "45c8883b",
   "metadata": {},
   "outputs": [
    {
     "name": "stdout",
     "output_type": "stream",
     "text": [
      "Probability: 0.00%\n"
     ]
    }
   ],
   "source": [
    "sample_size = 100  # Sample size\n",
    "threshold = 175  # Average height threshold\n",
    "\n",
    "# Calculate the standard error of the mean\n",
    "sem = sd / (sample_size ** 0.5)\n",
    "\n",
    "# Calculate the z-score\n",
    "z = (threshold - mean) / sem\n",
    "\n",
    "# Calculate the probability using the cumulative distribution function (CDF)\n",
    "probability = 1 - norm.cdf(z)\n",
    "\n",
    "print(f\"Probability: {probability:.2f}%\")\n"
   ]
  },
  {
   "cell_type": "markdown",
   "id": "15e18bcc",
   "metadata": {},
   "source": [
    "**c. Assuming the dataset follows a normal distribution, what is the z-score corresponding to a height of 185 cm?**"
   ]
  },
  {
   "cell_type": "code",
   "execution_count": 23,
   "id": "7b24602f",
   "metadata": {},
   "outputs": [
    {
     "name": "stdout",
     "output_type": "stream",
     "text": [
      "z-score for 185 is 1.5\n"
     ]
    }
   ],
   "source": [
    "# calculate z-score for 185\n",
    "z = (185 - mean)/sd\n",
    "\n",
    "print(f\"z-score for 185 is {z}\")"
   ]
  },
  {
   "cell_type": "markdown",
   "id": "277c9be8",
   "metadata": {},
   "source": [
    "**d. We know that 5% of the dataset has heights below a certain value. What is the approximate height corresponding to this threshold?**"
   ]
  },
  {
   "cell_type": "code",
   "execution_count": 26,
   "id": "9b060507",
   "metadata": {},
   "outputs": [
    {
     "name": "stdout",
     "output_type": "stream",
     "text": [
      "Approximate height: 153.55cm\n"
     ]
    }
   ],
   "source": [
    "probability = 0.05  # Desired probability\n",
    "\n",
    "# Calculate the z-score corresponding to the desired probability\n",
    "z = norm.ppf(probability)\n",
    "\n",
    "# Calculate the approximate height\n",
    "height = mean + (z * sd)\n",
    "\n",
    "print(f\"Approximate height: {height:.2f}cm\")"
   ]
  },
  {
   "cell_type": "markdown",
   "id": "e8be78ad",
   "metadata": {},
   "source": [
    "**e. Calculate the coefficient of variation (CV) for the dataset.**"
   ]
  },
  {
   "cell_type": "code",
   "execution_count": 28,
   "id": "b0437797",
   "metadata": {},
   "outputs": [
    {
     "name": "stdout",
     "output_type": "stream",
     "text": [
      "Coefficient of Variation (CV) : 5.88%\n"
     ]
    }
   ],
   "source": [
    "# Calculate the coefficient of variation\n",
    "cv = (sd / mean) * 100\n",
    "\n",
    "print(f\"Coefficient of Variation (CV) : {cv:.2f}%\")"
   ]
  },
  {
   "cell_type": "code",
   "execution_count": null,
   "id": "f2fac8ed",
   "metadata": {},
   "outputs": [],
   "source": []
  }
 ],
 "metadata": {
  "kernelspec": {
   "display_name": "Python 3 (ipykernel)",
   "language": "python",
   "name": "python3"
  },
  "language_info": {
   "codemirror_mode": {
    "name": "ipython",
    "version": 3
   },
   "file_extension": ".py",
   "mimetype": "text/x-python",
   "name": "python",
   "nbconvert_exporter": "python",
   "pygments_lexer": "ipython3",
   "version": "3.11.3"
  }
 },
 "nbformat": 4,
 "nbformat_minor": 5
}
