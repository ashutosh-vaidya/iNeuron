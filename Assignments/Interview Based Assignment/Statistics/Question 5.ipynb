{
 "cells": [
  {
   "cell_type": "markdown",
   "id": "8e062e50",
   "metadata": {},
   "source": [
    "**Q-5.** A certain city has two taxi companies: Company A has 80% of the taxis and\n",
    "Company B has 20% of the taxis. Company A's taxis have a 95% success rate for picking\n",
    "up passengers on time, while Company B's taxis have a 90% success rate. If a randomly\n",
    "selected taxi is late, what is the probability that it belongs to Company A?"
   ]
  },
  {
   "cell_type": "code",
   "execution_count": 1,
   "id": "e99f5a39",
   "metadata": {},
   "outputs": [
    {
     "name": "stdout",
     "output_type": "stream",
     "text": [
      "The probability that a randomly selected late taxi belongs to Company A is: 0.67\n"
     ]
    }
   ],
   "source": [
    "# Given probabilities\n",
    "P_A = 0.8  # Probability that the taxi belongs to Company A\n",
    "P_B_given_A = 0.05  # Probability that a taxi from Company A is late\n",
    "P_B_given_not_A = 0.1  # Probability that a taxi from Company B is late\n",
    "\n",
    "# Calculate P(B)\n",
    "P_B = (P_B_given_A * P_A) + (P_B_given_not_A * (1 - P_A))\n",
    "\n",
    "# Calculate P(A|B) using Bayes' theorem\n",
    "P_A_given_B = (P_B_given_A * P_A) / P_B\n",
    "\n",
    "print(f\"The probability that a randomly selected late taxi belongs to Company A is: {P_A_given_B:.2f}\")"
   ]
  },
  {
   "cell_type": "code",
   "execution_count": null,
   "id": "ef1a684e",
   "metadata": {},
   "outputs": [],
   "source": []
  }
 ],
 "metadata": {
  "kernelspec": {
   "display_name": "Python 3 (ipykernel)",
   "language": "python",
   "name": "python3"
  },
  "language_info": {
   "codemirror_mode": {
    "name": "ipython",
    "version": 3
   },
   "file_extension": ".py",
   "mimetype": "text/x-python",
   "name": "python",
   "nbconvert_exporter": "python",
   "pygments_lexer": "ipython3",
   "version": "3.11.3"
  }
 },
 "nbformat": 4,
 "nbformat_minor": 5
}
