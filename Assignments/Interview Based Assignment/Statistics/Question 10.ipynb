{
 "cells": [
  {
   "cell_type": "markdown",
   "id": "985988d8",
   "metadata": {},
   "source": [
    "**Q-10**. A factory produces light bulbs, and the probability of a bulb being defective is 0.05. The factory produces a large batch of 500 light bulbs."
   ]
  },
  {
   "cell_type": "code",
   "execution_count": 1,
   "id": "598ee917",
   "metadata": {},
   "outputs": [],
   "source": [
    "from scipy.stats import binom"
   ]
  },
  {
   "cell_type": "markdown",
   "id": "fa0de876",
   "metadata": {},
   "source": [
    "a. What is the probability that exactly 20 bulbs are defective?"
   ]
  },
  {
   "cell_type": "code",
   "execution_count": 2,
   "id": "ea34fbb0",
   "metadata": {},
   "outputs": [
    {
     "name": "stdout",
     "output_type": "stream",
     "text": [
      "Probability of exactly 20 defective bulbs: 0.05\n"
     ]
    }
   ],
   "source": [
    "p = 0.05  # Probability of a bulb being defective\n",
    "n = 500   # Total number of bulbs\n",
    "\n",
    "prob_20_defective = binom.pmf(20, n, p)\n",
    "print(f\"Probability of exactly 20 defective bulbs: {prob_20_defective:.2f}\")"
   ]
  },
  {
   "cell_type": "markdown",
   "id": "48422c85",
   "metadata": {},
   "source": [
    "b. What is the probability that at least 10 bulbs are defective?"
   ]
  },
  {
   "cell_type": "code",
   "execution_count": 3,
   "id": "a2e432c1",
   "metadata": {},
   "outputs": [
    {
     "name": "stdout",
     "output_type": "stream",
     "text": [
      "Probability of at least 10 defective bulbs: 1.00\n"
     ]
    }
   ],
   "source": [
    "prob_at_least_10_defective = 1 - binom.cdf(9, n, p)\n",
    "print(f\"Probability of at least 10 defective bulbs: {prob_at_least_10_defective:.2f}\")"
   ]
  },
  {
   "cell_type": "markdown",
   "id": "82376885",
   "metadata": {},
   "source": [
    "c. What is the probability that at max 15 bulbs are defective?"
   ]
  },
  {
   "cell_type": "code",
   "execution_count": 4,
   "id": "301651df",
   "metadata": {},
   "outputs": [
    {
     "name": "stdout",
     "output_type": "stream",
     "text": [
      "Probability of at most 15 defective bulbs:0.02\n"
     ]
    }
   ],
   "source": [
    "prob_at_most_15_defective = binom.cdf(15, n, p)\n",
    "print(f\"Probability of at most 15 defective bulbs:{prob_at_most_15_defective:.2f}\")"
   ]
  },
  {
   "cell_type": "markdown",
   "id": "2bf8080d",
   "metadata": {},
   "source": [
    "d. On average, how many defective bulbs would you expect in a batch of 500?"
   ]
  },
  {
   "cell_type": "code",
   "execution_count": 5,
   "id": "8db04082",
   "metadata": {},
   "outputs": [
    {
     "name": "stdout",
     "output_type": "stream",
     "text": [
      "Expected number of defective bulbs: 25.0\n"
     ]
    }
   ],
   "source": [
    "expected_defective = n * p\n",
    "print(f\"Expected number of defective bulbs: {expected_defective}\")"
   ]
  }
 ],
 "metadata": {
  "kernelspec": {
   "display_name": "Python 3 (ipykernel)",
   "language": "python",
   "name": "python3"
  },
  "language_info": {
   "codemirror_mode": {
    "name": "ipython",
    "version": 3
   },
   "file_extension": ".py",
   "mimetype": "text/x-python",
   "name": "python",
   "nbconvert_exporter": "python",
   "pygments_lexer": "ipython3",
   "version": "3.11.3"
  }
 },
 "nbformat": 4,
 "nbformat_minor": 5
}
