{
 "cells": [
  {
   "cell_type": "markdown",
   "id": "e65e5559-257b-4c60-ad2b-b05bc760825a",
   "metadata": {},
   "source": [
    "**Question 10 -** Write a program to count the number of verbs, nouns, pronouns, and adjectives in a given particular phrase or\n",
    "paragraph, and return their respective count as a dictionary.\n",
    "\n",
    "Note -\n",
    "1. Write code comments wherever required for code\n",
    "2. You have to write at least 2 additional test cases in which your program will run successfully and provide an explanation for the same."
   ]
  },
  {
   "cell_type": "code",
   "execution_count": 6,
   "id": "7f0b1304-fd77-4159-abef-641363d66b82",
   "metadata": {},
   "outputs": [],
   "source": [
    "import spacy #spacy is the lib which provides fast and efficient naturl language processing processing ability"
   ]
  },
  {
   "cell_type": "code",
   "execution_count": 10,
   "id": "b22a6b3f-4279-4a8e-9f48-3d635279ca8b",
   "metadata": {},
   "outputs": [],
   "source": [
    "def count_verbs_nouns_pronouns_adj(text):\n",
    "    \n",
    "    #intialize counts\n",
    "    counts = {\n",
    "        'Noun': 0,\n",
    "        'Verb': 0,\n",
    "        'Pronoun': 0,\n",
    "        'Adjective': 0\n",
    "    }\n",
    "    \n",
    "    # load the pre-trained english model\n",
    "    nlp = spacy.load('en_core_web_sm')\n",
    "    \n",
    "    #process the text\n",
    "    para = nlp(text)\n",
    "    \n",
    "    # Iterate over the tokens and count each category\n",
    "    for token in para:\n",
    "        if token.pos_ == 'NOUN':\n",
    "            counts['Noun'] += 1\n",
    "        elif token.pos_ == 'VERB':\n",
    "            counts['Verb'] += 1\n",
    "        elif token.pos_ == 'PRON':\n",
    "            counts['Pronoun'] += 1\n",
    "        elif token.pos_ == 'ADJ':\n",
    "            counts['Adjective'] += 1\n",
    "\n",
    "    return counts"
   ]
  },
  {
   "cell_type": "code",
   "execution_count": 14,
   "id": "02d0af6d-546a-408f-a432-3d07d60fe70a",
   "metadata": {},
   "outputs": [
    {
     "data": {
      "text/plain": [
       "{'Noun': 3, 'Verb': 2, 'Pronoun': 1, 'Adjective': 1}"
      ]
     },
     "execution_count": 14,
     "metadata": {},
     "output_type": "execute_result"
    }
   ],
   "source": [
    "phrase = \"He likes eating ice-creame on a hot summer day\"\n",
    "count_verbs_nouns_pronouns_adj(phrase)"
   ]
  },
  {
   "cell_type": "code",
   "execution_count": 12,
   "id": "9e703071-b35e-4943-82a7-ea60f3feb3a2",
   "metadata": {},
   "outputs": [
    {
     "data": {
      "text/plain": [
       "{'Noun': 3, 'Verb': 1, 'Pronoun': 0, 'Adjective': 0}"
      ]
     },
     "execution_count": 12,
     "metadata": {},
     "output_type": "execute_result"
    }
   ],
   "source": [
    "phrase = \"The cat chased the rat all over the house\"\n",
    "count_verbs_nouns_pronouns_adj(phrase)"
   ]
  },
  {
   "cell_type": "code",
   "execution_count": null,
   "id": "d4878c4c-9067-44fd-91de-f90b91cd402e",
   "metadata": {
    "tags": []
   },
   "outputs": [],
   "source": []
  }
 ],
 "metadata": {
  "kernelspec": {
   "display_name": "Python 3 (ipykernel)",
   "language": "python",
   "name": "python3"
  },
  "language_info": {
   "codemirror_mode": {
    "name": "ipython",
    "version": 3
   },
   "file_extension": ".py",
   "mimetype": "text/x-python",
   "name": "python",
   "nbconvert_exporter": "python",
   "pygments_lexer": "ipython3",
   "version": "3.10.6"
  }
 },
 "nbformat": 4,
 "nbformat_minor": 5
}
