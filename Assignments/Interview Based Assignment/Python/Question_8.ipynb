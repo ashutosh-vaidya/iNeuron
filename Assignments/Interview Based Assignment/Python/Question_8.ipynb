{
 "cells": [
  {
   "cell_type": "markdown",
   "id": "44af2163",
   "metadata": {},
   "source": [
    "**Question 8 -** Using the data from **Question 5**, write code the analyze the data and answer the following questions Note -\n",
    "1. Draw plots to demonstrate the analysis for the following questions and better visualizations\n",
    "2. Write code comments wherever required for code understanding\n",
    "\n",
    "Insights to be drawn -\n",
    "- Get all the overall ratings for each season and using plots compare the ratings for all the seasons, like season 1 ratings, season 2, and so on.\n",
    "- Get all the episode names, whose average rating is more than 8 for every season\n",
    "- Get all the episode names that aired before May 2019\n",
    "- Get the episode name from each season with the highest and lowest rating\n",
    "- Get the summary for the most popular ( ratings ) episode in every season"
   ]
  },
  {
   "cell_type": "code",
   "execution_count": 1,
   "id": "4903a7ce",
   "metadata": {},
   "outputs": [],
   "source": [
    "#importing required libs\n",
    "import pandas as pd\n",
    "import numpy as np\n",
    "import requests\n",
    "from datetime import datetime\n",
    "from bs4 import BeautifulSoup\n",
    "import matplotlib.pyplot as plt\n",
    "import seaborn as sns"
   ]
  },
  {
   "cell_type": "code",
   "execution_count": 2,
   "id": "66677fa9",
   "metadata": {},
   "outputs": [],
   "source": [
    "#download and extract data from the link and save it in the data frame for further analysis\n",
    "url = \"http://api.tvmaze.com/singlesearch/shows?q=westworld&embed=episodes\"\n",
    "\n",
    "response = requests.get(url)\n",
    "data = response.json()\n",
    "\n",
    "# Extract the data\n",
    "show_name = data[\"name\"]\n",
    "episodes = data[\"_embedded\"][\"episodes\"]\n",
    "\n",
    "#save in dataframe\n",
    "dfs = []\n",
    "\n",
    "# Extract and format data for each episode\n",
    "for episode in episodes:\n",
    "    episode_id = episode[\"id\"]\n",
    "    episode_url = episode[\"url\"]\n",
    "    episode_name = episode[\"name\"]\n",
    "    season_number = episode[\"season\"]\n",
    "    episode_number = episode[\"number\"]\n",
    "    episode_type = episode[\"type\"]\n",
    "    airdate = episode[\"airdate\"]\n",
    "    airtime = episode[\"airtime\"]\n",
    "    runtime = episode[\"runtime\"]\n",
    "    average_rating = episode[\"rating\"][\"average\"]\n",
    "    summary = episode[\"summary\"]\n",
    "    medium_image_link = episode[\"image\"][\"medium\"]\n",
    "    original_image_link = episode[\"image\"][\"original\"]\n",
    "    \n",
    "    # Remove HTML tags from the summary\n",
    "    summary = summary.replace(\"<p>\", \"\").replace(\"</p>\", \"\")\n",
    "    \n",
    "    # Create a dataframe for the current episode\n",
    "    df = pd.DataFrame({\n",
    "        \"id\": [episode_id],\n",
    "        \"url\": [episode_url],\n",
    "        \"episode_name\": [episode_name],\n",
    "        \"season\": [season_number],\n",
    "        \"episode_number\": [episode_number],\n",
    "        \"type\": [episode_type],\n",
    "        \"airdate\": [airdate],\n",
    "        \"airtime\": [airtime],\n",
    "        \"runtime\": [runtime],\n",
    "        \"average rating\": [average_rating],\n",
    "        \"summary\": [summary],\n",
    "        \"medium image link\": [medium_image_link],\n",
    "        \"original image link\": [original_image_link]\n",
    "    })\n",
    "    \n",
    "    # Append the dataframe to the list\n",
    "    dfs.append(df)\n",
    "\n",
    "# Concatenate all dataframes into a single dataframe\n",
    "df = pd.concat(dfs, ignore_index=True)"
   ]
  },
  {
   "cell_type": "code",
   "execution_count": 3,
   "id": "f0e86047",
   "metadata": {},
   "outputs": [
    {
     "data": {
      "text/html": [
       "<div>\n",
       "<style scoped>\n",
       "    .dataframe tbody tr th:only-of-type {\n",
       "        vertical-align: middle;\n",
       "    }\n",
       "\n",
       "    .dataframe tbody tr th {\n",
       "        vertical-align: top;\n",
       "    }\n",
       "\n",
       "    .dataframe thead th {\n",
       "        text-align: right;\n",
       "    }\n",
       "</style>\n",
       "<table border=\"1\" class=\"dataframe\">\n",
       "  <thead>\n",
       "    <tr style=\"text-align: right;\">\n",
       "      <th></th>\n",
       "      <th>id</th>\n",
       "      <th>url</th>\n",
       "      <th>episode_name</th>\n",
       "      <th>season</th>\n",
       "      <th>episode_number</th>\n",
       "      <th>type</th>\n",
       "      <th>airdate</th>\n",
       "      <th>airtime</th>\n",
       "      <th>runtime</th>\n",
       "      <th>average rating</th>\n",
       "      <th>summary</th>\n",
       "      <th>medium image link</th>\n",
       "      <th>original image link</th>\n",
       "    </tr>\n",
       "  </thead>\n",
       "  <tbody>\n",
       "    <tr>\n",
       "      <th>0</th>\n",
       "      <td>869671</td>\n",
       "      <td>https://www.tvmaze.com/episodes/869671/westwor...</td>\n",
       "      <td>The Original</td>\n",
       "      <td>1</td>\n",
       "      <td>1</td>\n",
       "      <td>regular</td>\n",
       "      <td>2016-10-02</td>\n",
       "      <td>21:00</td>\n",
       "      <td>68</td>\n",
       "      <td>8.0</td>\n",
       "      <td>A woman named Dolores is a free spirit in the ...</td>\n",
       "      <td>https://static.tvmaze.com/uploads/images/mediu...</td>\n",
       "      <td>https://static.tvmaze.com/uploads/images/origi...</td>\n",
       "    </tr>\n",
       "    <tr>\n",
       "      <th>1</th>\n",
       "      <td>911201</td>\n",
       "      <td>https://www.tvmaze.com/episodes/911201/westwor...</td>\n",
       "      <td>Chestnut</td>\n",
       "      <td>1</td>\n",
       "      <td>2</td>\n",
       "      <td>regular</td>\n",
       "      <td>2016-10-09</td>\n",
       "      <td>21:00</td>\n",
       "      <td>60</td>\n",
       "      <td>7.7</td>\n",
       "      <td>Bernard suspects that someone is sabotaging th...</td>\n",
       "      <td>https://static.tvmaze.com/uploads/images/mediu...</td>\n",
       "      <td>https://static.tvmaze.com/uploads/images/origi...</td>\n",
       "    </tr>\n",
       "    <tr>\n",
       "      <th>2</th>\n",
       "      <td>911204</td>\n",
       "      <td>https://www.tvmaze.com/episodes/911204/westwor...</td>\n",
       "      <td>The Stray</td>\n",
       "      <td>1</td>\n",
       "      <td>3</td>\n",
       "      <td>regular</td>\n",
       "      <td>2016-10-16</td>\n",
       "      <td>21:00</td>\n",
       "      <td>60</td>\n",
       "      <td>7.6</td>\n",
       "      <td>Bernard continues to investigate Dolores' supp...</td>\n",
       "      <td>https://static.tvmaze.com/uploads/images/mediu...</td>\n",
       "      <td>https://static.tvmaze.com/uploads/images/origi...</td>\n",
       "    </tr>\n",
       "    <tr>\n",
       "      <th>3</th>\n",
       "      <td>911205</td>\n",
       "      <td>https://www.tvmaze.com/episodes/911205/westwor...</td>\n",
       "      <td>Dissonance Theory</td>\n",
       "      <td>1</td>\n",
       "      <td>4</td>\n",
       "      <td>regular</td>\n",
       "      <td>2016-10-23</td>\n",
       "      <td>21:00</td>\n",
       "      <td>60</td>\n",
       "      <td>7.9</td>\n",
       "      <td>While Dolores joins William and Logan on their...</td>\n",
       "      <td>https://static.tvmaze.com/uploads/images/mediu...</td>\n",
       "      <td>https://static.tvmaze.com/uploads/images/origi...</td>\n",
       "    </tr>\n",
       "    <tr>\n",
       "      <th>4</th>\n",
       "      <td>927174</td>\n",
       "      <td>https://www.tvmaze.com/episodes/927174/westwor...</td>\n",
       "      <td>Contrapasso</td>\n",
       "      <td>1</td>\n",
       "      <td>5</td>\n",
       "      <td>regular</td>\n",
       "      <td>2016-10-30</td>\n",
       "      <td>21:00</td>\n",
       "      <td>60</td>\n",
       "      <td>8.0</td>\n",
       "      <td>Dolores takes the first step on her path of di...</td>\n",
       "      <td>https://static.tvmaze.com/uploads/images/mediu...</td>\n",
       "      <td>https://static.tvmaze.com/uploads/images/origi...</td>\n",
       "    </tr>\n",
       "  </tbody>\n",
       "</table>\n",
       "</div>"
      ],
      "text/plain": [
       "       id                                                url  \\\n",
       "0  869671  https://www.tvmaze.com/episodes/869671/westwor...   \n",
       "1  911201  https://www.tvmaze.com/episodes/911201/westwor...   \n",
       "2  911204  https://www.tvmaze.com/episodes/911204/westwor...   \n",
       "3  911205  https://www.tvmaze.com/episodes/911205/westwor...   \n",
       "4  927174  https://www.tvmaze.com/episodes/927174/westwor...   \n",
       "\n",
       "        episode_name  season  episode_number     type     airdate airtime  \\\n",
       "0       The Original       1               1  regular  2016-10-02   21:00   \n",
       "1           Chestnut       1               2  regular  2016-10-09   21:00   \n",
       "2          The Stray       1               3  regular  2016-10-16   21:00   \n",
       "3  Dissonance Theory       1               4  regular  2016-10-23   21:00   \n",
       "4        Contrapasso       1               5  regular  2016-10-30   21:00   \n",
       "\n",
       "   runtime  average rating                                            summary  \\\n",
       "0       68             8.0  A woman named Dolores is a free spirit in the ...   \n",
       "1       60             7.7  Bernard suspects that someone is sabotaging th...   \n",
       "2       60             7.6  Bernard continues to investigate Dolores' supp...   \n",
       "3       60             7.9  While Dolores joins William and Logan on their...   \n",
       "4       60             8.0  Dolores takes the first step on her path of di...   \n",
       "\n",
       "                                   medium image link  \\\n",
       "0  https://static.tvmaze.com/uploads/images/mediu...   \n",
       "1  https://static.tvmaze.com/uploads/images/mediu...   \n",
       "2  https://static.tvmaze.com/uploads/images/mediu...   \n",
       "3  https://static.tvmaze.com/uploads/images/mediu...   \n",
       "4  https://static.tvmaze.com/uploads/images/mediu...   \n",
       "\n",
       "                                 original image link  \n",
       "0  https://static.tvmaze.com/uploads/images/origi...  \n",
       "1  https://static.tvmaze.com/uploads/images/origi...  \n",
       "2  https://static.tvmaze.com/uploads/images/origi...  \n",
       "3  https://static.tvmaze.com/uploads/images/origi...  \n",
       "4  https://static.tvmaze.com/uploads/images/origi...  "
      ]
     },
     "execution_count": 3,
     "metadata": {},
     "output_type": "execute_result"
    }
   ],
   "source": [
    "df.head()"
   ]
  },
  {
   "cell_type": "markdown",
   "id": "d05cbe12",
   "metadata": {},
   "source": [
    "**Insights**\n",
    "\n",
    "**Get all the overall ratings for each season and using plots compare the ratings for all the seasons, like season 1 ratings, season 2, and so on.**"
   ]
  },
  {
   "cell_type": "code",
   "execution_count": 4,
   "id": "59b6156b",
   "metadata": {},
   "outputs": [
    {
     "data": {
      "text/plain": [
       "array([1, 2, 3, 4], dtype=int64)"
      ]
     },
     "execution_count": 4,
     "metadata": {},
     "output_type": "execute_result"
    }
   ],
   "source": [
    "#Get how many seasons are there \n",
    "df[\"season\"].unique()"
   ]
  },
  {
   "cell_type": "code",
   "execution_count": 5,
   "id": "4910fb93",
   "metadata": {},
   "outputs": [
    {
     "name": "stdout",
     "output_type": "stream",
     "text": [
      "Season 1 has an overall rating of 8.09\n",
      "Season 2 has an overall rating of 8.0\n",
      "Season 3 has an overall rating of 7.78\n",
      "Season 4 has an overall rating of 7.54\n"
     ]
    }
   ],
   "source": [
    "#calculate overall rating for each season\n",
    "df1 = df[df[\"season\"] == 1]\n",
    "overall_rating_season1 = df1[\"average rating\"].sum() / len(df1)\n",
    "print(f\"Season 1 has an overall rating of {round(overall_rating_season1, 2)}\")\n",
    "\n",
    "df2 = df[df[\"season\"] == 2]\n",
    "overall_rating_season2 = df2[\"average rating\"].sum() / len(df2)\n",
    "print(f\"Season 2 has an overall rating of {round(overall_rating_season2, 2)}\")\n",
    "\n",
    "df3 = df[df[\"season\"] == 3]\n",
    "overall_rating_season3 = df3[\"average rating\"].sum() / len(df3)\n",
    "print(f\"Season 3 has an overall rating of {round(overall_rating_season3, 2)}\")\n",
    "\n",
    "df4 = df[df[\"season\"] == 4]\n",
    "overall_rating_season4 = df4[\"average rating\"].sum() / len(df4)\n",
    "print(f\"Season 4 has an overall rating of {round(overall_rating_season4, 2)}\")"
   ]
  },
  {
   "cell_type": "code",
   "execution_count": 6,
   "id": "37e27e95",
   "metadata": {},
   "outputs": [
    {
     "data": {
      "image/png": "[encoded data removed]",
      "text/plain": [
       "<Figure size 500x300 with 1 Axes>"
      ]
     },
     "metadata": {},
     "output_type": "display_data"
    }
   ],
   "source": [
    "# Group the data by season and calculate the average rating for each season\n",
    "season_ratings = df.groupby('season')['average rating'].mean()\n",
    "\n",
    "# Create a bar plot to compare the ratings across seasons\n",
    "plt.figure(figsize=(5,3))  # Adjust the figure size as per your preference\n",
    "season_ratings.plot(kind='bar')\n",
    "plt.xlabel('Season')\n",
    "plt.ylabel('Average Rating')\n",
    "plt.title('Average Ratings for Each Season')\n",
    "plt.xticks(rotation=0)\n",
    "plt.show()"
   ]
  },
  {
   "cell_type": "code",
   "execution_count": 7,
   "id": "292e69c8",
   "metadata": {},
   "outputs": [
    {
     "data": {
      "image/png": "[encoded data removed]",
      "text/plain": [
       "<Figure size 500x300 with 1 Axes>"
      ]
     },
     "metadata": {},
     "output_type": "display_data"
    }
   ],
   "source": [
    "plt.figure(figsize=(5, 3))\n",
    "season_ratings.plot(marker='o', linestyle='-', color='skyblue')\n",
    "plt.xlabel('Season')\n",
    "plt.ylabel('Average Rating')\n",
    "plt.title('Average Ratings for Each Season')\n",
    "plt.grid(True)\n",
    "plt.show()"
   ]
  },
  {
   "cell_type": "markdown",
   "id": "416eab00",
   "metadata": {},
   "source": [
    "**Get all the episode names, whose average rating is more than 8 for every season**"
   ]
  },
  {
   "cell_type": "code",
   "execution_count": 8,
   "id": "9084e55d",
   "metadata": {},
   "outputs": [
    {
     "name": "stdout",
     "output_type": "stream",
     "text": [
      "Season 1 episodes with average rating > 8:\n",
      "Trompe L'Oeil\n",
      "The Well-Tempered Clavier\n",
      "The Bicameral Mind\n",
      "\n",
      "Season 2 episodes with average rating > 8:\n",
      "Kiksuya\n",
      "Vanishing Point\n",
      "The Passenger\n",
      "\n"
     ]
    }
   ],
   "source": [
    "# Filter the dataframe to include episodes with average rating > 8 for each season\n",
    "filtered_df = df[df['average rating'] > 8]\n",
    "\n",
    "# Group the filtered dataframe by season and aggregate the episode names\n",
    "episode_names = filtered_df.groupby('season')['episode_name'].apply(list)\n",
    "\n",
    "# Display the episode names for each season\n",
    "for season, episodes in episode_names.items():\n",
    "    print(f\"Season {season} episodes with average rating > 8:\")\n",
    "    for episode in episodes:\n",
    "        print(episode)\n",
    "    print()"
   ]
  },
  {
   "cell_type": "code",
   "execution_count": 9,
   "id": "06595770",
   "metadata": {},
   "outputs": [
    {
     "name": "stdout",
     "output_type": "stream",
     "text": [
      "no of episodes whose average rating is more than 8 in every season are: 6\n"
     ]
    }
   ],
   "source": [
    "print(f\"no of episodes whose average rating is more than 8 in every season are: {len(filtered_df)}\")"
   ]
  },
  {
   "cell_type": "markdown",
   "id": "a973579b",
   "metadata": {},
   "source": [
    "**Get all the episode names that aired before May 2019**"
   ]
  },
  {
   "cell_type": "code",
   "execution_count": 10,
   "id": "8f9b90b5",
   "metadata": {
    "scrolled": true
   },
   "outputs": [
    {
     "name": "stdout",
     "output_type": "stream",
     "text": [
      "The Original\n",
      "Chestnut\n",
      "The Stray\n",
      "Dissonance Theory\n",
      "Contrapasso\n",
      "The Adversary\n",
      "Trompe L'Oeil\n",
      "Trace Decay\n",
      "The Well-Tempered Clavier\n",
      "The Bicameral Mind\n",
      "Journey Into Night\n",
      "Reunion\n",
      "Virtù e Fortuna\n",
      "The Riddle of the Sphinx\n",
      "Akane No Mai\n",
      "Phase Space\n",
      "Les Écorchés\n",
      "Kiksuya\n",
      "Vanishing Point\n",
      "The Passenger\n"
     ]
    }
   ],
   "source": [
    "#convert the airdate column to datetime format\n",
    "df[\"airdate\"] = pd.to_datetime(df[\"airdate\"])\n",
    "\n",
    "#filter the data to find episodes aired before May 2019\n",
    "filtered_df = df[df[\"airdate\"] < pd.Timestamp('2019-05-01')]\n",
    "\n",
    "# Retrieve the episode names\n",
    "episode_names = filtered_df['episode_name'].tolist()\n",
    "\n",
    "# Display the episode names\n",
    "for episode in episode_names:\n",
    "    print(episode)"
   ]
  },
  {
   "cell_type": "markdown",
   "id": "c62330fe",
   "metadata": {},
   "source": [
    "**Get the episode name from each season with the highest and lowest rating**"
   ]
  },
  {
   "cell_type": "code",
   "execution_count": 11,
   "id": "5b0c2c94",
   "metadata": {},
   "outputs": [
    {
     "name": "stdout",
     "output_type": "stream",
     "text": [
      "Season 1:\n",
      "Highest Rating Episode: 10 - The Bicameral Mind\n",
      "Lowest Rating Episode: 3 - The Stray\n",
      "\n",
      "Season 2:\n",
      "Highest Rating Episode: 8 - Kiksuya\n",
      "Lowest Rating Episode: 5 - Akane No Mai\n",
      "\n",
      "Season 3:\n",
      "Highest Rating Episode: 1 - Parce Domine\n",
      "Lowest Rating Episode: 6 - Decoherence\n",
      "\n",
      "Season 4:\n",
      "Highest Rating Episode: 5 - Zhuangzi\n",
      "Lowest Rating Episode: 1 - The Auguries\n",
      "\n"
     ]
    }
   ],
   "source": [
    "# Group the dataframe by season and find the episode with the highest rating in each season\n",
    "highest_ratings = df.groupby('season')['average rating'].idxmax()\n",
    "highest_episodes = df.loc[highest_ratings, ['season', 'episode_name', 'episode_number']]\n",
    "\n",
    "# Group the dataframe by season and find the episode with the lowest rating in each season\n",
    "lowest_ratings = df.groupby('season')['average rating'].idxmin()\n",
    "lowest_episodes = df.loc[lowest_ratings, ['season', 'episode_name', 'episode_number']]\n",
    "\n",
    "# Display the episode names with the highest and lowest ratings for each season\n",
    "for season in df['season'].unique():\n",
    "    highest_rating_episode = highest_episodes[highest_episodes['season'] == season]\n",
    "    lowest_rating_episode = lowest_episodes[lowest_episodes['season'] == season]\n",
    "\n",
    "    print(f\"Season {season}:\")\n",
    "    print(f\"Highest Rating Episode: {highest_rating_episode['episode_number'].values[0]} - {highest_rating_episode['episode_name'].values[0]}\")\n",
    "    print(f\"Lowest Rating Episode: {lowest_rating_episode['episode_number'].values[0]} - {lowest_rating_episode['episode_name'].values[0]}\")\n",
    "    print()"
   ]
  },
  {
   "cell_type": "markdown",
   "id": "8bac1c32",
   "metadata": {},
   "source": [
    "**Get the summary for the most popular ( ratings ) episode in every season**"
   ]
  },
  {
   "cell_type": "code",
   "execution_count": 12,
   "id": "97395a51",
   "metadata": {},
   "outputs": [
    {
     "name": "stdout",
     "output_type": "stream",
     "text": [
      "Season 1 - Episode 10: The Bicameral Mind\n",
      "Summary: Delores finds out the truth about William's fate. Meanwhile, Maeve organizes an escape plan, only to discover that someone else is pulling the strings. And Robert plays the final piece in his grand narrative.\n",
      "\n",
      "Season 2 - Episode 8: Kiksuya\n",
      "Summary: Another of Westworld's Host revolutionaries is revealed. Meanwhile, Emily finds the Man and convinces the Ghost Nation to hand him over to her to ensure his suffering.\n",
      "\n",
      "Season 3 - Episode 1: Parce Domine\n",
      "Summary: If you're stuck in a loop, try walking in a straight line.\n",
      "\n",
      "Season 4 - Episode 5: Zhuangzi\n",
      "Summary: God is bored.\n",
      "\n"
     ]
    }
   ],
   "source": [
    "# Retrieve the summaries for the most popular episode in each season\n",
    "episode_summaries = df.loc[highest_ratings, ['season', 'episode_number', 'episode_name', 'summary']]\n",
    "\n",
    "# Display the summaries for the most popular episode in each season\n",
    "for index, row in episode_summaries.iterrows():\n",
    "    season = row['season']\n",
    "    episode_number = row['episode_number']\n",
    "    episode_name = row['episode_name']\n",
    "    summary = row['summary']\n",
    "\n",
    "    print(f\"Season {season} - Episode {episode_number}: {episode_name}\")\n",
    "    print(f\"Summary: {summary}\")\n",
    "    print()"
   ]
  }
 ],
 "metadata": {
  "kernelspec": {
   "display_name": "Python 3 (ipykernel)",
   "language": "python",
   "name": "python3"
  },
  "language_info": {
   "codemirror_mode": {
    "name": "ipython",
    "version": 3
   },
   "file_extension": ".py",
   "mimetype": "text/x-python",
   "name": "python",
   "nbconvert_exporter": "python",
   "pygments_lexer": "ipython3",
   "version": "3.10.9"
  }
 },
 "nbformat": 4,
 "nbformat_minor": 5
}
