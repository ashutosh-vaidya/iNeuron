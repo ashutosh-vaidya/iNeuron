{
 "cells": [
  {
   "cell_type": "markdown",
   "id": "4bd432e8",
   "metadata": {},
   "source": [
    "**1. What does one mean by the term \"machine learning\"?**\n",
    "\n",
    "**Ans:** Machine learning is a technique of \"helping the machine learn how to take decisions logically\". It trains and retrains itself using data and algorithms to improve its accuracy."
   ]
  },
  {
   "cell_type": "markdown",
   "id": "70a973b1",
   "metadata": {},
   "source": [
    "**2.Can you think of 4 distinct types of issues where it shines?**\n",
    "\n",
    "**Ans:** \n",
    "1. **Predictive modeling:** analyzes data to predict future events, and is used in fields like finance, healthcare, and marketing to improve decision making.\n",
    "\n",
    "2. **Image and speech recognition:** like object, facial and voice recognition.\n",
    "\n",
    "3. **Natural Language Processing (NLP):** processes and analyzes human language, it can perform tasks such as language translation, text classification and sentiment analysis.\n",
    "\n",
    "4. **Anomaly detection:** identifies unusual patterns in data, useful in fields such as security, fraud detection, and manufacturing monitoring."
   ]
  },
  {
   "cell_type": "markdown",
   "id": "ab180b21",
   "metadata": {},
   "source": [
    "**3.What is a labeled training set, and how does it work?**"
   ]
  },
  {
   "cell_type": "code",
   "execution_count": null,
   "id": "6d0e103d",
   "metadata": {},
   "outputs": [],
   "source": []
  }
 ],
 "metadata": {
  "kernelspec": {
   "display_name": "Python 3 (ipykernel)",
   "language": "python",
   "name": "python3"
  },
  "language_info": {
   "codemirror_mode": {
    "name": "ipython",
    "version": 3
   },
   "file_extension": ".py",
   "mimetype": "text/x-python",
   "name": "python",
   "nbconvert_exporter": "python",
   "pygments_lexer": "ipython3",
   "version": "3.9.7"
  }
 },
 "nbformat": 4,
 "nbformat_minor": 5
}
