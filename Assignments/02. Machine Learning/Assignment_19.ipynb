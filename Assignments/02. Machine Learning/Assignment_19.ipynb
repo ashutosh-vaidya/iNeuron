{
 "cells": [
  {
   "cell_type": "markdown",
   "id": "2a33e511",
   "metadata": {},
   "source": [
    "**1. A set of one-dimensional data points is given to you: 5, 10, 15, 20, 25, 30, 35. Assume that k = 2 and that the first set of random centroid is 15, 32, and that the second set is 12, 30.**\n",
    "\n",
    "**a) Using the k-means method, create two clusters for each set of centroid described above.**"
   ]
  },
  {
   "cell_type": "code",
   "execution_count": 2,
   "id": "381425d6",
   "metadata": {},
   "outputs": [
    {
     "name": "stdout",
     "output_type": "stream",
     "text": [
      "Clusters for First Set of Initial Centroids:\n",
      "[0 0 0 0 1 1 1]\n",
      "\n",
      "Clusters for Second Set of Initial Centroids:\n",
      "[0 0 0 0 1 1 1]\n"
     ]
    }
   ],
   "source": [
    "import numpy as np\n",
    "from sklearn.cluster import KMeans\n",
    "\n",
    "# Given data points\n",
    "data_points = np.array([5, 10, 15, 20, 25, 30, 35])\n",
    "\n",
    "# First set of initial centroids\n",
    "initial_centroids_set1 = np.array([[15], [32]])\n",
    "\n",
    "# Second set of initial centroids\n",
    "initial_centroids_set2 = np.array([[12], [30]])\n",
    "\n",
    "# Perform k-means clustering and create clusters\n",
    "def perform_k_means(data, initial_centroids):\n",
    "    kmeans = KMeans(n_clusters=2, init=initial_centroids, n_init=1)\n",
    "    kmeans.fit(data.reshape(-1, 1))\n",
    "    labels = kmeans.labels_\n",
    "    return labels\n",
    "\n",
    "# Create clusters for each set of initial centroids\n",
    "clusters_set1 = perform_k_means(data_points, initial_centroids_set1)\n",
    "clusters_set2 = perform_k_means(data_points, initial_centroids_set2)\n",
    "\n",
    "print(\"Clusters for First Set of Initial Centroids:\")\n",
    "print(clusters_set1)\n",
    "\n",
    "print(\"\\nClusters for Second Set of Initial Centroids:\")\n",
    "print(clusters_set2)"
   ]
  },
  {
   "cell_type": "markdown",
   "id": "1d53f3b4",
   "metadata": {},
   "source": [
    "**b) For each set of centroid values, calculate the SSE.**"
   ]
  },
  {
   "cell_type": "code",
   "execution_count": 3,
   "id": "994000b8",
   "metadata": {},
   "outputs": [
    {
     "name": "stdout",
     "output_type": "stream",
     "text": [
      "\n",
      "SSE for First Set of Initial Centroids: 212\n",
      "SSE for Second Set of Initial Centroids: 176\n"
     ]
    }
   ],
   "source": [
    "def calculate_sse(data, centroids, labels):\n",
    "    sse = 0\n",
    "    for i in range(len(centroids)):\n",
    "        cluster_points = data[labels == i]\n",
    "        squared_distances = np.sum((cluster_points - centroids[i])**2)\n",
    "        sse += squared_distances\n",
    "    return sse\n",
    "\n",
    "# Calculate SSE for each set of clusters\n",
    "sse_set1 = calculate_sse(data_points, initial_centroids_set1, clusters_set1)\n",
    "sse_set2 = calculate_sse(data_points, initial_centroids_set2, clusters_set2)\n",
    "\n",
    "print(\"\\nSSE for First Set of Initial Centroids:\", sse_set1)\n",
    "print(\"SSE for Second Set of Initial Centroids:\", sse_set2)"
   ]
  },
  {
   "attachments": {
    "k_means_clustering.png": {
     "image/png": "[encoded data removed]"
    }
   },
   "cell_type": "markdown",
   "id": "ff016bfb",
   "metadata": {},
   "source": [
    "**2. Describe how the Market Basket Research makes use of association analysis concepts.**\n",
    "\n",
    "**Ans:** Market Basket Analysis employs association analysis concepts to identify patterns in transactional data, revealing products frequently purchased together. It involves generating frequent itemsets, creating association rules, and using metrics like support, confidence, and lift. These rules offer insights into customer behavior, aiding retailers in improving product placement, promotions, and cross-selling. By analyzing relationships between items, businesses can optimize strategies and enhance customer experiences.\n",
    "\n",
    "**3. Give an example of the Apriori algorithm for learning association rules.**\n",
    "\n",
    "**Ans:** The Apriori algorithm using a concise example: Grocery Store Transactions\n",
    "\n",
    "Given transactions:\n",
    "\n",
    "    - Bread, Milk, Eggs\n",
    "    - Milk, Diapers, Beer\n",
    "    - Bread, Milk, Diapers, Beer\n",
    "    - Bread, Diapers, Beer\n",
    "    - Bread, Milk\n",
    "\n",
    "Apriori Steps:\n",
    "\n",
    "1. Generate frequent itemsets based on a support threshold (e.g., 40%):\n",
    "    - Frequent 1-itemsets: Bread, Milk, Diapers, Beer\n",
    "    - Frequent 2-itemsets: Bread-Milk, Bread-Diapers, Bread-Beer, Milk-Diapers, Milk-Beer, Diapers-Beer\n",
    "2. Generate association rules with a confidence threshold (e.g., 60%):\n",
    "    - Example rule: Bread -> Diapers (Confidence: 100%, Support: 3)\n",
    "    - Example rule: Milk -> Bread (Confidence: 66.67%, Support: 2)\n",
    "3. Apply filters to keep significant rules (e.g., confidence > 70%).\n",
    "\n",
    "In this scenario, the Apriori algorithm helps discover rules like \"Bread -> Diapers\" and \"Milk -> Bread,\" guiding store strategies for product placement and promotions.\n",
    "\n",
    "**4. In hierarchical clustering, how is the distance between clusters measured? Explain how this metric is used to decide when to end the iteration.**\n",
    "\n",
    "**Ans:** In hierarchical clustering, the distance between clusters is determined by various linkage criteria, which define how the dissimilarity or similarity between clusters is calculated. These linkage criteria include single linkage (minimum distance), complete linkage (maximum distance), average linkage (average distance), centroid linkage (distance between cluster centroids), and Ward's linkage (minimizing variance increase upon merging). These metrics quantify the relationships between clusters based on the pairwise distances between their constituent data points.\n",
    "\n",
    "The decision to end the iteration in hierarchical clustering is often guided by dendrogram analysis. A dendrogram visually represents the merging process, with clusters linked at different heights on the y-axis. By observing the dendrogram, you can determine where to cut it to achieve a specific number of clusters. This is a critical step in the process of hierarchical clustering as it directly influences the results.\n",
    "\n",
    "The \"elbow method\" is a common approach to deciding the number of clusters. It involves looking for an \"elbow point\" on a plot of distances against the number of clusters. This point indicates diminishing returns, suggesting an optimal number of clusters. However, this method may not always provide a definitive answer, especially for complex datasets.\n",
    "\n",
    "**5. In the k-means algorithm, how do you recompute the cluster centroids?**\n",
    "\n",
    "**Ans:** In the k-means algorithm, cluster centroids are recomputed iteratively. After assigning data points to their nearest centroids, the centroids are updated using the mean of the assigned points. This process continues until convergence, refining cluster positions for optimal clustering.\n",
    "\n",
    "**6. At the start of the clustering exercise, discuss one method for determining the required number of clusters.**\n",
    "\n",
    "**Ans:** At the start of clustering, the Elbow Method is a common technique for estimating the ideal number of clusters. It involves plotting the sum of squared distances against cluster count. The point where the plot forms an \"elbow\" indicates a suitable cluster count, balancing compactness and avoiding overfitting. While this approach is helpful, complex datasets might not yield a clear elbow. Additional methods like silhouette analysis and cross-validation can provide more insight into determining the optimal cluster number.\n",
    "\n",
    "**7. Discuss the k-means algorithm's advantages and disadvantages.**\n",
    "\n",
    "**Ans:** \n",
    "\n",
    "**Advantages of the k-means Algorithm:**\n",
    "\n",
    "1. Simple and Fast: K-means is computationally efficient and easy to implement. It works well on large datasets and can handle moderate numbers of clusters.\n",
    "2. Scalability: K-means can be applied to datasets with a large number of dimensions, making it suitable for high-dimensional data.\n",
    "3. Clustering Quality: It often yields reasonable results when data clusters are well-separated and evenly sized.\n",
    "4. Interpretability: The resulting cluster centroids can have meaningful interpretations, aiding in understanding data patterns.\n",
    "5. Applicability: K-means is widely used in various fields, from customer segmentation in marketing to image compression in computer science.\n",
    "\n",
    "**Disadvantages of the k-means Algorithm:**\n",
    "\n",
    "1. Sensitive to Initialization: Different initializations can lead to different results. Convergence to a local minimum is possible, requiring multiple runs with different initializations. \n",
    "2. Assumption of Circular Clusters: K-means assumes that clusters are spherical and equally sized, making it less effective for clusters with irregular shapes. \n",
    "3. Dependence on Number of Clusters: The number of clusters (k) needs to be specified in advance, which might not always be known.\n",
    "4. Outliers Influence: Outliers can significantly affect the cluster centroids and lead to suboptimal results. \n",
    "5. Non-Convex Clusters: It struggles with clusters of non-convex shapes, as it's designed to minimize squared distances. \n",
    "6. Sensitive to Scaling: K-means is sensitive to the scaling of features; features with larger scales can dominate the distance computation.\n",
    "7. Cannot Handle Categorical Data: It's not designed to handle categorical data directly; preprocessing is needed.\n",
    "\n",
    "**8. Draw a diagram to demonstrate the principle of clustering.**\n",
    "\n",
    "**Ans:** ![k_means_clustering.png](attachment:k_means_clustering.png)    \n",
    "\n",
    "**9. During your study, you discovered seven findings, which are listed in the data points below. Using the K-means algorithm, you want to build three clusters from these observations. The clusters C1, C2, and C3 have the following findings after the first iteration:**\n",
    "\n",
    "**C1: (2,2), (4,4), (6,6); C2: (2,2), (4,4), (6,6); C3: (2,2), (4,4),**\n",
    "\n",
    "**C2: (0,4), (4,0), (0,4), (0,4), (0,4), (0,4), (0,4), (0,4), (0,**\n",
    "\n",
    "**C3: (5,5) and (9,9)**\n"
   ]
  },
  {
   "cell_type": "code",
   "execution_count": 5,
   "id": "c2a904d6",
   "metadata": {},
   "outputs": [
    {
     "name": "stdout",
     "output_type": "stream",
     "text": [
      "Cluster 1:\n",
      "[[0 4]\n",
      " [0 4]\n",
      " [0 4]\n",
      " [0 4]\n",
      " [0 4]\n",
      " [0 4]\n",
      " [0 4]\n",
      " [0 4]]\n",
      "Centroid 1: [0. 4.]\n",
      "\n",
      "Cluster 2:\n",
      "[[6 6]\n",
      " [5 5]\n",
      " [9 9]]\n",
      "Centroid 2: [6.66666667 6.66666667]\n",
      "\n",
      "Cluster 3:\n",
      "[[2 2]\n",
      " [4 4]\n",
      " [4 0]]\n",
      "Centroid 3: [3.33333333 2.        ]\n",
      "\n"
     ]
    }
   ],
   "source": [
    "import numpy as np\n",
    "from sklearn.cluster import KMeans\n",
    "\n",
    "# Data points for each cluster\n",
    "C1_points = np.array([[2, 2], [4, 4], [6, 6]])\n",
    "C2_points = np.array([[0, 4], [4, 0], [0, 4], [0, 4], [0, 4], [0, 4], [0, 4], [0, 4], [0, 4]])\n",
    "C3_points = np.array([[5, 5], [9, 9]])\n",
    "\n",
    "# Stack data points for clustering\n",
    "data_points = np.vstack((C1_points, C2_points, C3_points))\n",
    "\n",
    "# Number of clusters\n",
    "n_clusters = 3\n",
    "\n",
    "# Perform K-means clustering\n",
    "kmeans = KMeans(n_clusters=n_clusters, n_init=10)\n",
    "kmeans.fit(data_points)\n",
    "\n",
    "# Get cluster assignments and centroids\n",
    "cluster_assignments = kmeans.labels_\n",
    "centroids = kmeans.cluster_centers_\n",
    "\n",
    "# Print results\n",
    "for i in range(n_clusters):\n",
    "    cluster_points = data_points[cluster_assignments == i]\n",
    "    print(f\"Cluster {i + 1}:\")\n",
    "    print(cluster_points)\n",
    "    print(f\"Centroid {i + 1}:\", centroids[i])\n",
    "    print()"
   ]
  },
  {
   "cell_type": "markdown",
   "id": "bb48449d",
   "metadata": {},
   "source": [
    "**What would the cluster centroids be if you were to run a second iteration? What would this clustering's SSE be?**"
   ]
  },
  {
   "cell_type": "code",
   "execution_count": 6,
   "id": "e455e1a1",
   "metadata": {},
   "outputs": [
    {
     "name": "stdout",
     "output_type": "stream",
     "text": [
      "SSE for the clustering: 28.0\n"
     ]
    }
   ],
   "source": [
    "# Calculate SSE for the provided cluster centroids and data points\n",
    "sse = 0\n",
    "for i in range(n_clusters):\n",
    "    cluster_points = data_points[cluster_assignments == i]\n",
    "    centroid = centroids[i]\n",
    "    squared_distances = np.sum((cluster_points - centroid) ** 2)\n",
    "    sse += squared_distances\n",
    "\n",
    "print(\"SSE for the clustering:\", sse)\n"
   ]
  }
 ],
 "metadata": {
  "kernelspec": {
   "display_name": "Python 3 (ipykernel)",
   "language": "python",
   "name": "python3"
  },
  "language_info": {
   "codemirror_mode": {
    "name": "ipython",
    "version": 3
   },
   "file_extension": ".py",
   "mimetype": "text/x-python",
   "name": "python",
   "nbconvert_exporter": "python",
   "pygments_lexer": "ipython3",
   "version": "3.11.3"
  }
 },
 "nbformat": 4,
 "nbformat_minor": 5
}
