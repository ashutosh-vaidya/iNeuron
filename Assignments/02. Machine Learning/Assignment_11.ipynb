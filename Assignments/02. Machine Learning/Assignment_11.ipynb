{
 "cells": [
  {
   "cell_type": "markdown",
   "id": "af1965ac",
   "metadata": {},
   "source": [
    "**1. Given X be a discrete random variable with the following PMF**"
   ]
  },
  {
   "attachments": {
    "A11_Q1.jpg": {
     "image/jpeg": "[encoded data removed]"
    }
   },
   "cell_type": "markdown",
   "id": "059c422e",
   "metadata": {},
   "source": [
    "![A11_Q1.jpg](attachment:A11_Q1.jpg)"
   ]
  },
  {
   "cell_type": "markdown",
   "id": "14f18926",
   "metadata": {},
   "source": [
    "1. Find the range RX of the random variable X.\n",
    "2. Find P(X ≤ 0.5)\n",
    "3. Find P(0.25<X<0.75)\n",
    "4. P(X = 0.2|X<0.6)"
   ]
  },
  {
   "cell_type": "code",
   "execution_count": 4,
   "id": "dae0e83b",
   "metadata": {},
   "outputs": [
    {
     "name": "stdout",
     "output_type": "stream",
     "text": [
      "Range RX of X is => [0.2, 0.4, 0.5, 0.8, 1]\n",
      "P(X ≤ 0.5) => 0.5\n",
      "P(0.25 < X < 0.75) => 0.4\n",
      "P(X = 0.2 | X < 0.6) => 0.2\n"
     ]
    }
   ],
   "source": [
    "def pmf_X(x):\n",
    "    if x == 0.2:\n",
    "        return 0.1\n",
    "    elif x == 0.4:\n",
    "        return 0.2\n",
    "    elif x == 0.5:\n",
    "        return 0.2\n",
    "    elif x == 0.8:\n",
    "        return 0.3\n",
    "    elif x == 1:\n",
    "        return 0.2\n",
    "    else:\n",
    "        return 0\n",
    "\n",
    "# 1. Find the range RX of the random variable X.\n",
    "X_range = [0.2, 0.4, 0.5, 0.8, 1]\n",
    "print(f\"Range RX of X is => {X_range}\")\n",
    "\n",
    "# 2. Find P(X ≤ 0.5)\n",
    "px_05 = sum(pmf_X(x) for x in X_range if x <= 0.5)\n",
    "print(f\"P(X ≤ 0.5) => {px_05}\")\n",
    "\n",
    "# 3. Find P(0.25 < X < 0.75)\n",
    "px = sum(pmf_X(x) for x in X_range if 0.25 < x < 0.75)\n",
    "print(f\"P(0.25 < X < 0.75) => {px}\")\n",
    "\n",
    "# 4. P(X = 0.2 | X < 0.6)\n",
    "px = pmf_X(0.2) / px_05\n",
    "print(f\"P(X = 0.2 | X < 0.6) => {px}\")\n"
   ]
  },
  {
   "cell_type": "markdown",
   "id": "55512733",
   "metadata": {},
   "source": [
    "**2. Two equal and fair dice are rolled, and we observed two numbers X and Y**\n",
    " 1. Find RX, RY, and the PMFs of X and Y.\n",
    " 2. Find P(X = 2,Y = 6).\n",
    " 3. Find P(X>3|Y = 2).\n",
    " 4. If Z = X + Y. Find the range and PMF of Z.\n",
    " 5. Find P(X = 4|Z = 8)."
   ]
  },
  {
   "cell_type": "markdown",
   "id": "1e8d4ef7",
   "metadata": {},
   "source": [
    "**Step 1: Find RX, RY, and the PMFs of X and Y.**\n",
    "\n",
    "Since two fair dice are rolled, both X and Y can take values from 1 to 6.\n",
    "\n",
    "The probability mass function (PMF) of a fair six-sided die is uniform, meaning each outcome has an equal probability of 1/6."
   ]
  },
  {
   "cell_type": "code",
   "execution_count": 10,
   "id": "ed7bfbb5",
   "metadata": {},
   "outputs": [
    {
     "name": "stdout",
     "output_type": "stream",
     "text": [
      "Range RX: [1, 2, 3, 4, 5, 6]\n",
      "Range RY: [1, 2, 3, 4, 5, 6]\n",
      "PMF of X: {1: 0.16666666666666666, 2: 0.16666666666666666, 3: 0.16666666666666666, 4: 0.16666666666666666, 5: 0.16666666666666666, 6: 0.16666666666666666}\n",
      "PMF of Y: {1: 0.16666666666666666, 2: 0.16666666666666666, 3: 0.16666666666666666, 4: 0.16666666666666666, 5: 0.16666666666666666, 6: 0.16666666666666666}\n"
     ]
    }
   ],
   "source": [
    "# Range of X and Y\n",
    "RX = list(range(1, 7))\n",
    "RY = list(range(1, 7))\n",
    "\n",
    "# PMFs of X and Y\n",
    "pmf_X = {x: 1/6 for x in RX}\n",
    "pmf_Y = {y: 1/6 for y in RY}\n",
    "\n",
    "print(f\"Range RX: {RX}\")\n",
    "print(f\"Range RY: {RY}\")\n",
    "print(f\"PMF of X: {pmf_X}\")\n",
    "print(f\"PMF of Y: {pmf_Y}\")"
   ]
  },
  {
   "cell_type": "markdown",
   "id": "f99853fd",
   "metadata": {},
   "source": [
    "**Step 2: Find P(X = 2, Y = 6).**\n",
    "\n",
    "Since the dice are fair and independent, the joint probability of getting X = 2 and Y = 6 is the product of their individual probabilities."
   ]
  },
  {
   "cell_type": "code",
   "execution_count": 16,
   "id": "d52750e4",
   "metadata": {},
   "outputs": [
    {
     "name": "stdout",
     "output_type": "stream",
     "text": [
      "P(X = 2, Y = 6): 0.027777777777777776\n"
     ]
    }
   ],
   "source": [
    "p_X_2_Y_6 = pmf_X[2] * pmf_Y[6]\n",
    "print(f\"P(X = 2, Y = 6): {p_X_2_Y_6}\")"
   ]
  },
  {
   "cell_type": "markdown",
   "id": "a01b7e50",
   "metadata": {},
   "source": [
    "**Step 3: Find P(X > 3 | Y = 2).**\n",
    "\n",
    "Since Y = 2 is given, we only need to consider the cases where Y = 2. Then, we find the conditional probability that X > 3."
   ]
  },
  {
   "cell_type": "code",
   "execution_count": 17,
   "id": "515f9d59",
   "metadata": {},
   "outputs": [
    {
     "name": "stdout",
     "output_type": "stream",
     "text": [
      "P(X > 3 | Y = 2): 18.0\n"
     ]
    }
   ],
   "source": [
    "# Considering Y = 2\n",
    "p_Y_2 = pmf_Y[2]\n",
    "\n",
    "# Counting cases where X > 3 and Y = 2\n",
    "count_X_gt_3_Y_2 = sum(1 for x in RX if x > 3)\n",
    "\n",
    "# Conditional probability P(X > 3 | Y = 2)\n",
    "p_X_gt_3_given_Y_2 = count_X_gt_3_Y_2 / p_Y_2\n",
    "print(f\"P(X > 3 | Y = 2): {p_X_gt_3_given_Y_2}\")"
   ]
  },
  {
   "cell_type": "markdown",
   "id": "8a30a154",
   "metadata": {},
   "source": [
    "**Step 4: If Z = X + Y, Find the range and PMF of Z.**\n",
    "\n",
    "The range of Z can be from 2 (minimum sum) to 12 (maximum sum). The PMF of Z can be calculated using the convolution of the PMFs of X and Y."
   ]
  },
  {
   "cell_type": "code",
   "execution_count": 18,
   "id": "1ff0d0fb",
   "metadata": {},
   "outputs": [
    {
     "name": "stdout",
     "output_type": "stream",
     "text": [
      "Range RZ: [2, 3, 4, 5, 6, 7, 8, 9, 10, 11, 12]\n",
      "PMF of Z: {2: 0.027777777777777776, 3: 0.05555555555555555, 4: 0.08333333333333333, 5: 0.1111111111111111, 6: 0.1388888888888889, 7: 0.16666666666666669, 8: 0.1388888888888889, 9: 0.1111111111111111, 10: 0.08333333333333333, 11: 0.05555555555555555, 12: 0.027777777777777776}\n"
     ]
    }
   ],
   "source": [
    "# Range of Z\n",
    "RZ = list(range(2, 13))\n",
    "\n",
    "# PMF of Z\n",
    "pmf_Z = {z: sum(pmf_X[x] * pmf_Y[z - x] for x in RX if z - x in RY) for z in RZ}\n",
    "\n",
    "print(f\"Range RZ: {RZ}\")\n",
    "print(f\"PMF of Z: {pmf_Z}\")"
   ]
  },
  {
   "cell_type": "markdown",
   "id": "6a0daca0",
   "metadata": {},
   "source": [
    "**Step 5: Find P(X = 4 | Z = 8).**\n",
    "\n",
    "Given Z = 8, we need to find the conditional probability that X = 4."
   ]
  },
  {
   "cell_type": "code",
   "execution_count": 19,
   "id": "2072f288",
   "metadata": {},
   "outputs": [
    {
     "name": "stdout",
     "output_type": "stream",
     "text": [
      "P(X = 4 | Z = 8): 0.19999999999999998\n"
     ]
    }
   ],
   "source": [
    "# Considering Z = 8\n",
    "p_Z_8 = pmf_Z[8]\n",
    "\n",
    "# Conditional probability P(X = 4 | Z = 8)\n",
    "p_X_4_given_Z_8 = pmf_X[4] * pmf_Y[8 - 4] / p_Z_8\n",
    "print(f\"P(X = 4 | Z = 8): {p_X_4_given_Z_8}\")"
   ]
  },
  {
   "cell_type": "markdown",
   "id": "16482571",
   "metadata": {},
   "source": [
    "**3. In an exam, there were 20 multiple-choice questions. Each question had 44 possible options. A student knew the answer to 10 questions, but the other 10 questions were unknown to him, and he chose answers randomly. If the student X's score is equal to the total number of correct answers, then find out the PMF of X. What is P(X>15)?**"
   ]
  },
  {
   "cell_type": "code",
   "execution_count": 26,
   "id": "37c56821",
   "metadata": {},
   "outputs": [
    {
     "name": "stdout",
     "output_type": "stream",
     "text": [
      "PMF of X: [0.0031712119389339932, 0.02114141292622662, 0.06694780759971763, 0.13389561519943527, 0.18968545486586663, 0.2023311518569244, 0.16860929321410367, 0.11240619547606912, 0.060886689216204104, 0.02706075076275738, 0.009922275279677706, 0.00300675008475082, 0.000751687521187705, 0.0001541923120385036, 2.569871867308393e-05, 3.4264958230778575e-06, 3.569266482372768e-07, 2.799424692057073e-08, 1.5552359400317073e-09, 5.4569682106375694e-11, 9.094947017729282e-13]\n",
      "\n",
      "P(X > 15): 3.865316102746874e-07\n"
     ]
    }
   ],
   "source": [
    "# Parameters\n",
    "n = 20  # Total number of questions\n",
    "p_known = 10 / 44  # Probability of answering a known question correctly\n",
    "p_unknown = 1 / 44  # Probability of answering an unknown question correctly\n",
    "\n",
    "# Calculate PMF of X using binomial distribution formula\n",
    "def binomial_coefficient(n, k):\n",
    "    if k == 0 or k == n:\n",
    "        return 1\n",
    "    return binomial_coefficient(n - 1, k - 1) + binomial_coefficient(n - 1, k)\n",
    "\n",
    "def binomial_pmf(n, k, p):\n",
    "    return binomial_coefficient(n, k) * (p ** k) * ((1 - p) ** (n - k))\n",
    "\n",
    "pmf_X = [binomial_pmf(n, x, p_known + p_unknown) for x in range(n + 1)]\n",
    "\n",
    "# Calculate P(X > 15)\n",
    "p_X_greater_than_15 = sum(pmf_X[16:])\n",
    "\n",
    "# Print PMF of X\n",
    "print(f\"PMF of X: {pmf_X}\")\n",
    "print()\n",
    "# Print P(X > 15)\n",
    "print(f\"P(X > 15): {p_X_greater_than_15}\")"
   ]
  },
  {
   "cell_type": "markdown",
   "id": "3dacd816",
   "metadata": {},
   "source": [
    "**4. The number of students arriving at a college between a time interval is a Poisson random variable. On average, 10 students arrive per hour. Let Y be the number of students arriving from 10 am to 11:30 am. What is P(10<Y≤15)?**"
   ]
  },
  {
   "cell_type": "code",
   "execution_count": 27,
   "id": "13d567ce",
   "metadata": {},
   "outputs": [
    {
     "name": "stdout",
     "output_type": "stream",
     "text": [
      "P(10 < Y ≤ 15): 0.44962516407952874\n"
     ]
    }
   ],
   "source": [
    "import math\n",
    "\n",
    "# Parameters\n",
    "lambda_val = 15  # Average number of arrivals from 10 am to 11:30 am\n",
    "lower_bound = 10\n",
    "upper_bound = 15\n",
    "\n",
    "# Calculate Poisson PMF\n",
    "def poisson_pmf(lmbda, k):\n",
    "    return (lmbda ** k) * math.exp(-lmbda) / math.factorial(k)\n",
    "\n",
    "# Calculate P(10 < Y ≤ 15)\n",
    "p_10_to_15 = sum(poisson_pmf(lambda_val, k) for k in range(lower_bound + 1, upper_bound + 1))\n",
    "\n",
    "# Print the result\n",
    "print(f\"P(10 < Y ≤ 15): {p_10_to_15}\")\n"
   ]
  },
  {
   "cell_type": "markdown",
   "id": "6414606f",
   "metadata": {},
   "source": [
    "**5.Two independent random variables, X and Y,are given such that X-Poisson(α) and Y-Poisson(β). State a new random variable as Z = X + Y. Find out the PMF of Z.**\n",
    "\n",
    "When two independent random variables, X and Y, follow Poisson distributions with parameters α and β respectively, their sum Z = X + Y also follows a Poisson distribution. The PMF of Z can be calculated as follows:\n",
    "\n",
    "The PMF of a Poisson distribution is given by the formula:\n",
    "\n",
    "`P(Z = k) = (e^(-λ) * λ^k) / k!`\n",
    "\n",
    "Where λ (lambda) is the parameter of the Poisson distribution. For Z, `λ = α + β.`\n",
    "\n",
    "Here is code snippet for same,"
   ]
  },
  {
   "cell_type": "code",
   "execution_count": 28,
   "id": "c0b1c2ab",
   "metadata": {},
   "outputs": [
    {
     "name": "stdout",
     "output_type": "stream",
     "text": [
      "PMF of Z: [0.00033546262790251185, 0.002683701023220095, 0.01073480409288038, 0.02862614424768101, 0.05725228849536202, 0.09160366159257924, 0.12213821545677231, 0.13958653195059692, 0.13958653195059692]\n"
     ]
    }
   ],
   "source": [
    "import math\n",
    "\n",
    "# Parameters\n",
    "alpha = 3  # Parameter for X\n",
    "beta = 5   # Parameter for Y\n",
    "\n",
    "# Calculate PMF of Z\n",
    "def poisson_pmf(lmbda, k):\n",
    "    return (math.exp(-lmbda) * lmbda**k) / math.factorial(k)\n",
    "\n",
    "# Calculate PMF of Z for various values of k\n",
    "pmf_Z = [poisson_pmf(alpha + beta, k) for k in range(0, alpha + beta + 1)]\n",
    "\n",
    "# Print PMF of Z\n",
    "print(f\"PMF of Z: {pmf_Z}\")\n"
   ]
  },
  {
   "attachments": {
    "A11_Q6.jpg": {
     "image/jpeg": "[encoded data removed]"
    }
   },
   "cell_type": "markdown",
   "id": "dfe1c71f",
   "metadata": {},
   "source": [
    "**6. There is a discrete random variable X with the pmf.**\n",
    "\n",
    "![A11_Q6.jpg](attachment:A11_Q6.jpg)\n",
    "\n",
    "**If we define a new random variable Y = (X + 1)2 then**\n",
    "\n",
    "1.Find the range of Y.\n",
    "\n",
    "2.Find the pmf of Y."
   ]
  },
  {
   "cell_type": "code",
   "execution_count": null,
   "id": "63754392",
   "metadata": {},
   "outputs": [],
   "source": []
  }
 ],
 "metadata": {
  "kernelspec": {
   "display_name": "Python 3 (ipykernel)",
   "language": "python",
   "name": "python3"
  },
  "language_info": {
   "codemirror_mode": {
    "name": "ipython",
    "version": 3
   },
   "file_extension": ".py",
   "mimetype": "text/x-python",
   "name": "python",
   "nbconvert_exporter": "python",
   "pygments_lexer": "ipython3",
   "version": "3.11.3"
  }
 },
 "nbformat": 4,
 "nbformat_minor": 5
}
