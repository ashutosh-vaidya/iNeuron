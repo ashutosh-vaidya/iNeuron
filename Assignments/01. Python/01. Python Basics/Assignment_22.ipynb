{
 "cells": [
  {
   "cell_type": "markdown",
   "id": "a60bc473",
   "metadata": {},
   "source": [
    "**1. What is the result of the code, and explain?**"
   ]
  },
  {
   "cell_type": "code",
   "execution_count": 1,
   "id": "834652fa",
   "metadata": {},
   "outputs": [
    {
     "name": "stdout",
     "output_type": "stream",
     "text": [
      "iNeuron\n"
     ]
    }
   ],
   "source": [
    "X = 'iNeuron'\n",
    "def func():\n",
    "    print(X)\n",
    "\n",
    "func()"
   ]
  },
  {
   "cell_type": "markdown",
   "id": "a335111a",
   "metadata": {},
   "source": [
    "**Explanation:**\n",
    "- This program defines a global variable `X` with the value `'iNeuron'`.\n",
    "- Global variables can be accessible inside the functions, hence we can write `print(X)` in the function `func()`\n",
    "- Finally calling `func()` will print result = `iNeuron`"
   ]
  },
  {
   "cell_type": "markdown",
   "id": "a3431e1f",
   "metadata": {},
   "source": [
    "**2. What is the result of the code, and explain?**"
   ]
  },
  {
   "cell_type": "code",
   "execution_count": 2,
   "id": "aeef8ca7",
   "metadata": {},
   "outputs": [
    {
     "name": "stdout",
     "output_type": "stream",
     "text": [
      "iNeuron\n"
     ]
    }
   ],
   "source": [
    "X = 'iNeuron'\n",
    "def func():\n",
    "    X = 'NI!'\n",
    "\n",
    "func()\n",
    "print(X)"
   ]
  },
  {
   "cell_type": "markdown",
   "id": "c09e23da",
   "metadata": {},
   "source": [
    "**Explanation:**\n",
    "-  Here we are defining the local variable inside the `func()` but since we have not used `global` keyword it will not modify the global `X` variable.\n",
    "-  We are not printing anything in `func()` nor returning anything so calling it will do nothing.\n",
    "-  Finally, `print(X)` on the last line, prints the global value `iNeuron`"
   ]
  },
  {
   "cell_type": "markdown",
   "id": "47e503d3",
   "metadata": {},
   "source": [
    "**3. What does this code print, and why?**"
   ]
  },
  {
   "cell_type": "code",
   "execution_count": 3,
   "id": "bba33075",
   "metadata": {},
   "outputs": [
    {
     "name": "stdout",
     "output_type": "stream",
     "text": [
      "NI\n",
      "iNeuron\n"
     ]
    }
   ],
   "source": [
    "X = 'iNeuron'\n",
    "def func():\n",
    "    X = 'NI'\n",
    "    print(X)\n",
    "\n",
    "func()\n",
    "print(X)"
   ]
  },
  {
   "cell_type": "markdown",
   "id": "aed6093a",
   "metadata": {},
   "source": [
    "**Explanation:**\n",
    "- Here we are still not used `global` keyword so the local variable `X` won't affect global `X` \n",
    "- Calling function `func()` this time will print `NI` on the console since we have written a print statement inside the function.\n",
    "-  Finally, `print(X)` on the last line, prints the global value `iNeuron`"
   ]
  },
  {
   "cell_type": "markdown",
   "id": "9f43e513",
   "metadata": {},
   "source": [
    "**4. What output does this code produce? Why?**"
   ]
  },
  {
   "cell_type": "code",
   "execution_count": 4,
   "id": "620bbf50",
   "metadata": {},
   "outputs": [
    {
     "name": "stdout",
     "output_type": "stream",
     "text": [
      "NI\n"
     ]
    }
   ],
   "source": [
    "X = 'iNeuron'\n",
    "def func():\n",
    "    global X\n",
    "    X = 'NI'\n",
    "func()\n",
    "print(X)"
   ]
  },
  {
   "cell_type": "markdown",
   "id": "82dfc845",
   "metadata": {},
   "source": [
    "**Explanation:**\n",
    "\n",
    "Here we have used `global` keyword inside the function, hence any change done to `X` inside the function will reflect on global `X` on calling the function. Thus when `print(X)` is executed it will print `NI`"
   ]
  },
  {
   "cell_type": "markdown",
   "id": "b720e0b0",
   "metadata": {},
   "source": [
    "**5. What about this code—what’s the output, and why?**"
   ]
  },
  {
   "cell_type": "code",
   "execution_count": 5,
   "id": "60927dcf",
   "metadata": {},
   "outputs": [
    {
     "name": "stdout",
     "output_type": "stream",
     "text": [
      "iNeuron\n"
     ]
    },
    {
     "data": {
      "text/plain": [
       "'iNeuron'"
      ]
     },
     "execution_count": 5,
     "metadata": {},
     "output_type": "execute_result"
    }
   ],
   "source": [
    "X = 'iNeuron'\n",
    "def func():\n",
    "    X = 'NI'\n",
    "def nested():\n",
    "    print(X)\n",
    "\n",
    "nested()\n",
    "func()\n",
    "X"
   ]
  },
  {
   "cell_type": "markdown",
   "id": "3286a931",
   "metadata": {},
   "source": [
    "**Explanation:**\n",
    "- Here, calling `nested()` will print `iNeuron` since it can access the global variable.\n",
    "- Calling `fun()` will do nothing as we are not printing anything nor we are returning a local variable `X` which does not have any effect on the global variable.\n",
    "- Finally `X` will show the value `iNeuron` on the console but it is not an actual output."
   ]
  },
  {
   "cell_type": "markdown",
   "id": "b7e1d9ee",
   "metadata": {},
   "source": [
    "**6. How about this code: what is its output in Python 3, and explain?**"
   ]
  },
  {
   "cell_type": "code",
   "execution_count": 6,
   "id": "2dc6fd39",
   "metadata": {},
   "outputs": [
    {
     "name": "stdout",
     "output_type": "stream",
     "text": [
      "Spam\n"
     ]
    }
   ],
   "source": [
    "def func():\n",
    "    X = 'NI'\n",
    "    def nested():\n",
    "        nonlocal X\n",
    "        X = 'Spam'\n",
    "    nested()\n",
    "    print(X)\n",
    "func()"
   ]
  },
  {
   "cell_type": "markdown",
   "id": "4f2350fd",
   "metadata": {},
   "source": [
    "**Explanation:**\n",
    "Here `X` is defined as `nonlocal`, this means its scope is neither local nor global. It will hold whatever the latest value is. First, it will hold `NI` and then `spam`. Hence calling the `func()` will print the latest value which is `spam` "
   ]
  }
 ],
 "metadata": {
  "kernelspec": {
   "display_name": "Python 3 (ipykernel)",
   "language": "python",
   "name": "python3"
  },
  "language_info": {
   "codemirror_mode": {
    "name": "ipython",
    "version": 3
   },
   "file_extension": ".py",
   "mimetype": "text/x-python",
   "name": "python",
   "nbconvert_exporter": "python",
   "pygments_lexer": "ipython3",
   "version": "3.9.7"
  }
 },
 "nbformat": 4,
 "nbformat_minor": 5
}
