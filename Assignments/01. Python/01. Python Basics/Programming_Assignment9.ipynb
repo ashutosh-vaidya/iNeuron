{
 "cells": [
  {
   "cell_type": "markdown",
   "id": "e1deb446",
   "metadata": {},
   "source": [
    "**1.Write a Python Program to check if the given number is a Disarium Number ?**\n",
    "\n",
    "A number is a Disarium number if the sum of each digit raised to the power of their respective positions is equal to the original number."
   ]
  },
  {
   "cell_type": "code",
   "execution_count": 1,
   "id": "34f00d6d",
   "metadata": {},
   "outputs": [
    {
     "name": "stdout",
     "output_type": "stream",
     "text": [
      "89 is a Disarium number.\n",
      "121 is not an Disarium number.\n"
     ]
    }
   ],
   "source": [
    "def isdisarium(n):\n",
    "    result = 0\n",
    "    digits = [int(x) for x in str(n)]\n",
    "    for i in range(len(digits)):\n",
    "        result += digits[i] ** (i+1)\n",
    "    return n == result\n",
    "\n",
    "def checkdisarium(num):\n",
    "    isdisarium(num)\n",
    "    if isdisarium(num):\n",
    "        print(f\"{num} is a Disarium number.\")\n",
    "    else:\n",
    "        print(f\"{num} is not an Disarium number.\")\n",
    "        \n",
    "checkdisarium(89)\n",
    "checkdisarium(121)"
   ]
  },
  {
   "cell_type": "markdown",
   "id": "e441da1b",
   "metadata": {},
   "source": [
    "**2.Write a Python Program to print all Disarium numbers between 1 to 100 ?**"
   ]
  },
  {
   "cell_type": "code",
   "execution_count": 2,
   "id": "2fe234f8",
   "metadata": {},
   "outputs": [
    {
     "name": "stdout",
     "output_type": "stream",
     "text": [
      "[1, 2, 3, 4, 5, 6, 7, 8, 9, 89]\n"
     ]
    }
   ],
   "source": [
    "result = []\n",
    "for i in range(1,100):\n",
    "    if isdisarium(i):\n",
    "        result.append(i)\n",
    "print(result)"
   ]
  },
  {
   "cell_type": "markdown",
   "id": "ffec8249",
   "metadata": {},
   "source": [
    "**3.Write a Python program to check if the given number is Happy Number?**\n",
    "\n",
    "Any given number is said to be a happy number if it yields 1 when replaced by the sum of squares of its digits repeatedly. If this process results in an endless cycle of numbers containing 4 then that number will be said an unhappy number."
   ]
  },
  {
   "cell_type": "code",
   "execution_count": 3,
   "id": "66b136cf",
   "metadata": {},
   "outputs": [
    {
     "name": "stdout",
     "output_type": "stream",
     "text": [
      "45 is not a happy number\n",
      "13 is a happy number\n"
     ]
    }
   ],
   "source": [
    "def calculatesum(n):\n",
    "    rem = sum = 0\n",
    "    while(n > 0):\n",
    "        rem = n % 10;\n",
    "        sum += rem ** 2\n",
    "        n //= 10\n",
    "    return sum\n",
    "\n",
    "def ishappynumber(num):\n",
    "    result = num\n",
    "    while(result != 1 and result != 4):\n",
    "        result = calculatesum(result)\n",
    "        if(result == 1):\n",
    "            return True\n",
    "        elif(result == 4):\n",
    "            return False\n",
    "            \n",
    "def checkhappynumber(num):\n",
    "    if(ishappynumber(num)):\n",
    "        print(f\"{num} is a happy number\")\n",
    "    else:\n",
    "        print(f\"{num} is not a happy number\");\n",
    "            \n",
    "checkhappynumber(45)\n",
    "checkhappynumber(13)"
   ]
  },
  {
   "cell_type": "markdown",
   "id": "ae431401",
   "metadata": {},
   "source": [
    "**4.Write a Python Program to print all Happy numbers between 1 and 100 ?**"
   ]
  },
  {
   "cell_type": "code",
   "execution_count": 4,
   "id": "1d68d41d",
   "metadata": {},
   "outputs": [
    {
     "name": "stdout",
     "output_type": "stream",
     "text": [
      "[7, 10, 13, 19, 23, 28, 31, 32, 44, 49, 68, 70, 79, 82, 86, 91, 94, 97]\n"
     ]
    }
   ],
   "source": [
    "result = []\n",
    "for i in range(1,100):\n",
    "    if (ishappynumber(i)):\n",
    "        result.append(i)\n",
    "print(result)"
   ]
  },
  {
   "cell_type": "markdown",
   "id": "5759bc18",
   "metadata": {},
   "source": [
    "**5.Write a Python Program to determine whether the given number is a Harshad Number ?**\n",
    "\n",
    "A Harshad number is one whose original number is divisible by the sum of its digits."
   ]
  },
  {
   "cell_type": "code",
   "execution_count": 5,
   "id": "d4e873f4",
   "metadata": {},
   "outputs": [
    {
     "name": "stdout",
     "output_type": "stream",
     "text": [
      "193 is not harshad number\n",
      "18 is harshad number\n"
     ]
    }
   ],
   "source": [
    "def isharshadnumber(num):\n",
    "    sumofdigits = 0\n",
    "    original = num\n",
    "    while num > 0:\n",
    "        sumofdigits += num % 10\n",
    "        num //= 10\n",
    "        \n",
    "    if(original % sumofdigits == 0):\n",
    "        print(f\"{original} is harshad number\")\n",
    "    else:\n",
    "        print(f\"{original} is not harshad number\")\n",
    "\n",
    "isharshadnumber(193)\n",
    "isharshadnumber(18)"
   ]
  },
  {
   "cell_type": "markdown",
   "id": "17b73338",
   "metadata": {},
   "source": [
    "**6.Write a Python Program to print all pronic numbers between 1 and 100 ?**\n",
    "\n",
    "A pronic number is the product of two consecutive integers, i.e. a number of the form n(n + 1)."
   ]
  },
  {
   "cell_type": "code",
   "execution_count": 6,
   "id": "318b40ac",
   "metadata": {},
   "outputs": [
    {
     "name": "stdout",
     "output_type": "stream",
     "text": [
      "[2, 6, 12, 20, 30, 42, 56, 72, 90]\n"
     ]
    }
   ],
   "source": [
    "def ispronicnumber(num):\n",
    "    flag = False\n",
    "    for i in range(num):\n",
    "        if(i * (i + 1) == num):\n",
    "            flag = True\n",
    "            break\n",
    "    if(flag): #if true then num is proninc number\n",
    "        return num\n",
    "    \n",
    "result = []\n",
    "for i in range(1,100):\n",
    "    if (ispronicnumber(i)):\n",
    "        result.append(i)\n",
    "print(result)"
   ]
  }
 ],
 "metadata": {
  "kernelspec": {
   "display_name": "Python 3 (ipykernel)",
   "language": "python",
   "name": "python3"
  },
  "language_info": {
   "codemirror_mode": {
    "name": "ipython",
    "version": 3
   },
   "file_extension": ".py",
   "mimetype": "text/x-python",
   "name": "python",
   "nbconvert_exporter": "python",
   "pygments_lexer": "ipython3",
   "version": "3.9.7"
  }
 },
 "nbformat": 4,
 "nbformat_minor": 5
}
