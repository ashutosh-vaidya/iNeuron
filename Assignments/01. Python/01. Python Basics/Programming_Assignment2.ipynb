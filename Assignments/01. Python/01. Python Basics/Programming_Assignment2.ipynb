{
 "cells": [
  {
   "cell_type": "markdown",
   "id": "5ad80d7b",
   "metadata": {},
   "source": [
    "**1.Write a Python program to convert kilometers to miles?**\n",
    "\n",
    "Formula: 1 kilometer = 0.621371 Mile"
   ]
  },
  {
   "cell_type": "code",
   "execution_count": 2,
   "id": "12c8b6e5",
   "metadata": {},
   "outputs": [
    {
     "name": "stdout",
     "output_type": "stream",
     "text": [
      "Please enter kilometers : 14\n",
      "14 kilometes is equal to 8.699194 miles\n"
     ]
    }
   ],
   "source": [
    "k = int(input(\"Please enter kilometers : \"))\n",
    "result = k * 0.621371\n",
    "print(f\"{k} kilometes is equal to {result} in miles\")"
   ]
  },
  {
   "cell_type": "markdown",
   "id": "b4821e98",
   "metadata": {},
   "source": [
    "**2.Write a Python program to convert Celsius to Fahrenheit?**\n",
    "\n",
    "Formula : (0°C × 9/5) + 32 = 32°F"
   ]
  },
  {
   "cell_type": "code",
   "execution_count": 5,
   "id": "60d57ad4",
   "metadata": {},
   "outputs": [
    {
     "name": "stdout",
     "output_type": "stream",
     "text": [
      "Please enter celsius : 23\n",
      "23 celsius is equal to 73.4 in fahrenheit\n"
     ]
    }
   ],
   "source": [
    "c = int(input(\"Please enter celsius : \"))\n",
    "f = c * (9/5) + 32\n",
    "print(f\"{c} celsius is equal to {f} in fahrenheit\")"
   ]
  },
  {
   "cell_type": "markdown",
   "id": "f2aee4c3",
   "metadata": {},
   "source": [
    "**3.Write a Python program to display calendar?**"
   ]
  },
  {
   "cell_type": "code",
   "execution_count": 11,
   "id": "e559f104",
   "metadata": {},
   "outputs": [
    {
     "name": "stdout",
     "output_type": "stream",
     "text": [
      "Please enter the year : 2022\n",
      "                                  2022\n",
      "\n",
      "      January                   February                   March\n",
      "Mo Tu We Th Fr Sa Su      Mo Tu We Th Fr Sa Su      Mo Tu We Th Fr Sa Su\n",
      "                1  2          1  2  3  4  5  6          1  2  3  4  5  6\n",
      " 3  4  5  6  7  8  9       7  8  9 10 11 12 13       7  8  9 10 11 12 13\n",
      "10 11 12 13 14 15 16      14 15 16 17 18 19 20      14 15 16 17 18 19 20\n",
      "17 18 19 20 21 22 23      21 22 23 24 25 26 27      21 22 23 24 25 26 27\n",
      "24 25 26 27 28 29 30      28                        28 29 30 31\n",
      "31\n",
      "\n",
      "       April                      May                       June\n",
      "Mo Tu We Th Fr Sa Su      Mo Tu We Th Fr Sa Su      Mo Tu We Th Fr Sa Su\n",
      "             1  2  3                         1             1  2  3  4  5\n",
      " 4  5  6  7  8  9 10       2  3  4  5  6  7  8       6  7  8  9 10 11 12\n",
      "11 12 13 14 15 16 17       9 10 11 12 13 14 15      13 14 15 16 17 18 19\n",
      "18 19 20 21 22 23 24      16 17 18 19 20 21 22      20 21 22 23 24 25 26\n",
      "25 26 27 28 29 30         23 24 25 26 27 28 29      27 28 29 30\n",
      "                          30 31\n",
      "\n",
      "        July                     August                  September\n",
      "Mo Tu We Th Fr Sa Su      Mo Tu We Th Fr Sa Su      Mo Tu We Th Fr Sa Su\n",
      "             1  2  3       1  2  3  4  5  6  7                1  2  3  4\n",
      " 4  5  6  7  8  9 10       8  9 10 11 12 13 14       5  6  7  8  9 10 11\n",
      "11 12 13 14 15 16 17      15 16 17 18 19 20 21      12 13 14 15 16 17 18\n",
      "18 19 20 21 22 23 24      22 23 24 25 26 27 28      19 20 21 22 23 24 25\n",
      "25 26 27 28 29 30 31      29 30 31                  26 27 28 29 30\n",
      "\n",
      "      October                   November                  December\n",
      "Mo Tu We Th Fr Sa Su      Mo Tu We Th Fr Sa Su      Mo Tu We Th Fr Sa Su\n",
      "                1  2          1  2  3  4  5  6                1  2  3  4\n",
      " 3  4  5  6  7  8  9       7  8  9 10 11 12 13       5  6  7  8  9 10 11\n",
      "10 11 12 13 14 15 16      14 15 16 17 18 19 20      12 13 14 15 16 17 18\n",
      "17 18 19 20 21 22 23      21 22 23 24 25 26 27      19 20 21 22 23 24 25\n",
      "24 25 26 27 28 29 30      28 29 30                  26 27 28 29 30 31\n",
      "31\n",
      "\n"
     ]
    }
   ],
   "source": [
    "import calendar\n",
    "y = int(input(\"Please enter the year : \"))\n",
    "print(calendar.calendar(y))"
   ]
  },
  {
   "cell_type": "markdown",
   "id": "459d0ee0",
   "metadata": {},
   "source": [
    "**4.Write a Python program to solve quadratic equation?**\n",
    "\n",
    "What is quadratic equation? \n",
    "\n",
    "A quadratic equation is an algebraic expression of the second degree in x. The standard form of a quadratic equation is `ax2 + bx + c = 0`, where a, b are the coefficients, x is the variable, and c is the constant term.\n",
    "\n",
    "Some of the important points which should be followed for solving the quadratic equations are:\n",
    "\n",
    "- The form ax2 + bx + c = 0 will be followed, as this is the standard form.\n",
    "- The discriminant of the quadratic equation is D = b2 – 4ac\n",
    "- If D > 0, then the roots are real and distinct. Formula to calculate root = `(-b + sqrt(d))/2*a` and `(-b - sqrt(d))/2*a`\n",
    "- If D = 0, then the roots are real and equal. Formula to calculate root = `-b/2*a`\n",
    "- If D < 0, then the roots do not exist, or the roots are imaginary.\n",
    "\n"
   ]
  },
  {
   "cell_type": "code",
   "execution_count": 16,
   "id": "4afbc737",
   "metadata": {},
   "outputs": [
    {
     "name": "stdout",
     "output_type": "stream",
     "text": [
      "Please enter a :4\n",
      "Please enter b :7\n",
      "Please enter c :2\n",
      "discriminat is : 17\n",
      "Roots are real and distinct\n",
      "-0.3596117967977924 -1.3903882032022077\n"
     ]
    }
   ],
   "source": [
    "a = int(input(\"Please enter a :\"))\n",
    "b = int(input(\"Please enter b :\"))\n",
    "c = int(input(\"Please enter c :\"))\n",
    "\n",
    "if a == 0:\n",
    "    print(\"Incorrect value for a is given\")\n",
    "else:\n",
    "    # Calculate discriminant \n",
    "    d = (b**2) - (4*a*c)\n",
    "    print(f\"discriminat is : {d}\")\n",
    "    if d > 0:\n",
    "        print(\"Roots are real and distinct\")        \n",
    "        root1 = (-b + d ** 0.5)/(2*a)\n",
    "        root2 = (-b - d ** 0.5)/(2*a)\n",
    "        print(root1, root2)\n",
    "    elif d == 0: \n",
    "        print(\"Roots are real and eqaul\")\n",
    "        root = -b/2*a\n",
    "    elif d < 0:\n",
    "        print(\"Roots do not exist or are imaginary\")"
   ]
  },
  {
   "cell_type": "markdown",
   "id": "0ee41807",
   "metadata": {},
   "source": [
    "**5.Write a Python program to swap two variables without temp variable?**"
   ]
  },
  {
   "cell_type": "code",
   "execution_count": 1,
   "id": "8017f05d",
   "metadata": {},
   "outputs": [
    {
     "name": "stdout",
     "output_type": "stream",
     "text": [
      "Please enter first variable :33\n",
      "Please enter second variable :44\n",
      "Before swapping a = 33 b = 44\n",
      "After swapping a = 44 b = 33\n"
     ]
    }
   ],
   "source": [
    "a = input(\"Please enter first variable :\")\n",
    "b = input(\"Please enter second variable :\")\n",
    "\n",
    "print(f\"Before swapping a = {a} b = {b}\")\n",
    "\n",
    "a,b = b,a\n",
    "\n",
    "print(f\"After swapping a = {a} b = {b}\")"
   ]
  }
 ],
 "metadata": {
  "kernelspec": {
   "display_name": "Python 3 (ipykernel)",
   "language": "python",
   "name": "python3"
  },
  "language_info": {
   "codemirror_mode": {
    "name": "ipython",
    "version": 3
   },
   "file_extension": ".py",
   "mimetype": "text/x-python",
   "name": "python",
   "nbconvert_exporter": "python",
   "pygments_lexer": "ipython3",
   "version": "3.9.7"
  }
 },
 "nbformat": 4,
 "nbformat_minor": 5
}
