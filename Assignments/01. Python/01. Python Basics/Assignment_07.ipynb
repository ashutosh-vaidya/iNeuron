{
 "cells": [
  {
   "cell_type": "markdown",
   "id": "e5e6331c",
   "metadata": {},
   "source": [
    "**1.What is the name of the feature responsible for generating Regex objects?**\n",
    "\n",
    "**Ans:** `re.compile()` is the function which can be used to compile a regular expression pattern (string) into a regular expression (Regex) object.\n",
    "\n",
    "**Syntax:** ```\n",
    "            re.compile(pattern, flag=0)\n",
    "            ```\n",
    "            \n",
    "where,\n",
    "1. `pattern` : regex pattern is string format which to be used to match inside target string.\n",
    "2. `flags` : Optional parameter, can be use to modify expression's behavior."
   ]
  },
  {
   "cell_type": "markdown",
   "id": "78e5308f",
   "metadata": {},
   "source": [
    "**2.Why do raw strings often appear in Regex objects?**\n",
    "\n",
    "**Ans:** Regular expressions use the backslash character `\\` to indicate special forms or to allow special characters to be used without invoking their special meaning. This conflictts with Python's usage of the same character for the same purpose in string literals. \n",
    "\n",
    "In short, to match a literal backslash, one has to write `\\\\\\\\` as the regex string, and each backslash must be expressed as `\\\\` inside a regular Python string literal. This leads to lots of repeated backslashes which makes the resulting strings difficult to understand.\n",
    "\n",
    "The solution is to use Python's raw string notation for regular expressions which does not treat `\\` as an escape character or a special character. Hence  regular expressions will be expressed in Python code using this raw string notation."
   ]
  },
  {
   "cell_type": "markdown",
   "id": "b96a4608",
   "metadata": {},
   "source": [
    "**3.What is the return value of the search() method?**\n",
    "\n",
    "**Ans:** `search()` scans through the target string to match the regular expression pattern and returns the match object. It returns `None` if no match is found corresponding to the pattern."
   ]
  },
  {
   "cell_type": "code",
   "execution_count": 5,
   "id": "cd978371",
   "metadata": {},
   "outputs": [
    {
     "name": "stdout",
     "output_type": "stream",
     "text": [
      "<re.Match object; span=(4, 6), match='he'>\n"
     ]
    }
   ],
   "source": [
    "#if found\n",
    "import re\n",
    "match = re.search('he','Hi there, hello! abcd aa he he is target string.', flags=re.IGNORECASE)\n",
    "print(match)"
   ]
  },
  {
   "cell_type": "code",
   "execution_count": 6,
   "id": "708e3438",
   "metadata": {},
   "outputs": [
    {
     "name": "stdout",
     "output_type": "stream",
     "text": [
      "None\n"
     ]
    }
   ],
   "source": [
    "#if not found\n",
    "import re\n",
    "match = re.search('z','Hi there, hello! abcd aa this is target string.', flags=re.IGNORECASE)\n",
    "print(match)"
   ]
  },
  {
   "cell_type": "markdown",
   "id": "b7fcc0c3",
   "metadata": {},
   "source": [
    "**4.From a Match item, how do you get the actual strings that match the pattern?**\n",
    "\n",
    "**Ans:** We can use `match.group` to get actual string that matches the pattern."
   ]
  },
  {
   "cell_type": "code",
   "execution_count": 8,
   "id": "c121e8bf",
   "metadata": {},
   "outputs": [
    {
     "name": "stdout",
     "output_type": "stream",
     "text": [
      "he\n"
     ]
    }
   ],
   "source": [
    "import re\n",
    "match = re.search('he','Hi there, hello! abcd aa this is target string.', flags=re.IGNORECASE)\n",
    "print(match.group())"
   ]
  },
  {
   "cell_type": "markdown",
   "id": "6143ed06",
   "metadata": {},
   "source": [
    "**5.In the regex which created from the r'(\\d\\d\\d)-(\\d\\d\\d-\\d\\d\\d\\d)', what does group zero cover? Group 2? Group 1?**\n",
    "\n",
    "**Ans:** Here group 0 means entire regex pattern, Group 1 covers first set of parentheses of regex and Group 2 covers remaining set of parentheses so,\n",
    "\n",
    "- **Group 0** : `(\\d\\d\\d)-(\\d\\d\\d-\\d\\d\\d\\d)`\n",
    "- **Group 1** : `(\\d\\d\\d)`\n",
    "- **Group 2** : `(\\d\\d\\d-\\d\\d\\d\\d)`\n",
    "\n",
    "Lets verify this with an example"
   ]
  },
  {
   "cell_type": "code",
   "execution_count": 2,
   "id": "cc2125f7",
   "metadata": {},
   "outputs": [
    {
     "name": "stdout",
     "output_type": "stream",
     "text": [
      "012-345-6789\n",
      "012\n",
      "345-6789\n"
     ]
    }
   ],
   "source": [
    "import re\n",
    "regex = re.compile(r'(\\d\\d\\d)-(\\d\\d\\d-\\d\\d\\d\\d)')\n",
    "mo = regex.search('012-345-6789')\n",
    "print(mo.group(0))\n",
    "print(mo.group(1))\n",
    "print(mo.group(2))"
   ]
  },
  {
   "cell_type": "markdown",
   "id": "6a4695dd",
   "metadata": {},
   "source": [
    "**6. In standard expression syntax, parentheses and intervals have distinct meanings. How can you tell a regex that you want it to fit real parentheses and periods?**\n",
    "\n",
    "**Ans:** To consider real parentheses and periods they can be escaped with a backslash such as `\\.`, `\\(`, and `\\)`.\n",
    "\n",
    "Let's see an example"
   ]
  },
  {
   "cell_type": "code",
   "execution_count": 3,
   "id": "90081faa",
   "metadata": {},
   "outputs": [
    {
     "name": "stdout",
     "output_type": "stream",
     "text": [
      "(012)-345-6789.\n",
      "(012)\n",
      "345-6789.\n"
     ]
    }
   ],
   "source": [
    "import re\n",
    "regex = re.compile(r'(\\(\\d\\d\\d\\))-(\\d\\d\\d-\\d\\d\\d\\d\\.)')\n",
    "mo = regex.search('(012)-345-6789.')\n",
    "print(mo.group(0))\n",
    "print(mo.group(1))\n",
    "print(mo.group(2))"
   ]
  },
  {
   "cell_type": "markdown",
   "id": "1ef47ed6",
   "metadata": {},
   "source": [
    "**7. The findall() method returns a string list or a list of string tuples. What causes it to return one of the two options?**\n",
    "\n",
    "**Ans:** The result of the `findall()` function depends on the pattern:\n",
    "\n",
    "- If the pattern has no capturing groups, the `findall()` function returns a list of strings that match the whole pattern.\n",
    "- If the pattern has one capturing group, the `findall()` function returns a list of strings that match the group.\n",
    "- If the pattern has multiple capturing groups, the `findall()` function returns the tuples of strings that match the groups."
   ]
  },
  {
   "cell_type": "markdown",
   "id": "2c42bd28",
   "metadata": {},
   "source": [
    "**8.In standard expressions, what does the | character mean?**\n",
    "\n",
    "**Ans:** In Standard Expressions `|` means `OR` operator."
   ]
  },
  {
   "cell_type": "markdown",
   "id": "0a85e426",
   "metadata": {},
   "source": [
    "**9.In regular expressions, what does the ? character stand for?**\n",
    "\n",
    "**Ans:** `?` can be explained as \"this may or may not be here\". It can be used when the charcter or group may or may not present in string."
   ]
  },
  {
   "cell_type": "markdown",
   "id": "04f408dd",
   "metadata": {},
   "source": [
    "**10.In regular expressions, what is the difference between the + and * characters?**\n",
    "\n",
    "**Ans:** \n",
    "- `+` means \"one or more\"\n",
    "- `*` means \"zero or more\""
   ]
  },
  {
   "cell_type": "markdown",
   "id": "5180c836",
   "metadata": {},
   "source": [
    "**11.What is the difference between {4} and {4,5} in regular expression?**\n",
    "\n",
    "**Ans:** \n",
    "- `{4}` matches exactly three instances of the preceeding group. \n",
    "- `{4,5}` matches between four and five instances of the preceeding group."
   ]
  },
  {
   "cell_type": "markdown",
   "id": "09004e0a",
   "metadata": {},
   "source": [
    "**12.What do you mean by the \\d, \\w, and \\s shorthand character classes signify in regular expressions?**\n",
    "\n",
    "**Ans:**\n",
    "- `\\d`: Matches all digit character. This is equivalent to [0-9]\n",
    "- `\\w`: Matches all word and digit characters. This is equivalent to [a-zA-Z0-9_]\n",
    "- `\\s`: Matches whitespace characters such as space, tab etc."
   ]
  },
  {
   "cell_type": "code",
   "execution_count": null,
   "id": "7dd5738f",
   "metadata": {},
   "outputs": [],
   "source": []
  }
 ],
 "metadata": {
  "kernelspec": {
   "display_name": "Python 3 (ipykernel)",
   "language": "python",
   "name": "python3"
  },
  "language_info": {
   "codemirror_mode": {
    "name": "ipython",
    "version": 3
   },
   "file_extension": ".py",
   "mimetype": "text/x-python",
   "name": "python",
   "nbconvert_exporter": "python",
   "pygments_lexer": "ipython3",
   "version": "3.9.7"
  }
 },
 "nbformat": 4,
 "nbformat_minor": 5
}
