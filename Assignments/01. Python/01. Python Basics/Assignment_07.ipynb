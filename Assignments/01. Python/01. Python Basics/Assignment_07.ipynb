{
 "cells": [
  {
   "cell_type": "markdown",
   "id": "e5e6331c",
   "metadata": {},
   "source": [
    "**1.What is the name of the feature responsible for generating Regex objects?**\n",
    "\n",
    "**Ans:** `re.compile()` is the function which can be used to compile a regular expression pattern (string) into a regular expression (Regex) object.\n",
    "\n",
    "**Syntax:** ```\n",
    "            re.compile(pattern, flag=0)\n",
    "            ```\n",
    "            \n",
    "where,\n",
    "1. `pattern` : regex pattern is string format which to be used to match inside target string.\n",
    "2. `flags` : Optional parameter, can be use to modify expression's behavior."
   ]
  },
  {
   "cell_type": "markdown",
   "id": "78e5308f",
   "metadata": {},
   "source": [
    "**2.Why do raw strings often appear in Regex objects?**\n",
    "\n",
    "**Ans:** Regular expressions use the backslash character `\\` to indicate special forms or to allow special characters to be used without invoking their special meaning. This conflictts with Python's usage of the same character for the same purpose in string literals. \n",
    "\n",
    "In short, to match a literal backslash, one has to write `\\\\\\\\` as the regex string, and each backslash must be expressed as `\\\\` inside a regular Python string literal. This leads to lots of repeated backslashes which makes the resulting strings difficult to understand.\n",
    "\n",
    "The solution is to use Python's raw string notation for regular expressions which does not treat `\\` as an escape character or a special character. Hence  regular expressions will be expressed in Python code using this raw string notation."
   ]
  },
  {
   "cell_type": "markdown",
   "id": "b96a4608",
   "metadata": {},
   "source": [
    "**3.What is the return value of the search() method?**\n",
    "\n",
    "**Ans:** `search()` scans through the target string to match the regular expression pattern and returns the match object. It returns `None` if no match is found corresponding to the pattern."
   ]
  },
  {
   "cell_type": "code",
   "execution_count": 5,
   "id": "cd978371",
   "metadata": {},
   "outputs": [
    {
     "name": "stdout",
     "output_type": "stream",
     "text": [
      "<re.Match object; span=(4, 6), match='he'>\n"
     ]
    }
   ],
   "source": [
    "#if found\n",
    "import re\n",
    "match = re.search('he','Hi there, hello! abcd aa he he is target string.', flags=re.IGNORECASE)\n",
    "print(match)"
   ]
  },
  {
   "cell_type": "code",
   "execution_count": 6,
   "id": "708e3438",
   "metadata": {},
   "outputs": [
    {
     "name": "stdout",
     "output_type": "stream",
     "text": [
      "None\n"
     ]
    }
   ],
   "source": [
    "#if not found\n",
    "import re\n",
    "match = re.search('z','Hi there, hello! abcd aa this is target string.', flags=re.IGNORECASE)\n",
    "print(match)"
   ]
  },
  {
   "cell_type": "markdown",
   "id": "b7fcc0c3",
   "metadata": {},
   "source": [
    "**4.From a Match item, how do you get the actual strings that match the pattern?**\n",
    "\n",
    "**Ans:** We can use `match.group` to get actual string that matches the pattern."
   ]
  },
  {
   "cell_type": "code",
   "execution_count": 8,
   "id": "c121e8bf",
   "metadata": {},
   "outputs": [
    {
     "name": "stdout",
     "output_type": "stream",
     "text": [
      "he\n"
     ]
    }
   ],
   "source": [
    "import re\n",
    "match = re.search('he','Hi there, hello! abcd aa this is target string.', flags=re.IGNORECASE)\n",
    "print(match.group())"
   ]
  },
  {
   "cell_type": "markdown",
   "id": "6143ed06",
   "metadata": {},
   "source": [
    "**5.In the regex which created from the r'(\\d\\d\\d)-(\\d\\d\\d-\\d\\d\\d\\d)', what does group zero cover? Group 2? Group 1?**\n",
    "\n",
    "**Ans:**"
   ]
  }
 ],
 "metadata": {
  "kernelspec": {
   "display_name": "Python 3 (ipykernel)",
   "language": "python",
   "name": "python3"
  },
  "language_info": {
   "codemirror_mode": {
    "name": "ipython",
    "version": 3
   },
   "file_extension": ".py",
   "mimetype": "text/x-python",
   "name": "python",
   "nbconvert_exporter": "python",
   "pygments_lexer": "ipython3",
   "version": "3.9.7"
  }
 },
 "nbformat": 4,
 "nbformat_minor": 5
}
