{
 "cells": [
  {
   "cell_type": "markdown",
   "id": "e5e6331c",
   "metadata": {},
   "source": [
    "**1.What is the name of the feature responsible for generating Regex objects?**\n",
    "\n",
    "**Ans:** `re.compile()` is the function which can be used to compile a regular expression pattern (string) into a regular expression (Regex) object.\n",
    "\n",
    "**Syntax:** ```\n",
    "            re.compile(pattern, flag=0)\n",
    "            ```\n",
    "            \n",
    "where,\n",
    "1. `pattern` : regex pattern is string format which to be used to match inside target string.\n",
    "2. `flags` : Optional parameter, can be use to modify expression's behavior."
   ]
  },
  {
   "cell_type": "markdown",
   "id": "78e5308f",
   "metadata": {},
   "source": [
    "**2.Why do raw strings often appear in Regex objects?**\n",
    "\n",
    "**Ans:** Regular expressions use the backslash character `\\` to indicate special forms or to allow special characters to be used without invoking their special meaning. This conflictts with Python's usage of the same character for the same purpose in string literals. \n",
    "\n",
    "In short, to match a literal backslash, one has to write `\\\\\\\\` as the regex string, and each backslash must be expressed as `\\\\` inside a regular Python string literal. This leads to lots of repeated backslashes which makes the resulting strings difficult to understand.\n",
    "\n",
    "The solution is to use Python's raw string notation for regular expressions which does not treat `\\` as an escape character or a special character. Hence  regular expressions will be expressed in Python code using this raw string notation."
   ]
  },
  {
   "cell_type": "markdown",
   "id": "b96a4608",
   "metadata": {},
   "source": [
    "**3.What is the return value of the search() method?**\n",
    "\n",
    "**Ans:** `search()` scans through the target string to match the regular expression pattern and returns the match object. It returns `None` if no match is found corresponding to the pattern."
   ]
  },
  {
   "cell_type": "code",
   "execution_count": 1,
   "id": "cd978371",
   "metadata": {},
   "outputs": [
    {
     "name": "stdout",
     "output_type": "stream",
     "text": [
      "<re.Match object; span=(4, 6), match='he'>\n"
     ]
    }
   ],
   "source": [
    "#if found\n",
    "import re\n",
    "match = re.search('he','Hi there, hello! abcd aa he he is target string.', flags=re.IGNORECASE)\n",
    "print(match)"
   ]
  },
  {
   "cell_type": "code",
   "execution_count": 2,
   "id": "708e3438",
   "metadata": {},
   "outputs": [
    {
     "name": "stdout",
     "output_type": "stream",
     "text": [
      "None\n"
     ]
    }
   ],
   "source": [
    "#if not found\n",
    "import re\n",
    "match = re.search('z','Hi there, hello! abcd aa this is target string.', flags=re.IGNORECASE)\n",
    "print(match)"
   ]
  },
  {
   "cell_type": "markdown",
   "id": "b7fcc0c3",
   "metadata": {},
   "source": [
    "**4.From a Match item, how do you get the actual strings that match the pattern?**\n",
    "\n",
    "**Ans:** We can use `match.group` to get actual string that matches the pattern."
   ]
  },
  {
   "cell_type": "code",
   "execution_count": 3,
   "id": "c121e8bf",
   "metadata": {},
   "outputs": [
    {
     "name": "stdout",
     "output_type": "stream",
     "text": [
      "he\n"
     ]
    }
   ],
   "source": [
    "import re\n",
    "match = re.search('he','Hi there, hello! abcd aa this is target string.', flags=re.IGNORECASE)\n",
    "print(match.group())"
   ]
  },
  {
   "cell_type": "markdown",
   "id": "6143ed06",
   "metadata": {},
   "source": [
    "**5.In the regex which created from the r'(\\d\\d\\d)-(\\d\\d\\d-\\d\\d\\d\\d)', what does group zero cover? Group 2? Group 1?**\n",
    "\n",
    "**Ans:** Here group 0 means entire regex pattern, Group 1 covers first set of parentheses of regex and Group 2 covers remaining set of parentheses so,\n",
    "\n",
    "- **Group 0** : `(\\d\\d\\d)-(\\d\\d\\d-\\d\\d\\d\\d)`\n",
    "- **Group 1** : `(\\d\\d\\d)`\n",
    "- **Group 2** : `(\\d\\d\\d-\\d\\d\\d\\d)`\n",
    "\n",
    "Lets verify this with an example"
   ]
  },
  {
   "cell_type": "code",
   "execution_count": 4,
   "id": "cc2125f7",
   "metadata": {},
   "outputs": [
    {
     "name": "stdout",
     "output_type": "stream",
     "text": [
      "012-345-6789\n",
      "012\n",
      "345-6789\n"
     ]
    }
   ],
   "source": [
    "import re\n",
    "regex = re.compile(r'(\\d\\d\\d)-(\\d\\d\\d-\\d\\d\\d\\d)')\n",
    "mo = regex.search('012-345-6789')\n",
    "print(mo.group(0))\n",
    "print(mo.group(1))\n",
    "print(mo.group(2))"
   ]
  },
  {
   "cell_type": "markdown",
   "id": "6a4695dd",
   "metadata": {},
   "source": [
    "**6. In standard expression syntax, parentheses and intervals have distinct meanings. How can you tell a regex that you want it to fit real parentheses and periods?**\n",
    "\n",
    "**Ans:** To consider real parentheses and periods they can be escaped with a backslash such as `\\.`, `\\(`, and `\\)`.\n",
    "\n",
    "Let's see an example"
   ]
  },
  {
   "cell_type": "code",
   "execution_count": 5,
   "id": "90081faa",
   "metadata": {},
   "outputs": [
    {
     "name": "stdout",
     "output_type": "stream",
     "text": [
      "(012)-345-6789.\n",
      "(012)\n",
      "345-6789.\n"
     ]
    }
   ],
   "source": [
    "import re\n",
    "regex = re.compile(r'(\\(\\d\\d\\d\\))-(\\d\\d\\d-\\d\\d\\d\\d\\.)')\n",
    "mo = regex.search('(012)-345-6789.')\n",
    "print(mo.group(0))\n",
    "print(mo.group(1))\n",
    "print(mo.group(2))"
   ]
  },
  {
   "cell_type": "markdown",
   "id": "1ef47ed6",
   "metadata": {},
   "source": [
    "**7. The findall() method returns a string list or a list of string tuples. What causes it to return one of the two options?**\n",
    "\n",
    "**Ans:** The result of the `findall()` function depends on the pattern:\n",
    "\n",
    "- If the pattern has no capturing groups, the `findall()` function returns a list of strings that match the whole pattern.\n",
    "- If the pattern has one capturing group, the `findall()` function returns a list of strings that match the group.\n",
    "- If the pattern has multiple capturing groups, the `findall()` function returns the tuples of strings that match the groups."
   ]
  },
  {
   "cell_type": "markdown",
   "id": "2c42bd28",
   "metadata": {},
   "source": [
    "**8.In standard expressions, what does the | character mean?**\n",
    "\n",
    "**Ans:** In Standard Expressions `|` means `OR` operator."
   ]
  },
  {
   "cell_type": "markdown",
   "id": "0a85e426",
   "metadata": {},
   "source": [
    "**9.In regular expressions, what does the ? character stand for?**\n",
    "\n",
    "**Ans:** `?` can be explained as \"this may or may not be here\". It can be used when the charcter or group may or may not present in string."
   ]
  },
  {
   "cell_type": "markdown",
   "id": "04f408dd",
   "metadata": {},
   "source": [
    "**10.In regular expressions, what is the difference between the + and * characters?**\n",
    "\n",
    "**Ans:** \n",
    "- `+` means \"one or more\"\n",
    "- `*` means \"zero or more\""
   ]
  },
  {
   "cell_type": "markdown",
   "id": "5180c836",
   "metadata": {},
   "source": [
    "**11.What is the difference between {4} and {4,5} in regular expression?**\n",
    "\n",
    "**Ans:** \n",
    "- `{4}` matches exactly three instances of the preceeding group. \n",
    "- `{4,5}` matches between four and five instances of the preceeding group."
   ]
  },
  {
   "cell_type": "markdown",
   "id": "09004e0a",
   "metadata": {},
   "source": [
    "**12.What do you mean by the \\d, \\w, and \\s shorthand character classes signify in regular expressions?**\n",
    "\n",
    "**Ans:**\n",
    "- `\\d`: Matches all digit character. This is equivalent to [0-9]\n",
    "- `\\w`: Matches all word characters. This is equivalent to [a-zA-Z0-9_]\n",
    "- `\\s`: matches a whitespace (blank, tab \\t, and newline \\r or \\n)"
   ]
  },
  {
   "cell_type": "markdown",
   "id": "2a1d5922",
   "metadata": {},
   "source": [
    "**13.What do means by \\D, \\W, and \\S shorthand character classes signify in regular expressions?**\n",
    "\n",
    "**Ans:** In regex, the uppercase metacharacter denotes the inverse of the lowercase counterpart.\n",
    "\n",
    "- `\\D`: matches all non digit charcters\n",
    "-`\\W`: matches all non word charcters\n",
    "-`\\S`: matches anything that is NOT matched by \\s, i.e., non-whitespace"
   ]
  },
  {
   "cell_type": "markdown",
   "id": "fe3bcb25",
   "metadata": {},
   "source": [
    "**14.What is the difference between .*? and .* ?**\n",
    "\n",
    "**Ans:** \n",
    "- `.*` : is greedy quantifiers by default grasp as many characters as possible for a match. For example, the regex `xy{2,4}` try to match for **\"xyyyy\"**, then **\"xyyy\"**, and then **\"xyy\"**.\n",
    "- `.*?` : is lazy or non-greedy quantifiers. We can put an extra ? after the repetition operators to curb its greediness (i.e., stop at the shortest match). "
   ]
  },
  {
   "cell_type": "markdown",
   "id": "560384c2",
   "metadata": {},
   "source": [
    "**15.What is the syntax for matching both numbers and lowercase letters with a character class?**\n",
    "\n",
    "**Ans:**  The Synatax for matching both number and lowecase letter is `[a-z0-9]`"
   ]
  },
  {
   "cell_type": "markdown",
   "id": "de45ea28",
   "metadata": {},
   "source": [
    "**16.What is the procedure for making a normal expression in regax case insensitive?**\n",
    "\n",
    "**Ans:** we can pass `IGNORECASE` flag as a parameter to make regex case insensitive. Below is syntax\n",
    "```python\n",
    "import re\n",
    "match = re.search('he','Hi there, hello! abcd aa he he is target string.', flags=re.IGNORECASE)\n",
    "```"
   ]
  },
  {
   "cell_type": "markdown",
   "id": "dd10f0ae",
   "metadata": {},
   "source": [
    "**17.What does the . character normally match? What does it match if re.DOTALL is passed as 2nd argument in re.compile()?**\n",
    "\n",
    "**Ans:** `Dot (.)` will match all characters, excluding newline. If we pass `re.DOTALL` as 2nd argument then it will match all charcters including newline."
   ]
  },
  {
   "cell_type": "markdown",
   "id": "9eb4f12c",
   "metadata": {},
   "source": [
    "**18.If numReg = re.compile(r'\\d+'), what will numRegex.sub('X', '11 drummers, 10 pipers, five rings, 4 hen') return?**\n",
    "\n",
    "**Ans:** As can be seen in below execution output will be `'X drummers, X pipers, five rings, X hen'`"
   ]
  },
  {
   "cell_type": "code",
   "execution_count": 6,
   "id": "c32bbab7",
   "metadata": {},
   "outputs": [
    {
     "data": {
      "text/plain": [
       "'X drummers, X pipers, five rings, X hen'"
      ]
     },
     "execution_count": 6,
     "metadata": {},
     "output_type": "execute_result"
    }
   ],
   "source": [
    "import re\n",
    "numReg = re.compile(r'\\d+')\n",
    "numReg.sub('X', '11 drummers, 10 pipers, five rings, 4 hen')"
   ]
  },
  {
   "cell_type": "markdown",
   "id": "92df0a62",
   "metadata": {},
   "source": [
    "**19.What does passing re.VERBOSE as the 2nd argument to re.compile() allow to do?**\n",
    "\n",
    "**Ans:** `re.VERBOSE` is a flag which allows you to write regular expressions that look nicer and are more readable by allowing you to visually separate logical sections of the pattern and add comments. Whitespace within the pattern is ignored, except when in a character class, or when preceded by an unescaped backslash, or within tokens like *?, (?: or (?P<...>. \n",
    "\n",
    "For example, (? : and * ? are not allowed. When a line contains a # that is not in a character class and is not preceded by an unescaped backslash, all characters from the leftmost such # through the end of the line are ignored."
   ]
  },
  {
   "cell_type": "markdown",
   "id": "c77993f3",
   "metadata": {},
   "source": [
    "**20.How would you write a regex that match a number with comma for every three digits? It must match the given following:**\n",
    "- '42'\n",
    "- '1,234'\n",
    "- '6,368,745'\n",
    "\n",
    "**but not the following:**\n",
    "- '12,34,567' (which has only two digits between the commas)\n",
    "- '1234' (which lacks commas)"
   ]
  },
  {
   "cell_type": "code",
   "execution_count": 7,
   "id": "9bf4bcb3",
   "metadata": {},
   "outputs": [
    {
     "name": "stdout",
     "output_type": "stream",
     "text": [
      "<re.Match object; span=(0, 2), match='42'>\n",
      "<re.Match object; span=(0, 5), match='1,234'>\n",
      "<re.Match object; span=(0, 9), match='6,368,745'>\n",
      "None\n",
      "None\n"
     ]
    }
   ],
   "source": [
    "import re\n",
    "pattern = r'^\\d{1,3}(,\\d{3})*$'\n",
    "reg = re.compile(pattern)\n",
    "\n",
    "print(reg.search('42'))\n",
    "print(reg.search('1,234'))\n",
    "print(reg.search('6,368,745'))\n",
    "print(reg.search('12,34,567'))\n",
    "print(reg.search('1234'))"
   ]
  },
  {
   "cell_type": "markdown",
   "id": "5ef3d0dc",
   "metadata": {},
   "source": [
    "**21. How would you write a regex that matches the full name of someone whose last name is Watanabe? You can assume that the first name that comes before it will always be one word that begins with a capital letter. The regex must match the following:**\n",
    "- 'Haruto Watanabe'\n",
    "- 'Alice Watanabe'\n",
    "- 'RoboCop Watanabe'\n",
    "\n",
    "**but not the following:**\n",
    "- 'haruto Watanabe' (where the first name is not capitalized)\n",
    "- 'Mr. Watanabe' (where the preceding word has a nonletter character)\n",
    "- 'Watanabe' (which has no first name)\n",
    "- 'Haruto watanabe' (where Watanabe is not capitalized)"
   ]
  },
  {
   "cell_type": "code",
   "execution_count": 8,
   "id": "be5af9cb",
   "metadata": {},
   "outputs": [
    {
     "name": "stdout",
     "output_type": "stream",
     "text": [
      "<re.Match object; span=(0, 15), match='Haruto Watanabe'>\n",
      "<re.Match object; span=(0, 14), match='Alice Watanabe'>\n",
      "<re.Match object; span=(4, 16), match='Cop Watanabe'>\n",
      "None\n",
      "None\n",
      "None\n",
      "None\n"
     ]
    }
   ],
   "source": [
    "import re\n",
    "pattern = r'[A-Z]{1}[a-z]*\\WWatanabe'\n",
    "reg = re.compile(pattern)\n",
    "\n",
    "print(reg.search('Haruto Watanabe'))\n",
    "print(reg.search('Alice Watanabe'))\n",
    "print(reg.search('RoboCop Watanabe'))\n",
    "print(reg.search('haruto Watanabe'))\n",
    "print(reg.search('Mr. Watanabe'))\n",
    "print(reg.search('Watanabe'))\n",
    "print(reg.search('Haruto watanabe'))"
   ]
  },
  {
   "cell_type": "markdown",
   "id": "f17795ae",
   "metadata": {},
   "source": [
    "**22. How would you write a regex that matches a sentence where the first word is either Alice, Bob, or Carol; the second word is either eats, pets, or throws; the third word is apples, cats, or baseballs; and the sentence ends with a period? This regex should be case-insensitive. It must match the following:**\n",
    "- 'Alice eats apples.'\n",
    "- 'Bob pets cats.'\n",
    "- 'Carol throws baseballs.'\n",
    "- 'Alice throws Apples.'\n",
    "- 'BOB EATS CATS.'\n",
    "\n",
    "**but not the following:**\n",
    "- 'RoboCop eats apples.'\n",
    "- 'ALICE THROWS FOOTBALLS.'\n",
    "- 'Carol eats 7 cats.'"
   ]
  },
  {
   "cell_type": "code",
   "execution_count": 9,
   "id": "1b65f750",
   "metadata": {},
   "outputs": [
    {
     "name": "stdout",
     "output_type": "stream",
     "text": [
      "<re.Match object; span=(0, 18), match='Alice eats apples.'>\n",
      "<re.Match object; span=(0, 14), match='Bob pets cats.'>\n",
      "<re.Match object; span=(0, 23), match='Carol throws baseballs.'>\n",
      "<re.Match object; span=(0, 20), match='Alice throws Apples.'>\n",
      "<re.Match object; span=(0, 14), match='BOB EATS CATS.'>\n",
      "None\n",
      "None\n",
      "None\n"
     ]
    }
   ],
   "source": [
    "import re\n",
    "pattern = r'(Alice|Bob|Carol)\\s(eats|pets|throws)\\s(apples|cats|baseballs)\\.'\n",
    "reg = re.compile(pattern, flags = re.IGNORECASE)\n",
    "\n",
    "print(reg.search('Alice eats apples.'))\n",
    "print(reg.search('Bob pets cats.'))\n",
    "print(reg.search('Carol throws baseballs.'))\n",
    "print(reg.search('Alice throws Apples.'))\n",
    "print(reg.search('BOB EATS CATS.'))\n",
    "print(reg.search('RoboCop eats apples.'))\n",
    "print(reg.search('ALICE THROWS FOOTBALLS.'))\n",
    "print(reg.search('Carol eats 7 cats.'))"
   ]
  }
 ],
 "metadata": {
  "kernelspec": {
   "display_name": "Python 3 (ipykernel)",
   "language": "python",
   "name": "python3"
  },
  "language_info": {
   "codemirror_mode": {
    "name": "ipython",
    "version": 3
   },
   "file_extension": ".py",
   "mimetype": "text/x-python",
   "name": "python",
   "nbconvert_exporter": "python",
   "pygments_lexer": "ipython3",
   "version": "3.9.7"
  }
 },
 "nbformat": 4,
 "nbformat_minor": 5
}
