{
 "cells": [
  {
   "cell_type": "markdown",
   "id": "444e56bb",
   "metadata": {},
   "source": [
    "**1.Write a Python Program to Find the Factorial of a Number?**"
   ]
  },
  {
   "cell_type": "code",
   "execution_count": 1,
   "id": "25a4a72e",
   "metadata": {},
   "outputs": [
    {
     "name": "stdout",
     "output_type": "stream",
     "text": [
      "Please enter a number: 7\n",
      "Factorial of a 7 is : 5040\n"
     ]
    }
   ],
   "source": [
    "num = int(input(\"Please enter a number: \"))\n",
    "factorial = 1\n",
    "for i in range(1, num+1):\n",
    "    factorial *= i\n",
    "print(f\"Factorial of a {num} is : {factorial}\")"
   ]
  },
  {
   "cell_type": "markdown",
   "id": "5e78630d",
   "metadata": {},
   "source": [
    "**2.Write a Python Program to Display the multiplication Table?**"
   ]
  },
  {
   "cell_type": "code",
   "execution_count": 2,
   "id": "18720af7",
   "metadata": {},
   "outputs": [
    {
     "name": "stdout",
     "output_type": "stream",
     "text": [
      "Please enter a number: 19\n",
      "Multiplication table for 19 is: \n",
      "19 * 1 = 19\n",
      "19 * 2 = 38\n",
      "19 * 3 = 57\n",
      "19 * 4 = 76\n",
      "19 * 5 = 95\n",
      "19 * 6 = 114\n",
      "19 * 7 = 133\n",
      "19 * 8 = 152\n",
      "19 * 9 = 171\n",
      "19 * 10 = 190\n"
     ]
    }
   ],
   "source": [
    "num = int(input(\"Please enter a number: \"))\n",
    "print(f\"Multiplication table for {num} is: \")\n",
    "for i in range(1,11):\n",
    "    print(f\"{num} * {i} = {num * i}\")"
   ]
  },
  {
   "cell_type": "markdown",
   "id": "9d6547cf",
   "metadata": {},
   "source": [
    "**3.Write a Python Program to Print the Fibonacci sequence?**"
   ]
  },
  {
   "cell_type": "code",
   "execution_count": 3,
   "id": "760930df",
   "metadata": {},
   "outputs": [
    {
     "name": "stdout",
     "output_type": "stream",
     "text": [
      "Please enter a number: 10\n",
      "0 , 1 , 1 , 2 , 3 , 5 , 8 , 13 , 21 , 34 , "
     ]
    }
   ],
   "source": [
    "num = int(input(\"Please enter a number: \"))\n",
    "num1,num2 = 0,1\n",
    "\n",
    "if num == 0:\n",
    "    print(num1)\n",
    "elif num == 1:\n",
    "    print(num2)\n",
    "else:\n",
    "    print(num1, \",\" , num2, end =\" , \")\n",
    "    for i in range(2,num):\n",
    "        num3 = num1+num2\n",
    "        num1,num2 = num2,num3\n",
    "        print(num3, end = \" , \")"
   ]
  },
  {
   "cell_type": "markdown",
   "id": "3e26b713",
   "metadata": {},
   "source": [
    "**4.Write a Python Program to Check Armstrong Number?**"
   ]
  },
  {
   "cell_type": "code",
   "execution_count": 4,
   "id": "fec8836c",
   "metadata": {},
   "outputs": [
    {
     "name": "stdout",
     "output_type": "stream",
     "text": [
      "Please enter a number: 371\n",
      "371 is an Armstrong number.\n"
     ]
    }
   ],
   "source": [
    "def isarmstrong(num):\n",
    "    digits = [int(x) for x in str(num)]\n",
    "    cubicsum = 0\n",
    "    for i in digits:\n",
    "        cubicsum += (i**3)\n",
    "    if num == cubicsum:\n",
    "        return True\n",
    "    else:\n",
    "        return False    \n",
    "\n",
    "num = int(input(\"Please enter a number: \"))\n",
    "if isarmstrong(num):\n",
    "    print(f\"{num} is an Armstrong number.\")\n",
    "else:\n",
    "    print(f\"{num} is not an Armstrong number.\")"
   ]
  },
  {
   "cell_type": "markdown",
   "id": "cd8f5718",
   "metadata": {},
   "source": [
    "**5.Write a Python Program to Find Armstrong Number in an Interval?**"
   ]
  },
  {
   "cell_type": "code",
   "execution_count": 5,
   "id": "4641b479",
   "metadata": {},
   "outputs": [
    {
     "name": "stdout",
     "output_type": "stream",
     "text": [
      "Please enter a number: 500\n",
      "Below are armstrong numbers between 1 and 500\n",
      "1\n",
      "153\n",
      "370\n",
      "371\n",
      "407\n"
     ]
    }
   ],
   "source": [
    "num = int(input(\"Please enter a number: \"))\n",
    "print(f\"Below are armstrong numbers between 1 and {num}\")\n",
    "for i in range(1, num+1):\n",
    "    if isarmstrong(i): #using function written in last program\n",
    "        print(i)"
   ]
  },
  {
   "cell_type": "markdown",
   "id": "12ec7f16",
   "metadata": {},
   "source": [
    "**6.Write a Python Program to Find the Sum of Natural Numbers?**"
   ]
  },
  {
   "cell_type": "code",
   "execution_count": 6,
   "id": "53a39363",
   "metadata": {},
   "outputs": [
    {
     "name": "stdout",
     "output_type": "stream",
     "text": [
      "Please enter a number: 5\n",
      "Sum of natural number from 1 to 5 is 15\n"
     ]
    }
   ],
   "source": [
    "num = int(input(\"Please enter a number: \"))\n",
    "sum = 0\n",
    "for i in range(1, num+1):\n",
    "    sum += i\n",
    "print(f\"Sum of natural number from 1 to {num} is {sum}\")"
   ]
  }
 ],
 "metadata": {
  "kernelspec": {
   "display_name": "Python 3 (ipykernel)",
   "language": "python",
   "name": "python3"
  },
  "language_info": {
   "codemirror_mode": {
    "name": "ipython",
    "version": 3
   },
   "file_extension": ".py",
   "mimetype": "text/x-python",
   "name": "python",
   "nbconvert_exporter": "python",
   "pygments_lexer": "ipython3",
   "version": "3.9.7"
  }
 },
 "nbformat": 4,
 "nbformat_minor": 5
}
