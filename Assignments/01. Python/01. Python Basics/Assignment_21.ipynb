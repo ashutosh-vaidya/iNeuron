{
 "cells": [
  {
   "cell_type": "markdown",
   "id": "f071ed02",
   "metadata": {},
   "source": [
    "**1. Add the current date to the text file today.txt as a string.**"
   ]
  },
  {
   "cell_type": "code",
   "execution_count": 3,
   "id": "13efe5ea",
   "metadata": {},
   "outputs": [
    {
     "name": "stdout",
     "output_type": "stream",
     "text": [
      "2022-12-15, <class 'str'>\n"
     ]
    }
   ],
   "source": [
    "from datetime import date\n",
    "current_date = date.today().isoformat()\n",
    "print(f\"{current_date}, {type(current_date)}\")"
   ]
  },
  {
   "cell_type": "code",
   "execution_count": 4,
   "id": "39621dc1",
   "metadata": {},
   "outputs": [],
   "source": [
    "with open(\"today.txt\", \"w\") as file:\n",
    "    file.write(current_date)"
   ]
  },
  {
   "cell_type": "markdown",
   "id": "570fd86a",
   "metadata": {},
   "source": [
    "**2. Read the text file today.txt into the string today_string**"
   ]
  },
  {
   "cell_type": "code",
   "execution_count": 8,
   "id": "36ecabac",
   "metadata": {},
   "outputs": [
    {
     "name": "stdout",
     "output_type": "stream",
     "text": [
      "2022-12-15\n"
     ]
    }
   ],
   "source": [
    "with open(\"today.txt\", \"r\") as file:\n",
    "    today_string = file.read()\n",
    "print(today_string)"
   ]
  },
  {
   "cell_type": "markdown",
   "id": "2869b777",
   "metadata": {},
   "source": [
    "**3. Parse the date from today_string.**"
   ]
  },
  {
   "cell_type": "code",
   "execution_count": 13,
   "id": "2fe0e69a",
   "metadata": {},
   "outputs": [
    {
     "data": {
      "text/plain": [
       "datetime.datetime(2022, 12, 15, 0, 0)"
      ]
     },
     "execution_count": 13,
     "metadata": {},
     "output_type": "execute_result"
    }
   ],
   "source": [
    "from datetime import datetime\n",
    "datetime.strptime(today_string,\"%Y-%m-%d\")"
   ]
  },
  {
   "cell_type": "markdown",
   "id": "6ebd5fa4",
   "metadata": {},
   "source": [
    "**4. List the files in your current directory**"
   ]
  },
  {
   "cell_type": "code",
   "execution_count": 14,
   "id": "91fd268f",
   "metadata": {},
   "outputs": [
    {
     "data": {
      "text/plain": [
       "'C:\\\\Dev\\\\GitHub\\\\iNeuron\\\\Assignments\\\\01. Python\\\\01. Python Basics'"
      ]
     },
     "execution_count": 14,
     "metadata": {},
     "output_type": "execute_result"
    }
   ],
   "source": [
    "pwd()"
   ]
  },
  {
   "cell_type": "code",
   "execution_count": 15,
   "id": "61830be3",
   "metadata": {},
   "outputs": [
    {
     "name": "stdout",
     "output_type": "stream",
     "text": [
      "Assignment_01.ipynb\n",
      "Assignment_02.ipynb\n",
      "Assignment_03.ipynb\n",
      "Assignment_04.ipynb\n",
      "Assignment_05.ipynb\n",
      "Assignment_06.ipynb\n",
      "Assignment_07.ipynb\n",
      "Assignment_08.ipynb\n",
      "Assignment_09.ipynb\n",
      "Assignment_10.ipynb\n",
      "Assignment_11.ipynb\n",
      "Assignment_12.ipynb\n",
      "Assignment_13.ipynb\n",
      "Assignment_14.ipynb\n",
      "Assignment_15.ipynb\n",
      "Assignment_16.ipynb\n",
      "Assignment_17.ipynb\n",
      "Assignment_18.ipynb\n",
      "Assignment_19.ipynb\n",
      "Assignment_20.ipynb\n",
      "Assignment_21.ipynb\n",
      "books.csv\n",
      "books.db\n",
      "golden.jpg\n",
      "Programming_Assignment1.ipynb\n",
      "Programming_Assignment10.ipynb\n",
      "Programming_Assignment11.ipynb\n",
      "Programming_Assignment12.ipynb\n",
      "Programming_Assignment13.ipynb\n",
      "Programming_Assignment14.ipynb\n",
      "Programming_Assignment2.ipynb\n",
      "Programming_Assignment3.ipynb\n",
      "Programming_Assignment4.ipynb\n",
      "Programming_Assignment5.ipynb\n",
      "Programming_Assignment6.ipynb\n",
      "Programming_Assignment7.ipynb\n",
      "Programming_Assignment8.ipynb\n",
      "Programming_Assignment9.ipynb\n",
      "Programming_Assignment_15.ipynb\n",
      "test.txt\n",
      "today.txt\n",
      "zoo.py\n",
      "Assignment_21-checkpoint.ipynb\n"
     ]
    }
   ],
   "source": [
    "import os\n",
    "for folders, subfolders, files in os.walk(os.getcwd()):\n",
    "    for file in files:\n",
    "        print(file)"
   ]
  },
  {
   "cell_type": "markdown",
   "id": "32bdda4f",
   "metadata": {},
   "source": [
    "**5. Create a list of all of the files in your parent directory (minimum five files should be available).**"
   ]
  },
  {
   "cell_type": "code",
   "execution_count": 16,
   "id": "56e4213c",
   "metadata": {},
   "outputs": [
    {
     "data": {
      "text/plain": [
       "['.ipynb_checkpoints',\n",
       " 'Assignment_01.ipynb',\n",
       " 'Assignment_02.ipynb',\n",
       " 'Assignment_03.ipynb',\n",
       " 'Assignment_04.ipynb',\n",
       " 'Assignment_05.ipynb',\n",
       " 'Assignment_06.ipynb',\n",
       " 'Assignment_07.ipynb',\n",
       " 'Assignment_08.ipynb',\n",
       " 'Assignment_09.ipynb',\n",
       " 'Assignment_10.ipynb',\n",
       " 'Assignment_11.ipynb',\n",
       " 'Assignment_12.ipynb',\n",
       " 'Assignment_13.ipynb',\n",
       " 'Assignment_14.ipynb',\n",
       " 'Assignment_15.ipynb',\n",
       " 'Assignment_16.ipynb',\n",
       " 'Assignment_17.ipynb',\n",
       " 'Assignment_18.ipynb',\n",
       " 'Assignment_19.ipynb',\n",
       " 'Assignment_20.ipynb',\n",
       " 'Assignment_21.ipynb',\n",
       " 'books.csv',\n",
       " 'books.db',\n",
       " 'golden.jpg',\n",
       " 'Programming_Assignment1.ipynb',\n",
       " 'Programming_Assignment10.ipynb',\n",
       " 'Programming_Assignment11.ipynb',\n",
       " 'Programming_Assignment12.ipynb',\n",
       " 'Programming_Assignment13.ipynb',\n",
       " 'Programming_Assignment14.ipynb',\n",
       " 'Programming_Assignment2.ipynb',\n",
       " 'Programming_Assignment3.ipynb',\n",
       " 'Programming_Assignment4.ipynb',\n",
       " 'Programming_Assignment5.ipynb',\n",
       " 'Programming_Assignment6.ipynb',\n",
       " 'Programming_Assignment7.ipynb',\n",
       " 'Programming_Assignment8.ipynb',\n",
       " 'Programming_Assignment9.ipynb',\n",
       " 'Programming_Assignment_15.ipynb',\n",
       " 'test.txt',\n",
       " 'today.txt',\n",
       " 'zoo.py']"
      ]
     },
     "execution_count": 16,
     "metadata": {},
     "output_type": "execute_result"
    }
   ],
   "source": [
    "import os \n",
    "os.listdir()"
   ]
  },
  {
   "cell_type": "markdown",
   "id": "cc208213",
   "metadata": {},
   "source": [
    "**6. Use multiprocessing to create three separate processes. Make each one wait a random number of seconds between one and five, print the current time, and then exit.**"
   ]
  },
  {
   "cell_type": "code",
   "execution_count": 1,
   "id": "258263e1",
   "metadata": {},
   "outputs": [],
   "source": [
    "from multiprocessing import Process as pr\n",
    "from datetime import datetime as dt\n",
    "import time\n",
    "import random\n",
    "\n",
    "def process_one():\n",
    "    print(f\"Starting process one... {dt.now()}\")\n",
    "    time.sleep(random.randint(1,5))\n",
    "    print(f\"Stopping process one... {dt.now()}\")\n",
    "    \n",
    "def process_two():\n",
    "    print(f\"Starting process two... {dt.now()}\")\n",
    "    time.sleep(random.randint(1,5))\n",
    "    print(f\"Stopping process two... {dt.now()}\")\n",
    "    \n",
    "def process_three():\n",
    "    print(f\"Starting process three... {dt.now()}\")\n",
    "    time.sleep(random.randint(1,5))\n",
    "    print(f\"Stopping process three... {dt.now()}\")\n",
    "    \n",
    "if __name__ == \"__main__\":\n",
    "    p1 = pr(target = process_one)\n",
    "    p2 = pr(target = process_two)\n",
    "    p3 = pr(target = process_three)\n",
    "    \n",
    "    p1.start()\n",
    "    p2.start()\n",
    "    p3.start()\n",
    "    \n",
    "    p1.join()\n",
    "    p2.join()\n",
    "    p3.join()   "
   ]
  },
  {
   "attachments": {},
   "cell_type": "markdown",
   "id": "232a0591",
   "metadata": {},
   "source": [
    "Multiproceeing does not work with Juypter notebook due to known bug, hence created python file and printing the output.\n",
    "\n",
    "Output: "
   ]
  },
  {
   "cell_type": "raw",
   "id": "00a934b8",
   "metadata": {},
   "source": [
    "PS C:\\Dev\\GitHub> & C:/Users/91895/AppData/Local/Programs/Python/Python310/python.exe \"c:/Dev/GitHub/iNeuron/Assignments/01. Python/multi.py\"\n",
    "Starting process one... 2022-12-15 08:54:19.146170\n",
    "Starting process two... 2022-12-15 08:54:19.150159\n",
    "Starting process three... 2022-12-15 08:54:19.158317\n",
    "Stopping process two... 2022-12-15 08:54:20.159592\n",
    "Stopping process one... 2022-12-15 08:54:22.157930\n",
    "Stopping process three... 2022-12-15 08:54:23.158720\n",
    "PS C:\\Dev\\GitHub>"
   ]
  },
  {
   "attachments": {},
   "cell_type": "markdown",
   "id": "7a8f1cca",
   "metadata": {},
   "source": [
    "**7. Create a date object of your day of birth.**"
   ]
  },
  {
   "cell_type": "code",
   "execution_count": 4,
   "id": "e3ecb6bc",
   "metadata": {},
   "outputs": [
    {
     "name": "stdout",
     "output_type": "stream",
     "text": [
      "1990-03-11 00:00:00\n"
     ]
    }
   ],
   "source": [
    "from datetime import datetime as dt\n",
    "dob = dt.strptime('11/03/1990','%d/%m/%Y')\n",
    "print(dob)"
   ]
  },
  {
   "attachments": {},
   "cell_type": "markdown",
   "id": "747b00b5",
   "metadata": {},
   "source": [
    "**8. What day of the week was your day of birth?**"
   ]
  },
  {
   "cell_type": "code",
   "execution_count": 5,
   "id": "d9aa2ede",
   "metadata": {},
   "outputs": [
    {
     "data": {
      "text/plain": [
       "'Sunday'"
      ]
     },
     "execution_count": 5,
     "metadata": {},
     "output_type": "execute_result"
    }
   ],
   "source": [
    "dob.strftime(\"%A\")"
   ]
  },
  {
   "attachments": {},
   "cell_type": "markdown",
   "id": "d272c91c",
   "metadata": {},
   "source": [
    "**9. When will you be (or when were you) 10,000 days old?**"
   ]
  },
  {
   "cell_type": "code",
   "execution_count": 7,
   "id": "c5bb5c09",
   "metadata": {},
   "outputs": [
    {
     "name": "stdout",
     "output_type": "stream",
     "text": [
      "I was 10000 days old on 2017-07-27 00:00:00\n"
     ]
    }
   ],
   "source": [
    "from datetime import timedelta\n",
    "future_date = dob + timedelta(days=10000)\n",
    "print(f\"I was 10000 days old on {future_date}\")"
   ]
  },
  {
   "cell_type": "code",
   "execution_count": null,
   "id": "a33ab511",
   "metadata": {},
   "outputs": [],
   "source": []
  }
 ],
 "metadata": {
  "kernelspec": {
   "display_name": "Python 3",
   "language": "python",
   "name": "python3"
  },
  "language_info": {
   "codemirror_mode": {
    "name": "ipython",
    "version": 3
   },
   "file_extension": ".py",
   "mimetype": "text/x-python",
   "name": "python",
   "nbconvert_exporter": "python",
   "pygments_lexer": "ipython3",
   "version": "3.10.5"
  },
  "vscode": {
   "interpreter": {
    "hash": "2e9fabe032bffe0cc0c3c64f24b2b2f9772f6d73d888e671931091271cce41de"
   }
  }
 },
 "nbformat": 4,
 "nbformat_minor": 5
}
