{
 "cells": [
  {
   "cell_type": "markdown",
   "id": "e270889e",
   "metadata": {},
   "source": [
    "**1. Assign the value 7 to the variable guess_me. Then, write the conditional tests (if, else, and elif) to print the string 'too low' if guess_me is less than 7, 'too high' if greater than 7, and 'just right' if equal to 7.**"
   ]
  },
  {
   "cell_type": "code",
   "execution_count": 1,
   "id": "d6de797d",
   "metadata": {},
   "outputs": [
    {
     "name": "stdout",
     "output_type": "stream",
     "text": [
      "too low\n",
      "just right\n",
      "too high\n"
     ]
    }
   ],
   "source": [
    "def guess_me(num):\n",
    "    guess_me = 7\n",
    "    if(num < guess_me):\n",
    "        print(\"too low\")\n",
    "    elif(num > guess_me):\n",
    "        print(\"too high\")\n",
    "    else:\n",
    "        print(\"just right\")\n",
    "        \n",
    "guess_me(4)\n",
    "guess_me(7)\n",
    "guess_me(11)"
   ]
  },
  {
   "cell_type": "markdown",
   "id": "948c4b01",
   "metadata": {},
   "source": [
    "**2. Assign the value 7 to the variable guess_me and the value 1 to the variable start. Write a while loop that compares start with guess_me. Print too low if start is less than guess me. If start equals guess_me, print 'found it!' and exit the loop. If start is greater than guess_me, print 'oops' and exit the loop. Increment start at the end of the loop.**"
   ]
  },
  {
   "cell_type": "code",
   "execution_count": 2,
   "id": "51d3263b",
   "metadata": {},
   "outputs": [
    {
     "name": "stdout",
     "output_type": "stream",
     "text": [
      "too low\n",
      "too low\n",
      "too low\n",
      "too low\n",
      "too low\n",
      "too low\n",
      "found it!\n"
     ]
    }
   ],
   "source": [
    "guess_me = 7\n",
    "start = 1\n",
    "while True:\n",
    "    if(start < guess_me):\n",
    "        print(\"too low\")\n",
    "    elif(start > guess_me):\n",
    "        print(\"oops\")\n",
    "        break\n",
    "    else:\n",
    "        print(\"found it!\")\n",
    "        break\n",
    "    start += 1"
   ]
  },
  {
   "cell_type": "markdown",
   "id": "6eb43405",
   "metadata": {},
   "source": [
    "**3. Print the following values of the list [3, 2, 1, 0] using a for loop.**"
   ]
  },
  {
   "cell_type": "code",
   "execution_count": 3,
   "id": "03248f9c",
   "metadata": {},
   "outputs": [
    {
     "name": "stdout",
     "output_type": "stream",
     "text": [
      "3\n",
      "2\n",
      "1\n",
      "0\n"
     ]
    }
   ],
   "source": [
    "lst = [3,2,1,0]\n",
    "for i in lst:\n",
    "    print(i)"
   ]
  },
  {
   "cell_type": "markdown",
   "id": "7f4df3cc",
   "metadata": {},
   "source": [
    "**4. Use a list comprehension to make a list of the even numbers in range(10)**"
   ]
  },
  {
   "cell_type": "code",
   "execution_count": 4,
   "id": "e19414f0",
   "metadata": {},
   "outputs": [
    {
     "name": "stdout",
     "output_type": "stream",
     "text": [
      "[0, 2, 4, 6, 8]\n"
     ]
    }
   ],
   "source": [
    "print([x for x in range(10) if (x % 2 == 0)])"
   ]
  },
  {
   "cell_type": "markdown",
   "id": "840f313b",
   "metadata": {},
   "source": [
    "**5. Use a dictionary comprehension to create the dictionary squares. Use range(10) to return the keys, and use the square of each key as its value.**"
   ]
  },
  {
   "cell_type": "code",
   "execution_count": 5,
   "id": "1a3ddd59",
   "metadata": {},
   "outputs": [
    {
     "name": "stdout",
     "output_type": "stream",
     "text": [
      "{0: 0, 1: 1, 2: 4, 3: 9, 4: 16, 5: 25, 6: 36, 7: 49, 8: 64, 9: 81}\n"
     ]
    }
   ],
   "source": [
    "print({x:x**2 for x in range(10)})"
   ]
  },
  {
   "cell_type": "markdown",
   "id": "6b37f97b",
   "metadata": {},
   "source": [
    "**6. Construct the set odd from the odd numbers in the range using a set comprehension (10).**"
   ]
  },
  {
   "cell_type": "code",
   "execution_count": 6,
   "id": "7455c8be",
   "metadata": {},
   "outputs": [
    {
     "name": "stdout",
     "output_type": "stream",
     "text": [
      "[1, 3, 5, 7, 9]\n"
     ]
    }
   ],
   "source": [
    "print([x for x in range(10) if (x % 2 == 1)])"
   ]
  },
  {
   "cell_type": "markdown",
   "id": "7c9253d6",
   "metadata": {},
   "source": [
    "**7. Use a generator comprehension to return the string 'Got ' and a number for the numbers in range(10). Iterate through this by using a for loop.**"
   ]
  },
  {
   "cell_type": "code",
   "execution_count": 7,
   "id": "a845d362",
   "metadata": {},
   "outputs": [
    {
     "name": "stdout",
     "output_type": "stream",
     "text": [
      "Got 0\n",
      "Got 1\n",
      "Got 2\n",
      "Got 3\n",
      "Got 4\n",
      "Got 5\n",
      "Got 6\n",
      "Got 7\n",
      "Got 8\n",
      "Got 9\n"
     ]
    }
   ],
   "source": [
    "myGen = (\"Got \" + str(x) for x in range(10))\n",
    "for i in myGen:\n",
    "    print(i)"
   ]
  },
  {
   "cell_type": "markdown",
   "id": "d3afbfae",
   "metadata": {},
   "source": [
    "**8. Define a function called good that returns the list ['Harry', 'Ron', 'Hermione'].**"
   ]
  },
  {
   "cell_type": "code",
   "execution_count": 8,
   "id": "cc711ceb",
   "metadata": {},
   "outputs": [
    {
     "name": "stdout",
     "output_type": "stream",
     "text": [
      "['Harry', 'Ron', 'Hermione']\n"
     ]
    }
   ],
   "source": [
    "def good():\n",
    "    return [\"Harry\", \"Ron\", \"Hermione\"]\n",
    "\n",
    "print(good())"
   ]
  },
  {
   "cell_type": "markdown",
   "id": "9adaa3cc",
   "metadata": {},
   "source": [
    "**9. Define a generator function called get_odds that returns the odd numbers from range(10). Use a for loop to find and print the third value returned.**"
   ]
  },
  {
   "cell_type": "code",
   "execution_count": 9,
   "id": "75a421d8",
   "metadata": {},
   "outputs": [
    {
     "name": "stdout",
     "output_type": "stream",
     "text": [
      "The third odd number is 5\n"
     ]
    }
   ],
   "source": [
    "def get_odds():\n",
    "    for num in range(1,10,2):\n",
    "        yield num\n",
    "        \n",
    "counter = 1\n",
    "for num in get_odds():\n",
    "    if(counter == 3):\n",
    "        print(f\"The third odd number is {num}\")\n",
    "        break\n",
    "    counter += 1"
   ]
  },
  {
   "cell_type": "markdown",
   "id": "5c0446c0",
   "metadata": {},
   "source": [
    "**10. Define an exception called OopsException. Raise this exception to see what happens. Then write the code to catch this exception and print 'Caught an oops'.**"
   ]
  },
  {
   "cell_type": "code",
   "execution_count": 10,
   "id": "77b9096c",
   "metadata": {},
   "outputs": [
    {
     "ename": "OopsException",
     "evalue": "5",
     "output_type": "error",
     "traceback": [
      "\u001b[1;31m---------------------------------------------------------------------------\u001b[0m",
      "\u001b[1;31mOopsException\u001b[0m                             Traceback (most recent call last)",
      "\u001b[1;32m~\\AppData\\Local\\Temp/ipykernel_19820/1174385034.py\u001b[0m in \u001b[0;36m<module>\u001b[1;34m\u001b[0m\n\u001b[0;32m      5\u001b[0m     \u001b[1;32mraise\u001b[0m \u001b[0mOopsException\u001b[0m\u001b[1;33m(\u001b[0m\u001b[0mnum\u001b[0m\u001b[1;33m)\u001b[0m\u001b[1;33m\u001b[0m\u001b[1;33m\u001b[0m\u001b[0m\n\u001b[0;32m      6\u001b[0m \u001b[1;33m\u001b[0m\u001b[0m\n\u001b[1;32m----> 7\u001b[1;33m \u001b[0mraiseException\u001b[0m\u001b[1;33m(\u001b[0m\u001b[1;33m)\u001b[0m\u001b[1;33m\u001b[0m\u001b[1;33m\u001b[0m\u001b[0m\n\u001b[0m",
      "\u001b[1;32m~\\AppData\\Local\\Temp/ipykernel_19820/1174385034.py\u001b[0m in \u001b[0;36mraiseException\u001b[1;34m()\u001b[0m\n\u001b[0;32m      3\u001b[0m \u001b[1;33m\u001b[0m\u001b[0m\n\u001b[0;32m      4\u001b[0m \u001b[1;32mdef\u001b[0m \u001b[0mraiseException\u001b[0m\u001b[1;33m(\u001b[0m\u001b[1;33m)\u001b[0m\u001b[1;33m:\u001b[0m\u001b[1;33m\u001b[0m\u001b[1;33m\u001b[0m\u001b[0m\n\u001b[1;32m----> 5\u001b[1;33m     \u001b[1;32mraise\u001b[0m \u001b[0mOopsException\u001b[0m\u001b[1;33m(\u001b[0m\u001b[0mnum\u001b[0m\u001b[1;33m)\u001b[0m\u001b[1;33m\u001b[0m\u001b[1;33m\u001b[0m\u001b[0m\n\u001b[0m\u001b[0;32m      6\u001b[0m \u001b[1;33m\u001b[0m\u001b[0m\n\u001b[0;32m      7\u001b[0m \u001b[0mraiseException\u001b[0m\u001b[1;33m(\u001b[0m\u001b[1;33m)\u001b[0m\u001b[1;33m\u001b[0m\u001b[1;33m\u001b[0m\u001b[0m\n",
      "\u001b[1;31mOopsException\u001b[0m: 5"
     ]
    }
   ],
   "source": [
    "class OopsException(Exception):\n",
    "    pass\n",
    "\n",
    "def raiseException():\n",
    "    raise OopsException(num)\n",
    "    \n",
    "raiseException()"
   ]
  },
  {
   "cell_type": "code",
   "execution_count": 11,
   "id": "4434925b",
   "metadata": {},
   "outputs": [
    {
     "name": "stdout",
     "output_type": "stream",
     "text": [
      "Caught an oops\n"
     ]
    }
   ],
   "source": [
    "class OopsException(Exception):\n",
    "    pass\n",
    "\n",
    "def raiseException():\n",
    "    raise OopsException(num)\n",
    "    \n",
    "try:\n",
    "    raiseException()\n",
    "except OopsException:\n",
    "    print(\"Caught an oops\")"
   ]
  },
  {
   "cell_type": "markdown",
   "id": "26cb4ba6",
   "metadata": {},
   "source": [
    "**11. Use zip() to make a dictionary called movies that pairs these lists: titles = ['Creature of Habit', 'Crewel Fate'] and plots = ['A nun turns into a monster', 'A haunted yarn shop'].**"
   ]
  },
  {
   "cell_type": "code",
   "execution_count": 12,
   "id": "d9159466",
   "metadata": {},
   "outputs": [
    {
     "name": "stdout",
     "output_type": "stream",
     "text": [
      "{'Creature of Habit': 'A nun turns into a monster', 'Crewel Fate': 'A haunted yarn shop'}\n"
     ]
    }
   ],
   "source": [
    "titles = ['Creature of Habit', 'Crewel Fate']\n",
    "plots = ['A nun turns into a monster', 'A haunted yarn shop']\n",
    "print(dict(zip(titles,plots)))"
   ]
  }
 ],
 "metadata": {
  "kernelspec": {
   "display_name": "Python 3 (ipykernel)",
   "language": "python",
   "name": "python3"
  },
  "language_info": {
   "codemirror_mode": {
    "name": "ipython",
    "version": 3
   },
   "file_extension": ".py",
   "mimetype": "text/x-python",
   "name": "python",
   "nbconvert_exporter": "python",
   "pygments_lexer": "ipython3",
   "version": "3.9.7"
  }
 },
 "nbformat": 4,
 "nbformat_minor": 5
}
