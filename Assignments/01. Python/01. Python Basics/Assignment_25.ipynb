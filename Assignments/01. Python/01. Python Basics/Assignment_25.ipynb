{
 "cells": [
  {
   "cell_type": "markdown",
   "id": "7a325df9",
   "metadata": {},
   "source": [
    "**1) What is the difference between enclosing a list comprehension in square brackets and parentheses?**\n",
    "\n",
    "**Ans:** List comprehension in the square brackets returns the `list` based on the condition written in the comprehension where as parenthesis returns a `generator`.\n",
    "\n",
    "The below code illustriate the same"
   ]
  },
  {
   "cell_type": "code",
   "execution_count": 1,
   "id": "538dc74d",
   "metadata": {},
   "outputs": [
    {
     "name": "stdout",
     "output_type": "stream",
     "text": [
      "[True, False, True, False, True, False, True, False, True, False]\n",
      "<generator object <genexpr> at 0x000001BBFCF28740>\n"
     ]
    }
   ],
   "source": [
    "a = [i % 2 == 0 for i in range(10)]\n",
    "print(a)\n",
    "\n",
    "b = (i % 2 == 0 for i in range(10))\n",
    "print(b)"
   ]
  },
  {
   "cell_type": "markdown",
   "id": "f9a79685",
   "metadata": {},
   "source": [
    "**2) What is the relationship between generators and iterators?**\n",
    "\n",
    "**Ans:** An iterator is any python object which can be iterated upon and returns data one at a time. To create an iterator we have to implement an **Iterator Protocol**, a class with `iter()` and `next()` methods. We also need to keep track of the internal states and handle the `StopIteration` exception so that the code is not broken. While this can be done manually there is a much better way to do it. Use a Generator. We did not need to worry about the iterator protocol if we used a generator. So we can safely say that Generator is a function which return an iterator."
   ]
  },
  {
   "cell_type": "markdown",
   "id": "e3d10ee9",
   "metadata": {},
   "source": [
    "**3) What are the signs that a function is a generator function?**\n",
    "\n",
    "**Ans:**  The main sign which tells that a function is a generator function is the use of the keyword `yield` instead of the keyword `return`"
   ]
  },
  {
   "cell_type": "markdown",
   "id": "7cf4d016",
   "metadata": {},
   "source": [
    "**4) What is the purpose of a yield statement?**\n",
    "\n",
    "**Ans:** The yield statement temporarily halts a function while retaining its local values and later continues from there on successive calls. The yield statement is what makes it possible for generator functions to produce a sequence of values over time, rather than producing the entire sequence of values all at once. This can be more efficient, especially when working with large sequences of data."
   ]
  },
  {
   "cell_type": "markdown",
   "id": "cc877b87",
   "metadata": {},
   "source": [
    "**5) What is the relationship between map calls and list comprehensions? Make a comparison and contrast between the two.**\n",
    "\n",
    "**Ans:** Both map calls and list comprehensions are ways to apply a function to a sequence of elements and create a new sequence from the results. They are similar in that both can be used to perform an operation on each element in a sequence and create a new sequence from the results."
   ]
  },
  {
   "cell_type": "code",
   "execution_count": 2,
   "id": "504c887d",
   "metadata": {},
   "outputs": [
    {
     "name": "stdout",
     "output_type": "stream",
     "text": [
      "[3, 6, 12]\n"
     ]
    }
   ],
   "source": [
    "#example of a map:\n",
    "words = ['cat', 'window', 'defenestrate']\n",
    "lengths = map(len, words)\n",
    "print(list(lengths))"
   ]
  },
  {
   "cell_type": "code",
   "execution_count": 3,
   "id": "4f281416",
   "metadata": {},
   "outputs": [
    {
     "name": "stdout",
     "output_type": "stream",
     "text": [
      "[3, 6, 12]\n"
     ]
    }
   ],
   "source": [
    "#equivalent list comprehension:\n",
    "words = ['cat', 'window', 'defenestrate']\n",
    "lengths = [len(word) for word in words]\n",
    "print(lengths)"
   ]
  },
  {
   "cell_type": "markdown",
   "id": "d0e0d9d4",
   "metadata": {},
   "source": [
    "In general, list comprehensions are considered more concise and easier to read than map calls, especially when a condition is needed. However, map calls can be more efficient when working with large sequences, because they do not create the intermediate list that list comprehensions create."
   ]
  }
 ],
 "metadata": {
  "kernelspec": {
   "display_name": "Python 3 (ipykernel)",
   "language": "python",
   "name": "python3"
  },
  "language_info": {
   "codemirror_mode": {
    "name": "ipython",
    "version": 3
   },
   "file_extension": ".py",
   "mimetype": "text/x-python",
   "name": "python",
   "nbconvert_exporter": "python",
   "pygments_lexer": "ipython3",
   "version": "3.9.7"
  }
 },
 "nbformat": 4,
 "nbformat_minor": 5
}
