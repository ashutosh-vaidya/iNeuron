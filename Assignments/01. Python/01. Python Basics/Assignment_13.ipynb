{
 "cells": [
  {
   "cell_type": "markdown",
   "id": "d9542df1",
   "metadata": {},
   "source": [
    "**1.What advantages do Excel spreadsheets have over CSV spreadsheets?**\n",
    "\n",
    "**Ans:** The difference between CSV and Excel spreadsheets is that CSV file format is a plain text format in which values are seperated by commas, while Excel file format is and binary file format which hold complex infromation about all the worksheets in a file, including both content and formatting.\n",
    "\n",
    "Thus, although CSV files are simple they lack many of the features of an excel spreadsheet. For example, CSV files:\n",
    "- Don't have types for their values (everthing in string)\n",
    "- Don't have settings for font size or color\n",
    "- Don't have multiple worksheets\n",
    "- Can't specify cell widths adn heights\n",
    "- Can't have merged cells\n",
    "- Can't have imges or charts embedded in them\n",
    "\n",
    "**2.What do you pass to csv.reader() and csv.writer() to create reader and writer objects?**\n",
    "\n",
    "**Ans:** \n",
    "\n",
    "- To create a reader object, first call `open()` to open the CSV file and the file object that open() returns, pass it to `csv.reader()` function. Below are the line of codes to implement it,\n",
    "\n",
    "```python\n",
    "import csv\n",
    "exampleFile = open('example.csv')\n",
    "exampleReader = csv.reader(exampleFile)\n",
    "```\n",
    "\n",
    "- To create a writer object, first call `open()` and pass it `w` to open a file in write mode. This will create the object which you then pass to `csv.writer()`. Below are the line of codes to implement it,\n",
    "\n",
    "```python\n",
    "import csv\n",
    "outputFile = open('output.csv', 'w', newline='')\n",
    "outputWriter = csv.writer(outputFile)\n",
    "```\n",
    "\n",
    "**3.What modes do File objects for reader and writer objects need to be opened in?**\n",
    "\n",
    "**Ans:** For creating reader object we need to open file object in read `r` mode, whereas for creating a writer object file object should be open in write `w` mode. Function `open()` returns file object in read `r` mode by default.\n",
    "\n",
    "**4.What method takes a list argument and writes it to a CSV file?**\n",
    "\n",
    "**Ans:** The `writerow()` method for writer objects takes a list argument. Each value in the list is placed in its own cell in the output CSV file. The return value of `writerow()` is the number of characters written to the file for that row (including newline characters).\n",
    "\n",
    "**5.What do the keyword arguments delimiter and line terminator do?**\n",
    "\n",
    "**Ans:** \n",
    "- The delimiter is the character that appears between cells on a row. By default, the delimiter for a CSV file is a comma. \n",
    "- The line terminator is the character that comes at the end of a row. By default, the line terminator is a newline.\n",
    "\n",
    "\n",
    "**6.What function takes a string of JSON data and returns a Python data structure?**\n",
    "\n",
    "**Ans** After importing json module, we can call `json.load()` function and pass it a string of JSON data. It will return the data as python dictionary.\n",
    "\n",
    "**7.What function takes a Python data structure and returns a string of JSON data?**\n",
    "\n",
    "**Ans** The `json.dumps()` function will translate a Python value into a string of JSON-formatted data."
   ]
  }
 ],
 "metadata": {
  "kernelspec": {
   "display_name": "Python 3 (ipykernel)",
   "language": "python",
   "name": "python3"
  },
  "language_info": {
   "codemirror_mode": {
    "name": "ipython",
    "version": 3
   },
   "file_extension": ".py",
   "mimetype": "text/x-python",
   "name": "python",
   "nbconvert_exporter": "python",
   "pygments_lexer": "ipython3",
   "version": "3.9.7"
  }
 },
 "nbformat": 4,
 "nbformat_minor": 5
}
