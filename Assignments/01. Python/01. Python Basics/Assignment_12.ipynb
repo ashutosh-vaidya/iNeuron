{
 "cells": [
  {
   "cell_type": "markdown",
   "id": "75899bea",
   "metadata": {},
   "source": [
    "**1.In what modes should the PdfFileReader() and PdfFileWriter() File objects will be opened?**\n",
    "\n",
    "**Ans:** The File object passed to `PyPDF2.PdfFileReader()` needs to be opened in **read-binary** mode by passing `'rb'` as the second argument to open(). Likewise, the File object passed to `PyPDF2.PdfFileWriter()` needs to be opened in **write-binary** mode with `'wb'`."
   ]
  },
  {
   "cell_type": "markdown",
   "id": "13627766",
   "metadata": {},
   "source": [
    "**2. From a PdfFileReader object, how do you get a Page object for page 5?**\n",
    "\n",
    "**Ans:** You can get a Page object by calling the `getPage()` method on a PdfFileReader object and passing it the page number of the page you’re interested in. PyPDF2 uses a zero-based index for getting pages. The first page is page 0, the second is page 1 and so on. Hence in our case to get page object for page 5 we need to call **`getPage(4)`** "
   ]
  },
  {
   "cell_type": "markdown",
   "id": "ee8540ed",
   "metadata": {},
   "source": [
    "**3. What PdfFileReader variable stores the number of pages in the PDF document?**\n",
    "\n",
    "**Ans:** The total number of pages in the document is stored in the **`numPages`** attribute of a PdfFileReader object "
   ]
  },
  {
   "cell_type": "markdown",
   "id": "25d0aeb1",
   "metadata": {},
   "source": [
    "**4. If a PdfFileReader object’s PDF is encrypted with the password swordfish, what must you do before you can obtain Page objects from it?**\n",
    "\n",
    "**Ans:** To view or obtain page objects from the encryptyed PDF we have to enter password `swordfish` We can use following lines of code to achieve it:\n",
    "```python\n",
    "from PyPDF2 import PdfFileReader\n",
    "\n",
    "reader = PdfFileReader(\"encrypted-pdf.pdf\")\n",
    "\n",
    "if reader.is_encrypted:\n",
    "    reader.decrypt(\"swordfish\")\n",
    "\n",
    "#Now we can access pages using reader.pages\n",
    "```"
   ]
  },
  {
   "cell_type": "markdown",
   "id": "cc1adf1e",
   "metadata": {},
   "source": [
    "**5. What methods do you use to rotate a page?**\n",
    "\n",
    "**Ans:** The pages of a PDF can be rotated in 90-degree increments with the **`rotateClockwise()`** and **`rotateCounterClockwise()`** methods. We need to pass one of the integers from 90,180 or 270 to these methods"
   ]
  },
  {
   "cell_type": "markdown",
   "id": "e39cdac2",
   "metadata": {},
   "source": [
    "**6. What is the difference between a Run object and a Paragraph object?**\n",
    "\n",
    "**Ans:** "
   ]
  },
  {
   "cell_type": "code",
   "execution_count": null,
   "id": "c598ad8b",
   "metadata": {},
   "outputs": [],
   "source": []
  }
 ],
 "metadata": {
  "kernelspec": {
   "display_name": "Python 3 (ipykernel)",
   "language": "python",
   "name": "python3"
  },
  "language_info": {
   "codemirror_mode": {
    "name": "ipython",
    "version": 3
   },
   "file_extension": ".py",
   "mimetype": "text/x-python",
   "name": "python",
   "nbconvert_exporter": "python",
   "pygments_lexer": "ipython3",
   "version": "3.9.7"
  }
 },
 "nbformat": 4,
 "nbformat_minor": 5
}
