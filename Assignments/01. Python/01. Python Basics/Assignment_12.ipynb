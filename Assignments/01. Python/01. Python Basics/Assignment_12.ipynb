{
 "cells": [
  {
   "cell_type": "markdown",
   "id": "75899bea",
   "metadata": {},
   "source": [
    "**1.In what modes should the PdfFileReader() and PdfFileWriter() File objects will be opened?**\n",
    "\n",
    "**Ans:** The File object passed to `PyPDF2.PdfFileReader()` needs to be opened in **read-binary** mode by passing `'rb'` as the second argument to open(). Likewise, the File object passed to `PyPDF2.PdfFileWriter()` needs to be opened in **write-binary** mode with `'wb'`."
   ]
  },
  {
   "cell_type": "markdown",
   "id": "13627766",
   "metadata": {},
   "source": [
    "**2. From a PdfFileReader object, how do you get a Page object for page 5?**\n",
    "\n",
    "**Ans:** You can get a Page object by calling the `getPage()` method on a PdfFileReader object and passing it the page number of the page you’re interested in. PyPDF2 uses a zero-based index for getting pages. The first page is page 0, the second is page 1 and so on. Hence in our case to get page object for page 5 we need to call **`getPage(4)`** "
   ]
  },
  {
   "cell_type": "markdown",
   "id": "ee8540ed",
   "metadata": {},
   "source": [
    "**3. What PdfFileReader variable stores the number of pages in the PDF document?**\n",
    "\n",
    "**Ans:** The total number of pages in the document is stored in the **`numPages`** attribute of a PdfFileReader object "
   ]
  },
  {
   "cell_type": "markdown",
   "id": "25d0aeb1",
   "metadata": {},
   "source": [
    "**4. If a PdfFileReader object’s PDF is encrypted with the password swordfish, what must you do before you can obtain Page objects from it?**\n",
    "\n",
    "**Ans:** To view or obtain page objects from the encryptyed PDF we have to enter password `swordfish` We can use following lines of code to achieve it:\n",
    "```python\n",
    "from PyPDF2 import PdfFileReader\n",
    "\n",
    "reader = PdfFileReader(\"encrypted-pdf.pdf\")\n",
    "\n",
    "if reader.is_encrypted:\n",
    "    reader.decrypt(\"swordfish\")\n",
    "\n",
    "#Now we can access pages using reader.pages\n",
    "```"
   ]
  },
  {
   "cell_type": "markdown",
   "id": "cc1adf1e",
   "metadata": {},
   "source": [
    "**5. What methods do you use to rotate a page?**\n",
    "\n",
    "**Ans:** The pages of a PDF can be rotated in 90-degree increments with the **`rotateClockwise()`** and **`rotateCounterClockwise()`** methods. We need to pass one of the integers from 90,180 or 270 to these methods"
   ]
  },
  {
   "cell_type": "markdown",
   "id": "e39cdac2",
   "metadata": {},
   "source": [
    "**6. What is the difference between a Run object and a Paragraph object?**\n",
    "\n",
    "**Ans:** In .docx files at the highest level, a `Document` object represents the entire document. The Document object contains a list of **`Paragraph`** objects for the paragraphs in the document and each of these Paragraph objects contains a list of one or more **`Run`** objects.\n",
    "\n",
    "A new **`Paragraph`** begins whenever the user presses the `ENTER` or `RETURN` while typing in a Word document.\n",
    "\n",
    "A **`Run`** object is a contiguous run of text with the same style. A new Run object is needed whenever the text style changes. A `style` in Word is a collection of attributes such as font, size, colour, and other styling information."
   ]
  },
  {
   "cell_type": "markdown",
   "id": "2bfc3408",
   "metadata": {},
   "source": [
    "**7. How do you obtain a list of Paragraph objects for a Document object that’s stored in a variable named doc?**\n",
    "\n",
    "**Ans:** If you care only about the text, not the styling information, in the Word document, you can use the **`getText()`** function. It accepts a filename of a .docx file and returns a single string value of its text.The function opens the Word document, loops over all the Paragraph objects in the paragraphs list, and then appends their text to the list in fullText. After the loop, the strings in fullText are joined together with newline characters."
   ]
  },
  {
   "cell_type": "markdown",
   "id": "12c2588c",
   "metadata": {},
   "source": [
    "**8. What type of object has bold, underline, italic, strike, and outline variables?**\n",
    "\n",
    "**Ans:** The **`Run`** object has bold, underline, italic strike and outline variables."
   ]
  },
  {
   "cell_type": "markdown",
   "id": "34e7fb6e",
   "metadata": {},
   "source": [
    "**9. What is the difference between False, True, and None for the bold variable?**\n",
    "\n",
    "**Ans:**  \n",
    "- True: The attribute bold is always enabled, no matter what other styles are applied to the run. \n",
    "- False: The attribute bold is always disabled.\n",
    "- None: defaults to whatever the run’s style is set to."
   ]
  },
  {
   "cell_type": "markdown",
   "id": "b3c2b0f7",
   "metadata": {},
   "source": [
    "**10. How do you create a Document object for a new Word document?**\n",
    "\n",
    "**Ans:** To create your own .docx file, call **`docx.Document()`** to return a new, blank Word Document object."
   ]
  },
  {
   "cell_type": "markdown",
   "id": "5da837b4",
   "metadata": {},
   "source": [
    "**11. How do you add a paragraph with the text 'Hello, there!' to a Document object stored in a variable named doc?**\n",
    "\n",
    "**ANS:** To add a paragraph we can use following line of code:\n",
    "```python\n",
    "import docx\n",
    "doc = docx.Document()\n",
    "doc.add_paragraph('Hello, there!')\n",
    "```"
   ]
  },
  {
   "cell_type": "markdown",
   "id": "d2883813",
   "metadata": {},
   "source": [
    "**12. What integers represent the levels of headings available in Word documents?**\n",
    "\n",
    "**Ans:** The arguments to add_heading() are a string of the heading text and an integer from 0 to 4. Below are the heading level each integer represent:\n",
    "- **0**: Heading 0 or Title style \n",
    "- **1**: Heading 1\n",
    "- **2**: Heading 2\n",
    "- **3**: Heading 3\n",
    "- **4**: Heading 4\n"
   ]
  }
 ],
 "metadata": {
  "kernelspec": {
   "display_name": "Python 3 (ipykernel)",
   "language": "python",
   "name": "python3"
  },
  "language_info": {
   "codemirror_mode": {
    "name": "ipython",
    "version": 3
   },
   "file_extension": ".py",
   "mimetype": "text/x-python",
   "name": "python",
   "nbconvert_exporter": "python",
   "pygments_lexer": "ipython3",
   "version": "3.9.7"
  }
 },
 "nbformat": 4,
 "nbformat_minor": 5
}
