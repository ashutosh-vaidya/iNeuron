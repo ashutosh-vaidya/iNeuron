{
 "cells": [
  {
   "cell_type": "markdown",
   "id": "e2dc4dc5",
   "metadata": {},
   "source": [
    "**1.What does RGBA stand for?**\n",
    "\n",
    "**Ans:** An RGBA value is a group of numbers that specify the amount of red, green, blue, and alpha (or transparency) in a color. Each of these component values is an integer from 0 (none at all) to 255 (the maximum)\n",
    "\n",
    "**2.From the Pillow module, how do you get the RGBA value of any images?**\n",
    "\n",
    "**Ans:** Pillow offers the `ImageColor.getcolor()` function so you don’t have to memorize RGBA values for the colors you want to use. This function takes a color name string as its first argument, and the string `'RGBA'` as its second argument, and it returns an RGBA tuple.\n",
    "\n",
    "**3.What is a box tuple, and how does it work?**\n",
    "\n",
    "**Ans:** Box tuple is a collection of four integer coordinates that represent a rectangular region in an image. Below are the four coordinates:\n",
    "- `Left` The x-coordinate of the leftmost edge of the box.\n",
    "- `Top` The y-coordinate of the top edge of the box.\n",
    "- `Right` The x-coordinate of one pixel to the right of the rightmost edge of the box. This integer must be greater than the left integer.\n",
    "- `Bottom` The y-coordinate of one pixel lower than the bottom edge of the box. This integer must be greater than the top integer\n",
    "\n",
    "**4.Use your image and load in notebook then, How can you find out the width and height of an Image object?**\n",
    "\n",
    "**5.What method would you call to get Image object for a 100×100 image, excluding the lower-left quarter of it?**\n",
    "\n",
    "**6.After making changes to an Image object, how could you save it as an image file?**\n",
    "\n",
    "**7.What module contains Pillow’s shape-drawing code?**\n",
    "\n",
    "**8.Image objects do not have drawing methods. What kind of object does? How do you get this kind of object?**\n"
   ]
  },
  {
   "cell_type": "code",
   "execution_count": null,
   "id": "36bace3c",
   "metadata": {},
   "outputs": [],
   "source": []
  }
 ],
 "metadata": {
  "kernelspec": {
   "display_name": "Python 3 (ipykernel)",
   "language": "python",
   "name": "python3"
  },
  "language_info": {
   "codemirror_mode": {
    "name": "ipython",
    "version": 3
   },
   "file_extension": ".py",
   "mimetype": "text/x-python",
   "name": "python",
   "nbconvert_exporter": "python",
   "pygments_lexer": "ipython3",
   "version": "3.9.7"
  }
 },
 "nbformat": 4,
 "nbformat_minor": 5
}
