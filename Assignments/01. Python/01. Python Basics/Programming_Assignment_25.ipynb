{
 "cells": [
  {
   "cell_type": "markdown",
   "id": "56902c9e",
   "metadata": {},
   "source": [
    "**Question1 Create a function that takes three integer arguments (a, b, c) and returns the amount of integers which are of equal value**\n",
    "\n",
    "**Examples**\n",
    "```python\n",
    "equal(3, 4, 3) ➞ 2\n",
    "equal(1, 1, 1) ➞ 3\n",
    "\n",
    "equal(3, 4, 1) ➞ 0 \n",
    "```\n",
    "\n",
    "**Notes**\n",
    "Your function must return 0, 2 or 3."
   ]
  },
  {
   "cell_type": "code",
   "execution_count": 2,
   "id": "3a3c8304",
   "metadata": {},
   "outputs": [
    {
     "name": "stdout",
     "output_type": "stream",
     "text": [
      "2\n",
      "3\n",
      "0\n"
     ]
    }
   ],
   "source": [
    "def equal(a,b,c):\n",
    "    if a == b == c:\n",
    "        print(3)\n",
    "    elif a == b or b == c or a == c:\n",
    "        print(2)\n",
    "    else:\n",
    "        print(0)\n",
    "\n",
    "equal(3, 4, 3)\n",
    "equal(1, 1, 1)\n",
    "equal(3, 4, 1)"
   ]
  },
  {
   "cell_type": "markdown",
   "id": "1cd5dd3f",
   "metadata": {},
   "source": [
    "**Question2 Write a function that converts a dictionary into a list of keys-values tuples.**\n",
    "\n",
    "**Examples**\n",
    "```python\n",
    "dict_to_list({\n",
    "  \"D\": 1,\n",
    "  \"B\": 2,\n",
    "  \"C\": 3\n",
    "}) ➞ [(\"B\", 2), (\"C\", 3), (\"D\", 1)]\n",
    "\n",
    "dict_to_list({\n",
    "  \"likes\": 2,\n",
    "  \"dislikes\": 3,\n",
    "  \"followers\": 10\n",
    "}) ➞ [(\"dislikes\", 3), (\"followers\", 10), (\"likes\", 2)]\n",
    "```\n",
    "**Notes**\n",
    "Return the elements in the list in alphabetical order."
   ]
  },
  {
   "cell_type": "code",
   "execution_count": 3,
   "id": "b637fd50",
   "metadata": {},
   "outputs": [
    {
     "name": "stdout",
     "output_type": "stream",
     "text": [
      "Dictionary {'D': 1, 'B': 2, 'C': 3} to list is => [('D', 1), ('B', 2), ('C', 3)]\n",
      "Dictionary {'likes': 2, 'dislikes': 3, 'followers': 10} to list is => [('likes', 2), ('dislikes', 3), ('followers', 10)]\n"
     ]
    }
   ],
   "source": [
    "def dict_to_list(d):\n",
    "    lst = []\n",
    "    for keys,values in d.items():\n",
    "        lst.append((keys,values))\n",
    "    print(f\"Dictionary {d} to list is => {lst}\")\n",
    "    \n",
    "dict_to_list({\"D\": 1,\"B\": 2,\"C\": 3})\n",
    "dict_to_list({\"likes\": 2,\"dislikes\": 3,\"followers\": 10})"
   ]
  },
  {
   "cell_type": "markdown",
   "id": "7cdcea75",
   "metadata": {},
   "source": [
    "**Question3 Write a function that creates a dictionary with each (key, value) pair being the (lower case, upper case) versions of a letter, respectively.**\n",
    "\n",
    "**Examples**\n",
    "```python\n",
    "mapping([\"p\", \"s\"]) ➞ { \"p\": \"P\", \"s\": \"S\" }\n",
    "\n",
    "mapping([\"a\", \"b\", \"c\"]) ➞ { \"a\": \"A\", \"b\": \"B\", \"c\": \"C\" }\n",
    "\n",
    "mapping([\"a\", \"v\", \"y\", \"z\"]) ➞ { \"a\": \"A\", \"v\": \"V\", \"y\": \"Y\", \"z\": \"Z\" }\n",
    "```\n",
    "**Notes**\n",
    "All of the letters in the input list will always be lowercase."
   ]
  },
  {
   "cell_type": "code",
   "execution_count": 4,
   "id": "4e521cda",
   "metadata": {},
   "outputs": [
    {
     "name": "stdout",
     "output_type": "stream",
     "text": [
      "{'p': 'P', 's': 'S'}\n",
      "{'a': 'A', 'b': 'B', 'c': 'C'}\n",
      "{'a': 'A', 'v': 'V', 'y': 'Y', 'z': 'Z'}\n"
     ]
    }
   ],
   "source": [
    "def mapping(lst):\n",
    "    result = {}\n",
    "    for i in lst:\n",
    "        result[i] = i.upper()\n",
    "    print(result)\n",
    "    \n",
    "mapping([\"p\", \"s\"])\n",
    "mapping([\"a\", \"b\", \"c\"])\n",
    "mapping([\"a\", \"v\", \"y\", \"z\"])"
   ]
  },
  {
   "cell_type": "markdown",
   "id": "06336d86",
   "metadata": {},
   "source": [
    "**Question4 Write a function, that replaces all vowels in a string with a specified vowel.**\n",
    "\n",
    "**Examples**\n",
    "```python\n",
    "vow_replace(\"apples and bananas\", \"u\") ➞ \"upplus und bununus\"\n",
    "\n",
    "vow_replace(\"cheese casserole\", \"o\") ➞ \"chooso cossorolo\"\n",
    "\n",
    "vow_replace(\"stuffed jalapeno poppers\", \"e\") ➞ \"steffed jelepene peppers\"\n",
    "```\n",
    "**Notes**\n",
    "All words will be lowercase. Y is not considered a vowel."
   ]
  },
  {
   "cell_type": "code",
   "execution_count": 5,
   "id": "7a56f9f7",
   "metadata": {},
   "outputs": [
    {
     "name": "stdout",
     "output_type": "stream",
     "text": [
      "upplus und bununus\n",
      "chooso cossorolo\n",
      "steffed jelepene peppers\n"
     ]
    }
   ],
   "source": [
    "def vow_replace(s,char):\n",
    "    vowels = ['a','e','i','o','u']\n",
    "    result = ''\n",
    "    for i in s:\n",
    "        if i in vowels:\n",
    "            result += char\n",
    "        else:\n",
    "            result += i\n",
    "            \n",
    "    print(result)\n",
    "    \n",
    "vow_replace(\"apples and bananas\", \"u\")\n",
    "vow_replace(\"cheese casserole\", \"o\")\n",
    "vow_replace(\"stuffed jalapeno poppers\", \"e\")"
   ]
  },
  {
   "cell_type": "markdown",
   "id": "c2796bab",
   "metadata": {},
   "source": [
    "**Question5 Create a function that takes a string as input and capitalizes a letter if its ASCII code is even and returns its lower case version if its ASCII code is odd.**\n",
    "**Examples**\n",
    "```python\n",
    "ascii_capitalize(\"to be or not to be!\") ➞ \"To Be oR NoT To Be!\"\n",
    "\n",
    "ascii_capitalize(\"THE LITTLE MERMAID\") ➞ \"THe LiTTLe meRmaiD\"\n",
    "\n",
    "ascii_capitalize(\"Oh what a beautiful morning.\") ➞ \"oH wHaT a BeauTiFuL moRNiNg.\"\n",
    "```"
   ]
  },
  {
   "cell_type": "code",
   "execution_count": 6,
   "id": "68dc0897",
   "metadata": {},
   "outputs": [
    {
     "name": "stdout",
     "output_type": "stream",
     "text": [
      "To Be oR NoT To Be!\n",
      "THe LiTTLe meRmaiD\n",
      "oH wHaT a BeauTiFuL moRNiNg.\n"
     ]
    }
   ],
   "source": [
    "def ascii_capitalize(s):\n",
    "    result = ''\n",
    "    for i in s.lower():\n",
    "        if (ord(i) % 2 == 0):\n",
    "            result += i.upper()\n",
    "        else:\n",
    "            result += i\n",
    "    print(result)\n",
    "\n",
    "ascii_capitalize(\"to be or not to be!\")\n",
    "ascii_capitalize(\"THE LITTLE MERMAID\")\n",
    "ascii_capitalize(\"Oh what a beautiful morning.\")"
   ]
  }
 ],
 "metadata": {
  "kernelspec": {
   "display_name": "Python 3 (ipykernel)",
   "language": "python",
   "name": "python3"
  },
  "language_info": {
   "codemirror_mode": {
    "name": "ipython",
    "version": 3
   },
   "file_extension": ".py",
   "mimetype": "text/x-python",
   "name": "python",
   "nbconvert_exporter": "python",
   "pygments_lexer": "ipython3",
   "version": "3.9.7"
  }
 },
 "nbformat": 4,
 "nbformat_minor": 5
}
