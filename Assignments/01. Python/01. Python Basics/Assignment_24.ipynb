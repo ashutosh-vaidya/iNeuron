{
 "cells": [
  {
   "cell_type": "markdown",
   "id": "972590d4",
   "metadata": {},
   "source": [
    "**1. What is the relationship between def statements and lambda expressions ?**\n",
    "\n",
    "**Ans:**\n",
    "In Python, the `def` statement is used to define a function, while the `lambda` expression is used to create a small anonymous function.\n",
    "\n",
    "The main difference between def statements and lambda expressions is that def statements are used to define **named functions** that can be called multiple times, while lambda expressions are used to create **anonymous functions** that are used only once. \n",
    "\n",
    "Here is an example of a function defined using a def statement:\n",
    "\n",
    "```python\n",
    "def getSquare(x):\n",
    "  return x ** 2\n",
    "\n",
    "print(getSquare(2))  # Output: 4\n",
    "```\n",
    "\n",
    "Same function can also be written using lambda functions as below:\n",
    "```python\n",
    "sq = lambda x: x ** 2\n",
    "\n",
    "print(sq(2))  # Output: 4\n",
    "```"
   ]
  },
  {
   "cell_type": "markdown",
   "id": "c5da756e",
   "metadata": {},
   "source": [
    "**2. What is the benefit of lambda?**\n",
    "\n",
    "**Ans:**\n",
    "Lambda functions have the following benefits:\n",
    "\n",
    "1. Conciseness: Because lambda functions have neither a name nor a return statement, they are often shorter than equivalent functions written using the def statement. This can make your code more readable and concise.\n",
    "2. Flexibility: Lambda functions are frequently used in instances when a function must be passed as an argument to another function. They are notably handy for defining simple functions on the fly, eliminating the requirement to declare a distinct function using the def statement.\n",
    "3. Efficiency: Lambda functions are produced and deleted faster than named functions since they are anonymous and lack a name. This can make your code more efficient, especially if you are creating and discarding a large number of functions."
   ]
  },
  {
   "cell_type": "markdown",
   "id": "b34ef3d3",
   "metadata": {},
   "source": [
    "**3. Compare and contrast map, filter, and reduce.** \n",
    "\n",
    "**Ans:**\n",
    "- `map()`:  map applies a function to each element of a sequence and returns a new sequence of the results.\n",
    "- `filter()`: filter applies a function to each element of a sequence and returns a new sequence that contains only the elements for which the function returned `True`.\n",
    "- `reduce()`: reduce applies a function to pairs of elements of a sequence and returns a single value. \n",
    "\n",
    "See below example for more clarification:"
   ]
  },
  {
   "cell_type": "code",
   "execution_count": 1,
   "id": "4bc13d08",
   "metadata": {},
   "outputs": [
    {
     "name": "stdout",
     "output_type": "stream",
     "text": [
      "Using Map() - Cubes of numbers are [1, 8, 27, 64, 125, 216, 343, 512, 729]\n",
      "Using Filter() - Even numbers are [2, 4, 6, 8]\n",
      "Using reduce() - total sub of numbers is 45\n"
     ]
    }
   ],
   "source": [
    "numbers = [1,2,3,4,5,6,7,8,9]\n",
    "\n",
    "def getCubes(num):\n",
    "    return num ** 3\n",
    "\n",
    "##Map\n",
    "cubes = map(getCubes, numbers)\n",
    "print(f\"Using Map() - Cubes of numbers are {list(cubes)}\")\n",
    "\n",
    "\n",
    "def isEven(num):\n",
    "    return num % 2 == 0\n",
    "\n",
    "##filter\n",
    "evenNumbers = filter(isEven, numbers)\n",
    "print(f\"Using Filter() - Even numbers are {list(evenNumbers)}\")\n",
    "\n",
    "from functools import reduce\n",
    "def totalSum(x, y):\n",
    "    return x+y\n",
    "\n",
    "##reduce\n",
    "total = reduce(totalSum, numbers)\n",
    "print(f\"Using reduce() - total sub of numbers is {total}\")"
   ]
  },
  {
   "cell_type": "markdown",
   "id": "018e25e0",
   "metadata": {},
   "source": [
    "**4. What are function annotations, and how are they used?**\n",
    "\n",
    "**Ans:** Function annotation is the standard way to **access the metadata** with the arguments and the return value of the function.\n",
    "\n",
    "Example of a function having annotations\n",
    "```Python\n",
    "def func(a: 'int') -> 'int':\n",
    "    pass\n",
    "```\n",
    "\n",
    "In the above code, we have a function func with a parameter named `a`. The data type of this parameter is marked through **the annotation**, `int`. Similarly, the data type for the return value is also marked as `int`."
   ]
  },
  {
   "cell_type": "markdown",
   "id": "aef8412b",
   "metadata": {},
   "source": [
    "**5. What are recursive functions, and how are they used?**\n",
    "\n",
    "**Ans:** Recursive functions are functions that **call themselves** in order to solve a problem. \n",
    "\n",
    "They can be used to solve problems that can be divided into smaller subproblems, such as calculating the factorial of a number. Here is an example of a recursive function that calculates the factorial of a number:"
   ]
  },
  {
   "cell_type": "code",
   "execution_count": 2,
   "id": "b0638f14",
   "metadata": {},
   "outputs": [
    {
     "name": "stdout",
     "output_type": "stream",
     "text": [
      "Factorial of 5 is 120\n"
     ]
    }
   ],
   "source": [
    "def factorial_recursive(num):\n",
    "    if num == 0:\n",
    "        return 1\n",
    "    else:\n",
    "        return num * factorial_recursive(num - 1)\n",
    "    \n",
    "fact = factorial_recursive(5)\n",
    "print(f\"Factorial of 5 is {fact}\")"
   ]
  },
  {
   "cell_type": "markdown",
   "id": "a719d7fc",
   "metadata": {},
   "source": [
    "**6. What are some general design guidelines for coding functions?**\n",
    "\n",
    "**Ans:** Here are some general design guidelines for coding functions:\n",
    "\n",
    "- Keep functions small and focused: Each function should have a single, clear goal. Avoid cramming too much logic into a single function since this might make it harder to comprehend and maintain.\n",
    "\n",
    "- Use descriptive and meaningful names: Give your functions names that appropriately explain their function. This makes your code easier to read and comprehend.\n",
    "\n",
    "- Use clear and concise function signatures: A function's parameters and return type should be well-specified and easy to understand. Avoid using too many arguments or names that are confusing.\n",
    "\n",
    "- Use default arguments: You can set default values for function arguments using default arguments. This can make your functionalities more adaptable and user-friendly.\n",
    "\n",
    "- Use docstrings: Docstrings are brief explanations of functions that appear as comments at the start of the function. They should describe the function's purpose, the parameters it accepts, and the output it produces.\n",
    "\n",
    "- Test your functions: It is critical to test your functionalities to ensure that they are functioning properly. This will help you detect any problems or difficulties early on and assure the dependability of your code."
   ]
  },
  {
   "cell_type": "markdown",
   "id": "13618abc",
   "metadata": {},
   "source": [
    "**7. Name three or more ways that functions can communicate results to a caller.**\n",
    "\n",
    "**Ans:**\n",
    "1. Using the return statement, functions can return a value to the caller. This value can be of any data type, including integers, strings, and lists.\n",
    "\n",
    "2. Functions can convey results to a caller by changing the state of the programme or the environment. A function could, for example, change a global variable or write to a file.\n",
    "\n",
    "3. Functions can throw exceptions to notify the caller that something has gone wrong. The exception can then be caught and handled correctly by the caller.\n",
    "\n",
    "4. As a Output parameters, functions can take arguments supplied by reference, allowing the function to alter the argument's original value. This can be used to inform the caller of the results.\n",
    "\n",
    "5. Functions can return multiple values by packing them into a tuple or other data structure. This allows the function to return multiple pieces of information to the caller.\n"
   ]
  },
  {
   "cell_type": "code",
   "execution_count": null,
   "id": "6b42a0f7",
   "metadata": {},
   "outputs": [],
   "source": []
  }
 ],
 "metadata": {
  "kernelspec": {
   "display_name": "Python 3 (ipykernel)",
   "language": "python",
   "name": "python3"
  },
  "language_info": {
   "codemirror_mode": {
    "name": "ipython",
    "version": 3
   },
   "file_extension": ".py",
   "mimetype": "text/x-python",
   "name": "python",
   "nbconvert_exporter": "python",
   "pygments_lexer": "ipython3",
   "version": "3.9.7"
  }
 },
 "nbformat": 4,
 "nbformat_minor": 5
}
