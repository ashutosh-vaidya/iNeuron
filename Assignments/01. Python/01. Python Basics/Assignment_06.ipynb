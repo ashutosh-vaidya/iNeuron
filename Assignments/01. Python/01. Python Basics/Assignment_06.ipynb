{
 "cells": [
  {
   "cell_type": "markdown",
   "id": "d86aa6fd",
   "metadata": {},
   "source": [
    "**1.What are escape characters, and how do you use them?**\n",
    "\n",
    "**Ans:** Escape characters are used to insert the charcters that are illegal in a string. An example of an illegal character is a double quote inside a string that is surrounded bu double quotes."
   ]
  },
  {
   "cell_type": "code",
   "execution_count": 1,
   "id": "78145e27",
   "metadata": {},
   "outputs": [
    {
     "ename": "SyntaxError",
     "evalue": "invalid syntax (Temp/ipykernel_32052/1279670251.py, line 2)",
     "output_type": "error",
     "traceback": [
      "\u001b[1;36m  File \u001b[1;32m\"C:\\Users\\91895\\AppData\\Local\\Temp/ipykernel_32052/1279670251.py\"\u001b[1;36m, line \u001b[1;32m2\u001b[0m\n\u001b[1;33m    s = \"Hello \"World\"\"\u001b[0m\n\u001b[1;37m                ^\u001b[0m\n\u001b[1;31mSyntaxError\u001b[0m\u001b[1;31m:\u001b[0m invalid syntax\n"
     ]
    }
   ],
   "source": [
    "# following will throw an error, invalid syntax \n",
    "s = \"Hello \"World\"\" "
   ]
  },
  {
   "cell_type": "code",
   "execution_count": 2,
   "id": "6109dc0d",
   "metadata": {},
   "outputs": [
    {
     "data": {
      "text/plain": [
       "'Hello \"World\"'"
      ]
     },
     "execution_count": 2,
     "metadata": {},
     "output_type": "execute_result"
    }
   ],
   "source": [
    "# to fix it we can use backslash '\\' followed by double quote\n",
    "s = \"Hello \\\"World\\\"\"\n",
    "s"
   ]
  },
  {
   "cell_type": "markdown",
   "id": "d0120b17",
   "metadata": {},
   "source": [
    "**2.What do the escape characters n and t stand for?**\n",
    "\n",
    "**Ans:**\n",
    "- `\\n` - stands for new line\n",
    "- `\\t` - stands for tab"
   ]
  },
  {
   "cell_type": "code",
   "execution_count": 3,
   "id": "8cad9536",
   "metadata": {},
   "outputs": [
    {
     "name": "stdout",
     "output_type": "stream",
     "text": [
      "Hello\n",
      "World\n",
      "Hello\tWorld\n"
     ]
    }
   ],
   "source": [
    "s = \"Hello\\nWorld\"\n",
    "print(s)\n",
    "s1 = \"Hello\\tWorld\"\n",
    "print(s1)"
   ]
  },
  {
   "cell_type": "markdown",
   "id": "8dce730b",
   "metadata": {},
   "source": [
    "**3.What is the way to include backslash characters in a string?**\n",
    "\n",
    "**Ans:** We can use `\\\\` for including backslash in a string."
   ]
  },
  {
   "cell_type": "code",
   "execution_count": 4,
   "id": "b0c73429",
   "metadata": {},
   "outputs": [
    {
     "name": "stdout",
     "output_type": "stream",
     "text": [
      "Hello \\ world\n"
     ]
    }
   ],
   "source": [
    "s = \"Hello \\\\ world\"\n",
    "print(s)"
   ]
  },
  {
   "cell_type": "markdown",
   "id": "3225acec",
   "metadata": {},
   "source": [
    "**4.The string \"Howl's Moving Castle\" is a correct value. Why isn't the single quote character in the word Howl's not escaped a problem?**\n",
    "\n",
    "**Ans:** The string `\"Howl's Moving Castle\"` is a valid string because here single quote is a legal character since it is enclosed in double quotes."
   ]
  },
  {
   "cell_type": "markdown",
   "id": "64f3ab2f",
   "metadata": {},
   "source": [
    "**5.How do you write a string of newlines if you don't want to use the n character?**\n",
    "\n",
    "**Ans:** We can use multiline string using three double quotes to have new line without using \\n character."
   ]
  },
  {
   "cell_type": "code",
   "execution_count": 5,
   "id": "8f90a26a",
   "metadata": {},
   "outputs": [
    {
     "name": "stdout",
     "output_type": "stream",
     "text": [
      "This is multi line string.\n",
      "This is second line.\n",
      "This is third\n"
     ]
    }
   ],
   "source": [
    "s = \"\"\"This is multi line string.\n",
    "This is second line.\n",
    "This is third\"\"\"\n",
    "print(s)"
   ]
  },
  {
   "cell_type": "markdown",
   "id": "710bebcd",
   "metadata": {},
   "source": [
    "**6. What are the values of the given expressions?**\n",
    "\n",
    "- `'Hello, world!'[1]` : will return value at 1st index in the string, which is `'e'` \n",
    "- `'Hello, world!'[0:5]` : will return value from the 0th index till 4th index, which is `'Hello'`\n",
    "- `'Hello, world!'[:5]` : will return value from the 0th index till 4th index, which is `'Hello'` \n",
    "- `'Hello, world!'[3:]` : will return value from the 3rd index till end index, which is `'lo, world!'`"
   ]
  },
  {
   "cell_type": "code",
   "execution_count": 6,
   "id": "cde438cb",
   "metadata": {},
   "outputs": [
    {
     "data": {
      "text/plain": [
       "'e'"
      ]
     },
     "execution_count": 6,
     "metadata": {},
     "output_type": "execute_result"
    }
   ],
   "source": [
    "'Hello, world!'[1]"
   ]
  },
  {
   "cell_type": "code",
   "execution_count": 8,
   "id": "6cb47d4b",
   "metadata": {},
   "outputs": [
    {
     "data": {
      "text/plain": [
       "'Hello'"
      ]
     },
     "execution_count": 8,
     "metadata": {},
     "output_type": "execute_result"
    }
   ],
   "source": [
    "'Hello, world!'[0:5]"
   ]
  },
  {
   "cell_type": "code",
   "execution_count": 7,
   "id": "516578d8",
   "metadata": {},
   "outputs": [
    {
     "data": {
      "text/plain": [
       "'Hello'"
      ]
     },
     "execution_count": 7,
     "metadata": {},
     "output_type": "execute_result"
    }
   ],
   "source": [
    "'Hello, world!'[:5]"
   ]
  },
  {
   "cell_type": "code",
   "execution_count": 9,
   "id": "863865e3",
   "metadata": {},
   "outputs": [
    {
     "data": {
      "text/plain": [
       "'lo, world!'"
      ]
     },
     "execution_count": 9,
     "metadata": {},
     "output_type": "execute_result"
    }
   ],
   "source": [
    "'Hello, world!'[3:]"
   ]
  },
  {
   "cell_type": "markdown",
   "id": "3ec11d13",
   "metadata": {},
   "source": [
    "**7.What are the values of the following expressions?**\n",
    "\n",
    "- `'Hello'.upper()` : will convert whole string in upper case and returns `HELLO`\n",
    "- `'Hello'.upper().isupper()` : will convert whole string in upper case and checks if whole string is in upper case. It will return `True`\n",
    "- `'Hello'.upper().lower()` : will convert whole string in upper case then will convert whole string in lower case and returns `hello`"
   ]
  },
  {
   "cell_type": "code",
   "execution_count": 10,
   "id": "0e26359f",
   "metadata": {},
   "outputs": [
    {
     "data": {
      "text/plain": [
       "'HELLO'"
      ]
     },
     "execution_count": 10,
     "metadata": {},
     "output_type": "execute_result"
    }
   ],
   "source": [
    "'Hello'.upper()"
   ]
  },
  {
   "cell_type": "code",
   "execution_count": 11,
   "id": "7504707d",
   "metadata": {},
   "outputs": [
    {
     "data": {
      "text/plain": [
       "True"
      ]
     },
     "execution_count": 11,
     "metadata": {},
     "output_type": "execute_result"
    }
   ],
   "source": [
    "'Hello'.upper().isupper()"
   ]
  },
  {
   "cell_type": "code",
   "execution_count": 12,
   "id": "14464be7",
   "metadata": {},
   "outputs": [
    {
     "data": {
      "text/plain": [
       "'hello'"
      ]
     },
     "execution_count": 12,
     "metadata": {},
     "output_type": "execute_result"
    }
   ],
   "source": [
    "'Hello'.upper().lower()"
   ]
  },
  {
   "cell_type": "markdown",
   "id": "11a8641e",
   "metadata": {},
   "source": [
    "**8.What are the values of the following expressions?**\n",
    "\n",
    "- `'Remember, remember, the fifth of July.'.split()` : This will split the string using whitespace as a delimeter and returns a list of seperated values\n",
    "- `'-'.join('There can only one.'.split())` : This will first split the string using whitespace as a delimeter creates a list of seperated values and then joins them in a single list adding `-` after every list item"
   ]
  },
  {
   "cell_type": "code",
   "execution_count": 13,
   "id": "509c3cef",
   "metadata": {},
   "outputs": [
    {
     "data": {
      "text/plain": [
       "['Remember,', 'remember,', 'the', 'fifth', 'of', 'July.']"
      ]
     },
     "execution_count": 13,
     "metadata": {},
     "output_type": "execute_result"
    }
   ],
   "source": [
    "'Remember, remember, the fifth of July.'.split()"
   ]
  },
  {
   "cell_type": "code",
   "execution_count": 14,
   "id": "c3123fae",
   "metadata": {},
   "outputs": [
    {
     "data": {
      "text/plain": [
       "'There-can-only-one.'"
      ]
     },
     "execution_count": 14,
     "metadata": {},
     "output_type": "execute_result"
    }
   ],
   "source": [
    "'-'.join('There can only one.'.split())"
   ]
  },
  {
   "cell_type": "markdown",
   "id": "99e0bdab",
   "metadata": {},
   "source": [
    "**9.What are the methods for right-justifying, left-justifying, and centering a string?**|\n",
    "\n",
    "**Ans:**  \n",
    "- `rjust()`: this method is used to right-justifying the string\n",
    "- `ljust()`: this method is used to lef-justifying the string\n",
    "- `center()`: this method is used to centering the string"
   ]
  },
  {
   "cell_type": "markdown",
   "id": "e39eea9b",
   "metadata": {},
   "source": [
    "**10.What is the best way to remove whitespace characters from the start or end?**\n",
    "\n",
    "**Ans:** We can use `lstrip` to remove whitespace only from the beginning of the string, and `rstrip` to remove whitespace from the end of the string."
   ]
  }
 ],
 "metadata": {
  "kernelspec": {
   "display_name": "Python 3 (ipykernel)",
   "language": "python",
   "name": "python3"
  },
  "language_info": {
   "codemirror_mode": {
    "name": "ipython",
    "version": 3
   },
   "file_extension": ".py",
   "mimetype": "text/x-python",
   "name": "python",
   "nbconvert_exporter": "python",
   "pygments_lexer": "ipython3",
   "version": "3.9.7"
  }
 },
 "nbformat": 4,
 "nbformat_minor": 5
}
