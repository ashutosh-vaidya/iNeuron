{
 "cells": [
  {
   "cell_type": "markdown",
   "id": "cf3c7471",
   "metadata": {},
   "source": [
    "**1.Write a Python program to find words which are greater than given length k?**"
   ]
  },
  {
   "cell_type": "code",
   "execution_count": 1,
   "id": "1dc7c56b",
   "metadata": {},
   "outputs": [
    {
     "name": "stdout",
     "output_type": "stream",
     "text": [
      "The words which are greater than length 4 in string 'This is a Python program for finding all the words which are greater than given length k' are: \n",
      "['Python', 'program', 'finding', 'words', 'which', 'greater', 'given', 'length']\n"
     ]
    }
   ],
   "source": [
    "def findWordGreaterThan(s, k):\n",
    "    result = []\n",
    "    words = s.split(\" \")\n",
    "    for w in words:\n",
    "        if len(w) > k:\n",
    "            result.append(w)\n",
    "    return result\n",
    "\n",
    "s = \"This is a Python program for finding all the words which are greater than given length k\"\n",
    "k = 4\n",
    "print(f\"The words which are greater than length {k} in string '{s}' are: \")\n",
    "print(findWordGreaterThan(s,k))"
   ]
  },
  {
   "cell_type": "markdown",
   "id": "a11754e4",
   "metadata": {},
   "source": [
    "**2.Write a Python program for removing i-th character from a string?**"
   ]
  },
  {
   "cell_type": "code",
   "execution_count": 2,
   "id": "6e90d2a2",
   "metadata": {},
   "outputs": [
    {
     "name": "stdout",
     "output_type": "stream",
     "text": [
      "Removing charcter at the index 4 from string HelloWorld results in : \n",
      "HellWorld\n"
     ]
    }
   ],
   "source": [
    "def removeithChar(s,i):\n",
    "    if len(s) > i:\n",
    "        return s[:i] + s[i+1:]\n",
    "    else:\n",
    "        return s\n",
    "\n",
    "s = \"HelloWorld\"\n",
    "i = 4\n",
    "print(f\"Removing charcter at the index {i} from string {s} results in : \")\n",
    "print(removeithChar(s,i))"
   ]
  },
  {
   "cell_type": "markdown",
   "id": "a1a6c7ba",
   "metadata": {},
   "source": [
    "**3.Write a Python program to split and join a string?**"
   ]
  },
  {
   "cell_type": "code",
   "execution_count": 3,
   "id": "202620bd",
   "metadata": {},
   "outputs": [
    {
     "name": "stdout",
     "output_type": "stream",
     "text": [
      "Original string is : This is the string which we are going to seperate and then join again\n",
      "After splitting string : ['This', 'is', 'the', 'string', 'which', 'we', 'are', 'going', 'to', 'seperate', 'and', 'then', 'join', 'again']\n",
      "After joining the split string with '-' : This-is-the-string-which-we-are-going-to-seperate-and-then-join-again\n"
     ]
    }
   ],
   "source": [
    "def splitString(s,sep = \" \"):\n",
    "    return s.split(sep)\n",
    "\n",
    "def joinString(i, sep = \" \"):\n",
    "    return sep.join(i)\n",
    "\n",
    "s = \"This is the string which we are going to seperate and then join again\"\n",
    "\n",
    "print(f\"Original string is : {s}\")\n",
    "l = splitString(s)\n",
    "print(f\"After splitting string : {l}\")\n",
    "sep = \"-\"\n",
    "print(f\"After joining the split string with '{sep}' : {joinString(l,sep)}\")"
   ]
  },
  {
   "cell_type": "markdown",
   "id": "0596b916",
   "metadata": {},
   "source": [
    "**4.Write a Python to check if a given string is binary string or not?**"
   ]
  },
  {
   "cell_type": "code",
   "execution_count": 4,
   "id": "af8cffe5",
   "metadata": {},
   "outputs": [
    {
     "name": "stdout",
     "output_type": "stream",
     "text": [
      "String 00112200 is a Non Binary String\n",
      "String 01011100 is a Binary String\n"
     ]
    }
   ],
   "source": [
    "def checkBinary(s):\n",
    "    isBinary = False\n",
    "    #binary strings will only contain 0 and 1\n",
    "    s1 = set(s)\n",
    "    if len(s1) == 2 and s1 == {'0', '1'}:\n",
    "        isBinary = True\n",
    "    elif len(s1) == 1:\n",
    "        if (s1 == {'0'} or s1 == {'1'}):\n",
    "            isBinary = True\n",
    "    \n",
    "    return isBinary\n",
    "\n",
    "s1 = \"00112200\"\n",
    "s2 = \"01011100\"\n",
    "\n",
    "print(f\"String {s1} is a {'Binary String' if checkBinary(s1) else 'Non Binary String'}\")\n",
    "print(f\"String {s2} is a {'Binary String' if checkBinary(s2) else 'Non Binary String'}\")            "
   ]
  },
  {
   "cell_type": "markdown",
   "id": "e742a7ab",
   "metadata": {},
   "source": [
    "**5.Write a Python program to find uncommon words from two Strings?**"
   ]
  },
  {
   "cell_type": "code",
   "execution_count": 5,
   "id": "2e24da4e",
   "metadata": {},
   "outputs": [
    {
     "name": "stdout",
     "output_type": "stream",
     "text": [
      "{'second', 'first'}\n"
     ]
    }
   ],
   "source": [
    "def uncommonWord(s1,s2):\n",
    "    return set(s1.split()).symmetric_difference(set(s2.split()))\n",
    "\n",
    "str1 = \"This is the first string\"\n",
    "str2 = \"This is the second string\"\n",
    "print(uncommonWord(str1,str2))"
   ]
  },
  {
   "cell_type": "markdown",
   "id": "5d75e348",
   "metadata": {},
   "source": [
    "**6.Write a Python to find all duplicate characters in string?**"
   ]
  },
  {
   "cell_type": "code",
   "execution_count": 6,
   "id": "1616f9ef",
   "metadata": {},
   "outputs": [
    {
     "name": "stdout",
     "output_type": "stream",
     "text": [
      "{'l', 'o'}\n"
     ]
    }
   ],
   "source": [
    "def getAllDuplicateChars(s):\n",
    "    duplicates = set()\n",
    "    for char in s:\n",
    "        if s.count(char) > 1 and char not in duplicates:\n",
    "            duplicates.add(char)\n",
    "            \n",
    "    return duplicates\n",
    "    \n",
    "print(getAllDuplicateChars(\"HelloWorld\"))"
   ]
  },
  {
   "cell_type": "markdown",
   "id": "6ad782b4",
   "metadata": {},
   "source": [
    "**7.Write a Python Program to check if a string contains any special character?**"
   ]
  },
  {
   "cell_type": "code",
   "execution_count": 7,
   "id": "a1dda4c4",
   "metadata": {},
   "outputs": [
    {
     "name": "stdout",
     "output_type": "stream",
     "text": [
      "H@llo Wo$ld!!! contains one or more special charcter(s)\n",
      "Hello World does not contain any special charcter\n"
     ]
    }
   ],
   "source": [
    "import re\n",
    "def checkSpecialChar(s):\n",
    "    regex = re.compile('[@_!#$%^&*()<>?/\\|}{~:]')\n",
    "    if (regex.search(s) == None):\n",
    "        print(f\"{s} does not contain any special charcter\")\n",
    "    else:\n",
    "        print(f\"{s} contains one or more special charcter(s)\")\n",
    "\n",
    "s1 = \"H@llo Wo$ld!!!\"\n",
    "s2 = \"Hello World\"\n",
    "\n",
    "checkSpecialChar(s1)\n",
    "checkSpecialChar(s2)"
   ]
  }
 ],
 "metadata": {
  "kernelspec": {
   "display_name": "Python 3 (ipykernel)",
   "language": "python",
   "name": "python3"
  },
  "language_info": {
   "codemirror_mode": {
    "name": "ipython",
    "version": 3
   },
   "file_extension": ".py",
   "mimetype": "text/x-python",
   "name": "python",
   "nbconvert_exporter": "python",
   "pygments_lexer": "ipython3",
   "version": "3.9.7"
  }
 },
 "nbformat": 4,
 "nbformat_minor": 5
}
