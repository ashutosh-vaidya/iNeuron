{
 "cells": [
  {
   "cell_type": "markdown",
   "id": "86fea30a",
   "metadata": {},
   "source": [
    "**1.Write a Python Program to Find LCM?**"
   ]
  },
  {
   "cell_type": "code",
   "execution_count": 1,
   "id": "b63ece89",
   "metadata": {},
   "outputs": [
    {
     "name": "stdout",
     "output_type": "stream",
     "text": [
      "LCM of 12 and 18 is: 36\n",
      "LCM of 5 and 13 is: 65\n"
     ]
    }
   ],
   "source": [
    "def findLCM(num1, num2):\n",
    "    lcm = 0\n",
    "    maxnum = num1 if num1 > num2 else num2\n",
    "    while True:\n",
    "        if maxnum % num1 == 0 and maxnum % num2 == 0:\n",
    "            lcm = maxnum\n",
    "            break\n",
    "        else:\n",
    "            maxnum += 1\n",
    "    return lcm\n",
    "\n",
    "print(f\"LCM of 12 and 18 is: {findLCM(12,18)}\")\n",
    "print(f\"LCM of 5 and 13 is: {findLCM(5,13)}\")"
   ]
  },
  {
   "cell_type": "markdown",
   "id": "f090fdb5",
   "metadata": {},
   "source": [
    "**2.Write a Python Program to Find HCF?**"
   ]
  },
  {
   "cell_type": "code",
   "execution_count": 2,
   "id": "3bc79556",
   "metadata": {},
   "outputs": [
    {
     "name": "stdout",
     "output_type": "stream",
     "text": [
      "HCF of 12 and 18 is: 6\n",
      "HCF of 5 and 13 is: 1\n"
     ]
    }
   ],
   "source": [
    "def findHCF(num1, num2):\n",
    "    hcf = 1\n",
    "    for i in range(1, min(num1,num2)):\n",
    "        if num1 % i == 0 and num2 % i == 0:\n",
    "            hcf = i\n",
    "    else:\n",
    "        return hcf\n",
    "        \n",
    "print(f\"HCF of 12 and 18 is: {findHCF(12,18)}\")\n",
    "print(f\"HCF of 5 and 13 is: {findHCF(5,13)}\")    "
   ]
  },
  {
   "cell_type": "markdown",
   "id": "8434b51d",
   "metadata": {},
   "source": [
    "**3.Write a Python Program to Convert Decimal to Binary, Octal and Hexadecimal?**"
   ]
  },
  {
   "cell_type": "code",
   "execution_count": 3,
   "id": "626f3cdf",
   "metadata": {},
   "outputs": [
    {
     "name": "stdout",
     "output_type": "stream",
     "text": [
      "Enter a Number: 1000\n",
      "Conversion of 1000 to Binary Number is: 0b1111101000\n",
      "Conversion of 1000 to Octal Number is: 0o1750\n",
      "Conversion of 1000 to Hexadecimal Number is: 0x3e8\n"
     ]
    }
   ],
   "source": [
    "num = int(input('Enter a Number: '))\n",
    "print(f'Conversion of {num} to Binary Number is: {bin(num)}')\n",
    "print(f'Conversion of {num} to Octal Number is: {oct(num)}')\n",
    "print(f'Conversion of {num} to Hexadecimal Number is: {hex(num)}')"
   ]
  },
  {
   "cell_type": "markdown",
   "id": "0eaac5cd",
   "metadata": {},
   "source": [
    "**4.Write a Python Program to Find the ASCII value of a Character ?**"
   ]
  },
  {
   "cell_type": "code",
   "execution_count": 4,
   "id": "a8622cdc",
   "metadata": {},
   "outputs": [
    {
     "name": "stdout",
     "output_type": "stream",
     "text": [
      "Please enter single character: t\n",
      "The ASCII value of t is: 116\n"
     ]
    }
   ],
   "source": [
    "char = input(\"Please enter single character: \")\n",
    "print(f\"The ASCII value of {char} is: {ord(char)}\")"
   ]
  },
  {
   "cell_type": "markdown",
   "id": "43ca33a1",
   "metadata": {},
   "source": [
    "**5.Write a Python Program to Make a Simple Calculator with 4 basic mathematical operations?**"
   ]
  },
  {
   "cell_type": "code",
   "execution_count": 5,
   "id": "491aa63c",
   "metadata": {},
   "outputs": [
    {
     "name": "stdout",
     "output_type": "stream",
     "text": [
      "Select an operator from '+', '-', '*', '/'\n",
      "Enter x to exit the calculator\n",
      "\n",
      "Enter an operator: +\n",
      "Enter a Number1: 44\n",
      "Enter a Number2: 11\n",
      "44 + 11 = 55\n",
      "Enter an operator: -\n",
      "Enter a Number1: 44\n",
      "Enter a Number2: 11\n",
      "44 - 11 = 33\n",
      "Enter an operator: *\n",
      "Enter a Number1: 44\n",
      "Enter a Number2: 11\n",
      "44 * 11 = 484\n",
      "Enter an operator: /\n",
      "Enter a Number1: 44\n",
      "Enter a Number2: 11\n",
      "44 / 11 = 4.0\n",
      "Enter an operator: x\n",
      "Exiting calculator...\n"
     ]
    }
   ],
   "source": [
    "message = \"\"\"Select an operator from '+', '-', '*', '/'\n",
    "Enter x to exit the calculator\n",
    "\"\"\"\n",
    "print(message)\n",
    "\n",
    "while True:\n",
    "    oprt = input(\"Enter an operator: \")\n",
    "    if oprt == 'x':\n",
    "        print(\"Exiting calculator...\")\n",
    "        break\n",
    "    else:\n",
    "        num1 = int(input('Enter a Number1: '))\n",
    "        num2 = int(input('Enter a Number2: '))\n",
    "        if oprt == \"+\":\n",
    "            print(f\"{num1} + {num2} = {num1 + num2}\")\n",
    "        elif oprt == \"-\":\n",
    "            print(f\"{num1} - {num2} = {num1 - num2}\")\n",
    "        elif oprt == \"*\":\n",
    "            print(f\"{num1} * {num2} = {num1 * num2}\")\n",
    "        elif oprt == \"/\":\n",
    "            print(f\"{num1} / {num2} = {num1 / num2}\")\n",
    "        else:\n",
    "            print(\"Invalid operator...\")"
   ]
  }
 ],
 "metadata": {
  "kernelspec": {
   "display_name": "Python 3 (ipykernel)",
   "language": "python",
   "name": "python3"
  },
  "language_info": {
   "codemirror_mode": {
    "name": "ipython",
    "version": 3
   },
   "file_extension": ".py",
   "mimetype": "text/x-python",
   "name": "python",
   "nbconvert_exporter": "python",
   "pygments_lexer": "ipython3",
   "version": "3.9.7"
  }
 },
 "nbformat": 4,
 "nbformat_minor": 5
}
