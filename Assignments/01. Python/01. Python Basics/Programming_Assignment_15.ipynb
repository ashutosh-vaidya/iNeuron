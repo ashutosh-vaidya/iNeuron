{
 "cells": [
  {
   "cell_type": "markdown",
   "id": "c7a5a01a",
   "metadata": {},
   "source": [
    "**Question 1: Please write a program using generator to print the numbers which can be divisible by 5 and 7 between 0 and n in comma separated form while n is input by console.**\n",
    "\n",
    "Example:\n",
    "\n",
    "If the following n is given as input to the program: 100\n",
    "\n",
    "Then, the output of the program should be: 0,35,70"
   ]
  },
  {
   "cell_type": "code",
   "execution_count": 12,
   "id": "f4eebced",
   "metadata": {},
   "outputs": [
    {
     "name": "stdout",
     "output_type": "stream",
     "text": [
      "Please enter a number: 150\n",
      "The numbers which are divisible between 0 and 150 are: \n",
      "0,35,70,105,140,"
     ]
    }
   ],
   "source": [
    "def gen_divisble_by5n7(num):\n",
    "    for i in range(num):\n",
    "        if(i % 5 == 0 and i % 7 == 0):\n",
    "            yield i\n",
    "\n",
    "n = int(input(\"Please enter a number: \"))\n",
    "myGen = gen_divisble_by5n7(n)\n",
    "print(f\"The numbers which are divisible between 0 and {n} are: \")\n",
    "for i in myGen:\n",
    "    print(i, end = \",\")"
   ]
  },
  {
   "cell_type": "markdown",
   "id": "89f85209",
   "metadata": {},
   "source": [
    "**Question 2: Please write a program using generator to print the even numbers between 0 and n in comma separated form while n is input by console.**\n",
    "\n",
    "Example:\n",
    "\n",
    "If the following n is given as input to the program: 10\n",
    "\n",
    "Then, the output of the program should be: 0,2,4,6,8,10\n"
   ]
  },
  {
   "cell_type": "code",
   "execution_count": 13,
   "id": "c876d9fa",
   "metadata": {},
   "outputs": [
    {
     "name": "stdout",
     "output_type": "stream",
     "text": [
      "Please enter a number: 10\n",
      "Even numbers between 0 and 10 are: \n",
      "0,2,4,6,8,"
     ]
    }
   ],
   "source": [
    "def gen_get_even(num):\n",
    "    for i in range(num):\n",
    "        if(i % 2 == 0):\n",
    "            yield i\n",
    "            \n",
    "n = int(input(\"Please enter a number: \"))\n",
    "myGen = gen_get_even(n)\n",
    "print(f\"Even numbers between 0 and {n} are: \")\n",
    "for i in myGen:\n",
    "    print(i, end = \",\")"
   ]
  },
  {
   "cell_type": "markdown",
   "id": "d1377406",
   "metadata": {},
   "source": [
    "**Question 3: The Fibonacci Sequence is computed based on the following formula:**\n",
    "\n",
    "`f(n)=0 if n=0`\n",
    "\n",
    "`f(n)=1 if n=1`\n",
    "\n",
    "`f(n)=f(n-1)+f(n-2) if n>1`\n",
    "\n",
    "**Please write a program using list comprehension to print the Fibonacci Sequence in comma separated form with a given n input by console.**\n",
    "\n",
    "Example:\n",
    "If the following n is given as input to the program: 7 \n",
    "\n",
    "Then, the output of the program should be: 0,1,1,2,3,5,8,13 \n"
   ]
  },
  {
   "cell_type": "code",
   "execution_count": 18,
   "id": "26b80694",
   "metadata": {},
   "outputs": [
    {
     "name": "stdout",
     "output_type": "stream",
     "text": [
      "Please enter a number: 10\n",
      "[0, 1, 1, 2, 3, 5, 8, 13, 21, 34]\n"
     ]
    }
   ],
   "source": [
    "def get_fibonacci(num):\n",
    "    if(num == 0 or num == 1):\n",
    "        return num\n",
    "    else:\n",
    "        return get_fibonacci(num-1) + get_fibonacci(num-2)\n",
    "            \n",
    "n = int(input(\"Please enter a number: \"))\n",
    "print([get_fibonacci(x) for x in range(n)])"
   ]
  },
  {
   "cell_type": "markdown",
   "id": "7a26e850",
   "metadata": {},
   "source": [
    "**Question 4: Assuming that we have some email addresses in the \"username@companyname.com\" format, please write program to print the user name of a given email address. Both user names and company names are composed of letters only.**\n",
    "\n",
    "Example:\n",
    "If the following email address is given as input to the program: `john@google.com`\n",
    "\n",
    "Then, the output of the program should be: `john`\n"
   ]
  },
  {
   "cell_type": "code",
   "execution_count": 20,
   "id": "1545e628",
   "metadata": {},
   "outputs": [
    {
     "name": "stdout",
     "output_type": "stream",
     "text": [
      "Please enter email address: john@google.com\n",
      "User Name is john\n"
     ]
    }
   ],
   "source": [
    "def get_UserName(email):\n",
    "    lst = email.split('@')\n",
    "    print(f\"User Name is {lst[0]}\")\n",
    "\n",
    "email = input(\"Please enter email address: \")\n",
    "get_UserName(email)"
   ]
  },
  {
   "cell_type": "markdown",
   "id": "1ef6c4ff",
   "metadata": {},
   "source": [
    "**Question 5: Define a class named Shape and its subclass Square. The Square class has an init function which takes a length as argument. Both classes have a area function which can print the area of the shape where Shape's area is 0 by default.**"
   ]
  },
  {
   "cell_type": "code",
   "execution_count": 25,
   "id": "7b993d0c",
   "metadata": {},
   "outputs": [
    {
     "name": "stdout",
     "output_type": "stream",
     "text": [
      "Area of Square is 25\n"
     ]
    }
   ],
   "source": [
    "class Shape:\n",
    "    def area(self):\n",
    "        print(f\"Area of Shape is 0\")\n",
    "class Square(Shape):\n",
    "    def __init__(self, length):\n",
    "        self.length = length\n",
    "    def area(self):\n",
    "        print(f\"Area of Square is {self.length ** 2}\")\n",
    "        \n",
    "square = Square(5)\n",
    "square.area()    "
   ]
  },
  {
   "cell_type": "code",
   "execution_count": null,
   "id": "aa597819",
   "metadata": {},
   "outputs": [],
   "source": []
  }
 ],
 "metadata": {
  "kernelspec": {
   "display_name": "Python 3 (ipykernel)",
   "language": "python",
   "name": "python3"
  },
  "language_info": {
   "codemirror_mode": {
    "name": "ipython",
    "version": 3
   },
   "file_extension": ".py",
   "mimetype": "text/x-python",
   "name": "python",
   "nbconvert_exporter": "python",
   "pygments_lexer": "ipython3",
   "version": "3.9.7"
  }
 },
 "nbformat": 4,
 "nbformat_minor": 5
}
