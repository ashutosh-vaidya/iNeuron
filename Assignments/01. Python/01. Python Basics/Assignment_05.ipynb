{
 "cells": [
  {
   "cell_type": "markdown",
   "id": "7563db57",
   "metadata": {},
   "source": [
    "**1.What does an empty dictionary's code look like?**\n",
    "\n",
    "**Ans:** We can represent empty dictionary using following code:"
   ]
  },
  {
   "cell_type": "code",
   "execution_count": 1,
   "id": "732bb873",
   "metadata": {},
   "outputs": [
    {
     "name": "stdout",
     "output_type": "stream",
     "text": [
      "<class 'dict'> {}\n"
     ]
    }
   ],
   "source": [
    "d = {}\n",
    "print(type(d), d)"
   ]
  },
  {
   "cell_type": "markdown",
   "id": "5fd45276",
   "metadata": {},
   "source": [
    "**2.What is the value of a dictionary value with the key 'foo' and the value 42?**\n",
    "\n",
    "**Ans:** Dictionary value with key 'foo' and value 42 can be written as follows:"
   ]
  },
  {
   "cell_type": "code",
   "execution_count": 2,
   "id": "dda42f6e",
   "metadata": {},
   "outputs": [
    {
     "name": "stdout",
     "output_type": "stream",
     "text": [
      "{'foo': 42}\n"
     ]
    }
   ],
   "source": [
    "d = {'foo': 42 }\n",
    "print(d)"
   ]
  },
  {
   "cell_type": "markdown",
   "id": "36beb2b9",
   "metadata": {},
   "source": [
    "**3.What is the most significant distinction between a dictionary and a list?**\n",
    "\n",
    "**Ans:** A list is a collection of ordered items denoted by square brackets `[]` whereas a dictionary is a collection of key-value pair which are unordered and denoted by curly brackets `{}` "
   ]
  },
  {
   "cell_type": "markdown",
   "id": "ea1dceae",
   "metadata": {},
   "source": [
    "**4.What happens if you try to access spam['foo'] if spam is {'bar': 100}?**\n",
    "\n",
    "**Ans:** It will result in `KeyError` because key `foo` is not present in the dictionary spam."
   ]
  },
  {
   "cell_type": "code",
   "execution_count": 3,
   "id": "17394161",
   "metadata": {},
   "outputs": [
    {
     "ename": "KeyError",
     "evalue": "'foo'",
     "output_type": "error",
     "traceback": [
      "\u001b[1;31m---------------------------------------------------------------------------\u001b[0m",
      "\u001b[1;31mKeyError\u001b[0m                                  Traceback (most recent call last)",
      "\u001b[1;32m~\\AppData\\Local\\Temp/ipykernel_7060/3611763342.py\u001b[0m in \u001b[0;36m<module>\u001b[1;34m\u001b[0m\n\u001b[0;32m      1\u001b[0m \u001b[0mspam\u001b[0m \u001b[1;33m=\u001b[0m \u001b[1;33m{\u001b[0m\u001b[1;34m'bar'\u001b[0m \u001b[1;33m:\u001b[0m \u001b[1;36m100\u001b[0m\u001b[1;33m}\u001b[0m\u001b[1;33m\u001b[0m\u001b[1;33m\u001b[0m\u001b[0m\n\u001b[1;32m----> 2\u001b[1;33m \u001b[0mspam\u001b[0m\u001b[1;33m[\u001b[0m\u001b[1;34m'foo'\u001b[0m\u001b[1;33m]\u001b[0m\u001b[1;33m\u001b[0m\u001b[1;33m\u001b[0m\u001b[0m\n\u001b[0m",
      "\u001b[1;31mKeyError\u001b[0m: 'foo'"
     ]
    }
   ],
   "source": [
    "spam = {'bar' : 100}\n",
    "spam['foo']"
   ]
  },
  {
   "cell_type": "markdown",
   "id": "7e376e20",
   "metadata": {},
   "source": [
    "**5.If a dictionary is stored in spam, what is the difference between the expressions 'cat' in spam and 'cat' in spam.keys()?**\n",
    "\n",
    "**Ans:** There is no difference both statement will search 'cat' in **the keys** of the dictionary and returns `True` if it is found else return `False`."
   ]
  },
  {
   "cell_type": "code",
   "execution_count": 4,
   "id": "cbbcbed4",
   "metadata": {},
   "outputs": [
    {
     "name": "stdout",
     "output_type": "stream",
     "text": [
      "True\n",
      "True\n"
     ]
    }
   ],
   "source": [
    "spam = {'cat': 1}\n",
    "\n",
    "print('cat' in spam)\n",
    "print('cat' in spam.keys())"
   ]
  },
  {
   "cell_type": "markdown",
   "id": "b5103f4f",
   "metadata": {},
   "source": [
    "**6.If a dictionary is stored in spam, what is the difference between the expressions 'cat' in spam and 'cat' in spam.values()?**\n",
    "\n",
    "**Ans:**\n",
    "- `'cat' in spam` will search 'cat' in **the keys** of the dictionary and returns `True` if it is found else return `False`.\n",
    "- `'cat' in spam.values()` will search  'cat' in **the values** of dictionary and  `True` if it is found else return `False`."
   ]
  },
  {
   "cell_type": "code",
   "execution_count": 5,
   "id": "ca59db4b",
   "metadata": {},
   "outputs": [
    {
     "name": "stdout",
     "output_type": "stream",
     "text": [
      "False\n",
      "True\n"
     ]
    }
   ],
   "source": [
    "spam = {'pet': 'cat'}\n",
    "\n",
    "print('cat' in spam)\n",
    "print('cat' in spam.values())"
   ]
  },
  {
   "cell_type": "markdown",
   "id": "80aba590",
   "metadata": {},
   "source": [
    "**7.What is a shortcut for the following code?**\n",
    "```python\n",
    "if 'color' not in spam:\n",
    "spam['color'] = 'black'\n",
    "```\n",
    "\n",
    "**Ans:** We can use `setdefault()` function to set dafult values. This can be written as:\n",
    "```python\n",
    "spam.setdefault(color, 'black')\n",
    "```"
   ]
  },
  {
   "cell_type": "markdown",
   "id": "8a1e7e11",
   "metadata": {},
   "source": [
    "**8.How do you \"pretty print\" dictionary values using which module and function?**\n",
    "\n",
    "**Ans:** There are three ways to pretty print dictonary using module and function:\n",
    "- using `pprint()` from module `pprint`\n",
    "- using `dumps()` from module `json`\n",
    "- using `dump()` from module `yaml`\n",
    "\n",
    "**Example:**"
   ]
  },
  {
   "cell_type": "code",
   "execution_count": 6,
   "id": "35a65228",
   "metadata": {},
   "outputs": [
    {
     "name": "stdout",
     "output_type": "stream",
     "text": [
      "[{'address': {'city': 'Pune', 'country': 'India', 'state': 'Maharastra'},\n",
      "  'name': 'abcd',\n",
      "  'phone': 1232343432},\n",
      " {'address': {'city': 'Pune', 'country': 'India', 'state': 'Maharastra'},\n",
      "  'name': 'abcd',\n",
      "  'phone': 1232343432},\n",
      " {'address': {'city': 'Pune', 'country': 'India', 'state': 'Maharastra'},\n",
      "  'name': 'abcd',\n",
      "  'phone': 1232343432}]\n"
     ]
    }
   ],
   "source": [
    "d = [{'name' : \"abcd\", 'phone' : 1232343432, 'address': {'city' : \"Pune\", 'state' : \"Maharastra\", 'country'  : \"India\"} },\n",
    "     {'name' : \"abcd\", 'phone' : 1232343432, 'address': {'city' : \"Pune\", 'state' : \"Maharastra\", 'country'  : \"India\"} },\n",
    "     {'name' : \"abcd\", 'phone' : 1232343432, 'address': {'city' : \"Pune\", 'state' : \"Maharastra\", 'country'  : \"India\"} }]\n",
    "import pprint\n",
    "pprint.pprint(d)"
   ]
  },
  {
   "cell_type": "code",
   "execution_count": 7,
   "id": "d60fa60b",
   "metadata": {},
   "outputs": [
    {
     "name": "stdout",
     "output_type": "stream",
     "text": [
      "[\n",
      "  {\n",
      "    \"name\": \"abcd\",\n",
      "    \"phone\": 1232343432,\n",
      "    \"address\": {\n",
      "      \"city\": \"Pune\",\n",
      "      \"state\": \"Maharastra\",\n",
      "      \"country\": \"India\"\n",
      "    }\n",
      "  },\n",
      "  {\n",
      "    \"name\": \"abcd\",\n",
      "    \"phone\": 1232343432,\n",
      "    \"address\": {\n",
      "      \"city\": \"Pune\",\n",
      "      \"state\": \"Maharastra\",\n",
      "      \"country\": \"India\"\n",
      "    }\n",
      "  },\n",
      "  {\n",
      "    \"name\": \"abcd\",\n",
      "    \"phone\": 1232343432,\n",
      "    \"address\": {\n",
      "      \"city\": \"Pune\",\n",
      "      \"state\": \"Maharastra\",\n",
      "      \"country\": \"India\"\n",
      "    }\n",
      "  }\n",
      "]\n"
     ]
    }
   ],
   "source": [
    "d = [{'name' : \"abcd\", 'phone' : 1232343432, 'address': {'city' : \"Pune\", 'state' : \"Maharastra\", 'country'  : \"India\"} },\n",
    "     {'name' : \"abcd\", 'phone' : 1232343432, 'address': {'city' : \"Pune\", 'state' : \"Maharastra\", 'country'  : \"India\"} },\n",
    "     {'name' : \"abcd\", 'phone' : 1232343432, 'address': {'city' : \"Pune\", 'state' : \"Maharastra\", 'country'  : \"India\"} }]\n",
    "\n",
    "import json\n",
    "print(json.dumps(d,indent = 2))"
   ]
  },
  {
   "cell_type": "code",
   "execution_count": 8,
   "id": "1a0eb3c7",
   "metadata": {},
   "outputs": [
    {
     "name": "stdout",
     "output_type": "stream",
     "text": [
      "- address:\n",
      "    city: Pune\n",
      "    country: India\n",
      "    state: Maharastra\n",
      "  name: abcd\n",
      "  phone: 1232343432\n",
      "- address:\n",
      "    city: Pune\n",
      "    country: India\n",
      "    state: Maharastra\n",
      "  name: abcd\n",
      "  phone: 1232343432\n",
      "- address:\n",
      "    city: Pune\n",
      "    country: India\n",
      "    state: Maharastra\n",
      "  name: abcd\n",
      "  phone: 1232343432\n",
      "\n"
     ]
    }
   ],
   "source": [
    "d = [{'name' : \"abcd\", 'phone' : 1232343432, 'address': {'city' : \"Pune\", 'state' : \"Maharastra\", 'country'  : \"India\"} },\n",
    "     {'name' : \"abcd\", 'phone' : 1232343432, 'address': {'city' : \"Pune\", 'state' : \"Maharastra\", 'country'  : \"India\"} },\n",
    "     {'name' : \"abcd\", 'phone' : 1232343432, 'address': {'city' : \"Pune\", 'state' : \"Maharastra\", 'country'  : \"India\"} }]\n",
    "\n",
    "import yaml\n",
    "print(yaml.dump(d))"
   ]
  }
 ],
 "metadata": {
  "kernelspec": {
   "display_name": "Python 3 (ipykernel)",
   "language": "python",
   "name": "python3"
  },
  "language_info": {
   "codemirror_mode": {
    "name": "ipython",
    "version": 3
   },
   "file_extension": ".py",
   "mimetype": "text/x-python",
   "name": "python",
   "nbconvert_exporter": "python",
   "pygments_lexer": "ipython3",
   "version": "3.9.7"
  }
 },
 "nbformat": 4,
 "nbformat_minor": 5
}
