{
 "cells": [
  {
   "cell_type": "markdown",
   "id": "e3eb669f",
   "metadata": {},
   "source": [
    "**1.In the below elements which of them are values or an expression? eg:- values can be integer or string and expressions will be mathematical operators.**\n",
    "\n",
    "`*,'hello', -87.8,-,/,+,6`\n",
    "\n",
    "**Ans:**\n",
    "\n",
    "- `*` : **Expression** this is multiplication operator\n",
    "- `'hello'` : **Value** this is value of type `string`\n",
    "- `-87.8` : **Value** this is value of type `float`\n",
    "- `-` : **Expression** this is substraction operator\n",
    "- `/` : **Expression** this is division operator\n",
    "- `+` : **Expression** this is addition operator\n",
    "- `6` : **Value** this is value of type `int` "
   ]
  },
  {
   "cell_type": "markdown",
   "id": "c575d808",
   "metadata": {},
   "source": [
    "**2.What is the difference between string and variable?**\n",
    "\n",
    "**Ans:**\n",
    "`string` is a datatype which stores collection of one or more charcteres enclosed in double or single quotes.\n",
    "\n",
    "`Variable` is a where we can store different types of values having different types of datatype and use them in further computation. A string can be a variable."
   ]
  },
  {
   "cell_type": "markdown",
   "id": "8362538a",
   "metadata": {},
   "source": [
    "**3.Describe three different data types.**\n",
    "\n",
    "**Ans:**\n",
    "1. `int`: Integer datatype, represented as int. These are used to store the whole number without a fraction.\n",
    "2. `str`: String datatype, represented as str. These are used to store a list of one or more Unicode characters.\n",
    "3. `bool`: Boolean datatype, represented as a bool. These are used to store True or False values.\n",
    "\n",
    "Examples:"
   ]
  },
  {
   "cell_type": "code",
   "execution_count": 1,
   "id": "edc0f4c1",
   "metadata": {},
   "outputs": [
    {
     "name": "stdout",
     "output_type": "stream",
     "text": [
      "11 is of type <class 'int'>\n",
      "Hello is of type <class 'str'>\n",
      "False is of type <class 'bool'>\n"
     ]
    }
   ],
   "source": [
    "a = 11\n",
    "b = \"Hello\"\n",
    "c = False\n",
    "\n",
    "print(f\"{a} is of type {type(a)}\")\n",
    "print(f\"{b} is of type {type(b)}\")\n",
    "print(f\"{c} is of type {type(c)}\")"
   ]
  },
  {
   "cell_type": "markdown",
   "id": "bc374d25",
   "metadata": {},
   "source": [
    "**4.What is an expression made up of? What do all expressions do?**\n",
    "\n",
    "**Ans:** An expression is made up of a combination of operators and operands (values i.e. int, float, string etc.) Expression should always have atleast one operator. Once we evaluate the expression it perform the necssary calculation/computation on the operands and display the reult."
   ]
  },
  {
   "cell_type": "markdown",
   "id": "ecfc7e35",
   "metadata": {},
   "source": [
    "**5.This assignment statements, like spam = 10. What is the difference between an expression and a statement?**\n",
    "\n",
    "**Ans:** We can safely state that an expression is a subset of a statement but not vice e versa. An expression always gets evaluated and returns the evaluated result. But a statement can be just and declaration and assignment of a variable which not necessarily need to be evaluated and returns the result.\n",
    "\n",
    "for example\n",
    "```python\n",
    "a = 10 # this is assignment statement\n",
    "b = a + 5 # this is addition expression\n",
    "```"
   ]
  },
  {
   "cell_type": "markdown",
   "id": "7c3a3756",
   "metadata": {},
   "source": [
    "**6.After running the following code, what does the variable bacon contain?**\n",
    "```python\n",
    "bacon = 22\n",
    "bacon + 1\n",
    "```\n",
    "\n",
    "**Ans:** Here `bacon` is assigned a int value **22**. And second statement is an expression `bacon + 1`. But as an expression evalutes and returns a result, that result should be stored in some variable otherwise it will be lost. Here we are not storing result evaluted by `bacon + 1` in any variable hence it will be lost. The original `bacon` variable will be still be holding int value **22**\n",
    "\n",
    "Let's varify,"
   ]
  },
  {
   "cell_type": "code",
   "execution_count": 2,
   "id": "7f4176b5",
   "metadata": {},
   "outputs": [
    {
     "name": "stdout",
     "output_type": "stream",
     "text": [
      "22\n"
     ]
    }
   ],
   "source": [
    "bacon = 22\n",
    "bacon + 1\n",
    "print(bacon)"
   ]
  },
  {
   "cell_type": "markdown",
   "id": "23f691f5",
   "metadata": {},
   "source": [
    "**7.What should the values of the following two terms be?**\n",
    "```python\n",
    "'spam' + 'spamspam'\n",
    "'spam' * 3\n",
    "```\n",
    "\n",
    "**Ans:**"
   ]
  },
  {
   "cell_type": "code",
   "execution_count": 3,
   "id": "77dac76b",
   "metadata": {},
   "outputs": [
    {
     "data": {
      "text/plain": [
       "'spamspamspam'"
      ]
     },
     "execution_count": 3,
     "metadata": {},
     "output_type": "execute_result"
    }
   ],
   "source": [
    "'spam' + 'spamspam'"
   ]
  },
  {
   "cell_type": "code",
   "execution_count": 4,
   "id": "9c778a09",
   "metadata": {},
   "outputs": [
    {
     "data": {
      "text/plain": [
       "'spamspamspam'"
      ]
     },
     "execution_count": 4,
     "metadata": {},
     "output_type": "execute_result"
    }
   ],
   "source": [
    "'spam' * 3"
   ]
  },
  {
   "cell_type": "markdown",
   "id": "67c63517",
   "metadata": {},
   "source": [
    "Here both expressions evaluate to the same result albeit using two different techniques. The first technique is simple `string concatenation` whereas the second one is `string multiplication`."
   ]
  },
  {
   "cell_type": "markdown",
   "id": "4fd92043",
   "metadata": {},
   "source": [
    "**8.Why is eggs a valid variable name while 100 is invalid?**\n",
    "\n",
    "**Ans:** There are some rules defined in python for naming variables, those are as follows:\n",
    "1. Variable names should start with alphabets or underscore.\n",
    "2. Variable names should not contain any special characters excluding underscores.\n",
    "3. Variable names can contain numbers but can't start with numbers.\n",
    "4. Variable names are case-sensitive.\n",
    "5. Variable names must not contain any space.\n",
    "6. Variable names must not be one of the reserved words in python.\n",
    "\n",
    "Hence `eggs` is the valid variable name but `100` is not since it violates rules 1 and 3."
   ]
  },
  {
   "cell_type": "markdown",
   "id": "044877dc",
   "metadata": {},
   "source": [
    "**9.What three functions can be used to get the integer, floating-point number, or string version of a value?**\n",
    "\n",
    "**Ans:** Using `int()`, `float()`, `str()` we can get integer, float and string version of the value."
   ]
  },
  {
   "cell_type": "code",
   "execution_count": 5,
   "id": "a1c7c237",
   "metadata": {},
   "outputs": [
    {
     "name": "stdout",
     "output_type": "stream",
     "text": [
      "integer value of a is 15 type : <class 'int'>\n",
      "float value of a is 15.0 type : <class 'float'>\n",
      "string value of a is 15 type : <class 'str'>\n"
     ]
    }
   ],
   "source": [
    "a = 15\n",
    "print(f\"integer value of a is {int(a)} type : {type(int(a))}\")\n",
    "print(f\"float value of a is {float(a)} type : {type(float(a))}\")\n",
    "print(f\"string value of a is {str(a)} type : {type(str(a))}\")"
   ]
  },
  {
   "cell_type": "markdown",
   "id": "32dd4b3d",
   "metadata": {},
   "source": [
    "**10.Why does this expression cause an error? how can you fix it?**\n",
    "```python\n",
    "'I have eaten ' + 99 + ' burritos.'\n",
    "```\n",
    "\n",
    "**Ans:**"
   ]
  },
  {
   "cell_type": "code",
   "execution_count": 6,
   "id": "0be4897b",
   "metadata": {},
   "outputs": [
    {
     "ename": "TypeError",
     "evalue": "can only concatenate str (not \"int\") to str",
     "output_type": "error",
     "traceback": [
      "\u001b[1;31m---------------------------------------------------------------------------\u001b[0m",
      "\u001b[1;31mTypeError\u001b[0m                                 Traceback (most recent call last)",
      "\u001b[1;32m~\\AppData\\Local\\Temp/ipykernel_14748/1774935878.py\u001b[0m in \u001b[0;36m<module>\u001b[1;34m\u001b[0m\n\u001b[1;32m----> 1\u001b[1;33m \u001b[1;34m'I have eaten '\u001b[0m \u001b[1;33m+\u001b[0m \u001b[1;36m99\u001b[0m \u001b[1;33m+\u001b[0m \u001b[1;34m' burritos.'\u001b[0m\u001b[1;33m\u001b[0m\u001b[1;33m\u001b[0m\u001b[0m\n\u001b[0m",
      "\u001b[1;31mTypeError\u001b[0m: can only concatenate str (not \"int\") to str"
     ]
    }
   ],
   "source": [
    "'I have eaten ' + 99 + ' burritos.'"
   ]
  },
  {
   "cell_type": "markdown",
   "id": "e0c94de1",
   "metadata": {},
   "source": [
    "The above expression throws `TypeError` because we are trying to concate `99` which is an `int` to a string. We need to type cast `99` to the string to fix this error."
   ]
  },
  {
   "cell_type": "code",
   "execution_count": 7,
   "id": "c05fee17",
   "metadata": {},
   "outputs": [
    {
     "data": {
      "text/plain": [
       "'I have eaten 99 burritos'"
      ]
     },
     "execution_count": 7,
     "metadata": {},
     "output_type": "execute_result"
    }
   ],
   "source": [
    "'I have eaten ' + str(99) + ' burritos'"
   ]
  },
  {
   "cell_type": "code",
   "execution_count": null,
   "id": "55825776",
   "metadata": {},
   "outputs": [],
   "source": []
  }
 ],
 "metadata": {
  "kernelspec": {
   "display_name": "Python 3 (ipykernel)",
   "language": "python",
   "name": "python3"
  },
  "language_info": {
   "codemirror_mode": {
    "name": "ipython",
    "version": 3
   },
   "file_extension": ".py",
   "mimetype": "text/x-python",
   "name": "python",
   "nbconvert_exporter": "python",
   "pygments_lexer": "ipython3",
   "version": "3.9.7"
  }
 },
 "nbformat": 4,
 "nbformat_minor": 5
}
