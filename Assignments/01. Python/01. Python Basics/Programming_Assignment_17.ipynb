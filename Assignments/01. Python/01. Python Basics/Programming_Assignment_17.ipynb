{
 "cells": [
  {
   "cell_type": "markdown",
   "id": "f8edeb10",
   "metadata": {},
   "source": [
    "**Question1. Create a function that takes three arguments a, b, c and returns the sum of the numbers that are evenly divided by c from the range a, b inclusive.**\n",
    "\n",
    "**Examples**\n",
    "\n",
    "```python\n",
    "evenly_divisible(1, 10, 20) ➞ 0\n",
    "# No number between 1 and 10 can be evenly divided by 20.\n",
    "\n",
    "evenly_divisible(1, 10, 2) ➞ 30\n",
    "# 2 + 4 + 6 + 8 + 10 = 30\n",
    "\n",
    "evenly_divisible(1, 10, 3) ➞ 18\n",
    "# 3 + 6 + 9 = 18\n",
    "```"
   ]
  },
  {
   "cell_type": "code",
   "execution_count": 1,
   "id": "bf9fc9d8",
   "metadata": {},
   "outputs": [
    {
     "name": "stdout",
     "output_type": "stream",
     "text": [
      "No number between 1 and 10 can be evenly divided by 20.\n",
      "Sum of the numbers that are evenly divided by 2 from range 1,10 is => 30.\n",
      "Sum of the numbers that are evenly divided by 3 from range 1,10 is => 18.\n"
     ]
    }
   ],
   "source": [
    "def evenly_divisible(a,b,c):\n",
    "    total = sum([x for x in range(a,b+1) if x % c == 0])\n",
    "    if total > 0:\n",
    "        print(f\"Sum of the numbers that are evenly divided by {c} from range {a},{b} is => {total}.\")\n",
    "    else:\n",
    "        print(f\"No number between {a} and {b} can be evenly divided by {c}.\")\n",
    "        \n",
    "evenly_divisible(1, 10, 20)\n",
    "evenly_divisible(1, 10, 2)\n",
    "evenly_divisible(1, 10, 3)"
   ]
  },
  {
   "cell_type": "markdown",
   "id": "f98d27c7",
   "metadata": {},
   "source": [
    "**Question2. Create a function that returns `True` if a given inequality expression is correct and `False` otherwise.**\n",
    "\n",
    "**Examples**\n",
    "```python\n",
    "correct_signs(\"3 < 7 < 11\") ➞ True\n",
    "\n",
    "correct_signs(\"13 > 44 > 33 > 1\") ➞ False\n",
    "\n",
    "correct_signs(\"1 < 2 < 6 < 9 > 3\") ➞ True\n",
    "```"
   ]
  },
  {
   "cell_type": "code",
   "execution_count": 2,
   "id": "d208eb24",
   "metadata": {},
   "outputs": [
    {
     "name": "stdout",
     "output_type": "stream",
     "text": [
      "True\n",
      "False\n",
      "True\n"
     ]
    }
   ],
   "source": [
    "def correct_signs(s):\n",
    "    regex = eval(s)\n",
    "    if regex:\n",
    "        return True\n",
    "    else:\n",
    "        return False    \n",
    "    \n",
    "print(correct_signs(\"3 < 7 < 11\"))\n",
    "print(correct_signs(\"13 > 44 > 33 > 1\"))\n",
    "print(correct_signs(\"1 < 2 < 6 < 9 > 3\"))"
   ]
  },
  {
   "cell_type": "markdown",
   "id": "0ec367d7",
   "metadata": {},
   "source": [
    "**Question3. Create a function that replaces all the vowels in a string with a specified character.**\n",
    "\n",
    "**Examples**\n",
    "```python\n",
    "replace_vowels(\"the aardvark\", \"#\") ➞ \"th# ##rdv#rk\"\n",
    "\n",
    "replace_vowels(\"minnie mouse\", \"?\") ➞ \"m?nn?? m??s?\"\n",
    "\n",
    "replace_vowels(\"shakespeare\", \"*\") ➞ \"sh*k*sp**r*\"\n",
    "```"
   ]
  },
  {
   "cell_type": "code",
   "execution_count": 3,
   "id": "6c577185",
   "metadata": {},
   "outputs": [
    {
     "name": "stdout",
     "output_type": "stream",
     "text": [
      "After replacing vowels from the aardvark with # => th# ##rdv#rk\n",
      "After replacing vowels from minnie mouse with ? => m?nn?? m??s?\n",
      "After replacing vowels from shakespeare with * => sh*k*sp**r*\n"
     ]
    }
   ],
   "source": [
    "def replace_vowels(str1, char):\n",
    "    vowels = ['a','e','i','o','u']\n",
    "    str2 = str1.lower()\n",
    "    for i in vowels:\n",
    "        str2 = str2.replace(i,char)\n",
    "        \n",
    "    print(f\"After replacing vowels from {str1} with {char} => {str2}\")\n",
    "\n",
    "replace_vowels(\"the aardvark\", \"#\") \n",
    "replace_vowels(\"minnie mouse\", \"?\")\n",
    "replace_vowels(\"shakespeare\", \"*\")"
   ]
  },
  {
   "cell_type": "markdown",
   "id": "02313aa0",
   "metadata": {},
   "source": [
    "**Question4. Write a function that calculates the factorial of a number recursively.**\n",
    "\n",
    "**Examples**\n",
    "```python\n",
    "factorial(5) ➞ 120\n",
    "\n",
    "factorial(3) ➞ 6\n",
    "\n",
    "factorial(1) ➞ 1\n",
    "\n",
    "factorial(0) ➞ 1\n",
    "```"
   ]
  },
  {
   "cell_type": "code",
   "execution_count": 4,
   "id": "be0c9a9d",
   "metadata": {},
   "outputs": [
    {
     "name": "stdout",
     "output_type": "stream",
     "text": [
      "Factorial of 5 is => 120\n",
      "Factorial of 3 is => 6\n",
      "Factorial of 1 is => 1\n",
      "Factorial of 0 is => 1\n"
     ]
    }
   ],
   "source": [
    "def factorial(num):\n",
    "    if num == 0:\n",
    "        return 1\n",
    "    else:\n",
    "        return num*factorial(num-1)\n",
    "\n",
    "inputs = [5,3,1,0]\n",
    "for i in inputs:\n",
    "    print(f\"Factorial of {i} is => {factorial(i)}\")"
   ]
  },
  {
   "cell_type": "markdown",
   "id": "a86933d5",
   "metadata": {},
   "source": [
    "**Question 5 `Hamming distance` is the number of characters that differ between two strings.**\n",
    "\n",
    "To illustrate:\n",
    "```python\n",
    "String1: \"abcbba\"\n",
    "String2: \"abcbda\"\n",
    "\n",
    "#Hamming Distance: 1 - \"b\" vs. \"d\" is the only difference.\n",
    "```\n",
    "\n",
    "**Create a function that computes the `hamming distance` between two strings.**\n",
    "\n",
    "**Examples**\n",
    "```python\n",
    "hamming_distance(\"abcde\", \"bcdef\") ➞ 5\n",
    "\n",
    "hamming_distance(\"abcde\", \"abcde\") ➞ 0\n",
    "\n",
    "hamming_distance(\"strong\", \"strung\") ➞ 1\n",
    "```"
   ]
  },
  {
   "cell_type": "code",
   "execution_count": 5,
   "id": "06665310",
   "metadata": {},
   "outputs": [
    {
     "name": "stdout",
     "output_type": "stream",
     "text": [
      "The hamming distance between abcde and bcdef is => 5\n",
      "The hamming distance between abcde and abcde is => 0\n",
      "The hamming distance between strong and strung is => 1\n"
     ]
    }
   ],
   "source": [
    "def hamming_distance(str1, str2):\n",
    "    if len(str1) == len(str2):\n",
    "        distance = 0\n",
    "        for i in range(len(str1)):\n",
    "            if str1[i] != str2[i]:\n",
    "                distance += 1\n",
    "                \n",
    "        print(f\"The hamming distance between {str1} and {str2} is => {distance}\")\n",
    "    \n",
    "hamming_distance(\"abcde\", \"bcdef\")\n",
    "hamming_distance(\"abcde\", \"abcde\")\n",
    "hamming_distance(\"strong\", \"strung\")"
   ]
  }
 ],
 "metadata": {
  "kernelspec": {
   "display_name": "Python 3 (ipykernel)",
   "language": "python",
   "name": "python3"
  },
  "language_info": {
   "codemirror_mode": {
    "name": "ipython",
    "version": 3
   },
   "file_extension": ".py",
   "mimetype": "text/x-python",
   "name": "python",
   "nbconvert_exporter": "python",
   "pygments_lexer": "ipython3",
   "version": "3.9.7"
  }
 },
 "nbformat": 4,
 "nbformat_minor": 5
}
