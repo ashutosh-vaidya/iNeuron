{
 "cells": [
  {
   "cell_type": "markdown",
   "id": "e4034874",
   "metadata": {},
   "source": [
    "**1.Write a Python program to find sum of elements in list?**"
   ]
  },
  {
   "cell_type": "code",
   "execution_count": 1,
   "id": "9fb15c5f",
   "metadata": {},
   "outputs": [
    {
     "name": "stdout",
     "output_type": "stream",
     "text": [
      "Sum of elements in the [1, 2, 3, 4, 5, 6] is 21\n"
     ]
    }
   ],
   "source": [
    "l = [1,2,3,4,5,6]\n",
    "sum = 0\n",
    "for i in l:\n",
    "    sum += i\n",
    "print(f\"Sum of elements in the {l} is {sum}\")"
   ]
  },
  {
   "cell_type": "markdown",
   "id": "ba3893fe",
   "metadata": {},
   "source": [
    "**2.Write a Python program to  Multiply all numbers in the list?**"
   ]
  },
  {
   "cell_type": "code",
   "execution_count": 2,
   "id": "95075c66",
   "metadata": {},
   "outputs": [
    {
     "name": "stdout",
     "output_type": "stream",
     "text": [
      "Multiplication of elements in the [1, 2, 3, 4, 5, 6] is 720\n"
     ]
    }
   ],
   "source": [
    "l = [1,2,3,4,5,6]\n",
    "multi = 1\n",
    "for i in l:\n",
    "    multi *= i\n",
    "print(f\"Multiplication of elements in the {l} is {multi}\")"
   ]
  },
  {
   "cell_type": "markdown",
   "id": "da473b34",
   "metadata": {},
   "source": [
    "**3.Write a Python program to find smallest number in a list?**"
   ]
  },
  {
   "cell_type": "code",
   "execution_count": 3,
   "id": "ef8a9fd8",
   "metadata": {},
   "outputs": [
    {
     "name": "stdout",
     "output_type": "stream",
     "text": [
      "Smallest of elements in the [11, 23, 13, 4, 25, 56] is 4\n"
     ]
    }
   ],
   "source": [
    "l = [11,23,13,4,25,56]\n",
    "print(f\"Smallest of elements in the {l} is {min(l)}\")"
   ]
  },
  {
   "cell_type": "markdown",
   "id": "53b335dc",
   "metadata": {},
   "source": [
    "**4.Write a Python program to find largest number in a list?**"
   ]
  },
  {
   "cell_type": "code",
   "execution_count": 4,
   "id": "cc13226c",
   "metadata": {},
   "outputs": [
    {
     "name": "stdout",
     "output_type": "stream",
     "text": [
      "Largest of elements in the [11, 23, 13, 4, 25, 56, 3] is 56\n"
     ]
    }
   ],
   "source": [
    "l = [11,23,13,4,25,56,3]\n",
    "print(f\"Largest of elements in the {l} is {max(l)}\")"
   ]
  },
  {
   "cell_type": "markdown",
   "id": "9402731e",
   "metadata": {},
   "source": [
    "**5.Write a Python program to find second largest number in a list?**"
   ]
  },
  {
   "cell_type": "code",
   "execution_count": 5,
   "id": "597302a4",
   "metadata": {},
   "outputs": [
    {
     "name": "stdout",
     "output_type": "stream",
     "text": [
      "Second largest of elements in the [11, 23, 13, 4, 25, 56, 3] is 25\n"
     ]
    }
   ],
   "source": [
    "l = [11,23,13,4,25,56,3]\n",
    "print(f\"Second largest of elements in the {l} is {sorted(l, reverse=True)[1]}\")"
   ]
  },
  {
   "cell_type": "markdown",
   "id": "93ab5803",
   "metadata": {},
   "source": [
    "**6.Write a Python program to find N largest elements from a list?**"
   ]
  },
  {
   "cell_type": "code",
   "execution_count": 6,
   "id": "94463f0e",
   "metadata": {},
   "outputs": [
    {
     "name": "stdout",
     "output_type": "stream",
     "text": [
      "Enter the number: 3\n",
      "3 largest of elements in the [11, 23, 13, 4, 25, 56, 3] is [56, 25, 23]\n"
     ]
    }
   ],
   "source": [
    "l = [11,23,13,4,25,56,3]\n",
    "n = int(input(\"Enter the number: \"))\n",
    "print(f\"{n} largest of elements in the {l} is {sorted(l, reverse=True)[0:n]}\")"
   ]
  },
  {
   "cell_type": "markdown",
   "id": "1fa13cbb",
   "metadata": {},
   "source": [
    "**7.Write a Python program to print even numbers in a list?**"
   ]
  },
  {
   "cell_type": "code",
   "execution_count": 7,
   "id": "69e83cfd",
   "metadata": {},
   "outputs": [
    {
     "name": "stdout",
     "output_type": "stream",
     "text": [
      "All even numbers in the list [11, 23, 13, 4, 25, 56, 3] are [4, 56]\n"
     ]
    }
   ],
   "source": [
    "l = [11,23,13,4,25,56,3]\n",
    "result = []\n",
    "for i in l:\n",
    "    if(i % 2 == 0):\n",
    "        result.append(i)\n",
    "\n",
    "print(f\"All even numbers in the list {l} are {result}\")"
   ]
  },
  {
   "cell_type": "markdown",
   "id": "0692c089",
   "metadata": {},
   "source": [
    "**8.Write a Python program to print odd numbers in a List?**"
   ]
  },
  {
   "cell_type": "code",
   "execution_count": 8,
   "id": "48c0e74a",
   "metadata": {},
   "outputs": [
    {
     "name": "stdout",
     "output_type": "stream",
     "text": [
      "All odd numbers in the list [11, 23, 13, 4, 25, 56, 3] are [11, 23, 13, 25, 3]\n"
     ]
    }
   ],
   "source": [
    "l = [11,23,13,4,25,56,3]\n",
    "result = []\n",
    "for i in l:\n",
    "    if(i % 2 == 1):\n",
    "        result.append(i)\n",
    "\n",
    "print(f\"All odd numbers in the list {l} are {result}\")"
   ]
  },
  {
   "cell_type": "markdown",
   "id": "17a4f0f4",
   "metadata": {},
   "source": [
    "**9.Write a Python program to Remove empty List from List?**"
   ]
  },
  {
   "cell_type": "code",
   "execution_count": 9,
   "id": "ad327adb",
   "metadata": {},
   "outputs": [
    {
     "name": "stdout",
     "output_type": "stream",
     "text": [
      "[11, 23, 13, 4, 25, 56, 3]\n"
     ]
    }
   ],
   "source": [
    "l = [11,23,13,[],4,25,56,3]\n",
    "if [] in l:\n",
    "    l.remove([])\n",
    "print(l)"
   ]
  },
  {
   "cell_type": "markdown",
   "id": "d0933394",
   "metadata": {},
   "source": [
    "**10.Write a Python program to Cloning or Copying a list?**"
   ]
  },
  {
   "cell_type": "code",
   "execution_count": 10,
   "id": "edcb0427",
   "metadata": {},
   "outputs": [
    {
     "name": "stdout",
     "output_type": "stream",
     "text": [
      "[11, 23, 13, 4, 25, 56, 3]\n"
     ]
    }
   ],
   "source": [
    "l = [11,23,13,4,25,56,3]\n",
    "copylist = l.copy()\n",
    "print(copylist)"
   ]
  },
  {
   "cell_type": "markdown",
   "id": "e216fa22",
   "metadata": {},
   "source": [
    "**11.Write a Python program to Count occurrences of an element in a list?**"
   ]
  },
  {
   "cell_type": "code",
   "execution_count": 11,
   "id": "4e6c9872",
   "metadata": {},
   "outputs": [
    {
     "name": "stdout",
     "output_type": "stream",
     "text": [
      "Enter the number to count: 11\n",
      "Number 11 has occured 6 times.\n"
     ]
    }
   ],
   "source": [
    "l = [11,23,13,4,25,56,3,11,11,22,11,11,25,11]\n",
    "n = int(input(\"Enter the number to count: \"))\n",
    "count = 0\n",
    "for i in l:\n",
    "    if i == n:\n",
    "        count += 1\n",
    "\n",
    "print(f\"Number {n} has occured {count} times.\")"
   ]
  }
 ],
 "metadata": {
  "kernelspec": {
   "display_name": "Python 3 (ipykernel)",
   "language": "python",
   "name": "python3"
  },
  "language_info": {
   "codemirror_mode": {
    "name": "ipython",
    "version": 3
   },
   "file_extension": ".py",
   "mimetype": "text/x-python",
   "name": "python",
   "nbconvert_exporter": "python",
   "pygments_lexer": "ipython3",
   "version": "3.9.7"
  }
 },
 "nbformat": 4,
 "nbformat_minor": 5
}
