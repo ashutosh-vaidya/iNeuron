{
 "cells": [
  {
   "cell_type": "markdown",
   "id": "cdaf80f5",
   "metadata": {},
   "source": [
    "**1.How do you distinguish between shutil.copy() and shutil.copytree()?**\n",
    "\n",
    "**Ans:** While `shutil.copy()` will copy a single file, `shutil.copytree()` will copy an entire folder and every folder and file contained in it.\n",
    "\n",
    "**2.What function is used to rename files??**\n",
    "\n",
    "**Ans:** `os.rename()` can be used to rename files.\n",
    "\n",
    "**3.What is the difference between the delete functions in the send2trash and shutil modules?**\n",
    "\n",
    "**Ans:** The `send2trash` functions will move a file or folder to the recycle bin, while `shutil` functions will permanently delete files and folders.\n",
    "\n",
    "**4.ZipFile objects have a close() method just like File objects’ close() method. What ZipFile method is equivalent to File objects’ open() method?**\n",
    "\n",
    "**Ans:** Zipfile method equivalant to open is `zipfile.ZipFile()`\n",
    "\n",
    "**5.Create a programme that searches a folder tree for files with a certain file extension (such as .pdf or .jpg). Copy these files from whatever location they are in to a new folder.**"
   ]
  },
  {
   "cell_type": "code",
   "execution_count": 41,
   "id": "19aaf42c",
   "metadata": {},
   "outputs": [
    {
     "name": "stdout",
     "output_type": "stream",
     "text": [
      "Current working directory : C:\\Dev\n",
      "C:\\Dev\\Data Science books\n",
      "C:\\Dev\\books\n",
      "Searhing C:\\Dev\\Data Science books for files with .pdf extensions\n",
      "Coping C:\\Dev\\Data Science books\\2019BurkovTheHundred-pageMachineLearning.pdf to C:\\Dev\\books\n",
      "Coping C:\\Dev\\Data Science books\\40 Artificial Intelligence Questions.pdf to C:\\Dev\\books\n",
      "Coping C:\\Dev\\Data Science books\\aima2010.pdf to C:\\Dev\\books\n",
      "Coping C:\\Dev\\Data Science books\\Algorithms Notes for Professionals.pdf to C:\\Dev\\books\n",
      "Coping C:\\Dev\\Data Science books\\Coding Interview Preparation.pdf to C:\\Dev\\books\n",
      "Coping C:\\Dev\\Data Science books\\Data Science Cheatsheet.pdf to C:\\Dev\\books\n",
      "Coping C:\\Dev\\Data Science books\\Data Science from Scratch.pdf to C:\\Dev\\books\n",
      "Coping C:\\Dev\\Data Science books\\Data Science Interview Questions.pdf to C:\\Dev\\books\n",
      "Coping C:\\Dev\\Data Science books\\deeplearningwithpython.pdf to C:\\Dev\\books\n",
      "Coping C:\\Dev\\Data Science books\\Hands on Machine Learning with Scikit Learn and Tensorflow.pdf to C:\\Dev\\books\n",
      "Coping C:\\Dev\\Data Science books\\linearAlgebra_4pgs.pdf to C:\\Dev\\books\n",
      "Coping C:\\Dev\\Data Science books\\Machine Learning for.pdf to C:\\Dev\\books\n",
      "Coping C:\\Dev\\Data Science books\\Natural Language Processing with Python.pdf to C:\\Dev\\books\n",
      "Coping C:\\Dev\\Data Science books\\Practical Statistics for Data Scientists.pdf to C:\\Dev\\books\n",
      "Coping C:\\Dev\\Data Science books\\Python-for-Data-Analysis.pdf to C:\\Dev\\books\n",
      "Coping C:\\Dev\\Data Science books\\Top 50 ML interview questions.pdf to C:\\Dev\\books\n",
      "Coping C:\\Dev\\Data Science books\\Visual Deep Learning.pdf to C:\\Dev\\books\n"
     ]
    }
   ],
   "source": [
    "import os\n",
    "import shutil\n",
    "\n",
    "def selectiveCopy(folder,extensions,destination):\n",
    "    folder = os.path.abspath(folder)\n",
    "    print(folder)\n",
    "    destination = os.path.abspath(destination)\n",
    "    print(destination)\n",
    "    print(f\"Searhing {folder} for files with {','.join(extensions)} extensions\")\n",
    "    for foldername, subfolders, files in os.walk(folder):\n",
    "        for file in files:\n",
    "            name, extension = os.path.splitext(file)           \n",
    "            if extension in extensions:\n",
    "                fileAbsPath = foldername + os.path.sep + file\n",
    "                print('Coping', fileAbsPath, 'to', destination)\n",
    "                shutil.copy(fileAbsPath, destination)    \n",
    "\n",
    "print(f\"Current working directory : {os.getcwd()}\")\n",
    "os.chdir(\"C:\\\\Dev\")\n",
    "source = \"Data Science books\"\n",
    "destination = \"books\" \n",
    "ext = ['.pdf']\n",
    "selectiveCopy(source,ext,destination)"
   ]
  }
 ],
 "metadata": {
  "kernelspec": {
   "display_name": "Python 3 (ipykernel)",
   "language": "python",
   "name": "python3"
  },
  "language_info": {
   "codemirror_mode": {
    "name": "ipython",
    "version": 3
   },
   "file_extension": ".py",
   "mimetype": "text/x-python",
   "name": "python",
   "nbconvert_exporter": "python",
   "pygments_lexer": "ipython3",
   "version": "3.9.7"
  }
 },
 "nbformat": 4,
 "nbformat_minor": 5
}
