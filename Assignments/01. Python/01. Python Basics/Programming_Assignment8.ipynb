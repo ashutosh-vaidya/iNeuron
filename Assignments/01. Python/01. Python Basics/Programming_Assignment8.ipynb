{
 "cells": [
  {
   "cell_type": "markdown",
   "id": "ed3376be",
   "metadata": {},
   "source": [
    "**1.Write a Python Program to Add Two Matrices?**"
   ]
  },
  {
   "cell_type": "code",
   "execution_count": 3,
   "id": "7c797988",
   "metadata": {},
   "outputs": [
    {
     "name": "stdout",
     "output_type": "stream",
     "text": [
      "[[2, 4, 6], [8, 10, 12], [14, 16, 18]]\n"
     ]
    }
   ],
   "source": [
    "m1 = [[1,2,3],[4,5,6],[7,8,9]]\n",
    "m2 = [[1,2,3],[4,5,6],[7,8,9]]\n",
    "\n",
    "result = [[0,0,0],[0,0,0],[0,0,0]]\n",
    "\n",
    "for i in range(len(m1)): #rows\n",
    "    for j in range(len(m2)): #columns\n",
    "        result[i][j] = m1[i][j] + m2[i][j]\n",
    "        \n",
    "print(result)"
   ]
  },
  {
   "cell_type": "code",
   "execution_count": 5,
   "id": "b984c52d",
   "metadata": {},
   "outputs": [
    {
     "name": "stdout",
     "output_type": "stream",
     "text": [
      "[[ 2  4  6]\n",
      " [ 8 10 12]\n",
      " [14 16 18]]\n"
     ]
    }
   ],
   "source": [
    "#using numpy\n",
    "\n",
    "import numpy as np\n",
    "m1 = np.array([[1,2,3],[4,5,6],[7,8,9]])\n",
    "m2 = np.array([[1,2,3],[4,5,6],[7,8,9]])\n",
    "\n",
    "print(m1+m2)"
   ]
  },
  {
   "cell_type": "markdown",
   "id": "86645ca4",
   "metadata": {},
   "source": [
    "**2.Write a Python Program to Multiply Two Matrices?**"
   ]
  },
  {
   "cell_type": "code",
   "execution_count": 6,
   "id": "1093eacd",
   "metadata": {},
   "outputs": [
    {
     "name": "stdout",
     "output_type": "stream",
     "text": [
      "[[1, 4, 9], [16, 25, 36], [49, 64, 81]]\n"
     ]
    }
   ],
   "source": [
    "m1 = [[1,2,3],[4,5,6],[7,8,9]]\n",
    "m2 = [[1,2,3],[4,5,6],[7,8,9]]\n",
    "\n",
    "result = [[0,0,0],[0,0,0],[0,0,0]]\n",
    "\n",
    "for i in range(len(m1)): #rows\n",
    "    for j in range(len(m2)): #columns\n",
    "        result[i][j] = m1[i][j] * m2[i][j]\n",
    "        \n",
    "print(result)"
   ]
  },
  {
   "cell_type": "code",
   "execution_count": 10,
   "id": "b47faae0",
   "metadata": {},
   "outputs": [
    {
     "name": "stdout",
     "output_type": "stream",
     "text": [
      "[[ 1  4  9]\n",
      " [16 25 36]\n",
      " [49 64 81]]\n"
     ]
    }
   ],
   "source": [
    "#using numpy\n",
    "\n",
    "import numpy as np\n",
    "m1 = np.array([[1,2,3],[4,5,6],[7,8,9]])\n",
    "m2 = np.array([[1,2,3],[4,5,6],[7,8,9]])\n",
    "\n",
    "print(m1*m2)"
   ]
  },
  {
   "cell_type": "markdown",
   "id": "344ec0df",
   "metadata": {},
   "source": [
    "**3.Write a Python Program to Transpose a Matrix**"
   ]
  },
  {
   "cell_type": "code",
   "execution_count": 17,
   "id": "6c9ba09e",
   "metadata": {},
   "outputs": [
    {
     "name": "stdout",
     "output_type": "stream",
     "text": [
      "[[1, 4], [2, 5], [3, 6]]\n"
     ]
    }
   ],
   "source": [
    "m1 = [[1,2,3],[4,5,6]]\n",
    "\n",
    "result = [[0,0],[0,0], [0,0]]\n",
    "\n",
    "for i in range(len(m1)): #rows\n",
    "    for j in range(len(m1[0])): #columns\n",
    "        result[j][i] = m1[i][j]        \n",
    "print(result)"
   ]
  },
  {
   "cell_type": "code",
   "execution_count": 20,
   "id": "3d2ccabd",
   "metadata": {},
   "outputs": [
    {
     "data": {
      "text/plain": [
       "array([[1, 4],\n",
       "       [2, 5],\n",
       "       [3, 6]])"
      ]
     },
     "execution_count": 20,
     "metadata": {},
     "output_type": "execute_result"
    }
   ],
   "source": [
    "#using numpy\n",
    "\n",
    "import numpy as np\n",
    "m1 = np.array([[1,2,3],[4,5,6]])\n",
    "\n",
    "np.transpose(m1)"
   ]
  },
  {
   "cell_type": "markdown",
   "id": "43523c07",
   "metadata": {},
   "source": [
    "**4.Write a Python Program to Sort Words in Alphabetic Order?**"
   ]
  },
  {
   "cell_type": "code",
   "execution_count": 38,
   "id": "f93fb562",
   "metadata": {},
   "outputs": [
    {
     "name": "stdout",
     "output_type": "stream",
     "text": [
      "['Alphabetic', 'An', 'From', 'In', 'Need', 'Order.', 'Sort', 'String', 'The', 'This', 'To', 'Words']\n"
     ]
    }
   ],
   "source": [
    "s = \"Need to sort the words from this string in an alphabetic order.\"\n",
    "l = s.title().split() # if title is not used then Capital letter takes precedence on lower letter\n",
    "l.sort()\n",
    "print(l)"
   ]
  },
  {
   "cell_type": "markdown",
   "id": "8b5c5c6e",
   "metadata": {},
   "source": [
    "**5.Write a Python Program to Remove Punctuation From a String**"
   ]
  },
  {
   "cell_type": "code",
   "execution_count": 39,
   "id": "e4a209ab",
   "metadata": {},
   "outputs": [
    {
     "name": "stdout",
     "output_type": "stream",
     "text": [
      "abcd111sdas\n"
     ]
    }
   ],
   "source": [
    "import string\n",
    "s = 'abcd#$1~^%@11sdas'\n",
    "\n",
    "for character in string.punctuation:\n",
    "    s = s.replace(character, '')\n",
    "\n",
    "print(s)"
   ]
  }
 ],
 "metadata": {
  "kernelspec": {
   "display_name": "Python 3 (ipykernel)",
   "language": "python",
   "name": "python3"
  },
  "language_info": {
   "codemirror_mode": {
    "name": "ipython",
    "version": 3
   },
   "file_extension": ".py",
   "mimetype": "text/x-python",
   "name": "python",
   "nbconvert_exporter": "python",
   "pygments_lexer": "ipython3",
   "version": "3.9.7"
  }
 },
 "nbformat": 4,
 "nbformat_minor": 5
}
