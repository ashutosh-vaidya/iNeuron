{
 "cells": [
  {
   "cell_type": "markdown",
   "id": "4686aba3",
   "metadata": {},
   "source": [
    "**1.Why are functions advantageous to have in your programs?**\n",
    "\n",
    "**Ans:** Below are some advantages of using functions in a program:\n",
    "- Function can eliminate the duplication of code by allowing the reuse of the code\n",
    "- Function improve the clarity and readability of the code.\n",
    "- Function can make code easy to understand by breaking complex logic into smaller chunks\n",
    "- Breaking code into smaller chunks also helps in maintaining the code and updating specific parts of code becomes easier.\n",
    "- Function can be used to hide certain information if needed."
   ]
  },
  {
   "cell_type": "markdown",
   "id": "4e5c4616",
   "metadata": {},
   "source": [
    "**2.When does the code in a function run: when it's specified or when it's called?**\n",
    "\n",
    "**Ans:** For executing the function, we need to call the function. When the function is specified it just creates its definition and did not run it."
   ]
  },
  {
   "cell_type": "markdown",
   "id": "6ae2c055",
   "metadata": {},
   "source": [
    "**3.What statement creates a function?**\n",
    "\n",
    "**Ans:** Function can be created by using keyword `def`. Below is basic function sytnax:\n",
    "```python\n",
    "def functionname():\n",
    "    dosomething\n",
    "    return\n",
    "```"
   ]
  },
  {
   "cell_type": "markdown",
   "id": "3b040c87",
   "metadata": {},
   "source": [
    "**4.What is the difference between a function and a function call?**\n",
    "\n",
    "**Ans:** `Function` is the reusable definition of the code block. To use this code block and get the desired result we will need to execute the function, this process of executing the function is called `Function Call`."
   ]
  },
  {
   "cell_type": "markdown",
   "id": "642dda85",
   "metadata": {},
   "source": [
    "**5.How many global scopes are there in a Python program? How many local scopes?**\n",
    "\n",
    "**Ans:** \n",
    "    \n",
    "There is only one **Global** scope in python. The variable defined in the global scope can be accessed anywhere throughout the program.\n",
    "\n",
    "**Local scope** is the scope of a variable defined within a function. Its scope lies only with the function, it is not accessible outside of the function. New local scope is created whenever a function is called, so the numbers of total local scopes depend on the number of function calls."
   ]
  },
  {
   "cell_type": "markdown",
   "id": "240dd61b",
   "metadata": {},
   "source": [
    "**6.What happens to variables in a local scope when the function call returns?**\n",
    "\n",
    "**Ans:** When the function call returns or completes the local scope for that function is destroyed. Since the local scope no longer exists, the variables in that function are lost and no longer accessible."
   ]
  },
  {
   "cell_type": "markdown",
   "id": "79ad25ed",
   "metadata": {},
   "source": [
    "**7.What is the concept of a return value? Is it possible to have a return value in an expression?**\n",
    "\n",
    "**Ans:** `return` is special statement used in functions which can be used to send the function's result back to the caller. The return value can be of any python object and yes they can be used in the expressions."
   ]
  },
  {
   "cell_type": "markdown",
   "id": "211df6a6",
   "metadata": {},
   "source": [
    "**8.If a function does not have a return statement, what is the return value of a call to that function?**\n",
    "\n",
    "**Ans:** If function does not have a return statement, then the return value of function will be `None`"
   ]
  },
  {
   "cell_type": "markdown",
   "id": "6c0bf429",
   "metadata": {},
   "source": [
    "**9.How do you make a function variable refer to the global variable?**\n",
    "\n",
    "**Ans:** Global variables are accessible throughout the program.  In case you want to make the function variable global and allow it to use outside of the function's local scope then we can use the keyword `global`  to force the function variable to act as a global variable."
   ]
  },
  {
   "cell_type": "markdown",
   "id": "19688ebd",
   "metadata": {},
   "source": [
    "**10.What is the data type of None?**\n",
    "\n",
    "**Ans:** The data type of None is `NoneType`."
   ]
  },
  {
   "cell_type": "markdown",
   "id": "1fedd146",
   "metadata": {},
   "source": [
    "**11.What does the sentence import areallyourpetsnamederic do?**\n",
    "\n",
    "**Ans:** \n",
    "```python \n",
    "import areallyourpetsnamederic\n",
    "``` \n",
    "will import all the methods and code from the module `areallyourpetsnamederic`"
   ]
  },
  {
   "cell_type": "markdown",
   "id": "df455cd5",
   "metadata": {},
   "source": [
    "**12.If you had a bacon() feature in a spam module, what would you call it after importing spam?**\n",
    "\n",
    "**Ans:** the function can be called using follwing code lines:\n",
    "```python\n",
    "import spam\n",
    "spam.bacon()\n",
    "```"
   ]
  },
  {
   "cell_type": "markdown",
   "id": "b56c7a98",
   "metadata": {},
   "source": [
    "**13.What can you do to save a programme from crashing if it encounters an error?**\n",
    "\n",
    "**Ans:** We can enclose the code which is causing error in a `try` and use `except` to catch and handle the error."
   ]
  },
  {
   "cell_type": "markdown",
   "id": "f50fda68",
   "metadata": {},
   "source": [
    "**14.What is the purpose of the try clause? What is the purpose of the except clause?**\n",
    "\n",
    "**Ans:** The purpose of `try` is to prevent the program from crashing due to unexpected and unhandled error. If any unhandled error in encounter in try block it goes to 'except' block where we can take appropriate action to gracefully handle the error and prevent break into program flow. "
   ]
  }
 ],
 "metadata": {
  "kernelspec": {
   "display_name": "Python 3 (ipykernel)",
   "language": "python",
   "name": "python3"
  },
  "language_info": {
   "codemirror_mode": {
    "name": "ipython",
    "version": 3
   },
   "file_extension": ".py",
   "mimetype": "text/x-python",
   "name": "python",
   "nbconvert_exporter": "python",
   "pygments_lexer": "ipython3",
   "version": "3.9.7"
  }
 },
 "nbformat": 4,
 "nbformat_minor": 5
}
