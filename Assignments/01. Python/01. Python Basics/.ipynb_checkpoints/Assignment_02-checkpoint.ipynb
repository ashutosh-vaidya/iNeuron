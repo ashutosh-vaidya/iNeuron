{
 "cells": [
  {
   "cell_type": "markdown",
   "id": "e0fd3e72",
   "metadata": {},
   "source": [
    "**1.What are the two values of the Boolean data type? How do you write them?**\n",
    "\n",
    "**Ans:** The two values of boolean data types are true and false which are written as **`True`** and **`False`**. Internally python evaluates true as `1` and false as `0`."
   ]
  },
  {
   "cell_type": "markdown",
   "id": "c912f12f",
   "metadata": {},
   "source": [
    "**2.What are the three different types of Boolean operators?**\n",
    "\n",
    "**Ans:** \n",
    "There are two binary boolean operators namely **`and`** and **`or`** \n",
    "\n",
    "Also, there is the **`not`** operator which is the logical boolean operator which compliments the variable's current boolean value i.e. if the value of a variable is True then the not operator will return False and vice versa."
   ]
  },
  {
   "cell_type": "markdown",
   "id": "c5c0a5fc",
   "metadata": {},
   "source": [
    "**3.Make a list of each Boolean operator's truth tables (i.e. every possible combination of Boolean values for the operator and what it evaluate ).**\n",
    "\n",
    "**Ans:**\n",
    "\n",
    "Truth table for **`and`**\n",
    "\n",
    "|Expression|Evaluates to|\n",
    "|:-:|:-:|\n",
    "| True and True |True|\n",
    "| True and False |False|\n",
    "| False and True |False|\n",
    "| False and False |False|\n",
    "\n",
    "Truth table for **`or`**\n",
    "\n",
    "|Expression|Evaluates to|\n",
    "|:-:|:-:|\n",
    "| True or True |True|\n",
    "| True or False |True|\n",
    "| False or True |True|\n",
    "| False or False |False|\n",
    "\n",
    "Truth table for **`not`**\n",
    "\n",
    "|Expression|Evaluates to|\n",
    "|:-:|:-:|\n",
    "| not True |False|\n",
    "| not False |True|"
   ]
  },
  {
   "cell_type": "markdown",
   "id": "700c1095",
   "metadata": {},
   "source": [
    "**4. What are the values of the following expressions?**\n",
    "\n",
    "\n",
    "- (5 > 4) and (3 == 5) : Evaluates to `False`\n",
    "- not (5 > 4) : Evaluates to `False`\n",
    "- (5 > 4) or (3 == 5) : Evaluates to `True`\n",
    "- not ((5 > 4) or (3 == 5)) : Evaluates to `False`\n",
    "- (True and True) and (True == False) : : Evaluates to `False`\n",
    "- (not False) or (not True) : : Evaluates to `True`\n",
    "\n",
    "Let's verify it:"
   ]
  },
  {
   "cell_type": "code",
   "execution_count": 1,
   "id": "c6be58d9",
   "metadata": {},
   "outputs": [
    {
     "data": {
      "text/plain": [
       "False"
      ]
     },
     "execution_count": 1,
     "metadata": {},
     "output_type": "execute_result"
    }
   ],
   "source": [
    "(5 > 4) and (3 == 5)"
   ]
  },
  {
   "cell_type": "code",
   "execution_count": 2,
   "id": "1b5797c3",
   "metadata": {},
   "outputs": [
    {
     "data": {
      "text/plain": [
       "False"
      ]
     },
     "execution_count": 2,
     "metadata": {},
     "output_type": "execute_result"
    }
   ],
   "source": [
    "not (5 > 4)"
   ]
  },
  {
   "cell_type": "code",
   "execution_count": 3,
   "id": "0ab62e39",
   "metadata": {},
   "outputs": [
    {
     "data": {
      "text/plain": [
       "True"
      ]
     },
     "execution_count": 3,
     "metadata": {},
     "output_type": "execute_result"
    }
   ],
   "source": [
    "(5 > 4) or (3 == 5)"
   ]
  },
  {
   "cell_type": "code",
   "execution_count": 4,
   "id": "bbd73ca6",
   "metadata": {},
   "outputs": [
    {
     "data": {
      "text/plain": [
       "False"
      ]
     },
     "execution_count": 4,
     "metadata": {},
     "output_type": "execute_result"
    }
   ],
   "source": [
    "not ((5 > 4) or (3 == 5)) "
   ]
  },
  {
   "cell_type": "code",
   "execution_count": 5,
   "id": "bc8750f0",
   "metadata": {},
   "outputs": [
    {
     "data": {
      "text/plain": [
       "False"
      ]
     },
     "execution_count": 5,
     "metadata": {},
     "output_type": "execute_result"
    }
   ],
   "source": [
    "(True and True) and (True == False)"
   ]
  },
  {
   "cell_type": "code",
   "execution_count": 6,
   "id": "d5a718d7",
   "metadata": {},
   "outputs": [
    {
     "data": {
      "text/plain": [
       "True"
      ]
     },
     "execution_count": 6,
     "metadata": {},
     "output_type": "execute_result"
    }
   ],
   "source": [
    "(not False) or (not True)"
   ]
  },
  {
   "cell_type": "markdown",
   "id": "244c08a0",
   "metadata": {},
   "source": [
    "**5.What are the six comparison operators?**\n",
    "\n",
    "**Ans:** There are six differnt comparison Operators which evalutes to boolean result. They are described in below table.\n",
    "\n",
    "|Operation|Meaning|\n",
    "|:-:|:-:|\n",
    "| **==** |Equal to|\n",
    "| **<** |Less than|\n",
    "| **>** |Greater than|\n",
    "| **!=** |Not equal to|\n",
    "| **<=** |Less than or equal to|\n",
    "| **>=** |Greater than or equal to|\n"
   ]
  },
  {
   "cell_type": "markdown",
   "id": "c5032730",
   "metadata": {},
   "source": [
    "**6.How do you tell the difference between the equal to and assignment operators?Describe a condition and when you would use one.**\n",
    "\n",
    "**Ans:** Equal or equality operator is denoted by double equal to mark whereas assignment operator is denoted by single equal to marks.\n",
    "\n",
    "**`=`** : this is the assignment operator\n",
    "\n",
    "**`==`** : this is an equality operator\n",
    "\n",
    "The assignment operator is used when we want to store some value in the variable, whereas the equality operator is used when we want to compare the values of one or more variables. The equality operator is commonly used with the if statements.\n",
    "\n",
    "Example:"
   ]
  },
  {
   "cell_type": "code",
   "execution_count": 7,
   "id": "631482af",
   "metadata": {},
   "outputs": [
    {
     "name": "stdout",
     "output_type": "stream",
     "text": [
      "a = 10, b = 15\n",
      "False\n",
      "a is not equal to b\n"
     ]
    }
   ],
   "source": [
    "a = 10 # This will assign value 10 to variable a \n",
    "b = 15 # This will assign value 15 to variable a \n",
    "print(f\"a = {a}, b = {b}\")\n",
    "print(a == b) # This will compare equality of value's a and b and return true or false\n",
    "if(a == b): \n",
    "    print(\"a is equal to b\")\n",
    "else:\n",
    "    print(\"a is not equal to b\")"
   ]
  },
  {
   "cell_type": "markdown",
   "id": "d659f2fc",
   "metadata": {},
   "source": [
    "**7.Identify the three blocks in this code:**\n",
    "\n",
    "```python\n",
    "spam = 0\n",
    "if spam == 10:\n",
    "print('eggs')\n",
    "if spam > 5:\n",
    "print('bacon')\n",
    "else:\n",
    "print('ham')\n",
    "print('spam')\n",
    "print('spam')\n",
    "```"
   ]
  },
  {
   "cell_type": "code",
   "execution_count": 8,
   "id": "b2e059e9",
   "metadata": {},
   "outputs": [
    {
     "name": "stdout",
     "output_type": "stream",
     "text": [
      "ham\n",
      "spam\n",
      "spam\n"
     ]
    }
   ],
   "source": [
    "spam = 0\n",
    "#---Start of block 1---\n",
    "if spam == 10:\n",
    "    print('eggs')\n",
    "#---End of block 1---\n",
    "#---Start of block2 --\n",
    "if spam > 5:\n",
    "    print('bacon')\n",
    "#---End of block2 ---\n",
    "#---Start of block3 ---\n",
    "else:\n",
    "    print('ham')\n",
    "#---End of block3 ---\n",
    "print('spam')\n",
    "print('spam')"
   ]
  },
  {
   "cell_type": "markdown",
   "id": "c2eee445",
   "metadata": {},
   "source": [
    "**8.Write code that prints Hello if 1 is stored in spam, prints Howdy if 2 is stored in spam, and prints Greetings! if anything else is stored in spam.**"
   ]
  },
  {
   "cell_type": "code",
   "execution_count": 9,
   "id": "1a858298",
   "metadata": {},
   "outputs": [
    {
     "name": "stdout",
     "output_type": "stream",
     "text": [
      "Please enter a value for spam: 445\n",
      "Greetings!\n"
     ]
    }
   ],
   "source": [
    "spam = int(input(\"Please enter a value for spam: \"))\n",
    "if spam == 1:\n",
    "    print(\"Hello\")\n",
    "elif spam == 2:\n",
    "    print(\"Howdy\")\n",
    "else:\n",
    "    print(\"Greetings!\")\n",
    "    \n",
    "#Outputs:\n",
    "# Please enter a value for spam: 1\n",
    "# Hello\n",
    "\n",
    "#Please enter a value for spam: 2\n",
    "#Howdy"
   ]
  },
  {
   "cell_type": "markdown",
   "id": "5f010cff",
   "metadata": {},
   "source": [
    "**9.If your programme is stuck in an endless loop, what keys you’ll press?**\n",
    "\n",
    "**Ans:** Pressing `Ctrl+c` key will terminate the endless loop. "
   ]
  },
  {
   "cell_type": "markdown",
   "id": "720579a0",
   "metadata": {},
   "source": [
    "**10. How can you tell the difference between break and continue?**\n",
    "\n",
    "**Ans:** Below are some differences between `break` and `continue`\n",
    "\n",
    "|break|continue|\n",
    "|:-:|:-:|\n",
    "| Break terminates the execution of all the remaining iteration of the loop.  | Continue will terminate only th current iteration of the loop.|\n",
    "|Break will resume the control of the program at the end of the loop enclosing it.| Continue will resume the control of the program to the next iteration of the loop enclosing it.|\n",
    "|Break can be used with `switch` and `label`|Continue is not compatible with `switch` and `label`|\n"
   ]
  },
  {
   "cell_type": "markdown",
   "id": "d0607614",
   "metadata": {},
   "source": [
    "**11. In a for loop, what is the difference between range(10), range(0, 10), and range(0, 10, 1)?**\n",
    "\n",
    "**Ans:** The syntax for range is `range(start, stop, step)` where \n",
    "- `strat` refers to stating position/index and has default value as 0th index\n",
    "- `stop` refers to the end position/index, mandatory argument. in the case of an iterable object, it will consider the total len of the object if not given.\n",
    "- `step` refers to increment or decrement of position, default value is increment by 1\n",
    "\n",
    "With this knowledge, let us understand the statement given in the problem:\n",
    "- range(10) : This means iterate from default position 0 till position 9 excluding position 10\n",
    "- range(0,10) : Similar to above but starting position is explicitly given as 0\n",
    "- range(0,10,1) : This means iterating from starting position of 0 till 9 excluding 10 with an increment of 1 step at a time."
   ]
  },
  {
   "cell_type": "markdown",
   "id": "c1d3d31e",
   "metadata": {},
   "source": [
    "**12. Write a short program that prints the numbers 1 to 10 using a for loop. Then write an equivalent program that prints the numbers 1 to 10 using a while loop.**"
   ]
  },
  {
   "cell_type": "code",
   "execution_count": 10,
   "id": "2fadb415",
   "metadata": {},
   "outputs": [
    {
     "name": "stdout",
     "output_type": "stream",
     "text": [
      "1\n",
      "2\n",
      "3\n",
      "4\n",
      "5\n",
      "6\n",
      "7\n",
      "8\n",
      "9\n",
      "10\n"
     ]
    }
   ],
   "source": [
    "#using for loop\n",
    "for i in range (1,11):\n",
    "    print(i)"
   ]
  },
  {
   "cell_type": "code",
   "execution_count": 11,
   "id": "e7c6a972",
   "metadata": {},
   "outputs": [
    {
     "name": "stdout",
     "output_type": "stream",
     "text": [
      "1\n",
      "2\n",
      "3\n",
      "4\n",
      "5\n",
      "6\n",
      "7\n",
      "8\n",
      "9\n",
      "10\n"
     ]
    }
   ],
   "source": [
    "#using while loop\n",
    "a = 1\n",
    "while a <= 10:\n",
    "    print(a)\n",
    "    a += 1"
   ]
  },
  {
   "cell_type": "markdown",
   "id": "8882503a",
   "metadata": {},
   "source": [
    "**13.If you had a function named bacon() inside a module named spam, how would you call it after importing spam?**\n",
    "\n",
    "**Ans** We can use following lines of code to call bacon()\n",
    "\n",
    "```python\n",
    "import spam\n",
    "spam.bacon()\n",
    "```"
   ]
  }
 ],
 "metadata": {
  "kernelspec": {
   "display_name": "Python 3 (ipykernel)",
   "language": "python",
   "name": "python3"
  },
  "language_info": {
   "codemirror_mode": {
    "name": "ipython",
    "version": 3
   },
   "file_extension": ".py",
   "mimetype": "text/x-python",
   "name": "python",
   "nbconvert_exporter": "python",
   "pygments_lexer": "ipython3",
   "version": "3.9.7"
  }
 },
 "nbformat": 4,
 "nbformat_minor": 5
}
