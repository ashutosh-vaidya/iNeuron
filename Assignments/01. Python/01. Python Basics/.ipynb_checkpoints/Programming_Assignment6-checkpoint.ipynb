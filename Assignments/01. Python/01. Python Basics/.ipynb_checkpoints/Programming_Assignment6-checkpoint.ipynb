{
 "cells": [
  {
   "cell_type": "markdown",
   "id": "2a2e309d",
   "metadata": {},
   "source": [
    "**1.Write a Python Program to Display Fibonacci Sequence Using Recursion?**"
   ]
  },
  {
   "cell_type": "code",
   "execution_count": 1,
   "id": "71166c01",
   "metadata": {},
   "outputs": [
    {
     "name": "stdout",
     "output_type": "stream",
     "text": [
      "Please enter a number: 10\n",
      "0\n",
      "1\n",
      "1\n",
      "2\n",
      "3\n",
      "5\n",
      "8\n",
      "13\n",
      "21\n",
      "34\n"
     ]
    }
   ],
   "source": [
    "def fibonacci(n):\n",
    "    if n <= 1:\n",
    "        return n\n",
    "    else: \n",
    "        return fibonacci(n-1) + fibonacci(n-2)\n",
    "    \n",
    "n = int(input(\"Please enter a number: \"))\n",
    "for i in range(n):\n",
    "    print(fibonacci(i))"
   ]
  },
  {
   "cell_type": "markdown",
   "id": "95e74ccf",
   "metadata": {},
   "source": [
    "**2.Write a Python Program to Find Factorial of Number Using Recursion?**"
   ]
  },
  {
   "cell_type": "code",
   "execution_count": 2,
   "id": "042f3685",
   "metadata": {},
   "outputs": [
    {
     "name": "stdout",
     "output_type": "stream",
     "text": [
      "Please enter a number: 7\n",
      "Factorial of 7 is : 5040\n"
     ]
    }
   ],
   "source": [
    "def factorial(n):\n",
    "    if n <= 1:\n",
    "        return 1\n",
    "    else:\n",
    "        result = n * factorial(n-1)\n",
    "        return result\n",
    "    \n",
    "n = int(input(\"Please enter a number: \"))\n",
    "print(f\"Factorial of {n} is : {factorial(n)}\")        "
   ]
  },
  {
   "cell_type": "markdown",
   "id": "ab94add2",
   "metadata": {},
   "source": [
    "**3. Write a Python Program to calculate your Body Mass Index?**"
   ]
  },
  {
   "cell_type": "code",
   "execution_count": 4,
   "id": "8180919a",
   "metadata": {},
   "outputs": [
    {
     "name": "stdout",
     "output_type": "stream",
     "text": [
      "Please enter height in meter: 1.65\n",
      "Please enter weight in KG's: 75\n",
      "BMI = 27.548209366391188\n"
     ]
    }
   ],
   "source": [
    "height = float(input(\"Please enter height in meter: \"))\n",
    "weight = float(input(\"Please enter weight in KG's: \"))\n",
    "\n",
    "bmi = weight / (height**2)\n",
    "\n",
    "print(f\"BMI = {bmi}\")"
   ]
  },
  {
   "cell_type": "markdown",
   "id": "bf7f55e3",
   "metadata": {},
   "source": [
    "**4.Write a Python Program to calculate the natural logarithm of any number?**"
   ]
  },
  {
   "cell_type": "code",
   "execution_count": 9,
   "id": "283f496a",
   "metadata": {},
   "outputs": [
    {
     "name": "stdout",
     "output_type": "stream",
     "text": [
      "Please enter a number: 1000\n",
      "Natural log of 1000 is = 6.90875477931522\n"
     ]
    }
   ],
   "source": [
    "import math\n",
    "n = int(input(\"Please enter a number: \"))\n",
    "print(f\"Natural log of {n} is = {math.log1p(n)}\")"
   ]
  },
  {
   "cell_type": "markdown",
   "id": "4e32cdeb",
   "metadata": {},
   "source": [
    "**5.Write a Python Program for cube sum of first n natural numbers?**"
   ]
  },
  {
   "cell_type": "code",
   "execution_count": 10,
   "id": "6aecbfb3",
   "metadata": {},
   "outputs": [
    {
     "name": "stdout",
     "output_type": "stream",
     "text": [
      "Please enter a number: 5\n",
      "Cube sum of first 5 natural numbers is: 225\n"
     ]
    }
   ],
   "source": [
    "n = int(input(\"Please enter a number: \"))\n",
    "if n < 0:\n",
    "    print(f\"{n} is not a natural number\")\n",
    "else:\n",
    "    sum = 0\n",
    "    for i in range(1, n+1):\n",
    "        sum += i**3\n",
    "    else:\n",
    "        print(f\"Cube sum of first {n} natural numbers is: {sum}\")"
   ]
  }
 ],
 "metadata": {
  "kernelspec": {
   "display_name": "Python 3 (ipykernel)",
   "language": "python",
   "name": "python3"
  },
  "language_info": {
   "codemirror_mode": {
    "name": "ipython",
    "version": 3
   },
   "file_extension": ".py",
   "mimetype": "text/x-python",
   "name": "python",
   "nbconvert_exporter": "python",
   "pygments_lexer": "ipython3",
   "version": "3.9.7"
  }
 },
 "nbformat": 4,
 "nbformat_minor": 5
}
