{
 "cells": [
  {
   "cell_type": "markdown",
   "id": "95cfc8c9",
   "metadata": {},
   "source": [
    "**Question1 Create a function that takes three parameters where:**\n",
    "\n",
    "- x is the start of the range (inclusive).\n",
    "- y is the end of the range (inclusive).\n",
    "- n is the divisor to be checked against.\n",
    "\n",
    "**Return an ordered list with numbers in the range that are divisible by the third parameter n. Return an empty list if there are no numbers that are divisible by n.**\n",
    "\n",
    "**Examples**\n",
    "```python\n",
    "list_operation(1, 10, 3) ➞ [3, 6, 9]\n",
    "\n",
    "list_operation(7, 9, 2) ➞ [8]\n",
    "\n",
    "list_operation(15, 20, 7) ➞ []\n",
    "\n",
    "```"
   ]
  },
  {
   "cell_type": "code",
   "execution_count": 1,
   "id": "dbd913e8",
   "metadata": {},
   "outputs": [
    {
     "name": "stdout",
     "output_type": "stream",
     "text": [
      "[3, 6, 9]\n",
      "[8]\n",
      "[]\n"
     ]
    }
   ],
   "source": [
    "def list_operation(a,b,n):\n",
    "    divisible_nums = []\n",
    "    for i in range(a,b):\n",
    "        if i % n == 0:\n",
    "            divisible_nums.append(i)\n",
    "    print(divisible_nums)\n",
    "    \n",
    "list_operation(1, 10, 3)\n",
    "list_operation(7, 9, 2)\n",
    "list_operation(15, 20, 7)"
   ]
  },
  {
   "cell_type": "markdown",
   "id": "612a99c1",
   "metadata": {},
   "source": [
    "**Question2 Create a function that takes in two lists and returns True if the second list follows the first list by one element, and False otherwise. In other words, determine if the second list is the first list shifted to the right by 1.**\n",
    "\n",
    "**Examples**\n",
    "```python\n",
    "simon_says([1, 2], [5, 1]) ➞ True\n",
    "\n",
    "simon_says([1, 2], [5, 5]) ➞ False\n",
    "\n",
    "simon_says([1, 2, 3, 4, 5], [0, 1, 2, 3, 4]) ➞ True\n",
    "\n",
    "simon_says([1, 2, 3, 4, 5], [5, 5, 1, 2, 3]) ➞ False\n",
    "\n",
    "```\n",
    "**Notes**\n",
    "- Both input lists will be of the same length, and will have a minimum length of 2.\n",
    "- The values of the 0-indexed element in the second list and the n-1th indexed element in the first list do not matter."
   ]
  },
  {
   "cell_type": "code",
   "execution_count": 3,
   "id": "cbfae2b0",
   "metadata": {},
   "outputs": [
    {
     "name": "stdout",
     "output_type": "stream",
     "text": [
      "True\n",
      "False\n",
      "True\n",
      "False\n",
      "Both list should be of the same length and have minimum length of 2\n",
      "Both list should be of the same length and have minimum length of 2\n"
     ]
    }
   ],
   "source": [
    "def simon_says(lst1, lst2):\n",
    "    if len(lst1) == len(lst2) and len(lst1) >= 2:\n",
    "        if lst1[:-1] == lst2[1:]:\n",
    "            print(True)\n",
    "        else :\n",
    "            print(False)\n",
    "    else:\n",
    "        print(\"Both list should be of the same length and have minimum length of 2\")\n",
    "        \n",
    "        \n",
    "simon_says([1, 2], [5, 1])\n",
    "simon_says([1, 2], [5, 5])\n",
    "simon_says([1, 2, 3, 4, 5], [0, 1, 2, 3, 4])\n",
    "simon_says([1, 2, 3, 4, 5], [5, 5, 1, 2, 3])\n",
    "simon_says([1, 2], [3, 5, 1])\n",
    "simon_says([1], [2])"
   ]
  },
  {
   "cell_type": "markdown",
   "id": "22651776",
   "metadata": {},
   "source": [
    "**Question3 A group of friends have decided to start a secret society. The name will be the first letter of each of their names, sorted in alphabetical order.**\n",
    "\n",
    "**Create a function that takes in a list of names and returns the name of the secret society.**\n",
    "\n",
    "**Examples**\n",
    "```python\n",
    "society_name([\"Adam\", \"Sarah\", \"Malcolm\"]) ➞ \"AMS\"\n",
    "\n",
    "society_name([\"Harry\", \"Newt\", \"Luna\", \"Cho\"]) ➞ \"CHLN\"\n",
    "\n",
    "society_name([\"Phoebe\", \"Chandler\", \"Rachel\", \"Ross\", \"Monica\", \"Joey\"])\n",
    "\n",
    "```"
   ]
  },
  {
   "cell_type": "code",
   "execution_count": 9,
   "id": "be6762a0",
   "metadata": {},
   "outputs": [
    {
     "name": "stdout",
     "output_type": "stream",
     "text": [
      "Secrete Society name for ['Adam', 'Sarah', 'Malcolm'] is => AMS\n",
      "Secrete Society name for ['Harry', 'Newt', 'Luna', 'Cho'] is => CHLN\n",
      "Secrete Society name for ['Phoebe', 'Chandler', 'Rachel', 'Ross', 'Monica', 'Joey'] is => CJMPRR\n"
     ]
    }
   ],
   "source": [
    "def society_name(lst):\n",
    "    name = \"\"\n",
    "    for word in sorted(lst):\n",
    "        name += word[0]    \n",
    "    print(f\"Secrete Society name for {lst} is => {name}\")\n",
    "\n",
    "\n",
    "society_name([\"Adam\", \"Sarah\", \"Malcolm\"])\n",
    "society_name([\"Harry\", \"Newt\", \"Luna\", \"Cho\"])\n",
    "society_name([\"Phoebe\", \"Chandler\", \"Rachel\", \"Ross\", \"Monica\", \"Joey\"])"
   ]
  },
  {
   "cell_type": "markdown",
   "id": "b6b7d1f6",
   "metadata": {},
   "source": [
    "**Question4 An isogram is a word that has no duplicate letters. Create a function that takes a string and returns either True or False depending on whether or not it's an \"isogram\".**\n",
    "\n",
    "**Examples**\n",
    "```python\n",
    "is_isogram(\"Algorism\") ➞ True\n",
    "\n",
    "is_isogram(\"PasSword\") ➞ False\n",
    "# Not case sensitive.\n",
    "\n",
    "is_isogram(\"Consecutive\") ➞ False\n",
    "\n",
    "```\n",
    "\n",
    "**Notes**\n",
    "- Ignore letter case (should not be case sensitive).\n",
    "- All test cases contain valid one word strings."
   ]
  },
  {
   "cell_type": "code",
   "execution_count": 10,
   "id": "025b1351",
   "metadata": {},
   "outputs": [
    {
     "name": "stdout",
     "output_type": "stream",
     "text": [
      "True\n",
      "False\n",
      "False\n"
     ]
    }
   ],
   "source": [
    "def is_isogram(s):\n",
    "    s = s.lower()\n",
    "    if len(s) == len(set(s)):\n",
    "        print(True)\n",
    "    else:\n",
    "        print(False)\n",
    "    \n",
    "is_isogram(\"Algorism\")\n",
    "is_isogram(\"PasSword\")\n",
    "is_isogram(\"Consecutive\")"
   ]
  },
  {
   "cell_type": "markdown",
   "id": "72c1c228",
   "metadata": {},
   "source": [
    "**Question5 Create a function that takes a string and returns True or False, depending on whether the characters are in order or not.**\n",
    "\n",
    "**Examples**\n",
    "```python\n",
    "is_in_order(\"abc\") ➞ True\n",
    "\n",
    "is_in_order(\"edabit\") ➞ False\n",
    "\n",
    "is_in_order(\"123\") ➞ True\n",
    "\n",
    "is_in_order(\"xyzz\") ➞ True\n",
    "\n",
    "```\n",
    "\n",
    "**Notes**\n",
    "\n",
    "You don't have to handle empty strings."
   ]
  },
  {
   "cell_type": "code",
   "execution_count": 11,
   "id": "927f4c7f",
   "metadata": {},
   "outputs": [
    {
     "name": "stdout",
     "output_type": "stream",
     "text": [
      "True\n",
      "False\n",
      "True\n",
      "True\n"
     ]
    }
   ],
   "source": [
    "def is_in_order(s):\n",
    "    sorted_str = ''.join(sorted(s))\n",
    "    if s == sorted_str:        \n",
    "        print(True)\n",
    "    else:\n",
    "        print(False)\n",
    "\n",
    "is_in_order(\"abc\")\n",
    "is_in_order(\"edabit\")\n",
    "is_in_order(\"123\")\n",
    "is_in_order(\"xyzz\")"
   ]
  }
 ],
 "metadata": {
  "kernelspec": {
   "display_name": "Python 3 (ipykernel)",
   "language": "python",
   "name": "python3"
  },
  "language_info": {
   "codemirror_mode": {
    "name": "ipython",
    "version": 3
   },
   "file_extension": ".py",
   "mimetype": "text/x-python",
   "name": "python",
   "nbconvert_exporter": "python",
   "pygments_lexer": "ipython3",
   "version": "3.9.7"
  }
 },
 "nbformat": 4,
 "nbformat_minor": 5
}
