{
 "cells": [
  {
   "cell_type": "markdown",
   "id": "99661db9",
   "metadata": {},
   "source": [
    "**1.Write a Python program to print \"Hello Python\"?**"
   ]
  },
  {
   "cell_type": "code",
   "execution_count": 2,
   "id": "1a62f723",
   "metadata": {},
   "outputs": [
    {
     "name": "stdout",
     "output_type": "stream",
     "text": [
      "Hello Python\n"
     ]
    }
   ],
   "source": [
    "print(\"Hello Python\")"
   ]
  },
  {
   "cell_type": "markdown",
   "id": "d58312f7",
   "metadata": {},
   "source": [
    "**2.Write a Python program to do arithmetical operations addition and division.?**"
   ]
  },
  {
   "cell_type": "code",
   "execution_count": 11,
   "id": "db1ea703",
   "metadata": {},
   "outputs": [
    {
     "name": "stdout",
     "output_type": "stream",
     "text": [
      "Please enter number 1: 56\n",
      "Please enter number 2: 4\n",
      "Addition of 56 and 4 is : 60\n",
      "Division of 56 and 4 is : 14.0\n"
     ]
    }
   ],
   "source": [
    "a = int(input(\"Please enter number 1: \"))\n",
    "b = int(input(\"Please enter number 2: \"))\n",
    "\n",
    "print(f\"Addition of {a} and {b} is : {a+b}\")\n",
    "print(f\"Division of {a} and {b} is : {a/b}\")"
   ]
  },
  {
   "cell_type": "markdown",
   "id": "fb348608",
   "metadata": {},
   "source": [
    "**3.Write a Python program to find the area of a triangle?**\n",
    "\n",
    "Area of traingle = (height * base) / 2"
   ]
  },
  {
   "cell_type": "code",
   "execution_count": 7,
   "id": "8e36f828",
   "metadata": {},
   "outputs": [
    {
     "name": "stdout",
     "output_type": "stream",
     "text": [
      "Please enter height of a traingle: 3\n",
      "Please enter base of a traingle: 4\n",
      "Area of a traingle = 6.0\n"
     ]
    }
   ],
   "source": [
    "h = int(input(\"Please enter height of a traingle: \"))\n",
    "b = int(input(\"Please enter base of a traingle: \"))\n",
    "\n",
    "area = (h * b)/2\n",
    "\n",
    "print(f\"Area of a traingle = {area}\")"
   ]
  },
  {
   "cell_type": "markdown",
   "id": "4318b32b",
   "metadata": {},
   "source": [
    "**4.Write a Python program to swap two variables?**"
   ]
  },
  {
   "cell_type": "code",
   "execution_count": 8,
   "id": "30577c99",
   "metadata": {},
   "outputs": [
    {
     "name": "stdout",
     "output_type": "stream",
     "text": [
      "Please enter first variable :11\n",
      "Please enter second variable :22\n",
      "Before swapping a = 11 b = 22\n",
      "After swapping a = 22 b = 11\n"
     ]
    }
   ],
   "source": [
    "a = input(\"Please enter first variable :\")\n",
    "b = input(\"Please enter second variable :\")\n",
    "\n",
    "print(f\"Before swapping a = {a} b = {b}\")\n",
    "\n",
    "a,b = b,a\n",
    "\n",
    "print(f\"After swapping a = {a} b = {b}\")"
   ]
  },
  {
   "cell_type": "markdown",
   "id": "87e1534a",
   "metadata": {},
   "source": [
    "**5.Write a Python program to generate a random number?**"
   ]
  },
  {
   "cell_type": "code",
   "execution_count": 9,
   "id": "516a8555",
   "metadata": {},
   "outputs": [
    {
     "name": "stdout",
     "output_type": "stream",
     "text": [
      "0.4706741195217229\n"
     ]
    }
   ],
   "source": [
    "import random\n",
    "num = random.random()\n",
    "print(num)"
   ]
  },
  {
   "cell_type": "code",
   "execution_count": null,
   "id": "25484b01",
   "metadata": {},
   "outputs": [],
   "source": []
  }
 ],
 "metadata": {
  "kernelspec": {
   "display_name": "Python 3 (ipykernel)",
   "language": "python",
   "name": "python3"
  },
  "language_info": {
   "codemirror_mode": {
    "name": "ipython",
    "version": 3
   },
   "file_extension": ".py",
   "mimetype": "text/x-python",
   "name": "python",
   "nbconvert_exporter": "python",
   "pygments_lexer": "ipython3",
   "version": "3.9.7"
  }
 },
 "nbformat": 4,
 "nbformat_minor": 5
}
