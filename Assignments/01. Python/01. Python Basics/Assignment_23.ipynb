{
 "cells": [
  {
   "cell_type": "markdown",
   "id": "bf0d756f",
   "metadata": {},
   "source": [
    "**1. What is the result of the code, and why?**"
   ]
  },
  {
   "cell_type": "code",
   "execution_count": 1,
   "id": "5b13dc25",
   "metadata": {},
   "outputs": [
    {
     "name": "stdout",
     "output_type": "stream",
     "text": [
      "1 2 8\n"
     ]
    }
   ],
   "source": [
    "def func(a, b=6, c=8):\n",
    "    print(a, b, c)\n",
    "func(1, 2)"
   ]
  },
  {
   "cell_type": "markdown",
   "id": "4ba92d7a",
   "metadata": {},
   "source": [
    "**Explanation:**\n",
    "- Here function has three parameters viz. **a,b** and **c**. \n",
    "- Parameters **b** and **c** have default parameter values **(6,8)** respectively.\n",
    "-  The function is called with values of only two arguments passed.\n",
    "- Using the positional argument rule two values **(1,2)** will be held by **a** and **b** respectively and since **c** does not have any value passed, will print default value **8**\n",
    "- Finally `print(a,b,c)` will print **`1 2 8`** as an output."
   ]
  },
  {
   "cell_type": "markdown",
   "id": "82f3421b",
   "metadata": {},
   "source": [
    "**2. What is the result of this code, and why?**"
   ]
  },
  {
   "cell_type": "code",
   "execution_count": 2,
   "id": "2b708644",
   "metadata": {},
   "outputs": [
    {
     "name": "stdout",
     "output_type": "stream",
     "text": [
      "1 2 3\n"
     ]
    }
   ],
   "source": [
    "def func(a, b, c=5):\n",
    "    print(a, b, c)\n",
    "func(1, c=3, b=2)"
   ]
  },
  {
   "cell_type": "markdown",
   "id": "92062d77",
   "metadata": {},
   "source": [
    "**Explanation:**\n",
    "- Here function has three parameters viz. **a,b** and **c**. \n",
    "- Parameter **c** has a default parameter value **5**.\n",
    "-  The function is called with one positional argument **a** which will hold value **1** and two keyword arguments **c = 3** this will overwrite the default value of c and **b = 2**. \n",
    "- `print(a,b,c)` will print **`1 2 3`** as an output."
   ]
  },
  {
   "cell_type": "markdown",
   "id": "34fa14fc",
   "metadata": {},
   "source": [
    "**3. How about this code: what is its result, and why?**"
   ]
  },
  {
   "cell_type": "code",
   "execution_count": 3,
   "id": "4b60bdae",
   "metadata": {},
   "outputs": [
    {
     "name": "stdout",
     "output_type": "stream",
     "text": [
      "1 (2, 3)\n"
     ]
    }
   ],
   "source": [
    "def func(a, *pargs):\n",
    "    print(a, pargs)\n",
    "func(1, 2, 3)"
   ]
  },
  {
   "cell_type": "markdown",
   "id": "80b7464f",
   "metadata": {},
   "source": [
    "**Explanation:**\n",
    "- The result of this code is **`1 (2,3)`**\n",
    "- Here, parameter **a** will hold the first value passed which is 1 \n",
    "- **`*pargs`** stands for variable length arguments and will store all the remaining values passed, as a tuple."
   ]
  },
  {
   "cell_type": "markdown",
   "id": "bce182fb",
   "metadata": {},
   "source": [
    "**4. What does this code print, and why?**"
   ]
  },
  {
   "cell_type": "code",
   "execution_count": 4,
   "id": "9eb16d99",
   "metadata": {},
   "outputs": [
    {
     "name": "stdout",
     "output_type": "stream",
     "text": [
      "1 {'c': 3, 'b': 2}\n"
     ]
    }
   ],
   "source": [
    "def func(a, **kargs):\n",
    "    print(a, kargs)\n",
    "func(a=1, c=3, b=2)"
   ]
  },
  {
   "cell_type": "markdown",
   "id": "f47b5925",
   "metadata": {},
   "source": [
    "**Explanation:**\n",
    "- The result of this code is **`1 { 'c' : 3, 'b' : 2 }`**\n",
    "- Here, parameter **a** is a keyword parameter \n",
    "- **`*kargs`** stands for variable length arguments and will store all the remaining values passed, as a dictionary because they are passed as key-value pairs."
   ]
  },
  {
   "cell_type": "markdown",
   "id": "5c2a21a0",
   "metadata": {},
   "source": [
    "**5. What gets printed by this, and explain?**"
   ]
  },
  {
   "cell_type": "code",
   "execution_count": 5,
   "id": "cf825b74",
   "metadata": {},
   "outputs": [
    {
     "name": "stdout",
     "output_type": "stream",
     "text": [
      "1 5 6 5\n"
     ]
    }
   ],
   "source": [
    "def func(a,b,c=8,d=5):\n",
    "    print(a,b,c,d)\n",
    "func(1,*(5,6))"
   ]
  },
  {
   "cell_type": "markdown",
   "id": "aa13261f",
   "metadata": {},
   "source": [
    "**Explanation:**\n",
    "- Here, parameter **a** is a keyword parameter, and value 1 is explicitly passed to it.\n",
    "- The function will expand `*(5,6)` and consider value 5 for **b** and 6 for **c**\n",
    "- Parameter **d** does not receive any value but has a default value set as 5.\n",
    "- Hence, the result of this code is **`1 5 6 5`**"
   ]
  },
  {
   "cell_type": "markdown",
   "id": "5ae578eb",
   "metadata": {},
   "source": [
    "**6. what is the result of this, and explain?**"
   ]
  },
  {
   "cell_type": "code",
   "execution_count": 6,
   "id": "01238872",
   "metadata": {},
   "outputs": [
    {
     "data": {
      "text/plain": [
       "(1, ['x'], {'a': 'y'})"
      ]
     },
     "execution_count": 6,
     "metadata": {},
     "output_type": "execute_result"
    }
   ],
   "source": [
    "def func(a, b, c): \n",
    "    a = 2; b[0] = 'x'; c['a'] = 'y'\n",
    "    \n",
    "l=1; m=[1]; n={'a':0}\n",
    "func(l, m, n)\n",
    "\n",
    "l, m, n"
   ]
  },
  {
   "cell_type": "markdown",
   "id": "59f8fb13",
   "metadata": {},
   "source": [
    "**Explanation:**\n",
    "- Here an integer **l**, a list **m**, and a dictionary **n** are passed as an argument to the function.\n",
    "-  In the function, these values are held by **a,b**, and **c** respectively.\n",
    "- An integer is immutable, hence even if the function modifies values outside the function variable **l** still unchanged and keeps its old value.\n",
    "- List and dictionary however are mutable, hence any modification inside the function also affects them outside. \n",
    "- Hence the final result is **`(1, ['x'], {'a': 'y'})`**"
   ]
  }
 ],
 "metadata": {
  "kernelspec": {
   "display_name": "Python 3 (ipykernel)",
   "language": "python",
   "name": "python3"
  },
  "language_info": {
   "codemirror_mode": {
    "name": "ipython",
    "version": 3
   },
   "file_extension": ".py",
   "mimetype": "text/x-python",
   "name": "python",
   "nbconvert_exporter": "python",
   "pygments_lexer": "ipython3",
   "version": "3.9.7"
  }
 },
 "nbformat": 4,
 "nbformat_minor": 5
}
