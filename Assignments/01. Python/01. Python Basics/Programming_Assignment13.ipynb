{
 "cells": [
  {
   "cell_type": "markdown",
   "id": "0dc8043a",
   "metadata": {},
   "source": [
    "**Question 1: Write a program that calculates and prints the value according to the given formula:**\n",
    "\n",
    "`Q = Square root of [(2 * C * D)/H]`\n",
    "\n",
    "Following are the fixed values of C and H:\n",
    "- C is 50.\n",
    "- H is 30.\n",
    "- D is the variable whose values should be input to your program in a comma-separated sequence.\n",
    "\n",
    "Example\n",
    "\n",
    "Let us assume the following comma separated input sequence is given to the program:\n",
    "\n",
    "100,150,180\n",
    "\n",
    "The output of the program should be:\n",
    "\n",
    "18,22,24\n"
   ]
  },
  {
   "cell_type": "code",
   "execution_count": 1,
   "id": "ebf65cc4",
   "metadata": {},
   "outputs": [
    {
     "name": "stdout",
     "output_type": "stream",
     "text": [
      "18,22,24\n"
     ]
    }
   ],
   "source": [
    "def calc(s):\n",
    "    c = 50\n",
    "    h = 30\n",
    "    l = s.split(\",\")\n",
    "    result = []\n",
    "    for d in l:\n",
    "        q =  str(int((2*c*int(d)/h)**0.5))\n",
    "        result.append(q)  \n",
    "    s = \",\".join(result)\n",
    "    print(s)    \n",
    "    \n",
    "calc(\"100,150,180\")"
   ]
  },
  {
   "cell_type": "markdown",
   "id": "30cf4605",
   "metadata": {},
   "source": [
    "**Question 2: Write a program which takes 2 digits, X,Y as input and generates a 2-dimensional array. The element value in the i-th row and j-th column of the array should be i*j.**\n",
    "\n",
    "Note: i=0,1.., X-1; j=0,1,¡¬Y-1.\n",
    "\n",
    "Example\n",
    "\n",
    "Suppose the following inputs are given to the program: 3,5\n",
    "\n",
    "Then, the output of the program should be:\n",
    "\n",
    "`[[0, 0, 0, 0, 0], [0, 1, 2, 3, 4], [0, 2, 4, 6, 8]]`\n"
   ]
  },
  {
   "cell_type": "code",
   "execution_count": 2,
   "id": "3bb377fa",
   "metadata": {},
   "outputs": [
    {
     "name": "stdout",
     "output_type": "stream",
     "text": [
      "[[0, 0, 0, 0, 0], [0, 1, 2, 3, 4], [0, 2, 4, 6, 8]]\n",
      "[[0, 0, 0, 0, 0, 0], [0, 1, 2, 3, 4, 5], [0, 2, 4, 6, 8, 10], [0, 3, 6, 9, 12, 15]]\n"
     ]
    }
   ],
   "source": [
    "def generateArray(x,y):\n",
    "    matrix = []\n",
    "    for i in range(x):\n",
    "        matrix.insert(x,[])\n",
    "        for j in range(y):\n",
    "            matrix[i].append(i*j)\n",
    "    print(matrix)\n",
    "    \n",
    "generateArray(3,5)\n",
    "generateArray(4,6)"
   ]
  },
  {
   "cell_type": "markdown",
   "id": "f55252ac",
   "metadata": {},
   "source": [
    "**Question 3: Write a program that accepts a comma separated sequence of words as input and prints the words in a comma-separated sequence after sorting them alphabetically.**\n",
    "\n",
    "Suppose the following input is supplied to the program:\n",
    "\n",
    "`without,hello,bag,world`\n",
    "\n",
    "Then, the output should be:\n",
    "\n",
    "`bag,hello,without,world`\n"
   ]
  },
  {
   "cell_type": "code",
   "execution_count": 3,
   "id": "6ba6fdd1",
   "metadata": {},
   "outputs": [
    {
     "name": "stdout",
     "output_type": "stream",
     "text": [
      "bag,hello,without,world\n",
      "apple,hello,noon,world,zebra\n"
     ]
    }
   ],
   "source": [
    "def sorting(s):\n",
    "    l = s.split(\",\")\n",
    "    l = sorted(l)\n",
    "    return \",\".join(l)\n",
    "\n",
    "print(sorting(\"without,hello,bag,world\"))\n",
    "print(sorting(\"world,hello,apple,zebra,noon\"))"
   ]
  },
  {
   "cell_type": "markdown",
   "id": "d56917ac",
   "metadata": {},
   "source": [
    "**Question 4: Write a program that accepts a sequence of whitespace separated words as input and prints the words after removing all duplicate words and sorting them alphanumerically.**\n",
    "\n",
    "Suppose the following input is supplied to the program:\n",
    "\n",
    "`hello world and practice makes perfect and hello world again`\n",
    "\n",
    "Then, the output should be:\n",
    "\n",
    "`again and hello makes perfect practice world`\n"
   ]
  },
  {
   "cell_type": "code",
   "execution_count": 4,
   "id": "0ab7b626",
   "metadata": {},
   "outputs": [
    {
     "name": "stdout",
     "output_type": "stream",
     "text": [
      "again and hello makes perfect practice world\n"
     ]
    }
   ],
   "source": [
    "def sorting1(s):\n",
    "    l = sorted(s.split(\" \"))\n",
    "    s1 = set(l)\n",
    "    l = sorted(list(s1))\n",
    "    return \" \".join(l)\n",
    "\n",
    "print(sorting1(\"hello world and practice makes perfect and hello world again\"))"
   ]
  },
  {
   "cell_type": "markdown",
   "id": "7ca03388",
   "metadata": {},
   "source": [
    "**Question 5.Write a program that accepts a sentence and calculate the number of letters and digits.**\n",
    "\n",
    "Suppose the following input is supplied to the program: `hello world! 123`\n",
    "\n",
    "Then, the output should be:\n",
    "\n",
    "`LETTERS 10\n",
    "DIGITS 3`"
   ]
  },
  {
   "cell_type": "code",
   "execution_count": 5,
   "id": "0201b6b5",
   "metadata": {},
   "outputs": [
    {
     "name": "stdout",
     "output_type": "stream",
     "text": [
      "String hello world! 123 contains: \n",
      "LETTERS 10\n",
      "DIGITS 3\n",
      "String hi there, hello. 0123456789 contains: \n",
      "LETTERS 12\n",
      "DIGITS 10\n"
     ]
    }
   ],
   "source": [
    "def countletteranddigits(s):\n",
    "    letters = 0\n",
    "    digits = 0\n",
    "    for i in s:\n",
    "        if(i.isdigit()):\n",
    "            digits += 1\n",
    "        elif(i.isalpha()):\n",
    "            letters +=1\n",
    "    \n",
    "    print(f\"LETTERS {letters}\")\n",
    "    print(f\"DIGITS {digits}\")\n",
    "    \n",
    "s1 = \"hello world! 123\"\n",
    "s2 = \"hi there, hello. 0123456789\"\n",
    "\n",
    "print(f\"String {s1} contains: \")\n",
    "countletteranddigits(s1)\n",
    "print(f\"String {s2} contains: \")\n",
    "countletteranddigits(s2)\n"
   ]
  },
  {
   "cell_type": "markdown",
   "id": "3144ac1c",
   "metadata": {},
   "source": [
    "**Question 6:\n",
    "A website requires the users to input username and password to register. Write a program to check the validity of password input by users.**\n",
    "\n",
    "Following are the criteria for checking the password:\n",
    "1. At least 1 letter between [a-z]\n",
    "\n",
    "2. At least 1 number between [0-9]\n",
    "\n",
    "3. At least 1 letter between [A-Z]\n",
    "\n",
    "4. At least 1 character from [$#@]\n",
    "\n",
    "5. Minimum length of transaction password: 6\n",
    "\n",
    "6. Maximum length of transaction password: 12\n",
    "\n",
    "Your program should accept a sequence of comma separated passwords and will check them according to the above criteria. Passwords that match the criteria are to be printed, each separated by a comma.\n",
    "\n",
    "Example\n",
    "\n",
    "If the following passwords are given as input to the program:\n",
    "\n",
    "`ABd1234@1,a F1#,2w3E*,2We3345`\n",
    "\n",
    "Then, the output of the program should be:\n",
    "\n",
    "`ABd1234@1`\n",
    "\n"
   ]
  },
  {
   "cell_type": "code",
   "execution_count": 6,
   "id": "5006b45d",
   "metadata": {},
   "outputs": [
    {
     "name": "stdout",
     "output_type": "stream",
     "text": [
      "ABd1234@1\n"
     ]
    }
   ],
   "source": [
    "import re\n",
    "def passwordcheck(s):\n",
    "    passwords = s.split(\",\")  \n",
    "    \n",
    "    MIN = 6\n",
    "    MAX = 12\n",
    "    specials = \"$#@\"\n",
    "    \n",
    "    for password in passwords:\n",
    "        if(len(password) >= MIN and len(password) <= MAX):\n",
    "            if any(i.isupper() for i in password):\n",
    "                if any(i.islower() for i in password):\n",
    "                    if any(i.isdigit() for i in password):\n",
    "                        if any(i for i in password if i in specials):\n",
    "                            print(password)\n",
    "                               \n",
    "passwordcheck(\"ABd1234@1,a F1#,2w3E*,2We3345\")"
   ]
  }
 ],
 "metadata": {
  "kernelspec": {
   "display_name": "Python 3 (ipykernel)",
   "language": "python",
   "name": "python3"
  },
  "language_info": {
   "codemirror_mode": {
    "name": "ipython",
    "version": 3
   },
   "file_extension": ".py",
   "mimetype": "text/x-python",
   "name": "python",
   "nbconvert_exporter": "python",
   "pygments_lexer": "ipython3",
   "version": "3.9.7"
  }
 },
 "nbformat": 4,
 "nbformat_minor": 5
}
