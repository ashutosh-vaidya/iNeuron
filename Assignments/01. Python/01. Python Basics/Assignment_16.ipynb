{
 "cells": [
  {
   "cell_type": "markdown",
   "id": "16712d79",
   "metadata": {},
   "source": [
    "**1. Create a list called years_list, starting with the year of your birth, and each year thereafter until the year of your fifth birthday. For example, if you were born in 1980. the list would be years_list = [1980, 1981, 1982, 1983, 1984, 1985].**"
   ]
  },
  {
   "cell_type": "code",
   "execution_count": 1,
   "id": "f469ed8f",
   "metadata": {},
   "outputs": [
    {
     "name": "stdout",
     "output_type": "stream",
     "text": [
      "[1990, 1991, 1992, 1993, 1994, 1995]\n"
     ]
    }
   ],
   "source": [
    "birth_year = 1990\n",
    "years_list = [year for year in range(birth_year, birth_year + 6)]\n",
    "print(years_list)"
   ]
  },
  {
   "cell_type": "markdown",
   "id": "95c4ad97",
   "metadata": {},
   "source": [
    "**2. In which year in years_list was your third birthday? Remember, you were 0 years of age for your first year.**"
   ]
  },
  {
   "cell_type": "code",
   "execution_count": 2,
   "id": "0ef699a3",
   "metadata": {},
   "outputs": [
    {
     "name": "stdout",
     "output_type": "stream",
     "text": [
      "Year of my third birthday is 1993\n"
     ]
    }
   ],
   "source": [
    "print(f\"Year of my third birthday is {years_list[3]}\")"
   ]
  },
  {
   "cell_type": "markdown",
   "id": "31e97b2c",
   "metadata": {},
   "source": [
    "**3.In the years list, which year were you the oldest?**"
   ]
  },
  {
   "cell_type": "code",
   "execution_count": 3,
   "id": "08978521",
   "metadata": {},
   "outputs": [
    {
     "name": "stdout",
     "output_type": "stream",
     "text": [
      "In years list I was oldest at year 1995\n"
     ]
    }
   ],
   "source": [
    "print(f\"In years list I was oldest at year {years_list[-1]}\")"
   ]
  },
  {
   "cell_type": "markdown",
   "id": "e690e8c4",
   "metadata": {},
   "source": [
    "**4. Make a list called things with these three strings as elements: \"mozzarella\", \"cinderella\", \"salmonella\".**"
   ]
  },
  {
   "cell_type": "code",
   "execution_count": 4,
   "id": "701106c7",
   "metadata": {},
   "outputs": [
    {
     "name": "stdout",
     "output_type": "stream",
     "text": [
      "['mozzarella', 'cinderella', 'salmonella']\n"
     ]
    }
   ],
   "source": [
    "things = [\"mozzarella\", \"cinderella\", \"salmonella\"]\n",
    "print(things)"
   ]
  },
  {
   "cell_type": "markdown",
   "id": "5a855260",
   "metadata": {},
   "source": [
    "**5. Capitalize the element in things that refers to a person and then print the list. Did it change the element in the list?**"
   ]
  },
  {
   "cell_type": "code",
   "execution_count": 5,
   "id": "23f6cadb",
   "metadata": {},
   "outputs": [
    {
     "name": "stdout",
     "output_type": "stream",
     "text": [
      "['mozzarella', 'cinderella', 'salmonella']\n"
     ]
    }
   ],
   "source": [
    "for ele in things:\n",
    "    if ele == \"cinderella\":\n",
    "        ele = ele.capitalize()\n",
    "        \n",
    "print(things)\n",
    "##It did not change the list"
   ]
  },
  {
   "cell_type": "markdown",
   "id": "85e9d130",
   "metadata": {},
   "source": [
    "**6. Make a surprise list with the elements \"Groucho,\" \"Chico,\" and \"Harpo.\"**"
   ]
  },
  {
   "cell_type": "code",
   "execution_count": 6,
   "id": "0fc73e8a",
   "metadata": {},
   "outputs": [
    {
     "name": "stdout",
     "output_type": "stream",
     "text": [
      "['Groucho', 'Chico', 'Harpo']\n"
     ]
    }
   ],
   "source": [
    "surprise_list = [\"Groucho\",\"Chico\",\"Harpo\"]\n",
    "print(surprise_list)"
   ]
  },
  {
   "cell_type": "markdown",
   "id": "66b96e7a",
   "metadata": {},
   "source": [
    "**7. Lowercase the last element of the surprise list, reverse it, and then capitalize it.**"
   ]
  },
  {
   "cell_type": "code",
   "execution_count": 7,
   "id": "b4576017",
   "metadata": {},
   "outputs": [
    {
     "name": "stdout",
     "output_type": "stream",
     "text": [
      "Last element of surprise_list is = Harpo\n",
      "lowercase last element of surprise_list = harpo\n",
      "reverse last element of surprise_list = opraH\n",
      "capitalize last element of surprise_list = Harpo\n"
     ]
    }
   ],
   "source": [
    "print(f\"Last element of surprise_list is = {surprise_list[-1]}\")\n",
    "print(f\"lowercase last element of surprise_list = {surprise_list[-1].lower()}\")\n",
    "print(f\"reverse last element of surprise_list = {surprise_list[-1][::-1]}\")\n",
    "print(f\"capitalize last element of surprise_list = {surprise_list[-1].capitalize()}\")"
   ]
  },
  {
   "cell_type": "markdown",
   "id": "eca2cdc3",
   "metadata": {},
   "source": [
    "**8. Make an English-to-French dictionary called e2f and print it. Here are your starter words: dog is chien, cat is chat, and walrus is morse.**"
   ]
  },
  {
   "cell_type": "code",
   "execution_count": 8,
   "id": "42dacbdd",
   "metadata": {},
   "outputs": [
    {
     "name": "stdout",
     "output_type": "stream",
     "text": [
      "{'dog': 'chien', 'cat': 'chat', 'walrus': 'morse'}\n"
     ]
    }
   ],
   "source": [
    "e2f = {'dog':'chien','cat':'chat','walrus':'morse'}\n",
    "print(e2f)"
   ]
  },
  {
   "cell_type": "markdown",
   "id": "4391f9d8",
   "metadata": {},
   "source": [
    "**9. Write the French word for walrus in your three-word dictionary e2f.**"
   ]
  },
  {
   "cell_type": "code",
   "execution_count": 9,
   "id": "d9aec16d",
   "metadata": {},
   "outputs": [
    {
     "name": "stdout",
     "output_type": "stream",
     "text": [
      "French word for walrus is = morse\n"
     ]
    }
   ],
   "source": [
    "print(f\"French word for walrus is = {e2f['walrus']}\")"
   ]
  },
  {
   "cell_type": "markdown",
   "id": "6b083793",
   "metadata": {},
   "source": [
    "**10. Make a French-to-English dictionary called f2e from e2f. Use the items method.**"
   ]
  },
  {
   "cell_type": "code",
   "execution_count": 10,
   "id": "4a0c4635",
   "metadata": {},
   "outputs": [
    {
     "name": "stdout",
     "output_type": "stream",
     "text": [
      "{'chien': 'dog', 'chat': 'cat', 'morse': 'walrus'}\n"
     ]
    }
   ],
   "source": [
    "f2e = dict([ele[::-1] for ele in e2f.items()])\n",
    "print(f2e)"
   ]
  },
  {
   "cell_type": "markdown",
   "id": "7c150b85",
   "metadata": {},
   "source": [
    "**11. Print the English version of the French word chien using f2e.**"
   ]
  },
  {
   "cell_type": "code",
   "execution_count": 11,
   "id": "88d64647",
   "metadata": {},
   "outputs": [
    {
     "name": "stdout",
     "output_type": "stream",
     "text": [
      "English word for chien is = dog\n"
     ]
    }
   ],
   "source": [
    "print(f\"English word for chien is = {f2e['chien']}\")"
   ]
  },
  {
   "cell_type": "markdown",
   "id": "1173304f",
   "metadata": {},
   "source": [
    "**12. Make and print a set of English words from the keys in e2f.**"
   ]
  },
  {
   "cell_type": "code",
   "execution_count": 12,
   "id": "55a613ba",
   "metadata": {},
   "outputs": [
    {
     "name": "stdout",
     "output_type": "stream",
     "text": [
      "dict_keys(['dog', 'cat', 'walrus'])\n"
     ]
    }
   ],
   "source": [
    "mySet = e2f.keys()\n",
    "print(mySet)"
   ]
  },
  {
   "cell_type": "markdown",
   "id": "ee135bfa",
   "metadata": {},
   "source": [
    "**13. Make a multilevel dictionary called life. Use these strings for the topmost keys: 'animals', 'plants', and 'other'. Make the 'animals' key refer to another dictionary with the keys 'cats', 'octopi', and 'emus'. Make the 'cats' key refer to a list of strings with the values 'Henri', 'Grumpy', and 'Lucy'. Make all the other keys refer to empty dictionaries.**"
   ]
  },
  {
   "cell_type": "code",
   "execution_count": 13,
   "id": "2105f459",
   "metadata": {},
   "outputs": [
    {
     "name": "stdout",
     "output_type": "stream",
     "text": [
      "{'animals': {'cats': ['Henri', 'Grumpy', 'Lucy'], 'octopi': {}, 'emu': {}}, 'plants': {}, 'other': {}}\n"
     ]
    }
   ],
   "source": [
    "life = {\n",
    "    \"animals\":\n",
    "    {\n",
    "        \"cats\":[\"Henri\",\"Grumpy\",\"Lucy\"],\n",
    "        \"octopi\": {},\n",
    "        \"emu\": {}\n",
    "    },\n",
    "    \"plants\": {},\n",
    "    \"other\": {}\n",
    "}\n",
    "print(life)"
   ]
  },
  {
   "cell_type": "markdown",
   "id": "a1cf517a",
   "metadata": {},
   "source": [
    "**14. Print the top-level keys of life.**"
   ]
  },
  {
   "cell_type": "code",
   "execution_count": 14,
   "id": "d28f03b6",
   "metadata": {},
   "outputs": [
    {
     "name": "stdout",
     "output_type": "stream",
     "text": [
      "dict_keys(['animals', 'plants', 'other'])\n"
     ]
    }
   ],
   "source": [
    "print(life.keys())"
   ]
  },
  {
   "cell_type": "markdown",
   "id": "932e5bc0",
   "metadata": {},
   "source": [
    "**15. Print the keys for life['animals'].**"
   ]
  },
  {
   "cell_type": "code",
   "execution_count": 15,
   "id": "49056ff2",
   "metadata": {},
   "outputs": [
    {
     "name": "stdout",
     "output_type": "stream",
     "text": [
      "dict_keys(['cats', 'octopi', 'emu'])\n"
     ]
    }
   ],
   "source": [
    "print(life[\"animals\"].keys())"
   ]
  },
  {
   "cell_type": "markdown",
   "id": "5eb4426b",
   "metadata": {},
   "source": [
    "**16. Print the values for life['animals']['cats']**"
   ]
  },
  {
   "cell_type": "code",
   "execution_count": 16,
   "id": "ab6519a2",
   "metadata": {},
   "outputs": [
    {
     "name": "stdout",
     "output_type": "stream",
     "text": [
      "['Henri', 'Grumpy', 'Lucy']\n"
     ]
    }
   ],
   "source": [
    "print(life[\"animals\"][\"cats\"])"
   ]
  }
 ],
 "metadata": {
  "kernelspec": {
   "display_name": "Python 3 (ipykernel)",
   "language": "python",
   "name": "python3"
  },
  "language_info": {
   "codemirror_mode": {
    "name": "ipython",
    "version": 3
   },
   "file_extension": ".py",
   "mimetype": "text/x-python",
   "name": "python",
   "nbconvert_exporter": "python",
   "pygments_lexer": "ipython3",
   "version": "3.9.7"
  }
 },
 "nbformat": 4,
 "nbformat_minor": 5
}
