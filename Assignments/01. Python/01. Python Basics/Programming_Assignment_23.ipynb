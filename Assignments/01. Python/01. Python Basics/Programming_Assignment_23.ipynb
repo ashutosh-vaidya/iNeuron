{
 "cells": [
  {
   "cell_type": "markdown",
   "id": "98af4aad",
   "metadata": {},
   "source": [
    "**Question 1 Create a function that takes a number as an argument and returns True or False depending on whether the number is symmetrical or not. A number is symmetrical when it is the same as its reverse.**\n",
    "\n",
    "**Examples**\n",
    "```python\n",
    "is_symmetrical(7227) ➞ True\n",
    "\n",
    "is_symmetrical(12567) ➞ False\n",
    "\n",
    "is_symmetrical(44444444) ➞ True\n",
    "\n",
    "is_symmetrical(9939) ➞ False\n",
    "\n",
    "is_symmetrical(1112111) ➞ True\n",
    "```"
   ]
  },
  {
   "cell_type": "code",
   "execution_count": 1,
   "id": "761b9815",
   "metadata": {},
   "outputs": [
    {
     "name": "stdout",
     "output_type": "stream",
     "text": [
      "True\n",
      "False\n",
      "True\n",
      "False\n",
      "True\n"
     ]
    }
   ],
   "source": [
    "def is_symmetrical(num):\n",
    "    if str(num) == str(num)[::-1]:\n",
    "        print(True)\n",
    "    else:\n",
    "        print(False)\n",
    "        \n",
    "is_symmetrical(7227)\n",
    "is_symmetrical(12567)\n",
    "is_symmetrical(44444444)\n",
    "is_symmetrical(9939)\n",
    "is_symmetrical(1112111)"
   ]
  },
  {
   "cell_type": "markdown",
   "id": "8a554e6d",
   "metadata": {},
   "source": [
    "**Question 2 Given a string of numbers separated by a comma and space, return the product of the numbers.**\n",
    "\n",
    "**Examples**\n",
    "```python\n",
    "multiply_nums(\"2, 3\") ➞ 6\n",
    "\n",
    "multiply_nums(\"1, 2, 3, 4\") ➞ 24\n",
    "\n",
    "multiply_nums(\"54, 75, 453, 0\") ➞ 0\n",
    "\n",
    "multiply_nums(\"10, -2\") ➞ -20\n",
    "\n",
    "```"
   ]
  },
  {
   "cell_type": "code",
   "execution_count": 5,
   "id": "e70c24ee",
   "metadata": {},
   "outputs": [
    {
     "name": "stdout",
     "output_type": "stream",
     "text": [
      "Multiplication of 2, 3 is => 6\n",
      "Multiplication of 1, 2, 3, 4 is => 24\n",
      "Multiplication of 54, 75, 453, 0 is => 0\n",
      "Multiplication of 10, -2 is => -20\n"
     ]
    }
   ],
   "source": [
    "def multiply_nums(s):\n",
    "    lst = s.replace(' ','').split(',')\n",
    "    prod = 1\n",
    "    for i in lst:\n",
    "        prod *= int(i)\n",
    "    \n",
    "    print(f\"Multiplication of {s} is => {prod}\")\n",
    "    \n",
    "multiply_nums(\"2, 3\")\n",
    "multiply_nums(\"1, 2, 3, 4\")\n",
    "multiply_nums(\"54, 75, 453, 0\")\n",
    "multiply_nums(\"10, -2\")"
   ]
  },
  {
   "cell_type": "markdown",
   "id": "6bc3893d",
   "metadata": {},
   "source": [
    "**Question 3 Create a function that squares every digit of a number.**\n",
    "\n",
    "**Examples**\n",
    "```python\n",
    "square_digits(9119) ➞ 811181\n",
    "\n",
    "square_digits(2483) ➞ 416649\n",
    "\n",
    "square_digits(3212) ➞ 9414\n",
    "```\n",
    "**Notes**\n",
    "The function receives an integer and must return an integer."
   ]
  },
  {
   "cell_type": "code",
   "execution_count": 6,
   "id": "fef70ccf",
   "metadata": {},
   "outputs": [
    {
     "name": "stdout",
     "output_type": "stream",
     "text": [
      "Square of every digit of 9119 is => 811181\n",
      "Square of every digit of 2483 is => 416649\n",
      "Square of every digit of 3212 is => 9414\n"
     ]
    }
   ],
   "source": [
    "def square_digits(num):\n",
    "    lst = [str(int(i)**2) for i in str(num)]\n",
    "    square = ''.join(lst)\n",
    "    print(f\"Square of every digit of {num} is => {square}\")\n",
    "    \n",
    "square_digits(9119)\n",
    "square_digits(2483)\n",
    "square_digits(3212) "
   ]
  },
  {
   "cell_type": "markdown",
   "id": "a01b5266",
   "metadata": {},
   "source": [
    "**Question 4 Create a function that sorts a list and removes all duplicate items from it.**\n",
    "\n",
    "**Examples**\n",
    "```python\n",
    "setify([1, 3, 3, 5, 5]) ➞ [1, 3, 5]\n",
    "\n",
    "setify([4, 4, 4, 4]) ➞ [4]\n",
    "\n",
    "setify([5, 7, 8, 9, 10, 15]) ➞ [5, 7, 8, 9, 10, 15]\n",
    "\n",
    "setify([3, 3, 3, 2, 1]) ➞ [1, 2, 3]\n",
    "```"
   ]
  },
  {
   "cell_type": "code",
   "execution_count": 8,
   "id": "902cf76b",
   "metadata": {},
   "outputs": [
    {
     "name": "stdout",
     "output_type": "stream",
     "text": [
      "[1, 3, 5]\n",
      "[4]\n",
      "[5, 7, 8, 9, 10, 15]\n",
      "[1, 2, 3]\n"
     ]
    }
   ],
   "source": [
    "def setify(lst):\n",
    "    s = sorted(set(lst))\n",
    "    print(s)\n",
    "    \n",
    "setify([1, 3, 3, 5, 5]) \n",
    "setify([4, 4, 4, 4])\n",
    "setify([5, 7, 8, 9, 10, 15])\n",
    "setify([3, 3, 3, 2, 1])"
   ]
  },
  {
   "cell_type": "markdown",
   "id": "d44864af",
   "metadata": {},
   "source": [
    "**Question 5 Create a function that returns the mean of all digits.**\n",
    "\n",
    "**Examples**\n",
    "```python\n",
    "mean(42) ➞ 3\n",
    "\n",
    "mean(12345) ➞ 3\n",
    "\n",
    "mean(666) ➞ 6\n",
    "\n",
    "```\n",
    "**Notes**\n",
    "- The mean of all digits is the sum of digits / how many digits there are (e.g. mean of digits in 512 is (5+1+2)/3(number of digits) = 8/3=2).\n",
    "- The mean will always be an integer."
   ]
  },
  {
   "cell_type": "code",
   "execution_count": 10,
   "id": "e4b24414",
   "metadata": {},
   "outputs": [
    {
     "name": "stdout",
     "output_type": "stream",
     "text": [
      "Mean of 42 is => 3\n",
      "Mean of 12345 is => 3\n",
      "Mean of 666 is => 6\n"
     ]
    }
   ],
   "source": [
    "def mean(num):\n",
    "    list = [int(i) for i in str(num)]\n",
    "    mean = sum(list)/len(str(num))\n",
    "    print(f\"Mean of {num} is => {int(mean)}\")\n",
    "          \n",
    "mean(42)\n",
    "mean(12345)\n",
    "mean(666)"
   ]
  },
  {
   "cell_type": "code",
   "execution_count": null,
   "id": "ab133b20",
   "metadata": {},
   "outputs": [],
   "source": []
  }
 ],
 "metadata": {
  "kernelspec": {
   "display_name": "Python 3 (ipykernel)",
   "language": "python",
   "name": "python3"
  },
  "language_info": {
   "codemirror_mode": {
    "name": "ipython",
    "version": 3
   },
   "file_extension": ".py",
   "mimetype": "text/x-python",
   "name": "python",
   "nbconvert_exporter": "python",
   "pygments_lexer": "ipython3",
   "version": "3.9.7"
  }
 },
 "nbformat": 4,
 "nbformat_minor": 5
}
