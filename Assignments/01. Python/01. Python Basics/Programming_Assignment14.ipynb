{
 "cells": [
  {
   "cell_type": "markdown",
   "id": "e89388f8",
   "metadata": {},
   "source": [
    "**Question 1: Define a class with a generator which can iterate the numbers, which are divisible by 7, between a given range 0 and n.**"
   ]
  },
  {
   "cell_type": "code",
   "execution_count": 1,
   "id": "bdbfc1c0",
   "metadata": {},
   "outputs": [
    {
     "name": "stdout",
     "output_type": "stream",
     "text": [
      "Numbers which are divisible between 0 to 100 are:\n",
      "0,7,14,21,28,35,42,49,56,63,70,77,84,91,98,"
     ]
    }
   ],
   "source": [
    "class divisible_by_7_generator:\n",
    "    def __init__(self, num):\n",
    "        self.num = num\n",
    "    #Generator\n",
    "    def get_nums_divisible_by_7(self):\n",
    "        for i in range(0, self.num):\n",
    "            if (i % 7 == 0):\n",
    "                yield i\n",
    "   \n",
    "n = 100\n",
    "result = divisible_by_7_generator(n)\n",
    "print(f\"Numbers which are divisible between 0 to {n} are:\")\n",
    "for num in result.get_nums_divisible_by_7():\n",
    "    print(num, end = \",\")"
   ]
  },
  {
   "cell_type": "markdown",
   "id": "e0efc22a",
   "metadata": {},
   "source": [
    "**Question 2: Write a program to compute the frequency of the words from the input. The output should output after sorting the key alphanumerically. Suppose the following input is supplied to the program:**\n",
    "\n",
    "`New to Python or choosing between Python 2 and Python 3? Read Python 2 or Python 3.`\n",
    "\n",
    "**Then, the output should be:**\n",
    "\n",
    "2:2\n",
    "\n",
    "3.:1\n",
    "\n",
    "3?:1\n",
    "\n",
    "New:1\n",
    "\n",
    "Python:5\n",
    "\n",
    "Read:1\n",
    "\n",
    "and:1\n",
    "\n",
    "between:1\n",
    "\n",
    "choosing:1\n",
    "\n",
    "or:2\n",
    "\n",
    "to:1"
   ]
  },
  {
   "cell_type": "code",
   "execution_count": 2,
   "id": "23b0a51d",
   "metadata": {},
   "outputs": [
    {
     "name": "stdout",
     "output_type": "stream",
     "text": [
      "2:2\n",
      "3.:1\n",
      "3?:1\n",
      "New:1\n",
      "Python:5\n",
      "Read:1\n",
      "and:1\n",
      "between:1\n",
      "choosing:1\n",
      "or:2\n",
      "to:1\n"
     ]
    }
   ],
   "source": [
    "def get_word_frequency(s):\n",
    "    #First split the string to ger a list\n",
    "    words = s.split(\" \")\n",
    "    #Create a dictionary with word as a key and count of the word as a value using comprehension\n",
    "    words_dict = { word : words.count(word) for word in sorted(words)}\n",
    "    #print the output\n",
    "    for key in words_dict:\n",
    "        print(f\"{key}:{words_dict[key]}\")\n",
    "    \n",
    "inp = \"New to Python or choosing between Python 2 and Python 3? Read Python 2 or Python 3.\"\n",
    "get_word_frequency(inp)"
   ]
  },
  {
   "cell_type": "markdown",
   "id": "201e6e28",
   "metadata": {},
   "source": [
    "**Question 3: Define a class Person and its two child classes: Male and Female. All classes have a method \"getGender\" which can print \"Male\" for Male class and \"Female\" for Female class.**"
   ]
  },
  {
   "cell_type": "code",
   "execution_count": 3,
   "id": "87a33d59",
   "metadata": {},
   "outputs": [
    {
     "name": "stdout",
     "output_type": "stream",
     "text": [
      "Male\n",
      "Female\n"
     ]
    }
   ],
   "source": [
    "class Person():\n",
    "    pass\n",
    "        \n",
    "class Male(Person):\n",
    "    def getGender():\n",
    "        print(\"Male\")\n",
    "        \n",
    "class Female(Person):\n",
    "    def getGender():\n",
    "        print(\"Female\")\n",
    "\n",
    "Male.getGender()\n",
    "Female.getGender()"
   ]
  },
  {
   "cell_type": "markdown",
   "id": "1dd65a37",
   "metadata": {},
   "source": [
    "**Question 4: Please write a program to generate all sentences where subject is in [\"I\", \"You\"] and verb is in [\"Play\", \"Love\"] and the object is in [\"Hockey\",\"Football\"].**"
   ]
  },
  {
   "cell_type": "code",
   "execution_count": 4,
   "id": "98b08660",
   "metadata": {},
   "outputs": [
    {
     "name": "stdout",
     "output_type": "stream",
     "text": [
      "I Play Hockey\n",
      "I Play Football\n",
      "I Love Hockey\n",
      "I Love Football\n",
      "You Play Hockey\n",
      "You Play Football\n",
      "You Love Hockey\n",
      "You Love Football\n"
     ]
    }
   ],
   "source": [
    "from itertools import product\n",
    "subject = [\"I\", \"You\"]\n",
    "verb =  [\"Play\", \"Love\"]\n",
    "obj = [\"Hockey\",\"Football\"]\n",
    "\n",
    "for s,v,o in product(subject,verb,obj):\n",
    "    print(f\"{s} {v} {o}\")"
   ]
  },
  {
   "cell_type": "markdown",
   "id": "a19b32e1",
   "metadata": {},
   "source": [
    "**Question 5: Please write a program to compress and decompress the string \"hello world!hello world!hello world!hello world!\".**"
   ]
  },
  {
   "cell_type": "code",
   "execution_count": 5,
   "id": "a19a2deb",
   "metadata": {},
   "outputs": [
    {
     "name": "stdout",
     "output_type": "stream",
     "text": [
      "Compressed string = b'\\x1f\\x8b\\x08\\x00t\\x1c\\x97c\\x02\\xff\\xcbH\\xcd\\xc9\\xc9W(\\xcf/\\xcaIQ\\xcc \\x82\\r\\x00\\xd3\\xe6\\xcf\\xae0\\x00\\x00\\x00'\n",
      "Decompressed string = b'hello world!hello world!hello world!hello world!'\n"
     ]
    }
   ],
   "source": [
    "import gzip\n",
    "s = b\"hello world!hello world!hello world!hello world!\"\n",
    "compressed = gzip.compress(s)\n",
    "print(f\"Compressed string = {compressed}\")\n",
    "  \n",
    "decompressed = gzip.decompress(compressed)\n",
    "print(f\"Decompressed string = {decompressed}\")"
   ]
  },
  {
   "cell_type": "markdown",
   "id": "3943cad8",
   "metadata": {},
   "source": [
    "**Question 6: Please write a binary search function which searches an item in a sorted list. The function should return the index of element to be searched in the list.**"
   ]
  },
  {
   "cell_type": "code",
   "execution_count": 9,
   "id": "11afe6b1",
   "metadata": {},
   "outputs": [
    {
     "name": "stdout",
     "output_type": "stream",
     "text": [
      "Element 6 is present at index = 3\n",
      "Element 5 does not exists in a list\n"
     ]
    }
   ],
   "source": [
    "def binary_search(lst,ele):\n",
    "    lowest = 0\n",
    "    highest = len(lst) - 1\n",
    "    while lowest <= highest:\n",
    "        middle = highest + lowest // 2\n",
    "        if(lst[middle] < ele):\n",
    "            lowest = middle + 1\n",
    "        elif(lst[middle] > ele):\n",
    "            highest = middle - 1\n",
    "        else:\n",
    "            print(f\"Element {ele} is present at index = {middle}\")\n",
    "            break\n",
    "    else:\n",
    "        print(f\"Element {ele} does not exists in a list\")\n",
    "\n",
    "sorted_lst = [1,2,4,6,7,9,10]\n",
    "binary_search(sorted_lst,6)\n",
    "binary_search(sorted_lst,5)"
   ]
  }
 ],
 "metadata": {
  "kernelspec": {
   "display_name": "Python 3 (ipykernel)",
   "language": "python",
   "name": "python3"
  },
  "language_info": {
   "codemirror_mode": {
    "name": "ipython",
    "version": 3
   },
   "file_extension": ".py",
   "mimetype": "text/x-python",
   "name": "python",
   "nbconvert_exporter": "python",
   "pygments_lexer": "ipython3",
   "version": "3.9.7"
  }
 },
 "nbformat": 4,
 "nbformat_minor": 5
}
