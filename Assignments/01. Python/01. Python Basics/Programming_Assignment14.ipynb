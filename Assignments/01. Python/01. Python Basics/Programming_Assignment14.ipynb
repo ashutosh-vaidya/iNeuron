{
 "cells": [
  {
   "cell_type": "markdown",
   "id": "e89388f8",
   "metadata": {},
   "source": [
    "**Question 1: Define a class with a generator which can iterate the numbers, which are divisible by 7, between a given range 0 and n.**"
   ]
  },
  {
   "cell_type": "code",
   "execution_count": 2,
   "id": "bdbfc1c0",
   "metadata": {},
   "outputs": [
    {
     "name": "stdout",
     "output_type": "stream",
     "text": [
      "Numbers which are divisible between 0 to 1000 are:\n",
      "0,7,14,21,28,35,42,49,56,63,70,77,84,91,98,105,112,119,126,133,140,147,154,161,168,175,182,189,196,203,210,217,224,231,238,245,252,259,266,273,280,287,294,301,308,315,322,329,336,343,350,357,364,371,378,385,392,399,406,413,420,427,434,441,448,455,462,469,476,483,490,497,504,511,518,525,532,539,546,553,560,567,574,581,588,595,602,609,616,623,630,637,644,651,658,665,672,679,686,693,700,707,714,721,728,735,742,749,756,763,770,777,784,791,798,805,812,819,826,833,840,847,854,861,868,875,882,889,896,903,910,917,924,931,938,945,952,959,966,973,980,987,994,"
     ]
    }
   ],
   "source": [
    "class divisible_by_7_generator:\n",
    "    def __init__(self, num):\n",
    "        self.num = num\n",
    "    #Generator\n",
    "    def get_nums_divisible_by_7(self):\n",
    "        for i in range(0, self.num):\n",
    "            if (i % 7 == 0):\n",
    "                yield i\n",
    "   \n",
    "n = 1000\n",
    "result = divisible_by_7_generator(n)\n",
    "print(f\"Numbers which are divisible between 0 to {n} are:\")\n",
    "for num in result.get_nums_divisible_by_7():\n",
    "    print(num, end = \",\")"
   ]
  },
  {
   "cell_type": "markdown",
   "id": "e0efc22a",
   "metadata": {},
   "source": [
    "**Question 2: Write a program to compute the frequency of the words from the input. The output should output after sorting the key alphanumerically. Suppose the following input is supplied to the program:**\n",
    "\n",
    "`New to Python or choosing between Python 2 and Python 3? Read Python 2 or Python 3.`\n",
    "\n",
    "**Then, the output should be:**\n",
    "\n",
    "2:2\n",
    "\n",
    "3.:1\n",
    "\n",
    "3?:1\n",
    "\n",
    "New:1\n",
    "\n",
    "Python:5\n",
    "\n",
    "Read:1\n",
    "\n",
    "and:1\n",
    "\n",
    "between:1\n",
    "\n",
    "choosing:1\n",
    "\n",
    "or:2\n",
    "\n",
    "to:1"
   ]
  },
  {
   "cell_type": "code",
   "execution_count": 3,
   "id": "23b0a51d",
   "metadata": {},
   "outputs": [
    {
     "name": "stdout",
     "output_type": "stream",
     "text": [
      "2:2\n",
      "3.:1\n",
      "3?:1\n",
      "New:1\n",
      "Python:5\n",
      "Read:1\n",
      "and:1\n",
      "between:1\n",
      "choosing:1\n",
      "or:2\n",
      "to:1\n"
     ]
    }
   ],
   "source": [
    "def get_word_frequency(s):\n",
    "    #First split the string to ger a list\n",
    "    words = s.split(\" \")\n",
    "    #Create a dictionary with word as a key and count of the word as a value using comprehension\n",
    "    words_dict = { word : words.count(word) for word in sorted(words)}\n",
    "    #print the output\n",
    "    for key in words_dict:\n",
    "        print(f\"{key}:{words_dict[key]}\")\n",
    "    \n",
    "inp = \"New to Python or choosing between Python 2 and Python 3? Read Python 2 or Python 3.\"\n",
    "get_word_frequency(inp)"
   ]
  },
  {
   "cell_type": "markdown",
   "id": "201e6e28",
   "metadata": {},
   "source": [
    "**Question 3: Define a class Person and its two child classes: Male and Female. All classes have a method \"getGender\" which can print \"Male\" for Male class and \"Female\" for Female class.**"
   ]
  },
  {
   "cell_type": "code",
   "execution_count": 8,
   "id": "87a33d59",
   "metadata": {},
   "outputs": [
    {
     "name": "stdout",
     "output_type": "stream",
     "text": [
      "Male\n",
      "Female\n"
     ]
    }
   ],
   "source": [
    "class Person():\n",
    "    pass\n",
    "        \n",
    "class Male(Person):\n",
    "    def getGender():\n",
    "        print(\"Male\")\n",
    "        \n",
    "class Female(Person):\n",
    "    def getGender():\n",
    "        print(\"Female\")\n",
    "\n",
    "Male.getGender()\n",
    "Female.getGender()"
   ]
  },
  {
   "cell_type": "markdown",
   "id": "1dd65a37",
   "metadata": {},
   "source": [
    "**Question 4: Please write a program to generate all sentences where subject is in [\"I\", \"You\"] and verb is in [\"Play\", \"Love\"] and the object is in [\"Hockey\",\"Football\"].**"
   ]
  },
  {
   "cell_type": "code",
   "execution_count": 9,
   "id": "98b08660",
   "metadata": {},
   "outputs": [
    {
     "name": "stdout",
     "output_type": "stream",
     "text": [
      "I Play Hockey\n",
      "I Play Football\n",
      "I Love Hockey\n",
      "I Love Football\n",
      "You Play Hockey\n",
      "You Play Football\n",
      "You Love Hockey\n",
      "You Love Football\n"
     ]
    }
   ],
   "source": [
    "subject = [\"I\", \"You\"]\n",
    "verb =  [\"Play\", \"Love\"]\n",
    "obj = [\"Hockey\",\"Football\"]\n",
    "\n",
    "for s in subject:\n",
    "    for v in verb:\n",
    "        for o in obj:\n",
    "            print(f\"{s} {v} {o}\")"
   ]
  },
  {
   "cell_type": "markdown",
   "id": "a19b32e1",
   "metadata": {},
   "source": [
    "**Question 5: Please write a program to compress and decompress the string \"hello world!hello world!hello world!hello world!\".**"
   ]
  },
  {
   "cell_type": "code",
   "execution_count": null,
   "id": "8853589f",
   "metadata": {},
   "outputs": [],
   "source": []
  }
 ],
 "metadata": {
  "kernelspec": {
   "display_name": "Python 3 (ipykernel)",
   "language": "python",
   "name": "python3"
  },
  "language_info": {
   "codemirror_mode": {
    "name": "ipython",
    "version": 3
   },
   "file_extension": ".py",
   "mimetype": "text/x-python",
   "name": "python",
   "nbconvert_exporter": "python",
   "pygments_lexer": "ipython3",
   "version": "3.9.7"
  }
 },
 "nbformat": 4,
 "nbformat_minor": 5
}
