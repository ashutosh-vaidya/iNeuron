{
 "cells": [
  {
   "cell_type": "markdown",
   "id": "3fd06288",
   "metadata": {},
   "source": [
    "**1.Write a Python Program to find sum of array?**"
   ]
  },
  {
   "cell_type": "code",
   "execution_count": 5,
   "id": "ead98395",
   "metadata": {},
   "outputs": [
    {
     "name": "stdout",
     "output_type": "stream",
     "text": [
      "Sum of array using sum() is : 15\n",
      "Sum of array using loop is : 15\n"
     ]
    }
   ],
   "source": [
    "import numpy as np\n",
    "a = np.array([1,2,3,4,5])\n",
    "print(f\"Sum of array using sum() is : {a.sum()}\")\n",
    "sum = 0\n",
    "for i in a:\n",
    "    sum += i\n",
    "print(f\"Sum of array using loop is : {sum}\")"
   ]
  },
  {
   "cell_type": "markdown",
   "id": "fd6dcbc7",
   "metadata": {},
   "source": [
    "**2.Write a Python Program to find largest element in an array?**"
   ]
  },
  {
   "cell_type": "code",
   "execution_count": 6,
   "id": "c91b0743",
   "metadata": {},
   "outputs": [
    {
     "name": "stdout",
     "output_type": "stream",
     "text": [
      "Largest element of array using max() is : 11\n",
      "Largest element of array using loop is : 11\n"
     ]
    }
   ],
   "source": [
    "import numpy as no\n",
    "a = np.array([3,1,5,2,6,11,4,0])\n",
    "print(f\"Largest element of array using max() is : {a.max()}\")\n",
    "largest = a[i]\n",
    "for i in a:\n",
    "    if i > largest:\n",
    "        largest = i\n",
    "print(f\"Largest element of array using loop is : {largest}\")"
   ]
  },
  {
   "cell_type": "markdown",
   "id": "7f6ebfb8",
   "metadata": {},
   "source": [
    "**3.Write a Python Program for array rotation?**"
   ]
  },
  {
   "cell_type": "code",
   "execution_count": null,
   "id": "28126580",
   "metadata": {},
   "outputs": [],
   "source": []
  }
 ],
 "metadata": {
  "kernelspec": {
   "display_name": "Python 3 (ipykernel)",
   "language": "python",
   "name": "python3"
  },
  "language_info": {
   "codemirror_mode": {
    "name": "ipython",
    "version": 3
   },
   "file_extension": ".py",
   "mimetype": "text/x-python",
   "name": "python",
   "nbconvert_exporter": "python",
   "pygments_lexer": "ipython3",
   "version": "3.9.7"
  }
 },
 "nbformat": 4,
 "nbformat_minor": 5
}
