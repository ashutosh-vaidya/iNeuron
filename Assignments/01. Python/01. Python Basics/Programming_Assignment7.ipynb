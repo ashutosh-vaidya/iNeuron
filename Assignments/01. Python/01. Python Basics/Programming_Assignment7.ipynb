{
 "cells": [
  {
   "cell_type": "markdown",
   "id": "3fd06288",
   "metadata": {},
   "source": [
    "**1.Write a Python Program to find sum of array?**"
   ]
  },
  {
   "cell_type": "code",
   "execution_count": 1,
   "id": "ead98395",
   "metadata": {},
   "outputs": [
    {
     "name": "stdout",
     "output_type": "stream",
     "text": [
      "Sum of array using sum() is : 15\n",
      "Sum of array using loop is : 15\n"
     ]
    }
   ],
   "source": [
    "import numpy as np\n",
    "a = np.array([1,2,3,4,5])\n",
    "print(f\"Sum of array using sum() is : {a.sum()}\")\n",
    "sum = 0\n",
    "for i in a:\n",
    "    sum += i\n",
    "print(f\"Sum of array using loop is : {sum}\")"
   ]
  },
  {
   "cell_type": "markdown",
   "id": "fd6dcbc7",
   "metadata": {},
   "source": [
    "**2.Write a Python Program to find largest element in an array?**"
   ]
  },
  {
   "cell_type": "code",
   "execution_count": 2,
   "id": "c91b0743",
   "metadata": {},
   "outputs": [
    {
     "name": "stdout",
     "output_type": "stream",
     "text": [
      "Largest element of array using max() is : 11\n",
      "Largest element of array using loop is : 11\n"
     ]
    }
   ],
   "source": [
    "import numpy as no\n",
    "a = np.array([3,1,5,2,6,11,4,0])\n",
    "print(f\"Largest element of array using max() is : {a.max()}\")\n",
    "largest = a[i]\n",
    "for i in a:\n",
    "    if i > largest:\n",
    "        largest = i\n",
    "print(f\"Largest element of array using loop is : {largest}\")"
   ]
  },
  {
   "cell_type": "markdown",
   "id": "7f6ebfb8",
   "metadata": {},
   "source": [
    "**3.Write a Python Program for array rotation?**"
   ]
  },
  {
   "cell_type": "code",
   "execution_count": 3,
   "id": "28126580",
   "metadata": {},
   "outputs": [
    {
     "name": "stdout",
     "output_type": "stream",
     "text": [
      "Original array without any rotaion is : [11 12 13 14 15 16 17 18]\n",
      "Array rotated in left direction by 3 positions is : [14 15 16 17 18 11 12 13]\n",
      "Array rotated in right direction by 3 positions is : [16 17 18 11 12 13 14 15]\n"
     ]
    }
   ],
   "source": [
    "import numpy as np\n",
    "a = np.array([11, 12, 13, 14, 15, 16, 17, 18])\n",
    "print(f\"Original array without any rotaion is : {a}\")\n",
    "print(f\"Array rotated in left direction by 3 positions is : {np.roll(a,-3)}\")\n",
    "print(f\"Array rotated in right direction by 3 positions is : {np.roll(a,3)}\")"
   ]
  },
  {
   "cell_type": "markdown",
   "id": "7770959b",
   "metadata": {},
   "source": [
    "**4.Write a Python Program to Split the array and add the first part to the end?**"
   ]
  },
  {
   "cell_type": "code",
   "execution_count": 4,
   "id": "6e2a35ad",
   "metadata": {},
   "outputs": [
    {
     "name": "stdout",
     "output_type": "stream",
     "text": [
      "Before splitting the array :\n",
      "[11 12 13 14 15 16 17 18]\n",
      "Array after spliting at postion {position} and adding the first part to end is :\n",
      "[14 15 16 17 18 11 12 13]\n"
     ]
    }
   ],
   "source": [
    "def splitArr(arr, n, k): \n",
    "    for i in range(0, k): \n",
    "        x = arr[0]\n",
    "        for j in range(0, n-1):\n",
    "            arr[j] = arr[j + 1]\n",
    "          \n",
    "        arr[n-1] = x\n",
    "          \n",
    "arr = np.array([11, 12, 13, 14, 15, 16, 17, 18])\n",
    "n = len(arr)\n",
    "position = 3\n",
    "\n",
    "print(\"Before splitting the array :\")\n",
    "print(arr)\n",
    "  \n",
    "splitArr(arr, n, position)\n",
    "  \n",
    "print(\"Array after spliting at postion {position} and adding the first part to end is :\")\n",
    "print(arr)\n"
   ]
  },
  {
   "cell_type": "markdown",
   "id": "c0e74a7a",
   "metadata": {},
   "source": [
    "**5.Write a Python Program to check if given array is Monotonic?**"
   ]
  },
  {
   "cell_type": "code",
   "execution_count": 5,
   "id": "2cc4ab4c",
   "metadata": {},
   "outputs": [
    {
     "name": "stdout",
     "output_type": "stream",
     "text": [
      "array [11, 12, 13, 14, 15, 16, 17, 18] is monotonic = True\n",
      "array [18, 17, 16, 15, 14, 13, 12, 11] is monotoic = True\n",
      "array [1, 3, 4, 2, 5, 0] is monotoic = False\n"
     ]
    }
   ],
   "source": [
    "def isMonotonic(a):\n",
    "    n = len(a)\n",
    "    if n == 1:\n",
    "        #since array has only one element it is monotonic\n",
    "        return True\n",
    "    else: \n",
    "        # array will be monotonic if all elements are in increasing or in decresing order\n",
    "        if all(a[i] >= a[i+1] for i in range(0, n-1)):\n",
    "            return True\n",
    "        elif all(a[i] <= a[i+1] for i in range(0, n-1)):\n",
    "            return True\n",
    "        else:\n",
    "            return False\n",
    "        \n",
    "\n",
    "a = [11, 12, 13, 14, 15, 16, 17, 18]\n",
    "print(f\"array {a} is monotonic = {isMonotonic(a)}\")\n",
    "\n",
    "b = a[::-1]\n",
    "print(f\"array {b} is monotoic = {isMonotonic(b)}\")         \n",
    "\n",
    "c = [1,3,4,2,5,0]\n",
    "print(f\"array {c} is monotoic = {isMonotonic(c)}\") \n",
    "    "
   ]
  },
  {
   "cell_type": "code",
   "execution_count": null,
   "id": "9447c210",
   "metadata": {},
   "outputs": [],
   "source": []
  }
 ],
 "metadata": {
  "kernelspec": {
   "display_name": "Python 3 (ipykernel)",
   "language": "python",
   "name": "python3"
  },
  "language_info": {
   "codemirror_mode": {
    "name": "ipython",
    "version": 3
   },
   "file_extension": ".py",
   "mimetype": "text/x-python",
   "name": "python",
   "nbconvert_exporter": "python",
   "pygments_lexer": "ipython3",
   "version": "3.9.7"
  }
 },
 "nbformat": 4,
 "nbformat_minor": 5
}
