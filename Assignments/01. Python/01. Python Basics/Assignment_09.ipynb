{
 "cells": [
  {
   "cell_type": "markdown",
   "id": "95bb873d",
   "metadata": {},
   "source": [
    "**1.To what does a relative path refer?**\n",
    "\n",
    "**Ans:** A relative path in Python is a path that describes the location of a directory relative to the entry point where you run the Python script.\n",
    "\n",
    "**2.What does an absolute path start with your operating system?**\n",
    "\n",
    "**Ans:** Absolute path in my operating system starts with `c:`\n",
    "\n",
    "**3.What do the functions os.getcwd() and os.chdir() do?**\n",
    "\n",
    "**Ans:** \n",
    "- The `os.getcwd()` function is used to get the current working directory where python process is running.\n",
    "- Python function `os.chdir()` changes the current working directory to the given path.\n",
    "\n",
    "**4.What are the . and .. folders?**\n",
    "\n",
    "**Ans:**\n",
    "- `.` represent current working directory\n",
    "- `..` represents parent directory of current working directory\n",
    "\n",
    "**5.In C:\\bacon\\eggs\\spam.txt, which part is the dir name, and which part is the base name?**\n",
    "\n",
    "**Ans:** \n",
    "- dir name : `C:\\bacon\\eggs`\n",
    "- base name : `spam.txt`\n",
    "\n",
    "**6.What are the three “mode” arguments that can be passed to the open() function?**\n",
    "\n",
    "**Ans:** Below are three main mode which can be passed to open():\n",
    "- `r` - read mode, default mode. file is opened in read mode pointer is at the beginning of the file.\n",
    "- `w` - write mode. This mode will overwrite any existing content. If file does not exists it creates a new file.\n",
    "- `a` - append mode. similar to write mode, only difference is user can append the required data without overwriting the exisiting content.\n",
    "\n",
    "There are also three additional mode,\n",
    "- `r+` - read and write mode\n",
    "- `a+` - append and read mode\n",
    "- `x` - Creating mode, this is used for creating new files.\n",
    "\n",
    "**7.What happens if an existing file is opened in write mode?**\n",
    "\n",
    "**Ans:** Opening the existing file in write mode will overwrite all the existing content from the file.\n",
    "\n",
    "**8.How do you tell the difference between read() and readlines()?**\n",
    "\n",
    "**Ans:** \n",
    "- `read()` reads the file as an individual string  all at the same time.\n",
    "- `readlines()` - reads the file one line at a time, it returns list of lines.\n",
    "\n",
    "**9.What data structure does a shelf value resemble?**\n",
    "\n",
    "**Ans:** A “shelf” is a persistent, dictionary-like object. The difference with “dbm” databases is that the values (not the keys!) in a shelf can be essentially arbitrary Python objects — anything that the pickle module can handle. This includes most class instances, recursive data types, and objects containing lots of shared sub-objects. The keys are ordinary strings."
   ]
  }
 ],
 "metadata": {
  "kernelspec": {
   "display_name": "Python 3 (ipykernel)",
   "language": "python",
   "name": "python3"
  },
  "language_info": {
   "codemirror_mode": {
    "name": "ipython",
    "version": 3
   },
   "file_extension": ".py",
   "mimetype": "text/x-python",
   "name": "python",
   "nbconvert_exporter": "python",
   "pygments_lexer": "ipython3",
   "version": "3.9.7"
  }
 },
 "nbformat": 4,
 "nbformat_minor": 5
}
