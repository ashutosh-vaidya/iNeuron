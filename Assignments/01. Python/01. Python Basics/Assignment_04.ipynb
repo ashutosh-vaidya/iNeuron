{
 "cells": [
  {
   "cell_type": "markdown",
   "id": "dbeb0099",
   "metadata": {},
   "source": [
    "**1. What exactly is []?**\n",
    "\n",
    "**Ans:** `[]` is used to represent an empty list. A list having no elements."
   ]
  },
  {
   "cell_type": "markdown",
   "id": "f4c5b4c1",
   "metadata": {},
   "source": [
    "**2. In a list of values stored in a variable called spam, how would you assign the value 'hello' as the third value? (Assume [2, 4, 6, 8, 10] are in spam.)**\n",
    "\n",
    "**Ans:** Elements in the list can be accessed using the indexes. Indexes start from 0 so the 3rd element can be accessed and modified using `spam[2] = \"Hello\"`\n",
    "\n",
    "Let's verify,"
   ]
  },
  {
   "cell_type": "code",
   "execution_count": 1,
   "id": "dd594eb9",
   "metadata": {},
   "outputs": [
    {
     "name": "stdout",
     "output_type": "stream",
     "text": [
      "original list spam = [2, 4, 6, 8, 10]\n",
      "after assigning 'hello' as the third value in the list spam = [2, 4, 'Hello', 8, 10]\n"
     ]
    }
   ],
   "source": [
    "spam = [2,4,6,8,10]\n",
    "print(f\"original list spam = {spam}\")\n",
    "spam[2] = \"Hello\"\n",
    "print(f\"after assigning 'hello' as the third value in the list spam = {spam}\")"
   ]
  },
  {
   "cell_type": "markdown",
   "id": "2678f53a",
   "metadata": {},
   "source": [
    "**Let's pretend the spam includes the list ['a', 'b', 'c', 'd'] for the next three queries.**"
   ]
  },
  {
   "cell_type": "code",
   "execution_count": 2,
   "id": "c45c770a",
   "metadata": {},
   "outputs": [],
   "source": [
    "spam = ['a','b','c','d']"
   ]
  },
  {
   "cell_type": "markdown",
   "id": "7a995718",
   "metadata": {},
   "source": [
    "**3.What is the value of spam[int(int('3' * 2) / 11)]?**\n",
    "\n",
    "**Ans:** 'd'\n",
    "\n",
    "**Explaination:**\n",
    "- `'3' * 2`: this is string repetition, this will evaluate to `33`\n",
    "- `int('33')/11`: this will first convert '33' to int 33, and then calculate 33/11 which will result in 3.0\n",
    "- `spam(int(3.0))`: This will convert 3.0 to int 3 and then apply indexing on list spam i.e. `spam[3]`"
   ]
  },
  {
   "cell_type": "code",
   "execution_count": 3,
   "id": "e02303ea",
   "metadata": {},
   "outputs": [
    {
     "data": {
      "text/plain": [
       "'33'"
      ]
     },
     "execution_count": 3,
     "metadata": {},
     "output_type": "execute_result"
    }
   ],
   "source": [
    "'3'*2"
   ]
  },
  {
   "cell_type": "code",
   "execution_count": 4,
   "id": "fd74dadf",
   "metadata": {},
   "outputs": [
    {
     "data": {
      "text/plain": [
       "3.0"
      ]
     },
     "execution_count": 4,
     "metadata": {},
     "output_type": "execute_result"
    }
   ],
   "source": [
    "int('33')/11"
   ]
  },
  {
   "cell_type": "code",
   "execution_count": 5,
   "id": "a23edf21",
   "metadata": {},
   "outputs": [
    {
     "data": {
      "text/plain": [
       "'d'"
      ]
     },
     "execution_count": 5,
     "metadata": {},
     "output_type": "execute_result"
    }
   ],
   "source": [
    "spam[int(3.0)]"
   ]
  },
  {
   "cell_type": "markdown",
   "id": "a18b3812",
   "metadata": {},
   "source": [
    "**4.What is the value of spam[-1]?**\n",
    "\n",
    "**Ans:** 'd'  \n",
    "\n",
    "**Explaination:** This is example of negative indexing, here -1 refers to the first element from the last."
   ]
  },
  {
   "cell_type": "code",
   "execution_count": 6,
   "id": "9426143f",
   "metadata": {},
   "outputs": [
    {
     "data": {
      "text/plain": [
       "'d'"
      ]
     },
     "execution_count": 6,
     "metadata": {},
     "output_type": "execute_result"
    }
   ],
   "source": [
    "spam[-1]"
   ]
  },
  {
   "cell_type": "markdown",
   "id": "810a496d",
   "metadata": {},
   "source": [
    "**5.What is the value of spam[:2]?**\n",
    "\n",
    "**Ans:** 'a','b'\n",
    "\n",
    "**Explaination:** This is example of slicing, here `spam[:2]` means slice the list spam from start till 2nd index and return the values. I.e. it returns `spam[0]` and `spam[1]` in the list format."
   ]
  },
  {
   "cell_type": "code",
   "execution_count": 7,
   "id": "b32df87a",
   "metadata": {},
   "outputs": [
    {
     "data": {
      "text/plain": [
       "['a', 'b']"
      ]
     },
     "execution_count": 7,
     "metadata": {},
     "output_type": "execute_result"
    }
   ],
   "source": [
    "spam[:2]"
   ]
  },
  {
   "cell_type": "markdown",
   "id": "acad2a64",
   "metadata": {},
   "source": [
    "**Let's pretend bacon has the list [3.14, 'cat,' 11, 'cat,' True] for the next three questions.**"
   ]
  },
  {
   "cell_type": "code",
   "execution_count": 8,
   "id": "2298dc4a",
   "metadata": {},
   "outputs": [],
   "source": [
    "bacon = [3.14, 'cat', 11, 'cat', True]"
   ]
  },
  {
   "cell_type": "markdown",
   "id": "cc874ef0",
   "metadata": {},
   "source": [
    "**6.What is the value of bacon.index('cat')?**\n",
    "\n",
    "**Ans:** Here value 'cat' is present two times at index 1 as well as 3. However, when we use the index() function it will return the first index of the value 'cat'. Hence the correct answer is 1.\n",
    "\n",
    "Let's verify,"
   ]
  },
  {
   "cell_type": "code",
   "execution_count": 9,
   "id": "75dad5d0",
   "metadata": {},
   "outputs": [
    {
     "data": {
      "text/plain": [
       "1"
      ]
     },
     "execution_count": 9,
     "metadata": {},
     "output_type": "execute_result"
    }
   ],
   "source": [
    "bacon.index('cat') "
   ]
  },
  {
   "cell_type": "markdown",
   "id": "b553e73e",
   "metadata": {},
   "source": [
    "**7.How does bacon.append(99) change the look of the list value in bacon?**\n",
    "\n",
    "**Ans:** bacon.append(99) will append the value 99 at the last index of the list."
   ]
  },
  {
   "cell_type": "code",
   "execution_count": 10,
   "id": "0cb2a334",
   "metadata": {},
   "outputs": [
    {
     "data": {
      "text/plain": [
       "[3.14, 'cat', 11, 'cat', True, 99]"
      ]
     },
     "execution_count": 10,
     "metadata": {},
     "output_type": "execute_result"
    }
   ],
   "source": [
    "bacon.append(99)\n",
    "bacon"
   ]
  },
  {
   "cell_type": "markdown",
   "id": "697e7c4b",
   "metadata": {},
   "source": [
    "**8.How does bacon.remove('cat') change the look of the list in bacon?**\n",
    "\n",
    "**Ans:** bacon.remove('cat') will remove the first instance of the value 'cat' which in this case is at index 1. The second instance of value 'cat' will remain as is."
   ]
  },
  {
   "cell_type": "code",
   "execution_count": 11,
   "id": "0f5156b0",
   "metadata": {},
   "outputs": [
    {
     "data": {
      "text/plain": [
       "[3.14, 11, 'cat', True, 99]"
      ]
     },
     "execution_count": 11,
     "metadata": {},
     "output_type": "execute_result"
    }
   ],
   "source": [
    "bacon.remove('cat')\n",
    "bacon"
   ]
  },
  {
   "cell_type": "markdown",
   "id": "03dc8b2a",
   "metadata": {},
   "source": [
    "**9.What are the list concatenation and list replication operators?**\n",
    "\n",
    "**Ans:**\n",
    "\n",
    "A list concatenation operation can be performed on the list if the operator `+` is used. Concatenation operations require two or more lists and return one list combining all the lists used in concatenation.\n",
    "\n",
    "A list replication operation can be performed on the list if the operator `*` is used. Replication operations can be performed on a single list. It returns a repetition of the list for the number of times as specified in the expression.\n",
    "\n",
    "Let's see examples:"
   ]
  },
  {
   "cell_type": "code",
   "execution_count": 12,
   "id": "a1c03710",
   "metadata": {},
   "outputs": [
    {
     "name": "stdout",
     "output_type": "stream",
     "text": [
      "The result of concatenation of l1 + l2 is: [1, 2, 3, 4, 5, 6, 7]\n",
      "The result of replication of l2 * 3 is: [5, 6, 7, 5, 6, 7, 5, 6, 7]\n"
     ]
    }
   ],
   "source": [
    "l1 = [1,2,3,4]\n",
    "l2 = [5,6,7]\n",
    "print(f\"The result of concatenation of l1 + l2 is: {l1+l2}\")\n",
    "print(f\"The result of replication of l2 * 3 is: {l2*3}\") # this will repeate list l2 3 times"
   ]
  },
  {
   "cell_type": "markdown",
   "id": "c31d81da",
   "metadata": {},
   "source": [
    "**10.What is difference between the list methods append() and insert()?**\n",
    "\n",
    "**Ans:**\n",
    "- `append()` adds values at the end of the list. \n",
    "- `insert()` can add the value at any index specified as argument.\n",
    "  \n",
    "Let's see examples:    "
   ]
  },
  {
   "cell_type": "code",
   "execution_count": 13,
   "id": "e258063a",
   "metadata": {},
   "outputs": [
    {
     "name": "stdout",
     "output_type": "stream",
     "text": [
      "before append, list is = [1, 2, 4, 5]\n",
      "after append, list is = [1, 2, 4, 5, 3]\n",
      "after insert, list is = [1, 'newvalue', 2, 4, 5, 3]\n"
     ]
    }
   ],
   "source": [
    "l = [1,2,4,5]\n",
    "print(f\"before append, list is = {l}\")\n",
    "l.append(3) #3 will be added at the last index\n",
    "print(f\"after append, list is = {l}\")\n",
    "l.insert(1, \"newvalue\") # 'newvalue' will be added at index 1 i.e. between value 1 and 2\n",
    "print(f\"after insert, list is = {l}\")"
   ]
  },
  {
   "cell_type": "markdown",
   "id": "ca186d0a",
   "metadata": {},
   "source": [
    "**11.What are the two methods for removing items from a list?**\n",
    "\n",
    "**Ans:** Below are three methods for removing item from a list:\n",
    "- using function `remove()`, remove() method removes specified value\n",
    "- using function `pop()`, removes the element at the given index, if index is not specified removes last element\n",
    "- using keyword `del`, removes the element at given index, if not specified deletes entire list"
   ]
  },
  {
   "cell_type": "code",
   "execution_count": 14,
   "id": "dae34c30",
   "metadata": {},
   "outputs": [
    {
     "name": "stdout",
     "output_type": "stream",
     "text": [
      "before remove, list is = [1, 2, 3, 4, 5, 6, 7, 8]\n",
      "after remove, list is = [1, 2, 4, 5, 6, 7, 8]\n"
     ]
    }
   ],
   "source": [
    "l = [1,2,3,4,5,6,7,8]\n",
    "print(f\"before remove, list is = {l}\")\n",
    "l.remove(3) #Will remove value 3\n",
    "print(f\"after remove, list is = {l}\")"
   ]
  },
  {
   "cell_type": "code",
   "execution_count": 15,
   "id": "48bde1fa",
   "metadata": {},
   "outputs": [
    {
     "name": "stdout",
     "output_type": "stream",
     "text": [
      "before pop, list is = [1, 2, 3, 4, 5, 6, 7, 8]\n",
      "after pop(3), list is = [1, 2, 3, 5, 6, 7, 8]\n",
      "after pop(), list is = [1, 2, 3, 5, 6, 7]\n"
     ]
    }
   ],
   "source": [
    "l = [1,2,3,4,5,6,7,8]\n",
    "print(f\"before pop, list is = {l}\")\n",
    "l.pop(3) #will remove value at index 3 i.e 4\n",
    "print(f\"after pop(3), list is = {l}\")\n",
    "l.pop() #will remove value at the last index i.e 8\n",
    "print(f\"after pop(), list is = {l}\")"
   ]
  },
  {
   "cell_type": "code",
   "execution_count": 16,
   "id": "150c66e6",
   "metadata": {},
   "outputs": [
    {
     "name": "stdout",
     "output_type": "stream",
     "text": [
      "before del, list is = [1, 2, 3, 4, 5, 6, 7, 8]\n",
      "after del l[3], list is = [1, 2, 3, 5, 6, 7, 8]\n"
     ]
    },
    {
     "ename": "NameError",
     "evalue": "name 'l' is not defined",
     "output_type": "error",
     "traceback": [
      "\u001b[1;31m---------------------------------------------------------------------------\u001b[0m",
      "\u001b[1;31mNameError\u001b[0m                                 Traceback (most recent call last)",
      "\u001b[1;32m~\\AppData\\Local\\Temp/ipykernel_25668/182970559.py\u001b[0m in \u001b[0;36m<module>\u001b[1;34m\u001b[0m\n\u001b[0;32m      4\u001b[0m \u001b[0mprint\u001b[0m\u001b[1;33m(\u001b[0m\u001b[1;34mf\"after del l[3], list is = {l}\"\u001b[0m\u001b[1;33m)\u001b[0m\u001b[1;33m\u001b[0m\u001b[1;33m\u001b[0m\u001b[0m\n\u001b[0;32m      5\u001b[0m \u001b[1;32mdel\u001b[0m \u001b[0ml\u001b[0m \u001b[1;31m#will delete the list l and further access will result in error\u001b[0m\u001b[1;33m\u001b[0m\u001b[1;33m\u001b[0m\u001b[0m\n\u001b[1;32m----> 6\u001b[1;33m \u001b[0mprint\u001b[0m\u001b[1;33m(\u001b[0m\u001b[1;34mf\"after del l, list is = {l}\"\u001b[0m\u001b[1;33m)\u001b[0m\u001b[1;33m\u001b[0m\u001b[1;33m\u001b[0m\u001b[0m\n\u001b[0m",
      "\u001b[1;31mNameError\u001b[0m: name 'l' is not defined"
     ]
    }
   ],
   "source": [
    "l = [1,2,3,4,5,6,7,8]\n",
    "print(f\"before del, list is = {l}\")\n",
    "del l[3] #will remove value at index 3 i.e 4\n",
    "print(f\"after del l[3], list is = {l}\")\n",
    "del l #will delete the list l and further access will result in error\n",
    "print(f\"after del l, list is = {l}\")"
   ]
  },
  {
   "cell_type": "markdown",
   "id": "843d12a1",
   "metadata": {},
   "source": [
    "**12.Describe how list values and string values are identical.**\n",
    "\n",
    "**Ans:**\n",
    "\n",
    "- list and string both are iterable\n",
    "- list and string both have indexes and we can perform slicing operations on them\n",
    "- for loop can be used on both list and string\n",
    "- `+` operator can be used for concatenation on both string and list\n",
    "- `*` operator can be used for repetition on both string and list"
   ]
  },
  {
   "cell_type": "markdown",
   "id": "e1e286b1",
   "metadata": {},
   "source": [
    "**13.What's the difference between tuples and lists?**\n",
    "\n",
    "**Ans:**\n",
    "\n",
    "|List|Tuple|\n",
    "|:-:|:-:|\n",
    "|A list is intiated with `[]` symbol| A tuple is intiated with `()` symbol|\n",
    "|List are mutable|Tuples are immutable|\n",
    "|We can add,update and remove values from list| We can only update values from tuple, add and remove is not supported|\n",
    "|Consumes more memory than tuple| Consumes less memory than list|\n",
    "|There are several built in function availble for list| Tuple has very limited number of built in functions because of its immutability.|"
   ]
  },
  {
   "cell_type": "markdown",
   "id": "9317a45f",
   "metadata": {},
   "source": [
    "**14. How do you type a tuple value that only contains the integer 42?**\n",
    "\n",
    "**Ans:** We can create a tuple containing only int 42 using following code line:\n",
    "```python\n",
    "t = (42,)\n",
    "```\n",
    "\n",
    "The last comma is required to make value as a tuple otherwise it will be considerd as int only.\n",
    "\n",
    "Example:"
   ]
  },
  {
   "cell_type": "code",
   "execution_count": 17,
   "id": "786137c0",
   "metadata": {},
   "outputs": [
    {
     "name": "stdout",
     "output_type": "stream",
     "text": [
      "42\n"
     ]
    },
    {
     "data": {
      "text/plain": [
       "int"
      ]
     },
     "execution_count": 17,
     "metadata": {},
     "output_type": "execute_result"
    }
   ],
   "source": [
    "t = (42)\n",
    "print(t)\n",
    "type(t)"
   ]
  },
  {
   "cell_type": "code",
   "execution_count": 18,
   "id": "90a052fa",
   "metadata": {},
   "outputs": [
    {
     "name": "stdout",
     "output_type": "stream",
     "text": [
      "(42,)\n"
     ]
    },
    {
     "data": {
      "text/plain": [
       "tuple"
      ]
     },
     "execution_count": 18,
     "metadata": {},
     "output_type": "execute_result"
    }
   ],
   "source": [
    "t = (42,)\n",
    "print(t)\n",
    "type(t)"
   ]
  },
  {
   "cell_type": "markdown",
   "id": "1251797e",
   "metadata": {},
   "source": [
    "**15.How do you get a list value's tuple form? How do you get a tuple value's list form?**\n",
    "**Ans:**\n",
    "We can use function `tuple()` to convert list to tuple. Similarly we can use method `list()` to convert tuple to list\n",
    "\n",
    "Example:"
   ]
  },
  {
   "cell_type": "code",
   "execution_count": 19,
   "id": "c536e86d",
   "metadata": {},
   "outputs": [
    {
     "name": "stdout",
     "output_type": "stream",
     "text": [
      "(1, 2, 3)\n",
      "<class 'tuple'>\n",
      "[1, 2, 3]\n",
      "<class 'list'>\n"
     ]
    }
   ],
   "source": [
    "# Converting tuple to list\n",
    "t = (1,2,3)\n",
    "print(t)\n",
    "print(type(t))\n",
    "l = list(t)\n",
    "print(l)\n",
    "print(type(l))"
   ]
  },
  {
   "cell_type": "code",
   "execution_count": 20,
   "id": "47ccbcc8",
   "metadata": {},
   "outputs": [
    {
     "name": "stdout",
     "output_type": "stream",
     "text": [
      "[1, 2, 3]\n",
      "<class 'list'>\n",
      "(1, 2, 3)\n",
      "<class 'tuple'>\n"
     ]
    }
   ],
   "source": [
    "# Converting list to tuple\n",
    "l = [1,2,3]\n",
    "print(l)\n",
    "print(type(l))\n",
    "t = tuple(l)\n",
    "print(t)\n",
    "print(type(t))"
   ]
  },
  {
   "cell_type": "markdown",
   "id": "351ebd5f",
   "metadata": {},
   "source": [
    "**16.Variables that \"contain\" list values are not necessarily lists themselves. Instead, what do they contain?**\n",
    "\n",
    "**Ans:** The variable that contains list value contain the refrence to the list values. "
   ]
  },
  {
   "cell_type": "markdown",
   "id": "417117a5",
   "metadata": {},
   "source": [
    "**17.How do you distinguish between copy.copy() and copy.deepcopy()?**\n",
    "\n",
    "**Ans:**\n",
    "\n",
    "- `copy.copy()` : returns a shallow copy of an object.A shallow copy means constructing a new collection object and then populating it with references to the child objects found in the original. In essence, a shallow copy is only one level deep. The copying process does not recurse and therefore won’t create copies of the child objects themselves.\n",
    "\n",
    "- `deepcopy.copy()` returns a deep copy of and object. A deep copy makes the copying process recursive. It means first constructing a new collection object and then recursively populating it with copies of the child objects found in the original. Copying an object this way walks the whole object tree to create a fully independent clone of the original object and all of its children."
   ]
  }
 ],
 "metadata": {
  "kernelspec": {
   "display_name": "Python 3 (ipykernel)",
   "language": "python",
   "name": "python3"
  },
  "language_info": {
   "codemirror_mode": {
    "name": "ipython",
    "version": 3
   },
   "file_extension": ".py",
   "mimetype": "text/x-python",
   "name": "python",
   "nbconvert_exporter": "python",
   "pygments_lexer": "ipython3",
   "version": "3.9.7"
  }
 },
 "nbformat": 4,
 "nbformat_minor": 5
}
