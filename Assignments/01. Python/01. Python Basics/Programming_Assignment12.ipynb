{
 "cells": [
  {
   "cell_type": "markdown",
   "id": "d669471b",
   "metadata": {},
   "source": [
    "**1.\tWrite a Python program to Extract Unique values dictionary values?**"
   ]
  },
  {
   "cell_type": "code",
   "execution_count": 11,
   "id": "d564ba6a",
   "metadata": {},
   "outputs": [
    {
     "name": "stdout",
     "output_type": "stream",
     "text": [
      "[1, 2, 3, 4, 5, 6, 7, 8, 9, 13]\n"
     ]
    }
   ],
   "source": [
    "dict = {\"A\" : [1,2,3,4], \"B\" : [2,3,5,6], \"C\" : [3,5,7,8], \"D\" : [1,9,], \"E\" : 13 }\n",
    "uniqueVals = []\n",
    "for val in dict.values():\n",
    "    if type(val) == list:\n",
    "        for i in val:\n",
    "            if i not in uniqueVals:\n",
    "                uniqueVals.append(i)\n",
    "    elif val not in uniqueVals:\n",
    "        uniqueVals.append(val)\n",
    "\n",
    "print(uniqueVals)"
   ]
  },
  {
   "cell_type": "markdown",
   "id": "e42694a5",
   "metadata": {},
   "source": [
    "**2.\tWrite a Python program to find the sum of all items in a dictionary?**"
   ]
  },
  {
   "cell_type": "code",
   "execution_count": 13,
   "id": "ef01f861",
   "metadata": {},
   "outputs": [
    {
     "name": "stdout",
     "output_type": "stream",
     "text": [
      "The sum of the all the items in dictionary is: 59\n"
     ]
    }
   ],
   "source": [
    "dict = {\"A\" : [1,2,3,4], \"B\" : [2,3,5,6], \"C\" : [3,5,7,8], \"D\" : [1,9,], \"E\" : 13 }\n",
    "sum = 0\n",
    "for val in dict.values():\n",
    "    if type(val) == list:\n",
    "        for i in val:\n",
    "            sum += i\n",
    "    elif val not in uniqueVals:\n",
    "        sum += i\n",
    "        \n",
    "print(f\"The sum of the all the items in dictionary is: {sum}\")"
   ]
  },
  {
   "cell_type": "markdown",
   "id": "caaae1ac",
   "metadata": {},
   "source": [
    "**3.\tWrite a Python program to Merging two Dictionaries?**"
   ]
  },
  {
   "cell_type": "code",
   "execution_count": null,
   "id": "78b50d41",
   "metadata": {},
   "outputs": [],
   "source": []
  },
  {
   "cell_type": "markdown",
   "id": "11135082",
   "metadata": {},
   "source": [
    "**4.\tWrite a Python program to convert key-values list to flat dictionary?**"
   ]
  },
  {
   "cell_type": "code",
   "execution_count": null,
   "id": "c410ea71",
   "metadata": {},
   "outputs": [],
   "source": []
  },
  {
   "cell_type": "markdown",
   "id": "3506d670",
   "metadata": {},
   "source": [
    "**5.\tWrite a Python program to insertion at the beginning in OrderedDict?**"
   ]
  },
  {
   "cell_type": "code",
   "execution_count": null,
   "id": "4062bb0e",
   "metadata": {},
   "outputs": [],
   "source": []
  },
  {
   "cell_type": "markdown",
   "id": "65481e22",
   "metadata": {},
   "source": [
    "**6.\tWrite a Python program to check order of character in string using OrderedDict()?**"
   ]
  },
  {
   "cell_type": "code",
   "execution_count": null,
   "id": "f8592aad",
   "metadata": {},
   "outputs": [],
   "source": []
  },
  {
   "cell_type": "markdown",
   "id": "df9495d3",
   "metadata": {},
   "source": [
    "**7.\tWrite a Python program to sort Python Dictionaries by Key or Value?**"
   ]
  },
  {
   "cell_type": "code",
   "execution_count": null,
   "id": "4ca77534",
   "metadata": {},
   "outputs": [],
   "source": []
  }
 ],
 "metadata": {
  "kernelspec": {
   "display_name": "Python 3 (ipykernel)",
   "language": "python",
   "name": "python3"
  },
  "language_info": {
   "codemirror_mode": {
    "name": "ipython",
    "version": 3
   },
   "file_extension": ".py",
   "mimetype": "text/x-python",
   "name": "python",
   "nbconvert_exporter": "python",
   "pygments_lexer": "ipython3",
   "version": "3.9.7"
  }
 },
 "nbformat": 4,
 "nbformat_minor": 5
}
