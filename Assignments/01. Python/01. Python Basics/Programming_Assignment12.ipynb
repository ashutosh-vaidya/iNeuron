{
 "cells": [
  {
   "cell_type": "markdown",
   "id": "d669471b",
   "metadata": {},
   "source": [
    "**1.\tWrite a Python program to Extract Unique values dictionary values?**"
   ]
  },
  {
   "cell_type": "code",
   "execution_count": 1,
   "id": "d564ba6a",
   "metadata": {},
   "outputs": [
    {
     "name": "stdout",
     "output_type": "stream",
     "text": [
      "[1, 2, 3, 4, 5, 6, 7, 8, 9, 13]\n"
     ]
    }
   ],
   "source": [
    "d = {\"A\" : [1,2,3,4], \"B\" : [2,3,5,6], \"C\" : [3,5,7,8], \"D\" : [1,9,], \"E\" : 13 }\n",
    "uniqueVals = []\n",
    "for val in d.values():\n",
    "    if type(val) == list:\n",
    "        for i in val:\n",
    "            if i not in uniqueVals:\n",
    "                uniqueVals.append(i)\n",
    "    elif val not in uniqueVals:\n",
    "        uniqueVals.append(val)\n",
    "\n",
    "print(uniqueVals)"
   ]
  },
  {
   "cell_type": "markdown",
   "id": "e42694a5",
   "metadata": {},
   "source": [
    "**2.\tWrite a Python program to find the sum of all items in a dictionary?**"
   ]
  },
  {
   "cell_type": "code",
   "execution_count": 2,
   "id": "ef01f861",
   "metadata": {},
   "outputs": [
    {
     "name": "stdout",
     "output_type": "stream",
     "text": [
      "The sum of the all the items in dictionary is: 59\n"
     ]
    }
   ],
   "source": [
    "d = {\"A\" : [1,2,3,4], \"B\" : [2,3,5,6], \"C\" : [3,5,7,8], \"D\" : [1,9,], \"E\" : 13 }\n",
    "sum = 0\n",
    "for val in d.values():\n",
    "    if type(val) == list:\n",
    "        for i in val:\n",
    "            sum += i\n",
    "    elif val not in uniqueVals:\n",
    "        sum += i\n",
    "        \n",
    "print(f\"The sum of the all the items in dictionary is: {sum}\")"
   ]
  },
  {
   "cell_type": "markdown",
   "id": "caaae1ac",
   "metadata": {},
   "source": [
    "**3.\tWrite a Python program to Merging two Dictionaries?**"
   ]
  },
  {
   "cell_type": "code",
   "execution_count": 3,
   "id": "78b50d41",
   "metadata": {},
   "outputs": [
    {
     "name": "stdout",
     "output_type": "stream",
     "text": [
      "Dictionary 1 = {'A': [1, 2, 3, 4], 'B': [2, 3, 5, 6]}\n",
      "Dictionary 2 = {'C': [3, 5, 7, 8], 'D': [1, 9], 'E': 13}\n",
      "Dictionary after merging = {'A': [1, 2, 3, 4], 'B': [2, 3, 5, 6], 'C': [3, 5, 7, 8], 'D': [1, 9], 'E': 13}\n"
     ]
    }
   ],
   "source": [
    "d1 = {\"A\" : [1,2,3,4], \"B\" : [2,3,5,6]}\n",
    "d2 = {\"C\" : [3,5,7,8], \"D\" : [1,9,], \"E\" : 13}\n",
    "print(f\"Dictionary 1 = {d1}\")\n",
    "print(f\"Dictionary 2 = {d2}\")\n",
    "d1.update(d2)\n",
    "print(f\"Dictionary after merging = {d1}\")"
   ]
  },
  {
   "cell_type": "markdown",
   "id": "11135082",
   "metadata": {},
   "source": [
    "**4.\tWrite a Python program to convert key-values list to flat dictionary?**"
   ]
  },
  {
   "cell_type": "code",
   "execution_count": 4,
   "id": "c410ea71",
   "metadata": {},
   "outputs": [
    {
     "name": "stdout",
     "output_type": "stream",
     "text": [
      "Original dictionary with key-values list: {'num': [1, 2, 3, 4, 5, 6], 'name': ['Rachel', 'Monica', 'Phoebe', 'Joey', 'Chandler', 'Ross']}\n",
      "Flatten dictionary: {1: 'Rachel', 2: 'Monica', 3: 'Phoebe', 4: 'Joey', 5: 'Chandler', 6: 'Ross'}\n"
     ]
    }
   ],
   "source": [
    "d1 = {\"num\" : [1,2,3,4,5,6], \"name\" : [\"Rachel\", \"Monica\", \"Phoebe\", \"Joey\", \"Chandler\", \"Ross\"]}\n",
    "\n",
    "print(f\"Original dictionary with key-values list: {d1}\")\n",
    "\n",
    "#converting to flat dictionry\n",
    "result = dict(zip(d1[\"num\"], d1[\"name\"]))\n",
    "\n",
    "print(f\"Flatten dictionary: {result}\")"
   ]
  },
  {
   "cell_type": "markdown",
   "id": "3506d670",
   "metadata": {},
   "source": [
    "**5.\tWrite a Python program to insertion at the beginning in OrderedDict?**"
   ]
  },
  {
   "cell_type": "code",
   "execution_count": 5,
   "id": "4062bb0e",
   "metadata": {},
   "outputs": [
    {
     "name": "stdout",
     "output_type": "stream",
     "text": [
      "The ordered dictionary is : OrderedDict([('One', 1), ('Two', 2), ('Three', 3)])\n",
      "After adding Zero, dictionary is: OrderedDict([('One', 1), ('Two', 2), ('Three', 3), ('Zero', 0)])\n",
      "After moving Zero at the beginning, dictionary is: OrderedDict([('Zero', 0), ('One', 1), ('Two', 2), ('Three', 3)])\n"
     ]
    }
   ],
   "source": [
    "from collections import OrderedDict\n",
    "numbers = OrderedDict()\n",
    "numbers[\"One\"] = 1\n",
    "numbers[\"Two\"] = 2\n",
    "numbers[\"Three\"] = 3\n",
    "print(f\"The ordered dictionary is : {numbers}\")\n",
    "\n",
    "numbers[\"Zero\"] = 0\n",
    "print(f\"After adding Zero, dictionary is: {numbers}\")\n",
    "\n",
    "#Move the Zero to the beginning\n",
    "numbers.move_to_end(\"Zero\", last = False)\n",
    "print(f\"After moving Zero at the beginning, dictionary is: {numbers}\")"
   ]
  },
  {
   "cell_type": "markdown",
   "id": "65481e22",
   "metadata": {},
   "source": [
    "**6.\tWrite a Python program to check order of character in string using OrderedDict()?**"
   ]
  },
  {
   "cell_type": "code",
   "execution_count": 6,
   "id": "f8592aad",
   "metadata": {},
   "outputs": [
    {
     "name": "stdout",
     "output_type": "stream",
     "text": [
      "The order of charcters in string Hello World for pattern le is Incorrect\n",
      "The order of charcters in string Hello for pattern Ho is Correct\n"
     ]
    }
   ],
   "source": [
    "from collections import OrderedDict\n",
    "def checkOrder(string, pattern): \n",
    "    dic = OrderedDict.fromkeys(string) \n",
    "    ptr = 0\n",
    "    for key,value in dic.items(): \n",
    "        if (key == pattern[ptr]): \n",
    "            ptr = ptr + 1\n",
    "        if (ptr == (len(pattern))): \n",
    "            return True\n",
    "    return False\n",
    "\n",
    "s1 = \"Hello World\"\n",
    "p1 = \"le\"\n",
    "print(f\"The order of charcters in string {s1} for pattern {p1} is {'Correct' if checkOrder(s1,p1) else 'Incorrect'}\")\n",
    "\n",
    "s2 = \"Hello\"\n",
    "p2 = \"Ho\"\n",
    "print(f\"The order of charcters in string {s2} for pattern {p2} is {'Correct' if checkOrder(s2,p2) else 'Incorrect'}\")"
   ]
  },
  {
   "cell_type": "markdown",
   "id": "df9495d3",
   "metadata": {},
   "source": [
    "**7.\tWrite a Python program to sort Python Dictionaries by Key or Value?**"
   ]
  },
  {
   "cell_type": "code",
   "execution_count": 7,
   "id": "dfc912f3",
   "metadata": {},
   "outputs": [
    {
     "name": "stdout",
     "output_type": "stream",
     "text": [
      "Dictionary with out any sort {'A': 5, 'Z': 3, 'C': 23, 'F': 14, 'W': 25, 'E': 11}\n",
      "Sorting based on keys:\n",
      "('A', 5) ('C', 23) ('E', 11) ('F', 14) ('W', 25) ('Z', 3) \n",
      "Sorting based on values:\n",
      "[('Z', 3), ('A', 5), ('E', 11), ('F', 14), ('C', 23), ('W', 25)]\n"
     ]
    }
   ],
   "source": [
    "d = {\"A\":5, \"Z\":3, \"C\":23, \"F\":14, \"W\": 25, \"E\":11}\n",
    "print(f\"Dictionary with out any sort {d}\")\n",
    "\n",
    "print(\"Sorting based on keys:\")\n",
    "for i in sorted(d):\n",
    "    print((i, d[i]), end = \" \")\n",
    "\n",
    "print()\n",
    "print(\"Sorting based on values:\")\n",
    "print(sorted(d.items(), key=lambda keyval: (keyval[1], keyval[0])))"
   ]
  }
 ],
 "metadata": {
  "kernelspec": {
   "display_name": "Python 3 (ipykernel)",
   "language": "python",
   "name": "python3"
  },
  "language_info": {
   "codemirror_mode": {
    "name": "ipython",
    "version": 3
   },
   "file_extension": ".py",
   "mimetype": "text/x-python",
   "name": "python",
   "nbconvert_exporter": "python",
   "pygments_lexer": "ipython3",
   "version": "3.9.7"
  }
 },
 "nbformat": 4,
 "nbformat_minor": 5
}
