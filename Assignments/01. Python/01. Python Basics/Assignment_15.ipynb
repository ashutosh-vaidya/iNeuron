{
 "cells": [
  {
   "cell_type": "markdown",
   "id": "eb3ed5c8",
   "metadata": {},
   "source": [
    "**1.How many seconds are in an hour? Use the interactive interpreter as a calculator and multiply the number of seconds in a minute (60) by the number of minutes in an hour (also 60).**\n",
    "\n",
    "**Ans:** There are 60 seconds in a minute and 60 minutes in an hour. Using this information lets calculate how many seconds are in an hour"
   ]
  },
  {
   "cell_type": "code",
   "execution_count": 1,
   "id": "9c9f96f5",
   "metadata": {},
   "outputs": [
    {
     "name": "stdout",
     "output_type": "stream",
     "text": [
      "An hour has 3600 seconds\n"
     ]
    }
   ],
   "source": [
    "seconds_per_min = 60\n",
    "mins_per_hour = 60\n",
    "\n",
    "result = seconds_per_min * mins_per_hour\n",
    "\n",
    "print(f\"An hour has {result} seconds\")"
   ]
  },
  {
   "cell_type": "markdown",
   "id": "76162c50",
   "metadata": {},
   "source": [
    "**2. Assign the result from the previous task (seconds in an hour) to a variable called seconds_per_hour.**"
   ]
  },
  {
   "cell_type": "code",
   "execution_count": 2,
   "id": "de54812b",
   "metadata": {},
   "outputs": [
    {
     "name": "stdout",
     "output_type": "stream",
     "text": [
      "seconds_per_hour = 3600\n"
     ]
    }
   ],
   "source": [
    "seconds_per_hour = result\n",
    "print(f\"seconds_per_hour = {seconds_per_hour}\")"
   ]
  },
  {
   "cell_type": "markdown",
   "id": "42eb35aa",
   "metadata": {},
   "source": [
    "**3. How many seconds do you think there are in a day? Make use of the variables seconds per hour and minutes per hour.**\n",
    "\n",
    "**Ans:** There are 24 hours in a day, an hour has 60 minutes and a minute has 60 second. Using this information, lets calculate seconds per day"
   ]
  },
  {
   "cell_type": "code",
   "execution_count": 3,
   "id": "b071bc51",
   "metadata": {},
   "outputs": [
    {
     "name": "stdout",
     "output_type": "stream",
     "text": [
      "There are 86400 seconds per day\n"
     ]
    }
   ],
   "source": [
    "seconds_per_min = 60\n",
    "mins_per_hour = 60\n",
    "hour_per_day = 24\n",
    "\n",
    "seconds_per_day = seconds_per_min * mins_per_hour * hour_per_day\n",
    "\n",
    "print(f\"There are {seconds_per_day} seconds per day\")"
   ]
  },
  {
   "cell_type": "markdown",
   "id": "ee6cd896",
   "metadata": {},
   "source": [
    "**4. Calculate seconds per day again, but this time save the result in a variable called seconds_per_day**"
   ]
  },
  {
   "cell_type": "code",
   "execution_count": 4,
   "id": "5f67cfdf",
   "metadata": {},
   "outputs": [
    {
     "name": "stdout",
     "output_type": "stream",
     "text": [
      "There are 86400 seconds per day\n"
     ]
    }
   ],
   "source": [
    "seconds_per_day = seconds_per_min * mins_per_hour * hour_per_day\n",
    "\n",
    "print(f\"There are {seconds_per_day} seconds per day\")"
   ]
  },
  {
   "cell_type": "markdown",
   "id": "9a5c8c0c",
   "metadata": {},
   "source": [
    "**5. Divide seconds_per_day by seconds_per_hour. Use floating-point (/) division.**"
   ]
  },
  {
   "cell_type": "code",
   "execution_count": 5,
   "id": "4795fbc7",
   "metadata": {},
   "outputs": [
    {
     "name": "stdout",
     "output_type": "stream",
     "text": [
      "24.0\n"
     ]
    }
   ],
   "source": [
    "floting_point_div_res = seconds_per_day/seconds_per_hour\n",
    "print(floting_point_div_res)"
   ]
  },
  {
   "cell_type": "markdown",
   "id": "969ee371",
   "metadata": {},
   "source": [
    "**6. Divide seconds_per_day by seconds_per_hour, using integer (//) division. Did this number agree with the floating-point value from the previous question, aside from the final .0?**"
   ]
  },
  {
   "cell_type": "code",
   "execution_count": 6,
   "id": "180ca0e0",
   "metadata": {},
   "outputs": [
    {
     "name": "stdout",
     "output_type": "stream",
     "text": [
      "24\n"
     ]
    }
   ],
   "source": [
    "integer_div_res = seconds_per_day//seconds_per_hour\n",
    "print(integer_div_res)"
   ]
  },
  {
   "cell_type": "markdown",
   "id": "58ed1308",
   "metadata": {},
   "source": [
    "Result from floating point division matches with result with integer division aside from final .0"
   ]
  },
  {
   "cell_type": "markdown",
   "id": "5cffb8fb",
   "metadata": {},
   "source": [
    "**7. Write a generator, genPrimes, that returns the sequence of prime numbers on successive calls to its next() method: 2, 3, 5, 7, 11, ...**"
   ]
  },
  {
   "cell_type": "code",
   "execution_count": 7,
   "id": "52f7d651",
   "metadata": {},
   "outputs": [
    {
     "name": "stdout",
     "output_type": "stream",
     "text": [
      "2,3,5,7,11,13,17,19,23,25,"
     ]
    }
   ],
   "source": [
    "def genPrimes():\n",
    "    n = 2\n",
    "    while True:\n",
    "        if n == 2 or n == 3 :\n",
    "            yield n\n",
    "        elif ((n-1) % 6 == 0 or (n+1) % 6 == 0):\n",
    "            yield n\n",
    "        n += 1\n",
    "        \n",
    "prime = genPrimes()\n",
    "for i in range(10):\n",
    "    print(next(prime), end = \",\")"
   ]
  }
 ],
 "metadata": {
  "kernelspec": {
   "display_name": "Python 3 (ipykernel)",
   "language": "python",
   "name": "python3"
  },
  "language_info": {
   "codemirror_mode": {
    "name": "ipython",
    "version": 3
   },
   "file_extension": ".py",
   "mimetype": "text/x-python",
   "name": "python",
   "nbconvert_exporter": "python",
   "pygments_lexer": "ipython3",
   "version": "3.9.7"
  }
 },
 "nbformat": 4,
 "nbformat_minor": 5
}
