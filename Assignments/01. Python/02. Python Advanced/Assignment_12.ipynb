{
 "cells": [
  {
   "cell_type": "markdown",
   "id": "267ff17b",
   "metadata": {},
   "source": [
    "**Q1. Does assigning a value to a string's indexed character violate Python's string immutability?**\n",
    "\n",
    "**ans:** In Python, strings are **immutable**, which means you cannot modify them directly. If you try to assign a value to a string's indexed character, you will get a `TypeError` that says **\"string object does not support item assignment\"**. This error occurs because strings in Python are designed to be immutable, and thus, they cannot be changed after they are created.\n",
    "\n",
    "See the below code snippet for ref:"
   ]
  },
  {
   "cell_type": "code",
   "execution_count": 1,
   "id": "c7251e0c",
   "metadata": {},
   "outputs": [
    {
     "ename": "TypeError",
     "evalue": "'str' object does not support item assignment",
     "output_type": "error",
     "traceback": [
      "\u001b[1;31m---------------------------------------------------------------------------\u001b[0m",
      "\u001b[1;31mTypeError\u001b[0m                                 Traceback (most recent call last)",
      "Cell \u001b[1;32mIn [1], line 2\u001b[0m\n\u001b[0;32m      1\u001b[0m my_string \u001b[38;5;241m=\u001b[39m \u001b[38;5;124m\"\u001b[39m\u001b[38;5;124mhello\u001b[39m\u001b[38;5;124m\"\u001b[39m\n\u001b[1;32m----> 2\u001b[0m \u001b[43mmy_string\u001b[49m\u001b[43m[\u001b[49m\u001b[38;5;241;43m0\u001b[39;49m\u001b[43m]\u001b[49m \u001b[38;5;241m=\u001b[39m \u001b[38;5;124m\"\u001b[39m\u001b[38;5;124mH\u001b[39m\u001b[38;5;124m\"\u001b[39m\n",
      "\u001b[1;31mTypeError\u001b[0m: 'str' object does not support item assignment"
     ]
    }
   ],
   "source": [
    "my_string = \"hello\"\n",
    "my_string[0] = \"H\""
   ]
  },
  {
   "cell_type": "markdown",
   "id": "d79dc3fb",
   "metadata": {},
   "source": [
    "**Q2. Does using the `+=` operator to concatenate strings violate Python's string immutability? Why or why not?**\n",
    "\n",
    "**Ans:** Using the += operator to concatenate strings in Python does not violate Python's string immutability because it does not modify the existing string. Instead, it creates a new string that is the concatenation of the original string and the new string being added.\n",
    "\n",
    "Here's an example:"
   ]
  },
  {
   "cell_type": "code",
   "execution_count": 2,
   "id": "65947ce0",
   "metadata": {},
   "outputs": [
    {
     "name": "stdout",
     "output_type": "stream",
     "text": [
      "hello world\n"
     ]
    }
   ],
   "source": [
    "my_string = \"hello\"\n",
    "my_string += \" world\"\n",
    "print(my_string)"
   ]
  },
  {
   "cell_type": "markdown",
   "id": "3cb7c962",
   "metadata": {},
   "source": [
    "**Q3. In Python, how many different ways are there to index a character?**\n",
    "\n",
    "**Ans:** There is only one way to index a charcter in a string which is by using square brackets **`[]`** and providing the index number of the charcter to be accessed.\n",
    "\n",
    "**Q4. What is the relationship between indexing and slicing?**\n",
    "\n",
    "**Ans:** Indexing refers to **accessing a specific character of a string by its position, or index, within the string**. Slicing refers to **accessing a range of charcters from a string**\n",
    "\n",
    "See below example:"
   ]
  },
  {
   "cell_type": "code",
   "execution_count": 4,
   "id": "0c814da8",
   "metadata": {},
   "outputs": [
    {
     "name": "stdout",
     "output_type": "stream",
     "text": [
      "First char = H\n",
      "Last char = !\n",
      "First four char = Hell\n",
      "Last four char = rld!\n"
     ]
    }
   ],
   "source": [
    "my_string = \"Hello, World!\"\n",
    "\n",
    "# indexing\n",
    "print(f\"First char = {my_string[0]}\")\n",
    "print(f\"Last char = {my_string[-1]}\")\n",
    "\n",
    "# slicing\n",
    "print(f\"First four char = {my_string[:4]}\")\n",
    "print(f\"Last four char = {my_string[-4:]}\")"
   ]
  },
  {
   "cell_type": "markdown",
   "id": "46004596",
   "metadata": {},
   "source": [
    "**Q5. What is an indexed character's exact data type? What is the data form of a slicing-generated substring?**\n",
    "\n",
    "**Ans:** The type of indexed charcter is `string` similary substring generated from slicing is also of type string.\n",
    "\n",
    "See below snippet:"
   ]
  },
  {
   "cell_type": "code",
   "execution_count": 5,
   "id": "820b8f94",
   "metadata": {},
   "outputs": [
    {
     "name": "stdout",
     "output_type": "stream",
     "text": [
      "Data type of indexed First char = <class 'str'>\n",
      "Data type of sliced substring consisting First four char = <class 'str'>\n"
     ]
    }
   ],
   "source": [
    "my_string = \"Hello, World!\"\n",
    "\n",
    "#indexing\n",
    "print(f\"Data type of indexed First char = {type(my_string[0])}\")\n",
    "\n",
    "#slicing\n",
    "print(f\"Data type of sliced substring consisting First four char = {type(my_string[:4])}\")"
   ]
  },
  {
   "cell_type": "markdown",
   "id": "873b1ab6",
   "metadata": {},
   "source": [
    "**Q6. What is the relationship between string and character \"types\" in Python?**\n",
    "\n",
    "**Ans:** In Python, a string is a collection of characters. Each character in a string is represented by a Unicode code point, which is a unique integer value assigned to each character in the Unicode standard.There is no separate \"type\" for characters in Python; instead, characters are simply represented as single-character strings.\n",
    "\n",
    "**Q7. Identify at least two operators and one method that allow you to combine one or more smaller strings to create a larger string.**\n",
    "\n",
    "Ans: \n",
    "Operators: \n",
    "1. **`+`** operator is called as string concatenation operator when used on string. \n",
    "2. **`+=`** is a shorthand for concatenating a string with another string and assiging the result back to original string.\n",
    "\n",
    "Method:\n",
    "We can use `join()` method to combine one or more smaller string to create larger string.\n",
    "\n",
    "Example:"
   ]
  },
  {
   "cell_type": "code",
   "execution_count": 6,
   "id": "ae492f39",
   "metadata": {},
   "outputs": [
    {
     "name": "stdout",
     "output_type": "stream",
     "text": [
      "Hello world\n",
      "Hello world\n",
      "Hello, world\n"
     ]
    }
   ],
   "source": [
    "#Operator +\n",
    "string1 = \"Hello\"\n",
    "string2 = \"world\"\n",
    "new_string = string1 + \" \" + string2\n",
    "print(new_string)\n",
    "\n",
    "#Operator += \n",
    "string1 = \"Hello\"\n",
    "string2 = \"world\"\n",
    "string1 += \" \" + string2\n",
    "print(string1)  # \"Hello world\"\n",
    "\n",
    "#method join()\n",
    "words = [\"Hello\", \"world\"]\n",
    "separator = \", \"\n",
    "new_string = separator.join(words)\n",
    "print(new_string)"
   ]
  },
  {
   "cell_type": "markdown",
   "id": "dabc331d",
   "metadata": {},
   "source": [
    "**Q8. What is the benefit of first checking the target string with in or not in before using the index method to find a substring?**\n",
    "\n",
    "**Ans:** Checking whether a substring is present in a target string using the in or not in operator before using the index() method can help avoid errors and exception such as `ValueError`\n",
    "\n",
    "**Q9. Which operators and built-in string methods produce simple Boolean (true/false) results?**\n",
    "\n",
    "**Ans:** \n",
    "Operators:\n",
    "- `==`: checks whether two strings are equal and returns `True` if they are, `False` otherwise\n",
    "- `!=`: checks whether two strings are not equal and returns `True` if they are not, `False` otherwise\n",
    "- `in`: checks whether a substring is present in a target string and returns `True` if it is, `False` otherwise\n",
    "- `not in`: checks whether a substring is not present in a target string and returns `True` if it is not, `False` otherwise\n",
    "\n",
    "Built-in string methods:\n",
    "- `startswith()`: checks whether a string starts with a given prefix and returns `True` if it does, `False` otherwise\n",
    "- `endswith()`: checks whether a string ends with a given suffix and returns `True` if it does, `False` otherwise\n",
    "- `isalpha()`: checks whether a string contains only alphabetic characters and returns `True` if it does, `False` otherwise\n",
    "- `isdigit()`: checks whether a string contains only numeric characters and returns `True` if it does, `False` otherwise\n",
    "- `isalnum()`: checks whether a string contains only alphanumeric characters and returns `True` if it does, `False` otherwise\n",
    "- `islower()`: checks whether a string contains only lowercase characters and returns `True` if it does, `False` otherwise\n",
    "- `isupper()`: checks whether a string contains only uppercase characters and returns `True` if it does, `False` otherwise\n",
    "- `isspace()`: checks whether a string contains only whitespace characters and returns `True` if it does, `False` otherwise\n"
   ]
  }
 ],
 "metadata": {
  "kernelspec": {
   "display_name": "Python 3 (ipykernel)",
   "language": "python",
   "name": "python3"
  },
  "language_info": {
   "codemirror_mode": {
    "name": "ipython",
    "version": 3
   },
   "file_extension": ".py",
   "mimetype": "text/x-python",
   "name": "python",
   "nbconvert_exporter": "python",
   "pygments_lexer": "ipython3",
   "version": "3.10.9"
  }
 },
 "nbformat": 4,
 "nbformat_minor": 5
}
