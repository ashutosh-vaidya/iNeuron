{
 "cells": [
  {
   "cell_type": "markdown",
   "id": "be508116",
   "metadata": {},
   "source": [
    "**Q1. Describe three applications for exception processing.**\n",
    "\n",
    "**Ans:** Exception handling is the process of responding to unwanted or unexpected events occurring when running a program and preventing the program from abruptly stopping or generating erroneous results.\n",
    "\n",
    "Exception handling can be used in the following:\n",
    "- Preventing users from entering invalid inputs\n",
    "-  Handling network connection issues, device I/O issues like memory exceeding or disk failures  \n",
    "- In arithmetic operations when a program attempts to divide by zero\n",
    "- During file handling when the user attempts to access files that do not exist or are already in use. etc.   \n",
    "\n",
    "**Q2. What happens if you don't do something extra to treat an exception?**\n",
    "\n",
    "**Ans:** If we did not handle the exception that occurred, the program may terminate abruptly from the statement where the exception occurred resulting in the crash of the program and resulting in loss of data or saving erroneous data which can potentially result in undesirable results in the future.\n",
    "\n",
    "**Q3. What are your options for recovering from an exception in your script?**\n",
    "\n",
    "**Ans:** To recover from the exception in a program, we can use the `try except` block.\n",
    "\n",
    "```python\n",
    "try:\n",
    "    #here write the code which may cause the exception\n",
    "except:\n",
    "    #any exception occurred will be caught here and can be handled\n",
    "```\n",
    "\n",
    "**Q4. Describe two methods for triggering exceptions in your script.**\n",
    "\n",
    "**Ans:** `raise` and `assert` are two methods that can be used to trigger manual exceptions.\n",
    "- raise: triggers an exception if condition provided returns `True`.\n",
    "- assert: lets program continue execution if condition provided returns `True` else exception will be raised\n",
    "\n",
    "**Q5. Identify two methods for specifying actions to be executed at termination time, regardless of whether or not an exception exists.**\n",
    "\n",
    "**Ans:** `else` and `finally` are the two methods which can be exceuted regardless of exception."
   ]
  }
 ],
 "metadata": {
  "kernelspec": {
   "display_name": "Python 3 (ipykernel)",
   "language": "python",
   "name": "python3"
  },
  "language_info": {
   "codemirror_mode": {
    "name": "ipython",
    "version": 3
   },
   "file_extension": ".py",
   "mimetype": "text/x-python",
   "name": "python",
   "nbconvert_exporter": "python",
   "pygments_lexer": "ipython3",
   "version": "3.10.9"
  }
 },
 "nbformat": 4,
 "nbformat_minor": 5
}
