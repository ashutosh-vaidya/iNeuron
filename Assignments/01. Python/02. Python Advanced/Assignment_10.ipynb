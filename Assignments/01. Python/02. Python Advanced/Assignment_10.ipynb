{
 "cells": [
  {
   "cell_type": "markdown",
   "id": "8df34e4f",
   "metadata": {},
   "source": [
    "**Q1. What is the difference between `__getattr__` and `__getattribute__`?\n",
    "\n",
    "**Ans:** Both `__getattr__` and `__getattribute__` are methods that allows to intercept attribute access on an object. However there is below key difference between the two,\n",
    "\n",
    "- `__getattr__` is called only wehn an attribute is not found through the usual lookup mechanism. i.e. when attribure does not exist in the objects instance dictionary or in its class hierarchy.\n",
    "\n",
    "- `__getattribute__` is called for every attribute access regardless of whether the attribute exists or not. It is used to customize the behavior ot attribure access of all attributes of the object.\n",
    "\n",
    "\n",
    "**Q2. What is the difference between properties and descriptors?**\n",
    "\n",
    "Properties and descriptors are both ways to customize the behavior of attribute access in Python.\n",
    "\n",
    "Properties are a simpler way to customize attribute access that is limited to a per-class basis, while descriptors are a more powerful and flexible way to customize attribute access that can be defined at either the class or instance level.\n",
    "\n",
    "\n",
    "**Q3. What are the key differences in functionality between __getattr__ and __getattribute__, as well as properties and descriptors?** \n",
    "\n",
    "**Ans:** Both `__getattr__` and `__getattribute__`, as well as `properties` and `descriptors`, are used for attribute access in Python. \n",
    "\n",
    "However there are some differences,\n",
    "\n",
    "**diff between `__getattr__` and `__getattribute__`:**\n",
    "\n",
    "1. Invocation: `__getattr__` is called only when an attribute is **not found** by normal lookup, while `__getattribute__` is called **on every** attribute access.\n",
    "2. Implementation: `__getattr__` is a method that is called **dynamically** when an attribute is not found, while `__getattribute__` is a built-in method that is always called **first** for attribute access.\n",
    "3. Error handling: `__getattr__` is used for handling **undefined attributes**, while `__getattribute__` is used for handling **all attribute** access, including defined attributes.\n",
    "4. Potential infinite recursion: It is possible to cause an **infinite recursion** in `__getattribute__` by inadvertently accessing the same attribute recursively.\n",
    "\n",
    "**diff between Properties and descriptors:**\n",
    "\n",
    "1. Usage: Properties are used to **define computed attributes**, while descriptors are used to **define how attributes are accessed or assigned**.\n",
    "2. Syntax: Properties are defined using the **`@property`** decorator, while descriptors are defined as a separate class with methods such as **`__get__`, `__set__`, and `__delete__`**.\n",
    "3. Composition: Multiple descriptors can be combined to create more complex behaviors, while properties cannot be composed with other attributes.\n",
    "4. Access control: Descriptors can control how attributes are accessed and assigned, including implementing read-only or write-only attributes, while properties can only define computed attributes.\n",
    "\n",
    "In summary, `__getattr__` and `__getattribute__` are used for **attribute access and error handling**, while `properties` and `descriptors` are used for **defining computed attributes and controlling how attributes are accessed and assigned**.\n",
    "\n",
    "\n",
    "\n",
    "\n",
    "\n",
    "\n",
    "\n",
    "\n"
   ]
  }
 ],
 "metadata": {
  "kernelspec": {
   "display_name": "Python 3 (ipykernel)",
   "language": "python",
   "name": "python3"
  },
  "language_info": {
   "codemirror_mode": {
    "name": "ipython",
    "version": 3
   },
   "file_extension": ".py",
   "mimetype": "text/x-python",
   "name": "python",
   "nbconvert_exporter": "python",
   "pygments_lexer": "ipython3",
   "version": "3.10.9"
  }
 },
 "nbformat": 4,
 "nbformat_minor": 5
}
