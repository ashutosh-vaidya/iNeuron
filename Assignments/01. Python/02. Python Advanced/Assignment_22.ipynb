{
 "cells": [
  {
   "cell_type": "markdown",
   "id": "c1d19ab3",
   "metadata": {},
   "source": [
    "**Q1. What are the benefits of the built-in array package, if any?**\n",
    "\n",
    "**Ans:** the built-in array package is the `array` module. Here are some benefits of using the array module:\n",
    "\n",
    "1. Memory Efficiency: The array module allows you to create arrays of a fixed size with elements of a single data type. This makes them more memory-efficient compared to Python's built-in lists, which can contain elements of different data types.\n",
    "2. Performance: Since arrays in array module are designed for a specific data type, they provide faster performance for tasks that involve numeric computations or other operations on homogeneous data.\n",
    "3. Flexibility: The array module supports a wide range of data types, including integers, floating-point numbers, and even custom data types, making it flexible for various use cases.\n",
    "4. Integration: The array module is part of the standard Python library, making it easy to use without installing any additional packages.\n",
    "5. Interoperability: The array module provides compatibility with other low-level programming languages, such as C or Fortran, making it useful for interfacing with code written in these languages.\n",
    "\n",
    "**Q2. What are some of the array package's limitations?**\n",
    "\n",
    "**Ans:** Here are some limitations of using array packages:\n",
    "\n",
    "1. Fixed Size: Arrays have a fixed size, which means they cannot be resized dynamically. If you need to add or remove elements from an array, you'll need to create a new one with a different size and copy the elements from the old array to the new one. This can be time-consuming and memory-intensive.\n",
    "2. Homogeneous Data Type: Arrays are typically restricted to a single data type. This means that if you need to store elements of different data types in the same container, you'll need to use a different data structure, such as a list or dictionary.\n",
    "3. Limited Functionality: While arrays provide fast and efficient access to elements by index, they may not have some of the built-in methods and functionality that other data structures provide. For example, lists in Python have methods like `append()` and `extend()`, which allow you to add elements to the end of the list or concatenate two lists, respectively. Arrays do not have these methods.\n",
    "4. Lack of Flexibility: Due to their fixed size and homogeneous data type, arrays may not be the best choice for all use cases. For example, if you need a data structure that can grow or shrink dynamically and store elements of different data types, you may need to use a list or a dictionary instead.\n",
    "\n",
    "**Q3. Describe the main differences between the array and numpy packages.**\n",
    "\n",
    "**Ans:** Differences between array and numpy:\n",
    "1. Data Types: The array package is limited to a few basic data types such as integers, floating-point numbers, and characters, whereas numpy provides a wider range of data types such as complex numbers, booleans, and even user-defined data types.\n",
    "2. Dimensionality: array is a one-dimensional array, whereas numpy is capable of handling multi-dimensional arrays, making it more suitable for complex mathematical operations, such as linear algebra.\n",
    "3. Resizing: The array package has a fixed size, so you cannot resize an array once it is created. In contrast, numpy provides the ability to change the size of an array dynamically.\n",
    "4. Functionality: numpy provides a wider range of mathematical operations and functions for working with arrays, such as matrix operations, Fourier transforms, and statistical functions. array provides basic array manipulation functions such as slicing and indexing.\n",
    "5. Performance: numpy is designed for efficient numerical operations, and it makes use of vectorized operations and optimized algorithms to achieve high performance. array, on the other hand, is a more basic data structure and does not provide the same level of performance optimization.\n",
    "\n",
    "**Q4. Explain the distinctions between the empty, ones, and zeros functions.**\n",
    "\n",
    "**Ans:** In the numpy package of Python, the empty, ones, and zeros functions are used to create arrays of a given shape and data type with different initial values. Here are the distinctions between these functions:\n",
    "\n",
    "- `numpy.empty(shape, dtype=float, order='C')`: This function creates a new array of the given shape and data type, without initializing its values. The values of the array are undefined and depend on the state of the memory at the time of allocation. This function is useful for creating an array when you know you will be overwriting its values later on.\n",
    "- `numpy.ones(shape, dtype=None, order='C')`: This function creates a new array of the given shape and data type, with all elements initialized to 1. This function is useful when you need to create an array with a constant value.\n",
    "- `numpy.zeros(shape, dtype=None, order='C')`: This function creates a new array of the given shape and data type, with all elements initialized to 0. This function is useful when you need to create an array with a default value of 0.\n",
    "\n",
    "**Q5. In the fromfunction function, which is used to construct new arrays, what is the role of the callable argument?**\n",
    "\n",
    "**Ans:** The `numpy.fromfunction()` function is used to create a new array from a function that takes the indices of the elements in the array as input. The callable argument in `numpy.fromfunction()` is a function that is used to generate the values for the array.\n",
    "\n",
    "The callable argument should be a function that takes as input the indices of the array and returns the corresponding value for that index. The indices are passed to the function as separate arguments, one for each dimension of the array. For example, if you are creating a 3x3 array, the function should take two arguments, corresponding to the row and column indices of each element."
   ]
  },
  {
   "cell_type": "code",
   "execution_count": 1,
   "id": "e626605c",
   "metadata": {},
   "outputs": [
    {
     "name": "stdout",
     "output_type": "stream",
     "text": [
      "[[ 1.          0.54030231 -0.41614684]\n",
      " [ 1.84147098  1.38177329  0.42532415]\n",
      " [ 1.90929743  1.44959973  0.49315059]]\n"
     ]
    }
   ],
   "source": [
    "import numpy as np\n",
    "\n",
    "def sin_func(i, j):\n",
    "    return np.sin(i) + np.cos(j)\n",
    "\n",
    "arr = np.fromfunction(sin_func, (3, 3))\n",
    "print(arr)"
   ]
  },
  {
   "cell_type": "markdown",
   "id": "7cb3fb24",
   "metadata": {},
   "source": [
    "**Q6. What happens when a numpy array is combined with a single-value operand (a scalar, such as an int or a floating-point value) through addition, as in the expression A + n?**\n",
    "\n",
    "**Ans:** When a numpy array is combined with a single-value operand (a scalar) through addition, numpy applies the addition operation to every element in the array with the scalar value.\n",
    "\n",
    "For example,"
   ]
  },
  {
   "cell_type": "code",
   "execution_count": 2,
   "id": "e75f1375",
   "metadata": {},
   "outputs": [
    {
     "name": "stdout",
     "output_type": "stream",
     "text": [
      "[[3 4]\n",
      " [5 6]]\n"
     ]
    }
   ],
   "source": [
    "import numpy as np\n",
    "\n",
    "A = np.array([[1, 2], [3, 4]])\n",
    "n = 2\n",
    "\n",
    "B = A + n\n",
    "print(B)"
   ]
  },
  {
   "cell_type": "markdown",
   "id": "a5777d78",
   "metadata": {},
   "source": [
    "**Q7. Can array-to-scalar operations use combined operation-assign operators (such as += or *=)? What is the outcome?**\n",
    "\n",
    "**Ans:** Yes, numpy supports the use of combined operation-assign operators (such as `+=` or `*=`) for array-to-scalar operations. When an operation-assign operator is used with an array and a scalar value, the operator is applied to every element in the array with the scalar value, and the resulting values are then stored back into the original array.\n",
    "\n",
    "When using these operators, the original array is modified in-place, and no new array is created. This can be a useful way to update the values in an array without having to create a new array or use a loop. However, it is important to make sure that the data type of the array is compatible with the scalar value being used in the operation.\n",
    "\n",
    "For example,"
   ]
  },
  {
   "cell_type": "code",
   "execution_count": 3,
   "id": "73e43ee4",
   "metadata": {},
   "outputs": [
    {
     "name": "stdout",
     "output_type": "stream",
     "text": [
      "[3 4 5]\n"
     ]
    }
   ],
   "source": [
    "import numpy as np\n",
    "\n",
    "A = np.array([1, 2, 3])\n",
    "n = 2\n",
    "\n",
    "A += n\n",
    "print(A)"
   ]
  },
  {
   "cell_type": "markdown",
   "id": "6d28d5a0",
   "metadata": {},
   "source": [
    "**Q8. Does a numpy array contain fixed-length strings? What happens if you allocate a longer string to one of these arrays?**\n",
    "\n",
    "**Ans:** Yes, numpy allows you to create arrays that contain fixed-length strings. These are known as \"fixed-length string dtypes\" in numpy, and are created using the `numpy.dtype` function with the `S` argument followed by the number of bytes in the string. For example, `numpy.dtype('S10')` creates a fixed-length string dtype with a length of 10 bytes. If you allocate a longer string to one of these arrays, numpy will automatically truncate the string to fit the fixed length specified by the dtype."
   ]
  },
  {
   "cell_type": "markdown",
   "id": "82aa4396",
   "metadata": {},
   "source": [
    "**Q9. What happens when you combine two numpy arrays using an operation like addition (+) or multiplication (*)? What are the conditions for combining two numpy arrays?**\n",
    "\n",
    "**Ans:** When you combine two numpy arrays using an operation like addition `(+)` or multiplication `(*)`, the arrays are combined element-wise according to the rules of the operation."
   ]
  },
  {
   "cell_type": "code",
   "execution_count": 4,
   "id": "6fa066c1",
   "metadata": {},
   "outputs": [
    {
     "name": "stdout",
     "output_type": "stream",
     "text": [
      "[5 7 9]\n"
     ]
    }
   ],
   "source": [
    "import numpy as np\n",
    "\n",
    "A = np.array([1, 2, 3])\n",
    "B = np.array([4, 5, 6])\n",
    "\n",
    "C = A + B\n",
    "\n",
    "print(C)"
   ]
  },
  {
   "cell_type": "markdown",
   "id": "29b6b761",
   "metadata": {},
   "source": [
    "**Q10. What is the best way to use a Boolean array to mask another array?**\n",
    "\n",
    "**Ans:** The best way to use a Boolean array to mask another array is to use the Boolean array as an index for the array you want to mask. When you use a Boolean array as an index for another array, numpy will return a new array that contains only the elements of the original array where the corresponding element of the Boolean array is True."
   ]
  },
  {
   "cell_type": "code",
   "execution_count": 5,
   "id": "5d05fda9",
   "metadata": {},
   "outputs": [
    {
     "name": "stdout",
     "output_type": "stream",
     "text": [
      "[1 3]\n"
     ]
    }
   ],
   "source": [
    "import numpy as np\n",
    "\n",
    "# Create an array of values\n",
    "A = np.array([1, 2, 3, 4, 5])\n",
    "\n",
    "# Create a Boolean array\n",
    "mask = np.array([True, False, True, False, False])\n",
    "\n",
    "# Mask the array using the Boolean array\n",
    "B = A[mask]\n",
    "\n",
    "print(B)"
   ]
  },
  {
   "cell_type": "markdown",
   "id": "4a98f822",
   "metadata": {},
   "source": [
    "**Q11. What are three different ways to get the standard deviation of a wide collection of data using both standard Python and its packages? Sort the three of them by how quickly they execute.**\n",
    "\n",
    "**Ans:** \n",
    "1. NumPy: NumPy provides a fast and efficient implementation of the standard deviation calculation using the `numpy.std()` function. This function can be used to calculate the standard deviation of a wide collection of data, including multi-dimensional arrays, and it is generally the fastest way to calculate the standard deviation\n",
    "\n",
    "2. Statistics package: The standard library in Python includes a statistics package that provides a `stdev()` function for calculating the standard deviation. This function can be used to calculate the standard deviation of a collection of data, but it is generally slower than NumPy's implementation.\n",
    "\n",
    "3. Manual calculation: If you don't want to use any packages, you can manually calculate the standard deviation of a collection of data using Python's built-in math functions. This is generally the slowest way to calculate the standard deviation, especially for large collections of data. Here's an example:"
   ]
  },
  {
   "cell_type": "code",
   "execution_count": 7,
   "id": "bdf7d272",
   "metadata": {},
   "outputs": [
    {
     "name": "stdout",
     "output_type": "stream",
     "text": [
      "Calculate the standard deviation using NumPy:\n",
      "0.2851315206104459\n",
      "---------------\n",
      "# Calculate the standard deviation using the statistics package:\n",
      "0.2851457782558088\n",
      "---------------\n",
      "# Calculate the standard deviation manually using math package:\n",
      "0.2851315206104459\n",
      "---------------\n"
     ]
    }
   ],
   "source": [
    "import numpy as np\n",
    "import statistics as stats\n",
    "import math \n",
    "\n",
    "# Create an array of data\n",
    "data = np.random.rand(10000)\n",
    "\n",
    "\n",
    "std = np.std(data)\n",
    "print(\"Calculate the standard deviation using NumPy:\")\n",
    "print(std)\n",
    "print(\"-\"*15)\n",
    "\n",
    "\n",
    "std = stats.stdev(data)\n",
    "print(\"# Calculate the standard deviation using the statistics package:\")\n",
    "print(std)\n",
    "print(\"-\"*15)\n",
    "\n",
    "print(\"# Calculate the standard deviation manually using math package:\")\n",
    "# Calculate the mean of the data\n",
    "mean = sum(data) / len(data)\n",
    "\n",
    "# Calculate the variance of the data\n",
    "variance = sum([((x - mean) ** 2) for x in data]) / len(data)\n",
    "\n",
    "# Calculate the standard deviation of the data\n",
    "std = math.sqrt(variance)\n",
    "print(std)\n",
    "print(\"-\"*15)"
   ]
  },
  {
   "cell_type": "markdown",
   "id": "fed48183",
   "metadata": {},
   "source": [
    "**12. What is the dimensionality of a Boolean mask-generated array?**\n",
    "\n",
    "**Ans:** Boolean mask-generated array will have the same number of dimensions as the original array, but the shape of the resulting array may be different depending on the shape of the Boolean mask."
   ]
  }
 ],
 "metadata": {
  "kernelspec": {
   "display_name": "Python 3 (ipykernel)",
   "language": "python",
   "name": "python3"
  },
  "language_info": {
   "codemirror_mode": {
    "name": "ipython",
    "version": 3
   },
   "file_extension": ".py",
   "mimetype": "text/x-python",
   "name": "python",
   "nbconvert_exporter": "python",
   "pygments_lexer": "ipython3",
   "version": "3.10.9"
  }
 },
 "nbformat": 4,
 "nbformat_minor": 5
}
