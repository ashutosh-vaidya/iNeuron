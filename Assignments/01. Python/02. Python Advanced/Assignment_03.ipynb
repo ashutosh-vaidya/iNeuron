{
 "cells": [
  {
   "cell_type": "markdown",
   "id": "37011f5f",
   "metadata": {},
   "source": [
    "**1. What is the concept of an abstract superclass?**\n",
    "\n",
    "**Ans:** An abstract superclass is a class that serves as a template or blueprint for other subclasses, but cannot be instantiated itself. It defines abstract methods, which are methods without implementation that must be overridden by subclasses. An abstract superclass's purpose is to provide a standard interface for subclasses to follow and to impose certain limitations on their behavior."
   ]
  },
  {
   "cell_type": "markdown",
   "id": "fa01439e",
   "metadata": {},
   "source": [
    "**2. What happens when a class statement's top level contains a basic assignment statement?**\n",
    "\n",
    "**Ans:** When a class statement's top level contains a basic assignment statement, it creates an instance variable with the given name and assigns the value to it. Instance variables are specific to each instance of a class and store information that is specific to that instance.\n",
    "\n",
    "For example"
   ]
  },
  {
   "cell_type": "code",
   "execution_count": 1,
   "id": "db2a3fe2",
   "metadata": {},
   "outputs": [
    {
     "name": "stdout",
     "output_type": "stream",
     "text": [
      "5\n",
      "10\n",
      "5\n",
      "10\n"
     ]
    }
   ],
   "source": [
    "class MyClass:\n",
    "    x = 5\n",
    "    \n",
    "    def __init__(self):\n",
    "        self.y = 10\n",
    "\n",
    "obj1 = MyClass()\n",
    "obj2 = MyClass()\n",
    "\n",
    "print(obj1.x)\n",
    "print(obj1.y)\n",
    "print(obj2.x)\n",
    "print(obj2.y) "
   ]
  },
  {
   "cell_type": "markdown",
   "id": "47d49b90",
   "metadata": {},
   "source": [
    "Here, `x` is a class variable and `y` is an instance variable. x is assigned a value of 5 at the class level, which means that it is shared among all instances of the class. y is assigned a value of 10 inside the constructor `__init__` method, which means that it is specific to each instance of the class.\n",
    "\n",
    "When you access the variable `x` using obj1 or obj2, you get the same value because x is a class variable and all instances of class share the same value of class variable. On the other hand, when you access the variable `y` using obj1 or obj2, you get different values because y is an instance variable and each instance of class has its own value of y."
   ]
  },
  {
   "cell_type": "markdown",
   "id": "0d9ae311",
   "metadata": {},
   "source": [
    "**3. Why does a class need to manually call a superclass's __init__ method?**\n",
    "\n",
    "**Ans:** A class needs to manually call a superclass's `__init__` method because `__init__` method is responsible for initializing the state of an object and it is not automatically called when a subclass is created. If you do not call the superclass's `__init__` method, the subclass will not have the proper state, and will not function correctly.\n"
   ]
  },
  {
   "cell_type": "markdown",
   "id": "1a7773ed",
   "metadata": {},
   "source": [
    "**4. How can you augment, instead of completely replacing, an inherited method?**\n",
    "\n",
    "**Ans:** To augment, instead of completely replacing, an inherited method, you can use the `super()` function. super() is used to call a method from the parent class. \n",
    "\n",
    "Here is code snippet:\n",
    "```python \n",
    "class SubClass(SuperClass):\n",
    "    def method(self):\n",
    "        # do something\n",
    "        super().method()\n",
    "        # do something\n",
    "```"
   ]
  },
  {
   "cell_type": "markdown",
   "id": "d276e7be",
   "metadata": {},
   "source": [
    "**5. How is the local scope of a class different from that of a function?**\n",
    "\n",
    "**Ans:** The local scope of a class is different from that of a function in the way that, classes have two types of variable: class variable and instance variable. Class variable is shared among all the instances of a class, whereas instance variable is specific to each instance of a class. On the other hand, function's scope is limited to the function and any variable defined inside the function is local to that function."
   ]
  }
 ],
 "metadata": {
  "kernelspec": {
   "display_name": "Python 3 (ipykernel)",
   "language": "python",
   "name": "python3"
  },
  "language_info": {
   "codemirror_mode": {
    "name": "ipython",
    "version": 3
   },
   "file_extension": ".py",
   "mimetype": "text/x-python",
   "name": "python",
   "nbconvert_exporter": "python",
   "pygments_lexer": "ipython3",
   "version": "3.9.7"
  }
 },
 "nbformat": 4,
 "nbformat_minor": 5
}
