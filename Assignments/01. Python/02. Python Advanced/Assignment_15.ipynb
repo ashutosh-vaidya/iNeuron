{
 "cells": [
  {
   "cell_type": "markdown",
   "id": "fe76c115",
   "metadata": {},
   "source": [
    "**1.\tWhat are the new features added in Python 3.8 version?**\n",
    "\n",
    "**Ans:** Python 3.8 introduced several new features and improvements. Below are few of them:\n",
    "\n",
    "- Assignment expressions (the “walrus” operator `:=`)\n",
    "- Positional-only parameters in functions\n",
    "- f-strings support= specifier\n",
    "- Debug Information in Tracebacks\n",
    "- `TypedDict`: a dict subclass for type annotations\n",
    "- `Final`: a new decorator to indicate that a method or class cannot be overridden\n",
    "- New module functions: `math.isqrt()`, and `math.gcd()`\n",
    "- Support for `Vectorcall`: a fast calling protocol for CPython extension modules\n",
    "\n",
    "**2.\tWhat is monkey patching in Python?**\n",
    "\n",
    "**Ans:** Monkey patching in Python refers to the technique of dynamically changing or extending the behavior of a module, class, or method at runtime by replacing or modifying its attributes or methods. It is called monkey patching because it involves modifying code at runtime, often in a way that is not anticipated or expected.\n",
    "\n",
    "Monkey patching can be useful in some situations, such as:\n",
    "\n",
    "Fixing bugs or adding missing features in third-party code that you do not control.\n",
    "Testing code that relies on external dependencies by replacing them with mock objects.\n",
    "Adding logging or debugging functionality to existing code.\n",
    "\n",
    "**3.\tWhat is the difference between a shallow copy and deep copy?**\n",
    "\n",
    "**Ans:** In Python, copying an object can be done in two ways: a shallow copy and a deep copy. The main difference between the two is how they copy the object's data.\n",
    "\n",
    "A shallow copy creates a new object but only copies the object's references to its data. This means that the new object points to the same memory locations as the original object for its data. Any changes made to the original object's data will be reflected in the shallow copy, and vice versa. In other words, the shallow copy is a new object that shares the same data as the original object.\n",
    "\n",
    "A deep copy, on the other hand, creates a new object and recursively copies all the data from the original object and its sub-objects. This means that the new object has its own memory locations for all its data, and changes made to the original object's data will not be reflected in the deep copy, and vice versa. In other words, the deep copy is a completely new object with its own copy of the original object's data.\n",
    "\n",
    "Here's an example to illustrate the difference:"
   ]
  },
  {
   "cell_type": "code",
   "execution_count": 2,
   "id": "eb1b2538",
   "metadata": {},
   "outputs": [
    {
     "name": "stdout",
     "output_type": "stream",
     "text": [
      "[[9, 2, 3], [4, 5, 6]]\n",
      "[[9, 2, 3], [4, 5, 6]]\n",
      "[[1, 2, 3], [4, 5, 6]]\n"
     ]
    }
   ],
   "source": [
    "import copy\n",
    "\n",
    "# original list\n",
    "original_list = [[1, 2, 3], [4, 5, 6]]\n",
    "\n",
    "# shallow copy\n",
    "shallow_copy = copy.copy(original_list)\n",
    "\n",
    "# deep copy\n",
    "deep_copy = copy.deepcopy(original_list)\n",
    "\n",
    "# modifying the original list\n",
    "original_list[0][0] = 9\n",
    "\n",
    "print(original_list)\n",
    "print(shallow_copy)\n",
    "print(deep_copy)"
   ]
  },
  {
   "cell_type": "markdown",
   "id": "1da643bf",
   "metadata": {},
   "source": [
    "**4.\tWhat is the maximum possible length of an identifier?**\n",
    "\n",
    "**Ans:** In Python, the maximum length of an identifier (variable, function, class, module, etc. names) is not explicitly specified. However, according to the Python documentation, an identifier can be of any length, as long as it is a valid identifier and fits within the available memory.\n",
    "\n",
    "A valid identifier in Python can only contain letters (both uppercase and lowercase), digits, and underscores (_), and it must start with a letter or an underscore. Python also allows non-ASCII letters and digits in identifiers, but it is generally recommended to use only ASCII characters for portability and readability.\n",
    "\n",
    "**5.\tWhat is generator comprehension?**\n",
    "\n",
    "**Ans:** A generator comprehension in Python is a concise way of creating a generator object, which generates a sequence of values on-the-fly, instead of building a complete list in memory.\n",
    "\n",
    "A generator comprehension is similar to a list comprehension, but instead of creating a list, it creates a generator object. The syntax for a generator comprehension is similar to a list comprehension, but uses parentheses instead of square brackets.\n",
    "\n",
    "Example:"
   ]
  },
  {
   "cell_type": "code",
   "execution_count": 3,
   "id": "8020094f",
   "metadata": {},
   "outputs": [
    {
     "name": "stdout",
     "output_type": "stream",
     "text": [
      "0\n",
      "2\n",
      "4\n",
      "6\n",
      "8\n",
      "10\n",
      "12\n",
      "14\n",
      "16\n",
      "18\n"
     ]
    }
   ],
   "source": [
    "even_numbers = (i for i in range(20) if i % 2 == 0)\n",
    "\n",
    "for num in even_numbers:\n",
    "    print(num)"
   ]
  },
  {
   "cell_type": "code",
   "execution_count": null,
   "id": "c8568ba7",
   "metadata": {},
   "outputs": [],
   "source": []
  }
 ],
 "metadata": {
  "kernelspec": {
   "display_name": "Python 3 (ipykernel)",
   "language": "python",
   "name": "python3"
  },
  "language_info": {
   "codemirror_mode": {
    "name": "ipython",
    "version": 3
   },
   "file_extension": ".py",
   "mimetype": "text/x-python",
   "name": "python",
   "nbconvert_exporter": "python",
   "pygments_lexer": "ipython3",
   "version": "3.10.9"
  }
 },
 "nbformat": 4,
 "nbformat_minor": 5
}
