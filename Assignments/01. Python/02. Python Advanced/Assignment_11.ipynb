{
 "cells": [
  {
   "cell_type": "markdown",
   "id": "07683f85",
   "metadata": {},
   "source": [
    "**Q1. What is the concept of a metaclass?**\n",
    "\n",
    "**Ans:** A metaclass in Python is a **class of a class that defines how a class behaves**. A class is itself an instance of a metaclass. A class in Python defines how the instance of the class will behave. \n",
    "\n",
    "Python creates the classes using a metaclass. Everything in Python is an object, these objects are created by metaclasses.\n",
    "\n",
    "**Q2. What is the best way to declare a class's metaclass?**\n",
    "\n",
    "**Ans:** We can declare the class's metaclass by passing the `metaclass` keyword in the class definition. To create our own custom metaclass we can inherit the custom meta class from the `type` which makes our class metaclass for further use.\n",
    "\n",
    "Here is sample code snippet:\n",
    "\n",
    "```python\n",
    "class MyMeta(type):\n",
    "    pass\n",
    "\n",
    "class MyClass(metaclass=MyMeta):\n",
    "    pass\n",
    "```\n",
    "\n",
    "**Q3. How do class decorators overlap with metaclasses for handling classes ?**\n",
    "\n",
    "**Ans:**  Class decorators and meta-classes are both powerful features of python that can be used to modify the class at runtime. They can be used interchangeably almost in all situations since whatever you can do with decorator you can also achieve by using meta-classes. However, there are also some differences between them. \n",
    "\n",
    "Class decorators are functions that take a class object as an argument and return a new class object that replaces the original class. They are often used to add new functionality to a class. Meta-classes, on the other hand, are classes that define the behavior of the other classes. They are mostly used to customize the creation of classes and can be used to modify the class definitions themselves rather than just adding new functionality. Meta-classes can be used to enforce certain constraints on the class definition.\n",
    "\n",
    "**Q4 How do class decorators overlap with metaclasses for handling instances?**\n",
    "\n",
    "**Ans:** Class decorators and metaclasses are used to handle classes, not instances. However, they can indirectly affect instances of the classes they modify.\n",
    "\n",
    "When a class is modified using a class decorator or a metaclass, any instances of that class will inherit the modifications made to the class. For example, if a class decorator adds a new method to a class, any instances of that class will have access to that new method.\n",
    "\n",
    "Additionally, both class decorators and metaclasses can be used to implement instance-level behavior by modifying the class's ``__init__ ``method. For example, a class decorator or metaclass could modify the `__init__` method to add new instance variables or to modify the behavior of the instance creation process."
   ]
  }
 ],
 "metadata": {
  "kernelspec": {
   "display_name": "Python 3 (ipykernel)",
   "language": "python",
   "name": "python3"
  },
  "language_info": {
   "codemirror_mode": {
    "name": "ipython",
    "version": 3
   },
   "file_extension": ".py",
   "mimetype": "text/x-python",
   "name": "python",
   "nbconvert_exporter": "python",
   "pygments_lexer": "ipython3",
   "version": "3.10.9"
  }
 },
 "nbformat": 4,
 "nbformat_minor": 5
}
