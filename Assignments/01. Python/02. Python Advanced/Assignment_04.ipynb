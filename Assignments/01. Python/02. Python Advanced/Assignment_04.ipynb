{
 "cells": [
  {
   "cell_type": "markdown",
   "id": "87e2b38c",
   "metadata": {},
   "source": [
    "**Q1. Which two operator overloading methods can you use in your classes to support iteration?**\n",
    "\n",
    "**Ans:**\n",
    "1. `__iter_`: is a function used to return an iterator by calling the iter() method on an Iterable object.\n",
    "2. `__next_` : is used to iterate through each element. StopIteration is an exception raised whenever the end is reached.\n",
    "\n",
    "For example, below is the program which creates an iterator that will print numbers from 1 to n."
   ]
  },
  {
   "cell_type": "code",
   "execution_count": 4,
   "id": "90716780",
   "metadata": {},
   "outputs": [
    {
     "name": "stdout",
     "output_type": "stream",
     "text": [
      "1\n",
      "2\n",
      "3\n",
      "4\n"
     ]
    }
   ],
   "source": [
    "class PrintNumber:\n",
    "    def __init__(self, max):\n",
    "        self.max = max\n",
    "\n",
    "    def __iter__(self):\n",
    "        self.num = 0\n",
    "        return self\n",
    "\n",
    "    def __next__(self):\n",
    "        if(self.num >= self.max):\n",
    "            raise StopIteration\n",
    "        self.num += 1\n",
    "        return self.num\n",
    "\n",
    "n = 4\n",
    "print_num = PrintNumber(n)\n",
    "\n",
    "print_num_iter = iter(print_num)\n",
    "\n",
    "for i in range(n):\n",
    "    print(next(print_num_iter))"
   ]
  },
  {
   "cell_type": "markdown",
   "id": "dd4ae379",
   "metadata": {},
   "source": [
    "**Q2. In what contexts do the two operator overloading methods manage printing?**\n",
    "\n",
    "**Ans:** \n",
    "1. `__str()__` : defines how the object should be represented as a string, and is used by the built-in `print()` and `str()` functions.\n",
    "2. `__repr__()`: defines a string representation of the object that is used in the interactive interpreter and is intended to be unambiguous."
   ]
  },
  {
   "cell_type": "code",
   "execution_count": 5,
   "id": "0861687a",
   "metadata": {},
   "outputs": [
    {
     "name": "stdout",
     "output_type": "stream",
     "text": [
      "John is 25 years old\n",
      "[Myclass('John', 25)]\n"
     ]
    }
   ],
   "source": [
    "class Myclass:\n",
    "    def __init__(self, name, age):\n",
    "        self.name = name\n",
    "        self.age = age\n",
    "        \n",
    "    def __str__(self):\n",
    "        return f'{self.name} is {self.age} years old'\n",
    "\n",
    "    def __repr__(self):\n",
    "        return f'Myclass({self.name!r}, {self.age!r})'\n",
    "\n",
    "obj = Myclass(\"John\", 25)\n",
    "print(obj) \n",
    "print([obj])"
   ]
  },
  {
   "cell_type": "markdown",
   "id": "64bf0591",
   "metadata": {},
   "source": [
    "**Q3. In a class, how do you intercept slice operations?**\n",
    "\n",
    "**Ans:** In a class, you can intercept slice operations by defining the `__getitem__()` method. This method is called when an instance of the class is indexed, i.e. when the object is used in a square bracket notation.\n",
    "\n",
    "Example"
   ]
  },
  {
   "cell_type": "code",
   "execution_count": 6,
   "id": "5d2ba543",
   "metadata": {},
   "outputs": [
    {
     "name": "stdout",
     "output_type": "stream",
     "text": [
      "slice(1, 4, None)\n"
     ]
    }
   ],
   "source": [
    "class MyList:\n",
    "    def __getitem__(self, s):\n",
    "        return s\n",
    "    \n",
    "obj = MyList()\n",
    "print(obj[1:4])"
   ]
  },
  {
   "cell_type": "markdown",
   "id": "7ab1a5eb",
   "metadata": {},
   "source": [
    "**Q4. In a class, how do you capture in-place addition?**\n",
    "\n",
    "**Ans:** In a class, you can capture in-place addition by defining the `__iadd__()` method. This method is called when the += operator is used on an instance of the class.\n",
    "\n",
    "See below code snippet,"
   ]
  },
  {
   "cell_type": "code",
   "execution_count": 7,
   "id": "cbc2e515",
   "metadata": {},
   "outputs": [
    {
     "name": "stdout",
     "output_type": "stream",
     "text": [
      "[1, 2, 3]\n"
     ]
    }
   ],
   "source": [
    "class MyList:\n",
    "    def __init__(self):\n",
    "        self.data = []\n",
    "    def __iadd__(self, other):\n",
    "        self.data += other\n",
    "        return self\n",
    "    \n",
    "obj = MyList()\n",
    "obj += [1,2,3]\n",
    "print(obj.data)"
   ]
  },
  {
   "cell_type": "markdown",
   "id": "94f1ed7b",
   "metadata": {},
   "source": [
    "**Q5. When is it appropriate to use operator overloading?**\n",
    "\n",
    "**Ans:** Operator overloading is used when we want to use an operator other than its normal operation to have different meaning according to the context required in user defined function.\n",
    "\n",
    "Here is example:"
   ]
  },
  {
   "cell_type": "code",
   "execution_count": 8,
   "id": "eaea851b",
   "metadata": {},
   "outputs": [
    {
     "name": "stdout",
     "output_type": "stream",
     "text": [
      "4,6\n"
     ]
    }
   ],
   "source": [
    "class MyVector:\n",
    "    def __init__(self, x, y):\n",
    "        self.x = x\n",
    "        self.y = y\n",
    "    \n",
    "    def __add__(self, other):\n",
    "        return MyVector(self.x + other.x, self.y + other.y)\n",
    "\n",
    "# Creating instances of the class\n",
    "vec1 = MyVector(1, 2)\n",
    "vec2 = MyVector(3, 4)\n",
    "\n",
    "# Using the + operator with instances of the class\n",
    "vec3 = vec1 + vec2\n",
    "\n",
    "print(f\"{vec3.x},{vec3.y}\")"
   ]
  }
 ],
 "metadata": {
  "kernelspec": {
   "display_name": "Python 3 (ipykernel)",
   "language": "python",
   "name": "python3"
  },
  "language_info": {
   "codemirror_mode": {
    "name": "ipython",
    "version": 3
   },
   "file_extension": ".py",
   "mimetype": "text/x-python",
   "name": "python",
   "nbconvert_exporter": "python",
   "pygments_lexer": "ipython3",
   "version": "3.9.7"
  }
 },
 "nbformat": 4,
 "nbformat_minor": 5
}
