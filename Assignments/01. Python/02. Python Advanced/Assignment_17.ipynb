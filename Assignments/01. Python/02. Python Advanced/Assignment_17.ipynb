{
 "cells": [
  {
   "cell_type": "markdown",
   "id": "f0a68a8b",
   "metadata": {},
   "source": [
    "**Q1. Explain the difference between greedy and non-greedy syntax with visual terms in as few words as possible. What is the bare minimum effort required to transform a greedy pattern into a non-greedy one? What characters or characters can you introduce or change?**\n",
    "\n",
    "**Ans:** `Greedy` syntax matches the **longest possible sequence** that satisfies the pattern, while `non-greedy` syntax matches the **shortest possible sequence** that satisfies the pattern.\n",
    "\n",
    "To transform a greedy pattern into a non-greedy one, you can add a **question mark** `(?)` after the **quantifier** `(*, +, or ?)`. This makes the pattern non-greedy.\n",
    "\n",
    "For example, the greedy pattern `\".\"` matches the entire string, while the non-greedy pattern `\".?\"` matches the shortest possible sequence of characters.\n",
    "\n",
    "Check out the code sample for further understanding:"
   ]
  },
  {
   "cell_type": "code",
   "execution_count": 1,
   "id": "606effe3",
   "metadata": {},
   "outputs": [
    {
     "name": "stdout",
     "output_type": "stream",
     "text": [
      "hello wo\n",
      "hello\n"
     ]
    }
   ],
   "source": [
    "import re\n",
    "\n",
    "# Example string\n",
    "string = \"hello world\"\n",
    "\n",
    "# Greedy pattern\n",
    "greedy_pattern = re.compile(\"h.*o\")\n",
    "greedy_match = greedy_pattern.search(string)\n",
    "print(greedy_match.group())\n",
    "\n",
    "# Non-greedy pattern\n",
    "non_greedy_pattern = re.compile(\"h.*?o\")\n",
    "non_greedy_match = non_greedy_pattern.search(string)\n",
    "print(non_greedy_match.group())"
   ]
  },
  {
   "cell_type": "markdown",
   "id": "c49043a0",
   "metadata": {},
   "source": [
    "**Q2. When exactly does greedy versus non-greedy make a difference?  What if you're looking for a non-greedy match but the only one available is greedy?**\n",
    "\n",
    "**ans:** Greedy versus non-greedy syntax makes a difference when a regular expression pattern has multiple possible matches in a string. In such cases, the greedy syntax matches the longest possible substring that satisfies the pattern, while the non-greedy syntax matches the shortest possible substring that satisfies the pattern.\n",
    "\n",
    "If you're looking for a non-greedy match but the only one available is greedy, you can modify the pattern to make it non-greedy by adding a question mark after the quantifier. However, this may not always be possible or desirable depending on the specific requirements of the pattern. In some cases, it may be necessary to use additional regular expressions or other methods to extract the desired substring."
   ]
  },
  {
   "cell_type": "code",
   "execution_count": 9,
   "id": "e04b2100",
   "metadata": {},
   "outputs": [
    {
     "name": "stdout",
     "output_type": "stream",
     "text": [
      "<123>def<456>\n",
      "<123>\n",
      "<456>\n"
     ]
    }
   ],
   "source": [
    "import re\n",
    "string = \"abc<123>def<456>ghi\"\n",
    "\n",
    "#Extracting the substrings that are enclosed in angle brackets\n",
    "\n",
    "##Greedy pattern\n",
    "greedy_pattern = re.compile(\"<.*>\")\n",
    "greedy_match = greedy_pattern.search(string)\n",
    "print(greedy_match.group())  # Output: \"<123>def<456>\"\n",
    "\n",
    "##Non-greedy pattern\n",
    "non_greedy_pattern = re.compile(\"<.*?>\")\n",
    "non_greedy_match = non_greedy_pattern.search(string)\n",
    "print(non_greedy_match.group())  # Output: \"<123>\"\n",
    "#we have to call the search method again, in order to find the next match.\n",
    "non_greedy_match = non_greedy_pattern.search(string, non_greedy_match.end())\n",
    "print(non_greedy_match.group())  # Output: \"<456>\""
   ]
  },
  {
   "cell_type": "markdown",
   "id": "18869fc6",
   "metadata": {},
   "source": [
    "**Q3. In a simple match of a string, which looks only for one match and does not do any replacement, is the use of a nontagged group likely to make any practical difference?**\n",
    "\n",
    "**Ans:** In a simple match of a string that looks for only one match and does not do any replacement, the use of a non-tagged group is not likely to make any practical difference. Non-tagged groups, also known as non-capturing groups, are used to group parts of a regular expression pattern together without capturing them as a separate group.\n",
    "\n",
    "Non-tagged groups can be useful in more complex regular expression patterns where you want to group parts of the pattern together for repetition, alternation, or other purposes, but you don't need to capture the group as a separate match. However, in a simple match of a string that only looks for one match and does not do any replacement, the use of a non-tagged group would not provide any significant advantage over simply using the regular expression pattern without the group.\n",
    "\n",
    "For example, consider the following code that matches a string \"hello\" followed by either \"world\" or \"python\" using a non-tagged group:"
   ]
  },
  {
   "cell_type": "code",
   "execution_count": 10,
   "id": "cdd40dfb",
   "metadata": {},
   "outputs": [
    {
     "name": "stdout",
     "output_type": "stream",
     "text": [
      "hello python\n"
     ]
    }
   ],
   "source": [
    "import re\n",
    "\n",
    "string = \"hello python\"\n",
    "pattern = re.compile(\"hello (?:world|python)\")\n",
    "match = pattern.search(string)\n",
    "print(match.group())  # Output: \"hello python\""
   ]
  },
  {
   "cell_type": "markdown",
   "id": "8e744dff",
   "metadata": {},
   "source": [
    "In this case, the non-tagged group `(?:world|python)` is used to group the options \"world\" and \"python\" together for alternation, but the group is not captured as a separate match. However, since we are only looking for one match and not doing any replacement, we could achieve the same result without using the non-tagged group:"
   ]
  },
  {
   "cell_type": "code",
   "execution_count": 11,
   "id": "a4d1d593",
   "metadata": {},
   "outputs": [
    {
     "name": "stdout",
     "output_type": "stream",
     "text": [
      "hello python\n"
     ]
    }
   ],
   "source": [
    "import re\n",
    "\n",
    "string = \"hello python\"\n",
    "pattern = re.compile(\"hello (world|python)\")\n",
    "match = pattern.search(string)\n",
    "print(match.group())  # Output: \"hello python\""
   ]
  },
  {
   "cell_type": "markdown",
   "id": "9728f6d9",
   "metadata": {},
   "source": [
    "Here, we use a tagged group `(world|python)` to group the options together and capture them as a separate match, which doesn't make a practical difference since we are only looking for one match and not doing any replacement."
   ]
  },
  {
   "cell_type": "markdown",
   "id": "fb759965",
   "metadata": {},
   "source": [
    "**Q4. Describe a scenario in which using a nontagged category would have a significant impact on the program's outcomes.**\n",
    "\n",
    "**Ans:** Non-tagged categories can be useful in a variety of scenarios where you want to match a specific set of characters that are not part of a predefined category. For example matching phone numbers with hyphens or matching strings with special characters. "
   ]
  },
  {
   "cell_type": "code",
   "execution_count": 18,
   "id": "d13c58e9",
   "metadata": {},
   "outputs": [
    {
     "name": "stdout",
     "output_type": "stream",
     "text": [
      "1234567890\n"
     ]
    }
   ],
   "source": [
    "import re\n",
    "phone_number = \"123-456-7890\"\n",
    "pattern = re.compile(r\"[-]\") # matches hyphens\n",
    "cleaned_number = pattern.sub(\"\", phone_number)\n",
    "print(cleaned_number)\n"
   ]
  },
  {
   "cell_type": "markdown",
   "id": "58d4086b",
   "metadata": {},
   "source": [
    "**Q5. Unlike a normal regex pattern, a look-ahead condition does not consume the characters it examines. Describe a situation in which this could make a difference in the results of your programme.**\n",
    "\n",
    "**Ans:** Look ahead conditions do not consume the character they examine, this can make a difference in the results in the situations like matching overlapping patterns or validating inputs such as passwords.\n",
    "\n",
    "Here is an example illustrating validation of password:"
   ]
  },
  {
   "cell_type": "code",
   "execution_count": 19,
   "id": "d0a19b4c",
   "metadata": {},
   "outputs": [
    {
     "name": "stdout",
     "output_type": "stream",
     "text": [
      "True\n"
     ]
    }
   ],
   "source": [
    "import re\n",
    "\n",
    "password = \"Abcd1234\"\n",
    "# validates password criteria\n",
    "pattern = re.compile(r\"(?=.*[A-Z])(?=.*[a-z])(?=.*\\d).{8,}\")\n",
    "is_valid = pattern.search(password) is not None\n",
    "print(is_valid)"
   ]
  },
  {
   "cell_type": "markdown",
   "id": "4fd9ce4b",
   "metadata": {},
   "source": [
    "In this example, the regular expression pattern uses three positive look-ahead conditions `(?=.*[A-Z])`, `(?=.*[a-z])`, and `(?=.*\\d)` to match the criteria for a valid password, without consuming the password itself. The pattern also matches any string that is at least 8 characters long, using the non-consuming .`{8,}` pattern. This allows you to validate the password without actually consuming it, so you can use the same password in subsequent steps of the program."
   ]
  },
  {
   "cell_type": "markdown",
   "id": "71a356db",
   "metadata": {},
   "source": [
    "**Q6. In standard expressions, what is the difference between positive look-ahead and negative look-ahead?**\n",
    "\n",
    "**Ans:** A positive look-ahead `(?=...)` condition **matches the search pattern only if it is followed by the specified pattern**. A negative look-ahead `(?!...)` condition, on the other hand, **matches the search pattern only if it is not followed by the specified pattern**.\n",
    "\n",
    "See the below example:"
   ]
  },
  {
   "cell_type": "code",
   "execution_count": 22,
   "id": "08ffdb22",
   "metadata": {},
   "outputs": [
    {
     "name": "stdout",
     "output_type": "stream",
     "text": [
      "Positive look-ahead: Match found: Hello\n",
      "Negative look-ahead: Match found: Hello\n"
     ]
    }
   ],
   "source": [
    "import re\n",
    "text = \"Hello World\"\n",
    "\n",
    "# using positive look-ahead\n",
    "pattern1 = re.compile(r\"Hello(?= World)\") # match \"Hello\" only if it is followed by \" World\"\n",
    "match1 = pattern1.search(text)\n",
    "if match1:\n",
    "    print(\"Positive look-ahead: Match found:\", match1.group(0))\n",
    "else:\n",
    "    print(\"Positive look-ahead: No match found\")\n",
    "\n",
    "# using negative look-ahead\n",
    "pattern2 = re.compile(r\"Hello(?! Universe)\") # match \"Hello\" only if it is not followed by \" Universe\"\n",
    "match2 = pattern2.search(text)\n",
    "if match2:\n",
    "    print(\"Negative look-ahead: Match found:\", match2.group(0))\n",
    "else:\n",
    "    print(\"Negative look-ahead: No match found\")"
   ]
  },
  {
   "cell_type": "markdown",
   "id": "6e169659",
   "metadata": {},
   "source": [
    "**Q7. What is the benefit of referring to groups by name rather than by number in a standard expression?**\n",
    "\n",
    "**Ans:** Referring to groups by name rather than by number in a regular expression has several benefits:\n",
    "\n",
    "1. Readability: Naming groups can make the regular expression more readable and easier to understand, especially for complex patterns with multiple groups.\n",
    "2. Self-documenting: By naming groups, the regular expression becomes self-documenting, making it easier for others (or your future self) to understand the intent of the pattern.\n",
    "3. Flexibility: If the order of the groups changes, named groups can still be referenced by name, whereas using group numbers would require updating the regular expression.\n",
    "4. Code reuse: Named groups can be referenced by name in the replacement string when doing string substitutions, making it easier to reuse the same regular expression in different contexts."
   ]
  },
  {
   "cell_type": "markdown",
   "id": "3c219090",
   "metadata": {},
   "source": [
    "**Q8. Can you identify repeated items within a target string using named groups, as in \"The cow jumped over the moon\"?**\n",
    "\n",
    "**Ans:** Yes, we can use named groups to identify repeated items within a target string."
   ]
  },
  {
   "cell_type": "code",
   "execution_count": 31,
   "id": "c5773ca8",
   "metadata": {},
   "outputs": [
    {
     "data": {
      "text/plain": [
       "['The', 'the']"
      ]
     },
     "execution_count": 31,
     "metadata": {},
     "output_type": "execute_result"
    }
   ],
   "source": [
    "import re\n",
    "text = \"The cow jumped over the moon\"\n",
    "pattern=re.compile(r'(?P<w1>The)',re.I)\n",
    "pattern.findall(text)"
   ]
  },
  {
   "cell_type": "markdown",
   "id": "a774836d",
   "metadata": {},
   "source": [
    "**Q9. When parsing a string, what is at least one thing that the Scanner interface does for you that the re.findall feature does not?**\n",
    "\n",
    "**Ans:** `re.findall()` module is used to search for all occurrences that match a given pattern. In contrast, `re.search()` will only return the first occurrence that matches the specified pattern. `re.findall()` will iterate over all the lines of the file and will return all non-overlapping matches of pattern in a single step."
   ]
  },
  {
   "cell_type": "markdown",
   "id": "5233f647",
   "metadata": {},
   "source": [
    "**Q10. Does a scanner object have to be named scanner?**\n",
    "\n",
    "No"
   ]
  },
  {
   "cell_type": "code",
   "execution_count": null,
   "id": "12185c7b",
   "metadata": {},
   "outputs": [],
   "source": []
  }
 ],
 "metadata": {
  "kernelspec": {
   "display_name": "Python 3 (ipykernel)",
   "language": "python",
   "name": "python3"
  },
  "language_info": {
   "codemirror_mode": {
    "name": "ipython",
    "version": 3
   },
   "file_extension": ".py",
   "mimetype": "text/x-python",
   "name": "python",
   "nbconvert_exporter": "python",
   "pygments_lexer": "ipython3",
   "version": "3.10.9"
  }
 },
 "nbformat": 4,
 "nbformat_minor": 5
}
