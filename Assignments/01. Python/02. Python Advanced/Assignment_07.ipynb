{
 "cells": [
  {
   "cell_type": "markdown",
   "id": "7cf82692",
   "metadata": {},
   "source": [
    "**Q1. What is the purpose of the try statement?**\n",
    "\n",
    "**Ans:** The `try:` block contains one or more statements that are likely to encounter an exception. If the statements in this block are executed without an exception, the subsequent `except:` block will be skipped. But if the exception did occur the control flow of the program is transferred to the `except:` block and the exception occurred are handled appropriately.\n",
    "```python\n",
    "try:\n",
    "    #here write the code which may cause the exception\n",
    "except:\n",
    "    #any exception occurred will be caught here and can be handled\n",
    "```\n",
    "\n",
    "**Q2. What are the two most popular try statement variations?**\n",
    "\n",
    "**Ans:**\n",
    "Most popular try statement variations are,\n",
    "\n",
    "1. **try, except**\n",
    "\n",
    "```python\n",
    "try:\n",
    "    #here write the code which may cause the exception\n",
    "except:\n",
    "    #any exception occurred in try will be caught here and can be handled\n",
    "```\n",
    "\n",
    "2. **try, except, finally**\n",
    "\n",
    "```python\n",
    "try:\n",
    "    #here write the code which may cause the exception\n",
    "except:\n",
    "    #any exception occurred in try will be caught here and can be handled\n",
    "finally:\n",
    "    #this will be excecuted regardless of any exception occured or not\n",
    "```\n",
    "\n",
    "Along with this there is also variations as follows,\n",
    "\n",
    "- try, except, else\n",
    "\n",
    "```python\n",
    "try:\n",
    "    #here write the code which may cause the exception\n",
    "except:\n",
    "   #any exception occurred in try will be caught here and can be handled\n",
    "else:\n",
    "    #executed if try block is error-free\n",
    "```\n",
    "\n",
    "- try, except, else\n",
    "\n",
    "```python\n",
    "try:\n",
    "    #here write the code which may cause the exception\n",
    "except:\n",
    "    #any exception occurred in try will be caught here and can be handled\n",
    "else:\n",
    "    #executed if try block is error-free\n",
    "finally:\n",
    "    #this will be excecuted regardless of any exception occured or not\n",
    "    \n",
    "```\n",
    "\n",
    "**Q3. What is the purpose of the raise statement?**\n",
    "\n",
    "**Ans:** Python provides the `raise` keyword to be used when user want to force an custom or built in exception during execution. This can be useful in stiuations like, when we want to restrict the users from inputing a value outside of accepted range. Here is sample example,"
   ]
  },
  {
   "cell_type": "code",
   "execution_count": 1,
   "id": "db8afafc",
   "metadata": {},
   "outputs": [
    {
     "name": "stdout",
     "output_type": "stream",
     "text": [
      "Enter a number upto 100: 300\n",
      "300 is out of allowed range\n"
     ]
    }
   ],
   "source": [
    "try:\n",
    "    x=int(input('Enter a number upto 100: '))\n",
    "    if x > 100:\n",
    "        raise ValueError(x)\n",
    "except ValueError:\n",
    "    print(x, \"is out of allowed range\")\n",
    "else:\n",
    "    print(x, \"is within the allowed range\")"
   ]
  },
  {
   "cell_type": "markdown",
   "id": "d6f9219e",
   "metadata": {},
   "source": [
    "**Q4. What does the assert statement do, and what other statement is it like?**\n",
    "\n",
    "**Ans** The `assert` statement is used to continue the execute if the given condition evalutes to `True`. If the assert condition evaluteas to `False` then it raises the `AssertionError` exception with specified error message.\n",
    "\n",
    "We can use `raise` as a alternative to `assert`"
   ]
  },
  {
   "cell_type": "code",
   "execution_count": 2,
   "id": "59a1b2c0",
   "metadata": {},
   "outputs": [
    {
     "name": "stdout",
     "output_type": "stream",
     "text": [
      "x is a positive number.\n"
     ]
    }
   ],
   "source": [
    "x = 10\n",
    "assert x > 0\n",
    "print('x is a positive number.')"
   ]
  },
  {
   "cell_type": "code",
   "execution_count": 3,
   "id": "90a121ed",
   "metadata": {},
   "outputs": [
    {
     "ename": "AssertionError",
     "evalue": "",
     "output_type": "error",
     "traceback": [
      "\u001b[1;31m---------------------------------------------------------------------------\u001b[0m",
      "\u001b[1;31mAssertionError\u001b[0m                            Traceback (most recent call last)",
      "Cell \u001b[1;32mIn [3], line 2\u001b[0m\n\u001b[0;32m      1\u001b[0m x \u001b[38;5;241m=\u001b[39m \u001b[38;5;241m-\u001b[39m\u001b[38;5;241m5\u001b[39m\n\u001b[1;32m----> 2\u001b[0m \u001b[38;5;28;01massert\u001b[39;00m x \u001b[38;5;241m>\u001b[39m \u001b[38;5;241m0\u001b[39m\n\u001b[0;32m      3\u001b[0m \u001b[38;5;28mprint\u001b[39m(\u001b[38;5;124m'\u001b[39m\u001b[38;5;124mx is a positive number.\u001b[39m\u001b[38;5;124m'\u001b[39m)\n",
      "\u001b[1;31mAssertionError\u001b[0m: "
     ]
    }
   ],
   "source": [
    "x = -5\n",
    "assert x > 0\n",
    "print('x is a positive number.')"
   ]
  },
  {
   "cell_type": "markdown",
   "id": "62cb2731",
   "metadata": {},
   "source": [
    "**Q5. What is the purpose of the `with/as` argument, and what other statement is it like?**\n",
    "\n",
    "**Ans:** In Python, you can access a file by using the `open()` method. However, using the `open()` method directly requires you to use the `close()` method to close the file explicitly. You also need to consider exception and write code to handle it.\n",
    "\n",
    "```python\n",
    "file = open(\"welcome.txt\")\n",
    "\n",
    "data = file.read()\n",
    "\n",
    "print data\n",
    "\n",
    "file.close()  # It's important to close the file when you're done with it\n",
    "```\n",
    "\n",
    "Instead if we use `with as`, it simplifies exception handling by encapsulating common preparation and cleanup tasks. In addition, it will automatically close the file. The with statement provides a way for ensuring that a clean-up is always used. So no longer need to write `close()` method explicitly. If the program runs into any exception inside the with block, the with open context in python closes the file before terminating the program. In this way the data inside the file remains safe even if the program is terminated abruptly.\n",
    "\n",
    "\n",
    "```python\n",
    "with open(\"welcome.txt\") as file: # Use file to refer to the file object\n",
    "\n",
    "   data = file.read()\n",
    "\n",
    "   #do something with data\n",
    "```"
   ]
  }
 ],
 "metadata": {
  "kernelspec": {
   "display_name": "Python 3 (ipykernel)",
   "language": "python",
   "name": "python3"
  },
  "language_info": {
   "codemirror_mode": {
    "name": "ipython",
    "version": 3
   },
   "file_extension": ".py",
   "mimetype": "text/x-python",
   "name": "python",
   "nbconvert_exporter": "python",
   "pygments_lexer": "ipython3",
   "version": "3.10.9"
  }
 },
 "nbformat": 4,
 "nbformat_minor": 5
}
