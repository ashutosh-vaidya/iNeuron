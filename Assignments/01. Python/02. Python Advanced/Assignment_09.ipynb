{
 "cells": [
  {
   "cell_type": "markdown",
   "id": "4ea3a1c9",
   "metadata": {},
   "source": [
    "**Q1. In Python 3.X, what are the names and functions of string object types?**\n",
    "\n",
    "**Ans:** Below are some of the functions and thier summeries \n",
    "\n",
    "\n",
    "|Function | Description|\n",
    "|:---|:---|\n",
    "| str.upper() | returns a string with all the letters of original string converted to upper case |\n",
    "| str.lower() | returns a string with all the letters of original string converted to lower case |\n",
    "| str.isupper() | returns true if all the letters of string are in upper case |\n",
    "| str.islower() | returns true if all the letters of string are in lower case |\n",
    "| str.isalpha() | returns true if string contains only alphanumeric charcteres |\n",
    "| str.isalnum() | returns true if string contains only alphanumeric charcteres |\n",
    "| str.isalpha() | returns true if string contains only alphabetic charcteres |\n",
    "| str.isnumeric() | returns true if string contains only numeric charcteres |\n",
    "| str.isspace()\t| returns t if string consists of only whitespace characters |\n",
    "| str.istitle() | returns true if String is in title case |\n",
    "| str.join() | concatenates two or more strings |\n",
    "| str.split(sep = \"\") | splits the strings based on seperator, whitespace is default |\n",
    "| str.replace | replace substring from the original string with the replacement string | \n",
    "| len(str) | returns the number of characters in a string |"
   ]
  },
  {
   "cell_type": "markdown",
   "id": "6fa06916",
   "metadata": {},
   "source": [
    "**Q2. How do the string forms in Python 3.X vary in terms of operations?**\n",
    "\n",
    "**Ans:** In python 3.X there are two main types of strings: **bytes** reprsented by `bytes` type and **Unicode** reprsennted by `str`type. Both types of strings support basic operations such as indexing, slicing, iterating along with functions such as `split()`, `join()` and `replace()` etc. But `bytes` have some operation specific to them such as decoding and encoding of string.  \n",
    "\n",
    "**Q3 Q3. In 3.X, how do you put non-ASCII Unicode characters in a string?**\n",
    "\n",
    "**Ans:** To put non-ASCII Unicode characters in a string in Python, you can use Unicode escape sequences or include the character directly in the string if your source code file has a proper encoding.\n",
    "\n",
    "For example:"
   ]
  },
  {
   "cell_type": "code",
   "execution_count": 1,
   "id": "2b6ad5e8",
   "metadata": {},
   "outputs": [
    {
     "name": "stdout",
     "output_type": "stream",
     "text": [
      "Hello Ω\n"
     ]
    }
   ],
   "source": [
    "#Using Unicode escape sequences:\n",
    "my_string = \"Hello \\u03A9\"\n",
    "print(my_string)"
   ]
  },
  {
   "cell_type": "code",
   "execution_count": 3,
   "id": "f36b505d",
   "metadata": {},
   "outputs": [
    {
     "name": "stdout",
     "output_type": "stream",
     "text": [
      "Hello Ω\n"
     ]
    }
   ],
   "source": [
    "#Using the character directly in the string\n",
    "# -*- coding: utf-8 -*-\n",
    "my_string = \"Hello Ω\"\n",
    "print(my_string)  # Output: Hello Ω"
   ]
  },
  {
   "cell_type": "markdown",
   "id": "08a712d6",
   "metadata": {},
   "source": [
    "**Q4. In Python 3.X, what are the key differences between text-mode and binary-mode files?**\n",
    "\n",
    "**Ans:** In Python, files can be opened in two modes: text mode and binary mode. Text mode is the default mode, and it is used for reading and writing text files, while the binary mode is used for reading and writing binary files.\n",
    "\n",
    "Text files are files that contain text data, such as **strings or characters**. They are commonly used for storing configuration files, log files, and data files that contain textual information. In text mode, Python **automatically handles the encoding and decoding of the data**, depending on the platform’s default encoding scheme.\n",
    "\n",
    "Binary files, on the other hand, are files that contain non-text data, such as **images, audio files, and executable files**. They are represented in a computer system as a series of bytes, which do not have any specific meaning until they are interpreted by the application that uses them. In binary mode, Python reads and writes data as a series of bytes **without any encoding or decoding**."
   ]
  },
  {
   "cell_type": "markdown",
   "id": "8b08c9a8",
   "metadata": {},
   "source": [
    "**Q5. How can you interpret a Unicode text file containing text encoded in a different encoding than your platform's default?**\n",
    "\n",
    "**Ans:** You can use the `io` module to read and write to Unicode files in Python. Here is sample code snippet,\n",
    "\n",
    "```python\n",
    "import io\n",
    "\n",
    "with io.open(filename,'r',encoding='utf8') as f:\n",
    "    text = f.read() # process Unicode text\n",
    "```"
   ]
  },
  {
   "cell_type": "markdown",
   "id": "87c29d22",
   "metadata": {},
   "source": [
    "**Q6. What is the best way to make a Unicode text file in a particular encoding format?**\n",
    "\n",
    "**Ans:** To make a Unicode text file in a particular encoding format in Python, we can use the `open()` function with the appropriate encoding parameter. Here's an example:\n",
    "\n",
    "```python\n",
    "# Define the string to be written to the file\n",
    "my_string = \"Hello, world! Ω\"\n",
    "\n",
    "# Open the file in write mode with UTF-8 encoding\n",
    "with open(\"my_file.txt\", mode=\"w\", encoding=\"utf-8\") as f:\n",
    "    # Write the string to the file\n",
    "    f.write(my_string)\n",
    "```"
   ]
  },
  {
   "cell_type": "markdown",
   "id": "2f476001",
   "metadata": {},
   "source": [
    "**Q7. What qualifies ASCII text as a form of Unicode text?**\n",
    "\n",
    "**Ans:** ASCII text can be considered a form of Unicode text because ASCII characters are a subset of the Unicode character set. The first 128 Unicode code points (U+0000 to U+007F) are reserved for ASCII characters, which include letters, numbers, punctuation, and control characters commonly used in the English language.\n",
    "\n",
    "In other words, any text that consists only of ASCII characters is also a valid Unicode text because the ASCII characters are included in the Unicode character set."
   ]
  },
  {
   "cell_type": "markdown",
   "id": "fcbe9154",
   "metadata": {},
   "source": [
    "**Q8. How much of an effect does the change in string types in Python 3.X have on your code?**\n",
    "\n",
    "**Ans:** The change in string types in Python 3.X from ASCII-based byte strings to Unicode-based character strings can have a significant effect on code that handles text data.\n",
    "\n",
    "Here are asome of the ways it can effect the code:\n",
    "1. Handling non-ASCII characters: Since Python 3.X treats strings as Unicode-based character strings, any code that handles non-ASCII characters must take into account the Unicode encoding of the string. This includes functions that manipulate text data, such as searching, replacing, splitting, and joining strings.\n",
    "\n",
    "2. File I/O: When reading or writing text files in Python 3.X, the encoding of the file must be taken into account to ensure that the text data is properly decoded or encoded. This is particularly important when working with files that contain non-ASCII characters or when reading files created with a different encoding format.\n",
    "\n",
    "3. Regular expressions: Regular expressions in Python 3.X must be modified to work with Unicode-based strings. This includes using Unicode character classes and specifying the re.UNICODE flag when compiling regular expressions.\n",
    "\n",
    "4. Libraries and modules: Python libraries and modules that handle text data must be updated to work with Unicode-based strings in Python 3.X. This includes third-party libraries and modules that may not have been updated for Python 3.X compatibility.\n",
    "\n",
    "However, the move to Unicode-based strings also brings many benefits, such as improved support for non-ASCII characters and better interoperability with other languages and platforms that use Unicode."
   ]
  }
 ],
 "metadata": {
  "kernelspec": {
   "display_name": "Python 3 (ipykernel)",
   "language": "python",
   "name": "python3"
  },
  "language_info": {
   "codemirror_mode": {
    "name": "ipython",
    "version": 3
   },
   "file_extension": ".py",
   "mimetype": "text/x-python",
   "name": "python",
   "nbconvert_exporter": "python",
   "pygments_lexer": "ipython3",
   "version": "3.10.9"
  }
 },
 "nbformat": 4,
 "nbformat_minor": 5
}
