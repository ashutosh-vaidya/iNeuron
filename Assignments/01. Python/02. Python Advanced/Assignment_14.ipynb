{
 "cells": [
  {
   "cell_type": "markdown",
   "id": "f4f8d85b",
   "metadata": {},
   "source": [
    "**Q1. Is an assignment operator like += only for show? Is it possible that it would lead to faster results at the runtime?**\n",
    "\n",
    "**Ans:** The `+=` operator is an example of an in-place operator. It modifies the value of the variable on the left hand side of the operator without creating a new variabl. This can be effcient than creating a new variable and assigning it a new value specially when working with loops and large data sets.\n",
    "\n",
    "For example consider following code:\n",
    "```python\n",
    "sum = 0\n",
    "\n",
    "## using normal operator\n",
    "for i in range(1000):\n",
    "    sum = sum + 1 #new variable sum is gettting created for each iteration\n",
    "    \n",
    "## Using in-place operator\n",
    "for i in range(1000):\n",
    "    sum += 1 #no new variable is created\n",
    "```"
   ]
  },
  {
   "cell_type": "markdown",
   "id": "92a0da8b",
   "metadata": {},
   "source": [
    "**Q2. What is the smallest number of statements you'd have to write in most programming languages to replace the Python expression a, b = a + b, a?**\n",
    "\n",
    "**Ans:** It would require atleast 4 statements to write the same code in other programming langauages."
   ]
  },
  {
   "cell_type": "markdown",
   "id": "e8ea6321",
   "metadata": {},
   "source": [
    "**Q3. In Python, what is the most effective way to set a list of 100 integers to 0?**\n",
    "\n",
    "**Ans:** Using repetation operator `*` or using list comperhension\n",
    "\n",
    "```python\n",
    "# using `*`\n",
    "lst = [0] * 100\n",
    "\n",
    "# using list comperhension\n",
    "lst = [0 for x in range(100)\n",
    "```"
   ]
  },
  {
   "cell_type": "markdown",
   "id": "98c8eac2",
   "metadata": {},
   "source": [
    "**Q4. What is the most effective way to initialise a list of 99 integers that repeats the sequence 1, 2, 3? S If necessary, show step-by-step instructions on how to accomplish this.**\n",
    "\n",
    "**Ans:** Using repetation operator `*`\n",
    "```python\n",
    "lst = [1,2,3] * 33\n",
    "```"
   ]
  },
  {
   "cell_type": "markdown",
   "id": "c48a85e1",
   "metadata": {},
   "source": [
    "**Q5. If you're using IDLE to run a Python application, explain how to print a multidimensional list as efficiently?**\n",
    "\n",
    "**Ans:** To print a multidimensional list efficiently in IDLE, you can use a nested loop to iterate over the rows and columns of the list and use the print() function to print each value. Here's an example code snippet that demonstrates this approach:"
   ]
  },
  {
   "cell_type": "code",
   "execution_count": 1,
   "id": "3325a3bf",
   "metadata": {},
   "outputs": [
    {
     "name": "stdout",
     "output_type": "stream",
     "text": [
      "1 2 3 \n",
      "4 5 6 \n",
      "7 8 9 \n"
     ]
    }
   ],
   "source": [
    "# Define a 2D list\n",
    "my_list = [[1, 2, 3], [4, 5, 6], [7, 8, 9]]\n",
    "\n",
    "# Iterate over the rows of the list\n",
    "for row in my_list:\n",
    "    # Create an empty string to hold the values in this row\n",
    "    row_str = \"\"\n",
    "    # Iterate over the columns of the row\n",
    "    for value in row:\n",
    "        # Append each value to the row string\n",
    "        row_str += str(value) + \" \"\n",
    "    # Print the row string\n",
    "    print(row_str)"
   ]
  },
  {
   "cell_type": "markdown",
   "id": "f6d227bb",
   "metadata": {},
   "source": [
    "**Q6. Is it possible to use list comprehension with a string? If so, how can you go about doing it?**\n",
    "\n",
    "**Ans:** Yes, it is possible to use list comperhension with a string."
   ]
  },
  {
   "cell_type": "code",
   "execution_count": 2,
   "id": "00ea4e14",
   "metadata": {},
   "outputs": [
    {
     "name": "stdout",
     "output_type": "stream",
     "text": [
      "['H', 'e', 'l', 'l', 'o', ' ', 'W', 'o', 'r', 'l', 'd']\n"
     ]
    }
   ],
   "source": [
    "lst = [x for x in \"Hello World\"]\n",
    "print(lst)"
   ]
  },
  {
   "cell_type": "markdown",
   "id": "26c28416",
   "metadata": {},
   "source": [
    "**Q7. From the command line, how do you get support with a user-written Python programme? Is this possible from inside IDLE?**\n",
    "\n",
    "**Ans** From the command line, we can get support with a user-written Python program by running the program with the `-h` or `--help` command-line argument. Ex. **`python program.py --help`** This will print a brief help message that explains how to use the program and any command-line options that are available.\n",
    "\n",
    "From inside the IDLE we can use `help()`. Ex. **help(my_func)**.This function displays the docstring of a Python object, which can include information on how to use the object and any associated functions or modules."
   ]
  },
  {
   "cell_type": "markdown",
   "id": "b0e318a8",
   "metadata": {},
   "source": [
    "**Q8. Functions are said to be “first-class objects” in Python but not in most other languages, such as C++ or Java. What can you do in Python with a function (callable object) that you can't do in C or C++?**\n",
    "\n",
    "**Ans:** In Python, functions are considered first-class objects, which means that they can be used and manipulated just like any other object. This provides several advantages over languages like C++ or Java, where functions are not first-class objects.\n",
    "\n",
    "Here are some things that you can do with functions in Python that you can't do in C++ or Java:\n",
    "\n",
    "1. Assign functions to variables: In Python, you can assign a function to a variable just like you would any other object. This allows you to pass functions as arguments to other functions, return functions from functions, and store functions in data structures like lists or dictionaries.\n",
    "2. Define functions within functions: In Python, you can define a function within another function. This is known as a nested function or a closure, and it allows you to encapsulate functionality and create more modular code.\n",
    "3. Pass functions as arguments to other functions: In Python, you can pass a function as an argument to another function. This allows you to create higher-order functions that take other functions as input and manipulate them in various ways.\n",
    "4. Return functions from functions: In Python, you can return a function from a function. This allows you to create factories that generate functions on the fly, or to create functions that depend on runtime values.\n",
    "5. Use functions as elements in data structures: In Python, you can store functions in lists, dictionaries, and other data structures. This allows you to create more complex data structures that incorporate functions as first-class objects."
   ]
  },
  {
   "cell_type": "markdown",
   "id": "cb8d8376",
   "metadata": {},
   "source": [
    "**Q9. How do you distinguish between a wrapper, a wrapped feature, and a decorator?**\n",
    "\n",
    "**Ans:** **A wrapper** is a function that takes another function as input, performs some additional operations and then returns the original function or modified version of it.\n",
    "\n",
    "**A wrapped feature** is the original function that is passed to the wrapper function.\n",
    "\n",
    "**A decorator** is a special type of wrappers that uses `@` syntax to apply wrapper function to the wrapped feature at the time of defination.\n",
    "\n",
    "Here is code snippet:\n",
    "```python\n",
    "# Wrapper function\n",
    "def my_wrapper(func):\n",
    "    def inner(*args, **kwargs):\n",
    "        print(\"Before function call\")\n",
    "        result = func(*args, **kwargs)\n",
    "        print(\"After function call\")\n",
    "        return result\n",
    "    return inner\n",
    "\n",
    "# Wrapped feature\n",
    "def my_function(x, y):\n",
    "    return x + y\n",
    "\n",
    "# Decorator\n",
    "@my_wrapper\n",
    "def my_decorated_function(x, y):\n",
    "    return x + y\n",
    "```"
   ]
  },
  {
   "cell_type": "markdown",
   "id": "2d66d2d7",
   "metadata": {},
   "source": [
    "**Q10. If a function is a generator function, what does it return?**\n",
    "\n",
    "**Ans:** A gerator function returns a generator object."
   ]
  },
  {
   "cell_type": "markdown",
   "id": "d140e51b",
   "metadata": {},
   "source": [
    "**Q11. What is the one improvement that must be made to a function in order for it to become a generator function in the Python language?**\n",
    "\n",
    "**ans:** The one change that must be made to a function in order for it become a generator function is replcing the `return` keyword with `yield`. When a function uses the yield keyword, it becomes a generator function, which allows it to generate a sequence of values on-the-fly, rather than returning a single value and exiting."
   ]
  },
  {
   "cell_type": "code",
   "execution_count": 5,
   "id": "55e4eb45",
   "metadata": {},
   "outputs": [
    {
     "name": "stdout",
     "output_type": "stream",
     "text": [
      "[5, 4, 3, 2, 1]\n"
     ]
    }
   ],
   "source": [
    "#function with return\n",
    "def countdown(n):\n",
    "    result = []\n",
    "    while n > 0:\n",
    "        result.append(n)\n",
    "        n -= 1\n",
    "    return result\n",
    "\n",
    "# Call the function and print the result\n",
    "result = countdown(5)\n",
    "print(result)"
   ]
  },
  {
   "cell_type": "code",
   "execution_count": 6,
   "id": "0808093a",
   "metadata": {},
   "outputs": [
    {
     "name": "stdout",
     "output_type": "stream",
     "text": [
      "5\n",
      "4\n",
      "3\n",
      "2\n",
      "1\n"
     ]
    }
   ],
   "source": [
    "#Generator function using yield\n",
    "def countdown(n):\n",
    "    while n > 0:\n",
    "        yield n\n",
    "        n -= 1\n",
    "\n",
    "# Create a generator object\n",
    "g = countdown(5)\n",
    "\n",
    "# Iterate over the generator and print each value\n",
    "for value in g:\n",
    "    print(value)"
   ]
  },
  {
   "cell_type": "markdown",
   "id": "343809c5",
   "metadata": {},
   "source": [
    "**Q12. Identify at least one benefit of generators.**\n",
    "\n",
    "**Ans:** The main advantage of using a generator function is that it allows you to generate large sequences of data without having to generate them all at once, which can save memory and improve performance. Instead of generating the entire sequence upfront and storing it in memory, you can generate each element on demand as needed, which can be more efficient for certain types of algorithms or applications."
   ]
  }
 ],
 "metadata": {
  "kernelspec": {
   "display_name": "Python 3 (ipykernel)",
   "language": "python",
   "name": "python3"
  },
  "language_info": {
   "codemirror_mode": {
    "name": "ipython",
    "version": 3
   },
   "file_extension": ".py",
   "mimetype": "text/x-python",
   "name": "python",
   "nbconvert_exporter": "python",
   "pygments_lexer": "ipython3",
   "version": "3.10.9"
  }
 },
 "nbformat": 4,
 "nbformat_minor": 5
}
