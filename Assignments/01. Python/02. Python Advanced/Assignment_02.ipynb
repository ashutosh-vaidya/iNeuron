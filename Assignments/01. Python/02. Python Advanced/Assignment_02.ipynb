{
 "cells": [
  {
   "cell_type": "markdown",
   "id": "eebac7ff",
   "metadata": {},
   "source": [
    "**Q1. What is the relationship between classes and modules?**\n",
    "\n",
    "**Ans:** A module is a file containing Python definitions and instructions, whereas a class is a blueprint for constructing objects (instances) with specific properties and functions. \n",
    "\n",
    "Modules define classes, and can include many classes."
   ]
  },
  {
   "cell_type": "markdown",
   "id": "36770362",
   "metadata": {},
   "source": [
    "**Q2. How do you make instances and classes?**\n",
    "\n",
    "**Ans:** \n",
    "- To create an instance of a class, you use the class name followed by parentheses. \n",
    "- To create a class, use the `class` keyword followed by the class name and a colon.\n",
    "\n",
    "For example: \n",
    "```python \n",
    "class MyClass: # This will create a class\n",
    "    pass\n",
    "\n",
    "my_instance = MyClass() # This will create an instance of class MyClass\n",
    "```"
   ]
  },
  {
   "cell_type": "markdown",
   "id": "7df807f2",
   "metadata": {},
   "source": [
    "**Q3. Where and how should be class attributes created?**\n",
    "\n",
    "**Ans:** Class attributes should be defined within the class declaration rather than within a function or a constructor. They are shared by all instances of the class. \n",
    "\n",
    "See the code snippet below for how to create it,"
   ]
  },
  {
   "cell_type": "code",
   "execution_count": 2,
   "id": "7b14a757",
   "metadata": {},
   "outputs": [
    {
     "name": "stdout",
     "output_type": "stream",
     "text": [
      "Instance Name => instance1, attribute => This is a class attribute\n",
      "Instance Name => instance2, attribute => This is a class attribute\n"
     ]
    }
   ],
   "source": [
    "class MyClass:\n",
    "    class_attribute = \"This is a class attribute\"\n",
    "\n",
    "    def __init__(self, name):\n",
    "        self.name = name\n",
    "\n",
    "# Creating instances of the class\n",
    "i1 = MyClass(\"instance1\")\n",
    "i2 = MyClass(\"instance2\")\n",
    "\n",
    "# Accessing the class attribute\n",
    "print(f\"Instance Name => {i1.name}, attribute => {i1.class_attribute}\")\n",
    "print(f\"Instance Name => {i2.name}, attribute => {i2.class_attribute}\")"
   ]
  },
  {
   "cell_type": "markdown",
   "id": "e980ff29",
   "metadata": {},
   "source": [
    "**Q4. Where and how are instance attributes created?**\n",
    "\n",
    "**Ans:** An instance attribute is created within the constructor method `(__init__)` or within other methods, using the `self` keyword to refer to the instance. They are unique to each class instance.\n",
    "\n",
    "For example:"
   ]
  },
  {
   "cell_type": "code",
   "execution_count": 4,
   "id": "921dfc9a",
   "metadata": {},
   "outputs": [
    {
     "name": "stdout",
     "output_type": "stream",
     "text": [
      "Instance Name => instance1, attribute => This is an instance attribute\n",
      "Instance Name => instance2, attribute => This is an instance attribute\n"
     ]
    }
   ],
   "source": [
    "class MyClass:\n",
    "    def __init__(self, name):\n",
    "        self.name = name\n",
    "        self.instance_attribute = \"This is an instance attribute\"\n",
    "\n",
    "# Creating instances of the class\n",
    "i1 = MyClass(\"instance1\")\n",
    "i2 = MyClass(\"instance2\")\n",
    "\n",
    "# Accessing the class attribute\n",
    "print(f\"Instance Name => {i1.name}, attribute => {i1.instance_attribute}\")\n",
    "print(f\"Instance Name => {i2.name}, attribute => {i2.instance_attribute}\")"
   ]
  },
  {
   "cell_type": "markdown",
   "id": "553cdb52",
   "metadata": {},
   "source": [
    "**Q5. What does the term \"self\" in a Python class mean?**\n",
    "\n",
    "**Ans:** The term \"self\" in a Python class refers to the instance of the class. It is automatically supplied as the first parameter when the method is called on an instance and enables the method to access and alter the instance's state and properties. It is only a convention and not a keyword."
   ]
  },
  {
   "cell_type": "markdown",
   "id": "d525c365",
   "metadata": {},
   "source": [
    "**Q6. How does a Python class handle operator overloading?**\n",
    "\n",
    "**Ans:**  Operator overloading allows you to specify the behaviour of built-in operators (such as +, -, and so on) when they are used with class instances. \n",
    "\n",
    "Below is code for operator overloading"
   ]
  },
  {
   "cell_type": "code",
   "execution_count": 8,
   "id": "0d5b2a23",
   "metadata": {},
   "outputs": [
    {
     "name": "stdout",
     "output_type": "stream",
     "text": [
      "4,6\n"
     ]
    }
   ],
   "source": [
    "class MyVector:\n",
    "    def __init__(self, x, y):\n",
    "        self.x = x\n",
    "        self.y = y\n",
    "    \n",
    "    def __add__(self, other):\n",
    "        return MyVector(self.x + other.x, self.y + other.y)\n",
    "\n",
    "# Creating instances of the class\n",
    "vec1 = MyVector(1, 2)\n",
    "vec2 = MyVector(3, 4)\n",
    "\n",
    "# Using the + operator with instances of the class\n",
    "vec3 = vec1 + vec2\n",
    "\n",
    "print(f\"{vec3.x},{vec3.y}\")"
   ]
  },
  {
   "cell_type": "markdown",
   "id": "39d552dc",
   "metadata": {},
   "source": [
    "In the above example, the `__add__` method is defined in the MyVector class. This method is called when the `+` operator is used with instances of the class. It takes the other vector as an argument, and it creates a new vector as the sum of the two vectors."
   ]
  },
  {
   "cell_type": "markdown",
   "id": "f5ccca38",
   "metadata": {},
   "source": [
    "**Q7. When do you consider allowing operator overloading of your classes?**\n",
    "\n",
    "**Ans:** When deciding whether to enable operator overloading in your classes, evaluate if the operator's built-in functionality makes sense for instances of your class.\n",
    "\n",
    "Another important point to consider is that operator overloading may improve the readability of your code by allowing you to utilize familiar operators (e.g., +, -) rather than having to use specific methods."
   ]
  },
  {
   "cell_type": "markdown",
   "id": "60b83f07",
   "metadata": {},
   "source": [
    "**Q8. What is the most popular form of operator overloading?**\n",
    "\n",
    "**Ans:** The most popular form of operator overloading is the use of special methods such as add, sub, mul etc."
   ]
  },
  {
   "cell_type": "markdown",
   "id": "d7449021",
   "metadata": {},
   "source": [
    "**Q9. What are the two most important concepts to grasp in order to comprehend Python OOP code?**\n",
    "\n",
    "**Ans:** The two most important concepts to grasp in order to comprehend Python OOP code are: \n",
    "1. classes and objects \n",
    "2. inheritance and polymorphism."
   ]
  }
 ],
 "metadata": {
  "kernelspec": {
   "display_name": "Python 3 (ipykernel)",
   "language": "python",
   "name": "python3"
  },
  "language_info": {
   "codemirror_mode": {
    "name": "ipython",
    "version": 3
   },
   "file_extension": ".py",
   "mimetype": "text/x-python",
   "name": "python",
   "nbconvert_exporter": "python",
   "pygments_lexer": "ipython3",
   "version": "3.9.7"
  }
 },
 "nbformat": 4,
 "nbformat_minor": 5
}
