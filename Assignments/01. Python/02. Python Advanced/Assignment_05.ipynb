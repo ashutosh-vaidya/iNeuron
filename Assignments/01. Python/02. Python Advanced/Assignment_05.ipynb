{
 "cells": [
  {
   "cell_type": "markdown",
   "id": "ce36784a",
   "metadata": {},
   "source": [
    "**Q1. What is the meaning of multiple inheritance?**\n",
    "\n",
    "**Ans:** When using classes and objects in an object-oriented programming language, a special feature known as an inheritance allows the child/derived class to reuse the behaviors and properties of the parent/base class. Inheritance is called an **is a** relationship. This means that when you have a Derived class that inherits from a Base class, you created a relationship where Derived **is a specialized version** of Base.\n",
    "\n",
    "Python support a derived class to be inherited from more than one base class which is called as multiple inheritance.\n",
    "\n",
    "Below is the sample code snippet to understand multiple inheritance."
   ]
  },
  {
   "cell_type": "code",
   "execution_count": 1,
   "id": "cf3a0cc8",
   "metadata": {},
   "outputs": [
    {
     "name": "stdout",
     "output_type": "stream",
     "text": [
      "New employee is created...\n",
      "Basic salary is allocated to employee...\n",
      "Designation Manager assigned to employee\n"
     ]
    }
   ],
   "source": [
    "class employee(): #parent 1\n",
    "    def new_emp(self):\n",
    "        print(\"New employee is created...\")\n",
    "\n",
    "class salary(): #parent 2\n",
    "    def basic_salary(self):\n",
    "        print(\"Basic salary is allocated to employee...\")\n",
    "\n",
    "#child class inherting from employee and salary\n",
    "class manager(employee, salary):    \n",
    "    def assign_desgination(self):\n",
    "        print(\"Designation Manager assigned to employee\")\n",
    "        \n",
    "emp1 = manager()\n",
    "emp1.new_emp()\n",
    "emp1.basic_salary()\n",
    "emp1.assign_desgination()"
   ]
  },
  {
   "cell_type": "markdown",
   "id": "b30cfd97",
   "metadata": {},
   "source": [
    "**Q2. What is the concept of delegation?**\n",
    "\n",
    "**Ans:** Delegation is a design pattern in which an object, called the delegate, is responsible for performing certain tasks on behalf of another object, called the delegator. This can be done by the delegator forwarding method calls and attributes access to delegate. So basically it can be used as an alternative to inheritance and useful when implementing.\n",
    "\n",
    "Delegation can be implemented as follows:"
   ]
  },
  {
   "cell_type": "code",
   "execution_count": 2,
   "id": "1fb96769",
   "metadata": {},
   "outputs": [],
   "source": [
    "class A:\n",
    "    def spam(self, x):\n",
    "        pass\n",
    "    def foo(self):\n",
    "        pass\n",
    "# Simplest way if there are small number of methods to delegate\n",
    "class B:\n",
    "    def __init__(self):\n",
    "        self._a = A()\n",
    "        def spam(self, x):\n",
    "            # Delegate to the internal self._a instance\n",
    "            return self._a.spam(x)\n",
    "        def foo(self):\n",
    "            # Delegate to the internal self._a instance\n",
    "            return self._a.foo()\n",
    "        def bar(self):\n",
    "            pass\n",
    "        \n",
    "#using __getattr__() \n",
    "class C:\n",
    "    def __init__(self):\n",
    "        self._a = A()\n",
    "    def bar(self):\n",
    "        pass\n",
    "    # Expose all of the methods defined on class A\n",
    "    def __getattr__(self, name):\n",
    "        return getattr(self._a, name)"
   ]
  },
  {
   "cell_type": "markdown",
   "id": "26ffbc2f",
   "metadata": {},
   "source": [
    "**Q3. What is the concept of composition?**\n",
    "\n",
    "**Ans:** Composition is a concept that models a **has a** relationship. It enables creating complex types by combining objects of other types. This means that a class Composite can contain an object of another class Component. This relationship means that class A **has a Component(instance)** of class B.\n",
    "\n",
    "Composition allows composite classes to reuse the implementation of the components it contains. The composite class doesn’t inherit the component class interface, but it can leverage its implementation.\n",
    "\n",
    "The composition relation between two classes is considered loosely coupled. That means that changes to the component class rarely affect the composite class, and changes to the composite class never affect the component class.\n",
    "\n",
    "Below is example code snippet:"
   ]
  },
  {
   "cell_type": "code",
   "execution_count": 3,
   "id": "52d506e1",
   "metadata": {},
   "outputs": [
    {
     "name": "stdout",
     "output_type": "stream",
     "text": [
      "New employee is created...\n",
      "Total annual salary with bonus is : 14000\n"
     ]
    }
   ],
   "source": [
    "class salary(): \n",
    "    def __init__(self,basic):\n",
    "        self.basic = basic\n",
    "    def get_annual_salary(self):\n",
    "        return self.basic * 12\n",
    "    \n",
    "class Salary:\n",
    "    def __init__(self,pay):\n",
    "        self.pay = pay\n",
    "    def get_total(self):\n",
    "        return self.pay*12\n",
    "\n",
    "class employee(): #parent 1\n",
    "    def __init__(self,basic):\n",
    "        print(\"New employee is created...\")\n",
    "        self.basic = basic\n",
    "    def total_salary(self,bonus):\n",
    "        self.sal = salary(self.basic) #Composition, using the instance of salary class\n",
    "        self.bonus = bonus\n",
    "        self.annual_salary = self.sal.get_annual_salary()\n",
    "        print(f\"Total annual salary with bonus is : {self.bonus + self.annual_salary}\")\n",
    "\n",
    "emp1 = employee(1000)\n",
    "emp1.total_salary(2000)"
   ]
  },
  {
   "cell_type": "markdown",
   "id": "dee8eae3",
   "metadata": {},
   "source": [
    "**Q4. What are bound methods and how do we use them?**\n",
    "\n",
    "**Ans:** If a function is an attribute of the class and it can be only accessed via the instances then they are called bound methods. These bound methods take **self** argument at the beginning. Bound methods are called instance methods since they are dependent on the instance of the classes.\n",
    "\n",
    "Example:"
   ]
  },
  {
   "cell_type": "code",
   "execution_count": 4,
   "id": "3be0cbd9",
   "metadata": {},
   "outputs": [
    {
     "name": "stdout",
     "output_type": "stream",
     "text": [
      "This is bound method\n"
     ]
    }
   ],
   "source": [
    "class temp():\n",
    "    def __init__(self):\n",
    "        pass\n",
    "    def method1(self):\n",
    "        print(\"This is bound method\")\n",
    "        \n",
    "t = temp()\n",
    "t.method1()"
   ]
  },
  {
   "cell_type": "markdown",
   "id": "d65507aa",
   "metadata": {},
   "source": [
    "**Q5. What is the purpose of pseudoprivate attributes?**\n",
    "\n",
    "**Ans:** All class data in python is technically public. Any attribute or method of a class can be accessed by anyone, however, there are dew ways to restrict access. \n",
    "\n",
    "- Using a **single leading underscore (_)**  indicates that the attribute or method is not public. \n",
    "- Using a **double leading underscore (__)** is the closest thing python has to private fields and methods.  \n",
    "\n",
    "Python implements name mangling: any name starting with a double underscore will be automatically prepended by the name of the class when interpreted by Python, and that new name will be the actual internal name of the attribute or method. \n",
    "\n",
    "The main use of these pseudo-private attributes is to prevent name clashes in child classes: you can't control what attributes or methods someone will introduce when inheriting from your class, and it's possible that someone will unknowingly introduce a name that already exists in your class, thus overriding the parent method or attribute! You can use double-leading underscores to protect important attributes and methods that should not be overridden."
   ]
  }
 ],
 "metadata": {
  "kernelspec": {
   "display_name": "Python 3 (ipykernel)",
   "language": "python",
   "name": "python3"
  },
  "language_info": {
   "codemirror_mode": {
    "name": "ipython",
    "version": 3
   },
   "file_extension": ".py",
   "mimetype": "text/x-python",
   "name": "python",
   "nbconvert_exporter": "python",
   "pygments_lexer": "ipython3",
   "version": "3.10.9"
  }
 },
 "nbformat": 4,
 "nbformat_minor": 5
}
