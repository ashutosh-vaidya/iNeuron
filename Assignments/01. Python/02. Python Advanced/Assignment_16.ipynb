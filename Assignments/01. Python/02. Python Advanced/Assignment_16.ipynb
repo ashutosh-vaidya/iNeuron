{
 "cells": [
  {
   "cell_type": "markdown",
   "id": "81cb2dac",
   "metadata": {},
   "source": [
    "**Q1. What is the benefit of regular expressions?**\n",
    "\n",
    "**Ans:** Regular expressions (regex) are a powerful tool for pattern matching and text manipulation. Regular expressions can be used for a variety of tasks such as searching, replacing, parsing, and validation. This can save a lot of coding time and make your code more readable, improve code quality, and increase the robustness and efficiency of your code.\n",
    "\n",
    "**Q2. Describe the difference between the effects of \"(ab)c+\" and \"a(bc)+.\" Which of these, if any, is the unqualified pattern \"abc+\"?**\n",
    "\n",
    "**Ans:** `(ab)c+` and `a(bc)+` are valid patterns. The difference between both these patterns is that in (ab)c+ ab is a group whereas in a(bc)+ bc is a group. Capturing groups are a way to treat multiple characters as a single unit. They are created by placing the characters to be grouped inside a set of parentheses.\n",
    "\n",
    "- **\"(ab)c+\"** matches a sequence of **\"ab\"** characters followed by one or more **\"c\"** characters.\n",
    "- **\"a(bc)+\"** matches an **\"a\"** character followed by one or more sequences of **\"bc\"** characters.\n",
    "- **\"abc+\"** matches a sequence of **\"ab\"** characters followed by one or more **\"c\"** characters.\n",
    "\n",
    "**Q3. How much do you need to use the following sentence while using regular expressions?**\n",
    "\n",
    "**`import re`**\n",
    "\n",
    "The above statement always has to be imported before using regular expressions."
   ]
  },
  {
   "cell_type": "markdown",
   "id": "49f29bb0",
   "metadata": {},
   "source": [
    "**Q4. Which characters have special significance in square brackets when expressing a range, and under what circumstances?**\n",
    "\n",
    "**Ans:** In a regular expression pattern, square brackets `[]` are used to define a character set, which matches any one character from the set. When a range of characters is specified inside the square brackets, certain characters can have special significance, depending on the position and context in which they appear.\n",
    "\n",
    "- The hyphen character `-` is used to specify a range of characters inside square brackets\n",
    "- The caret character `^` negates the character set\n",
    "- The backslash character `\\` is used for escape sequences\n",
    "- The right bracket `]` indicates the end of the character set\n",
    "- The left bracket `[` indicates the start of the character set."
   ]
  },
  {
   "cell_type": "markdown",
   "id": "9c456007",
   "metadata": {},
   "source": [
    "**Q5. How does compiling a regular-expression object benefit you?**\n",
    "\n",
    "**Ans:** Compiling a regular expression object in Python using the `re.compile()` function can provide several benefit including improve performance, readability, reusability, error checking, and flexibility, making it a valuable tool for working with regular expressions in Python."
   ]
  },
  {
   "cell_type": "markdown",
   "id": "fea7798e",
   "metadata": {},
   "source": [
    "**Q6. What are some examples of how to use the match object returned by `re.match` and `re.search`?**\n",
    "\n",
    "**Ans:** When using the `re.match()` or `re.search()` functions in Python, a match object is returned that provides information about the match that was found. Here are some examples of how to use the match object:\n",
    "\n",
    "1. Accessing the matched text: The `group()` method can be used to retrieve the matched text. For example:"
   ]
  },
  {
   "cell_type": "code",
   "execution_count": 1,
   "id": "be384a84",
   "metadata": {},
   "outputs": [
    {
     "name": "stdout",
     "output_type": "stream",
     "text": [
      "100\n"
     ]
    }
   ],
   "source": [
    "import re\n",
    "\n",
    "pattern = r'\\d+'\n",
    "text = 'The price is $100'\n",
    "match_obj = re.search(pattern, text)\n",
    "if match_obj:\n",
    "    matched_text = match_obj.group()\n",
    "    print(matched_text)"
   ]
  },
  {
   "cell_type": "markdown",
   "id": "37a18129",
   "metadata": {},
   "source": [
    "2. Retrieving subgroups: If the regular expression pattern contains subgroups defined by parentheses, the `group()` method can be used to retrieve the matched text for each subgroup. For example:"
   ]
  },
  {
   "cell_type": "code",
   "execution_count": 3,
   "id": "29b96a69",
   "metadata": {},
   "outputs": [
    {
     "name": "stdout",
     "output_type": "stream",
     "text": [
      "2023 03 31\n"
     ]
    }
   ],
   "source": [
    "import re\n",
    "\n",
    "pattern = r'(\\d+)-(\\d+)-(\\d+)'\n",
    "text = 'Date: 2023-03-31'\n",
    "match_obj = re.search(pattern, text)\n",
    "if match_obj:\n",
    "    year = match_obj.group(1)\n",
    "    month = match_obj.group(2)\n",
    "    day = match_obj.group(3)\n",
    "    print(year, month, day)"
   ]
  },
  {
   "cell_type": "markdown",
   "id": "d48faafe",
   "metadata": {},
   "source": [
    "3. Retrieving the index of the match: The `start()` and `end()` methods can be used to retrieve the start and end index of the match within the input string. For example:"
   ]
  },
  {
   "cell_type": "code",
   "execution_count": 4,
   "id": "ea38115b",
   "metadata": {},
   "outputs": [
    {
     "name": "stdout",
     "output_type": "stream",
     "text": [
      "14 17\n"
     ]
    }
   ],
   "source": [
    "import re\n",
    "\n",
    "pattern = r'\\d+'\n",
    "text = 'The price is $100'\n",
    "match_obj = re.search(pattern, text)\n",
    "if match_obj:\n",
    "    start_index = match_obj.start()\n",
    "    end_index = match_obj.end()\n",
    "    print(start_index, end_index)   # Output: 13 16\n"
   ]
  },
  {
   "cell_type": "markdown",
   "id": "8e30be8a",
   "metadata": {},
   "source": [
    "4. Retrieving all matches: The `findall()` method can be used to retrieve all non-overlapping matches of the pattern in the input string. For example:"
   ]
  },
  {
   "cell_type": "code",
   "execution_count": 5,
   "id": "c373ba31",
   "metadata": {},
   "outputs": [
    {
     "name": "stdout",
     "output_type": "stream",
     "text": [
      "['100', '200']\n"
     ]
    }
   ],
   "source": [
    "import re\n",
    "\n",
    "pattern = r'\\d+'\n",
    "text = 'The prices are $100 and $200'\n",
    "matched_texts = re.findall(pattern, text)\n",
    "print(matched_texts)"
   ]
  },
  {
   "cell_type": "markdown",
   "id": "7a214832",
   "metadata": {},
   "source": [
    "**Q7. What is the difference between using a vertical bar `(|)` as an alteration and using square brackets as a character set?**\n",
    "\n",
    "**Ans:** The vertical bar `|` is used to specify alternation, which means **\"either this or that\"**. It matches any of the alternatives separated by the vertical bar. For example, the pattern `cat|dog` will match either **\"cat\"** or **\"dog\"**.\n",
    "\n",
    "On the other hand, square brackets `[]` are used to specify a character set or a range of characters. It matches any one of the characters inside the brackets. For example, the pattern `[abc]` will match either **\"a\", \"b\", or \"c\"**. You can also specify a range of characters using a hyphen, for example, `[a-z]` will match any lowercase letter from **\"a\" to \"z\"**.\n",
    "\n",
    "The main difference between using `|` and `[]` is that `|` matches one of the alternatives, while `[]` matches any one character in the set or range. For example, the pattern `cat|dog` will match **\"cat\"** or **\"dog\"**, but the pattern `[cdog]` will match **\"c\", \"d\", \"o\", or \"g\"**.\n",
    "\n",
    "Another difference is that `[]` allows you to specify more than one character in the set or range, while `|` only allows you to specify two alternatives. For example, the pattern `[aeiou]` will match any vowel, while the pattern `a|e|i|o|u` will also match any vowel, but it is less concise."
   ]
  },
  {
   "cell_type": "markdown",
   "id": "dcd40d4a",
   "metadata": {},
   "source": [
    "**Q8. In regular-expression search patterns, why is it necessary to use the raw-string indicator `(r)`? In replacement strings?**\n",
    "\n",
    "**Ans:** In regular-expression search patterns, it is necessary to use the raw-string indicator `(r)` before the pattern string to ensure that any special characters within the pattern are treated as literal characters. This is because regular expressions use a number of characters that have special meanings, such as backslashes, which are used to escape special characters or indicate character classes, and without the raw-string indicator, these characters can be interpreted in unexpected ways."
   ]
  }
 ],
 "metadata": {
  "kernelspec": {
   "display_name": "Python 3 (ipykernel)",
   "language": "python",
   "name": "python3"
  },
  "language_info": {
   "codemirror_mode": {
    "name": "ipython",
    "version": 3
   },
   "file_extension": ".py",
   "mimetype": "text/x-python",
   "name": "python",
   "nbconvert_exporter": "python",
   "pygments_lexer": "ipython3",
   "version": "3.10.9"
  }
 },
 "nbformat": 4,
 "nbformat_minor": 5
}
