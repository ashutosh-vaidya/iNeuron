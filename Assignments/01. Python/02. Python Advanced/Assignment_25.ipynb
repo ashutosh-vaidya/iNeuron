{
 "cells": [
  {
   "cell_type": "markdown",
   "id": "f836b78f",
   "metadata": {},
   "source": [
    "**Q1. What is the distinction between a numpy array and a pandas data frame? Is there a way to convert between the two if there is?**\n",
    "\n",
    "**Ans:** A NumPy array is a homogeneous collection of elements, while a Pandas DataFrame is a heterogeneous collection of columns with potentially different data types. NumPy arrays are generally used for numerical computations, while Pandas DataFrames are commonly used for data manipulation and analysis. You can convert a Pandas DataFrame to a NumPy array using the `values` attribute, and you can create a Pandas DataFrame from a NumPy array using the `pd.DataFrame()` constructor.\n",
    "\n",
    "**Q2. What can go wrong when an user enters in a stock-ticker symbol, and how do you handle it?**\n",
    "\n",
    "**ans:** There are a few things that can go wrong when a user enters a stock-ticker symbol. For example, the user may enter an invalid symbol, misspell the symbol, or use a different format than expected. To handle these issues, you can use error handling techniques such as try-except blocks and regular expressions to validate the input and provide helpful error messages to the user.\n",
    "\n",
    "\n",
    "**Q3. Identify some of the plotting techniques that are used to produce a stock-market chart.**\n",
    "\n",
    "**Ans:** Some of the plotting techniques that are commonly used to produce a stock-market chart include line plots, candlestick charts, and bar charts. Line plots are used to show trends in stock prices over time, while candlestick charts are used to show the daily high, low, open, and close prices for a stock. Bar charts can be used to show the trading volume of a stock.\n",
    "\n",
    "**Q4. Why is it essential to print a legend on a stock market chart?**\n",
    "\n",
    "**Ans:** It is essential to print a legend on a stock market chart because it provides context for the data being shown. The legend explains what each line, bar, or candlestick represents, which is important for readers to understand the meaning of the chart. Without a legend, readers may have difficulty interpreting the data and drawing accurate conclusions.\n",
    "\n",
    "**Q5. What is the best way to limit the length of a pandas data frame to less than a year?\n",
    "\n",
    "**Ans:** One way to limit the length of a Pandas DataFrame to less than a year is to filter the data based on a date range. For example, you can use the `loc` method to select rows where the date is within a certain range:\n",
    "\n",
    "```python\n",
    "df = df.loc['2022-01-01':'2022-12-31']\n",
    "```\n",
    "\n",
    "**Q6. What is the definition of a 180-day moving average?**\n",
    "\n",
    "**Ans:** A 180-day moving average is a technical analysis indicator that calculates the average price of a stock over the past 180 days. It is used to smooth out short-term fluctuations in the stock price and identify longer-term trends.\n",
    "\n"
   ]
  }
 ],
 "metadata": {
  "kernelspec": {
   "display_name": "Python 3 (ipykernel)",
   "language": "python",
   "name": "python3"
  },
  "language_info": {
   "codemirror_mode": {
    "name": "ipython",
    "version": 3
   },
   "file_extension": ".py",
   "mimetype": "text/x-python",
   "name": "python",
   "nbconvert_exporter": "python",
   "pygments_lexer": "ipython3",
   "version": "3.10.9"
  }
 },
 "nbformat": 4,
 "nbformat_minor": 5
}
