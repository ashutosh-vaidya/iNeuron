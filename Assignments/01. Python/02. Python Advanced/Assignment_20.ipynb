{
 "cells": [
  {
   "cell_type": "markdown",
   "id": "60192127",
   "metadata": {},
   "source": [
    "**1. Compare and contrast the float and Decimal classes' benefits and drawbacks.**\n",
    "\n",
    "**Ans:** `float` and `Decimal` classess are both used for representing decimal numbers in Python. `float` is generally faster and more efficient, but it has limited precision and is prone to rounding errors. `Decimal`, on the other hand, provides arbitrary precision and accurate results, but it uses more memory and may require more complex code. \n",
    "\n",
    "The choice between float and Decimal depends on the specific requirements of your program and the level of precision and accuracy needed for your calculations.  "
   ]
  },
  {
   "cell_type": "markdown",
   "id": "480d61d6",
   "metadata": {},
   "source": [
    "**2. Decimal('1.200') and Decimal('1.2') are two objects to consider. In what sense are these the same object? Are these just two ways of representing the exact same value, or do they correspond to different internal states?**\n",
    "\n",
    "**Ans:** `Decimal('1.200')` and `Decimal('1.2')` represent the same mathematical value, but they are not the same object in memory. They are two distinct instances of the Decimal class, with different internal states."
   ]
  },
  {
   "cell_type": "code",
   "execution_count": 3,
   "id": "699c1b48",
   "metadata": {},
   "outputs": [
    {
     "name": "stdout",
     "output_type": "stream",
     "text": [
      "DecimalTuple(sign=0, digits=(1, 2, 0, 0), exponent=-3)\n",
      "DecimalTuple(sign=0, digits=(1, 2), exponent=-1)\n",
      "True\n"
     ]
    }
   ],
   "source": [
    "from decimal import Decimal\n",
    "\n",
    "x = Decimal('1.200')\n",
    "y = Decimal('1.2')\n",
    "\n",
    "print(x.as_tuple()) #returns a DecimalTuple object that represents the internal state.\n",
    "print(y.as_tuple())\n",
    "print(x == y) #compares mathematical values"
   ]
  },
  {
   "cell_type": "markdown",
   "id": "f98206e3",
   "metadata": {},
   "source": [
    "**3. What happens if the equality of Decimal('1.200') and Decimal('1.2') is checked?**\n",
    "\n",
    "**Ans:** As illustrated earlier, the equality check on the above values returns true."
   ]
  },
  {
   "cell_type": "markdown",
   "id": "4e2a8e2f",
   "metadata": {},
   "source": [
    "**4. Why is it preferable to start a Decimal object with a string rather than a floating-point value?**\n",
    "\n",
    "**Ans:** All decimals should be initialized using strings to prevent precision issues. If decimals aren’t initialized with strings, we lose some of the precision benefits of decimals and create subtle bugs.\n",
    "\n",
    "Here is an example to illustrate:"
   ]
  },
  {
   "cell_type": "code",
   "execution_count": 4,
   "id": "27f61694",
   "metadata": {},
   "outputs": [
    {
     "data": {
      "text/plain": [
       "False"
      ]
     },
     "execution_count": 4,
     "metadata": {},
     "output_type": "execute_result"
    }
   ],
   "source": [
    "from decimal import Decimal\n",
    "Decimal(0.01) == Decimal(\"0.01\")"
   ]
  },
  {
   "cell_type": "markdown",
   "id": "aab1bc32",
   "metadata": {},
   "source": [
    "In this example, we expect these decimals to be equal, but, because of the precision issues with floats, this decimal equality test returns false. If we look at each of these decimals, we’ll see why."
   ]
  },
  {
   "cell_type": "code",
   "execution_count": 6,
   "id": "c3ad38d7",
   "metadata": {},
   "outputs": [
    {
     "name": "stdout",
     "output_type": "stream",
     "text": [
      "0.01000000000000000020816681711721685132943093776702880859375\n",
      "0.01\n"
     ]
    }
   ],
   "source": [
    "print(Decimal(0.01))\n",
    "print(Decimal(\"0.01\"))"
   ]
  },
  {
   "cell_type": "markdown",
   "id": "e76b98c2",
   "metadata": {},
   "source": [
    "**5. In an arithmetic phrase, how simple is it to combine Decimal objects with integers?**\n",
    "\n",
    "**Ans:** Combining Decimal objects with integers in arithmetic operations is very simple. The Decimal class supports all the standard arithmetic operators and when you combine a Decimal object with an integer in an arithmetic operation, the integer will be automatically converted to a Decimal object before the operation is performed.\n",
    "\n",
    "Here is an example:"
   ]
  },
  {
   "cell_type": "code",
   "execution_count": 11,
   "id": "a34cfc3b",
   "metadata": {},
   "outputs": [
    {
     "name": "stdout",
     "output_type": "stream",
     "text": [
      "2.4\n"
     ]
    }
   ],
   "source": [
    "from decimal import Decimal\n",
    "x = Decimal(\"1.2\")\n",
    "y = 2\n",
    "print(x * y)"
   ]
  },
  {
   "cell_type": "markdown",
   "id": "56f970c4",
   "metadata": {},
   "source": [
    "**6. Can Decimal objects and floating-point values be combined easily?**\n",
    "\n",
    "**Ans:** Combining Decimal objects and floating-point values in arithmetic operations can be done, but it requires some caution and care.\n",
    "\n",
    "The Decimal class is designed to provide exact decimal arithmetic with high precision, while floating-point values are subject to rounding errors due to the way they are represented in binary format. When you combine Decimal objects and floating-point values in an arithmetic operation, the result will be a Decimal object, but the precision of the result may be affected by the inherent imprecision of the floating-point value.\n",
    "\n",
    "To avoid this issue, it's generally recommended to avoid mixing Decimal objects and floating-point values in arithmetic operations. If you need to perform calculations that involve both decimal and floating-point values, you should convert the floating-point values to Decimal objects first, using the Decimal constructor or the `quantize()` method, to ensure that the arithmetic is performed with the desired level of precision."
   ]
  },
  {
   "cell_type": "code",
   "execution_count": 20,
   "id": "fc5f7708",
   "metadata": {},
   "outputs": [
    {
     "name": "stdout",
     "output_type": "stream",
     "text": [
      "1.799999999999999933386618522\n",
      "1.80\n"
     ]
    }
   ],
   "source": [
    "from decimal import Decimal, ROUND_HALF_UP\n",
    "\n",
    "x = Decimal(1.2)\n",
    "y = Decimal(\"1.5\")\n",
    "print(x * y)  \n",
    "\n",
    "#using  quantize()\n",
    "decimal_x = Decimal(str(x)).quantize(Decimal('0.1'), rounding=ROUND_HALF_UP)\n",
    "print(decimal_x * y)\n"
   ]
  },
  {
   "cell_type": "markdown",
   "id": "9d28314a",
   "metadata": {},
   "source": [
    "**7. Using the Fraction class but not the Decimal class, give an example of a quantity that can be expressed with absolute precision.**\n",
    "\n",
    "**Ans:** The Fraction class in Python provides exact rational arithmetic, which allows for precise representation of quantities that can be expressed as a ratio of two integers.\n",
    "\n",
    "Here's an example of a quantity that can be expressed with absolute precision using the Fraction class:"
   ]
  },
  {
   "cell_type": "code",
   "execution_count": 21,
   "id": "ae8b5497",
   "metadata": {},
   "outputs": [
    {
     "name": "stdout",
     "output_type": "stream",
     "text": [
      "3/5\n"
     ]
    }
   ],
   "source": [
    "from fractions import Fraction\n",
    "\n",
    "x = Fraction(3, 5)\n",
    "print(x)"
   ]
  },
  {
   "cell_type": "markdown",
   "id": "bc95b24c",
   "metadata": {},
   "source": [
    "**8. Describe a quantity that can be accurately expressed by the Decimal or Fraction classes but not by a floating-point value.**\n",
    "\n",
    "**Ans:** Floating-point values are represented in binary format and are subject to rounding errors due to the limited precision of their representation. As a result, there are some quantities that cannot be accurately expressed as floating-point values, but can be accurately expressed by the Decimal or Fraction classes.\n",
    "\n",
    "One example of such a quantity is the decimal representation of `1/3` with an arbitrary number of decimal places. When expressed as a decimal, `1/3` is an infinite repeating decimal: `0.333333....` Because floating-point values have a finite number of bits to represent numbers, they cannot accurately represent this infinite repeating decimal, and will introduce rounding errors. However, both the Decimal and Fraction classes can accurately represent `1/3` with any desired level of precision, without introducing any rounding errors."
   ]
  },
  {
   "cell_type": "markdown",
   "id": "43e756bf",
   "metadata": {},
   "source": [
    "**Q9.Consider the following two fraction objects: Fraction(1, 2) and Fraction(1, 2). (5, 10). Is the internal state of these two objects the same? Why do you think that is?**\n",
    "    \n",
    "**Ans:** Yes, the internal state of the `Fraction(1, 2)` and `Fraction(5, 10)` objects is the same. This is because both fractions represent the same rational number, which is `1/2`."
   ]
  },
  {
   "cell_type": "code",
   "execution_count": 26,
   "id": "d0dfa32a",
   "metadata": {},
   "outputs": [
    {
     "name": "stdout",
     "output_type": "stream",
     "text": [
      "True\n"
     ]
    }
   ],
   "source": [
    "from fractions import Fraction\n",
    "\n",
    "x = Fraction(1, 2)\n",
    "y = Fraction(5, 10)\n",
    "\n",
    "print(x == y)"
   ]
  },
  {
   "cell_type": "markdown",
   "id": "003119b3",
   "metadata": {},
   "source": [
    "**Q10. How do the Fraction class and the integer type (int) relate to each other? Containment or inheritance?**\n",
    "\n",
    "**Ans:** The Fraction class and the int type in Python are related to each other through containment.\n",
    "\n",
    "The Fraction class provides exact rational arithmetic, which allows for precise representation of quantities that can be expressed as a ratio of two integers. As such, a Fraction object can contain an int object as either its numerator or denominator, since an int object is a valid input for the constructor of the Fraction class."
   ]
  },
  {
   "cell_type": "code",
   "execution_count": null,
   "id": "cdde5c7a",
   "metadata": {},
   "outputs": [],
   "source": []
  }
 ],
 "metadata": {
  "kernelspec": {
   "display_name": "Python 3 (ipykernel)",
   "language": "python",
   "name": "python3"
  },
  "language_info": {
   "codemirror_mode": {
    "name": "ipython",
    "version": 3
   },
   "file_extension": ".py",
   "mimetype": "text/x-python",
   "name": "python",
   "nbconvert_exporter": "python",
   "pygments_lexer": "ipython3",
   "version": "3.10.9"
  }
 },
 "nbformat": 4,
 "nbformat_minor": 5
}
