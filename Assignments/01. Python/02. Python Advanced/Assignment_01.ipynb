{
 "cells": [
  {
   "cell_type": "markdown",
   "id": "0f039fe2",
   "metadata": {},
   "source": [
    "**Q1. What is the purpose of Python's OOP?**\n",
    "\n",
    "**Ans:** The purpose of OOP is,\n",
    "- To organize code into classes and objects to make it reusable and manageable.\n",
    "- To enable the encapsulation of data and methods\n",
    "- To build relations between objects via inheritance and polymorphism. \n",
    "- To enable creation of abstract classes and interfaces\n",
    "\n",
    "These ideas assist to structure code and make it more manageable for bigger projects."
   ]
  },
  {
   "cell_type": "markdown",
   "id": "fc7ba980",
   "metadata": {},
   "source": [
    "**Q2. Where does an inheritance search look for an attribute?**\n",
    "\n",
    "**Ans:** The interpreter first checks the object's class for the attribute. If not found then it checks the parent classes, in the sequence provided by the inheritance hierarchy.\n",
    "\n",
    "The interpreter will throw an AttributeError if the attribute is not present in any of the parent classes."
   ]
  },
  {
   "cell_type": "markdown",
   "id": "355ff4ae",
   "metadata": {},
   "source": [
    "**Q3. How do you distinguish between a class object and an instance object?**\n",
    "\n",
    "**Ans:**\n",
    "- The built-in `type()` can be used to distinguish between a class object and an instance object. An instance object has the type of `\"class '__main .MyClass'\"` where `MyClass` is the name of the class, whereas a class object has the type of `\"class 'type'\"`\n",
    "- Checking the object's `__class__` property is another method to tell them apart; instance objects will return class `'__main .MyClass'>` and class objects will return class `'type'>`, where `MyClass` is the name of the class."
   ]
  },
  {
   "cell_type": "markdown",
   "id": "5fd6e50b",
   "metadata": {},
   "source": [
    "**Q4. What makes the first argument in a class’s method function special?**\n",
    "\n",
    "**Ans:** The first parameter to a class method function, commonly named `self`, is a reference to the instance of the class that called the method. It is automatically supplied as the first parameter when the method is called on an instance and enables the method to access and alter the instance's state and properties. It is only a convention and not a keyword."
   ]
  },
  {
   "cell_type": "markdown",
   "id": "54879220",
   "metadata": {},
   "source": [
    "**Q5. What is the purpose of the `__init__` method?**\n",
    "\n",
    "**Ans:** `__init__` serves the following functions.\n",
    "\n",
    "- It is automatically invoked whenever a class instance is generated.\n",
    "- It is used to initialize an object's attributes.\n",
    "- It is also used to set up any resources or connections that the instance would require to function properly.\n",
    "- It does not return any value."
   ]
  },
  {
   "cell_type": "markdown",
   "id": "85f87a9f",
   "metadata": {},
   "source": [
    "**Q6. What is the process for creating a class instance?**\n",
    "\n",
    "**Ans:** Python allows you to call a class just like a function and then assign the outcome to a variable to create an instance of the class.See the code snippet below.\n",
    "\n",
    "```python\n",
    "class MyClass:\n",
    "    pass\n",
    "\n",
    "x = MyClass() # x is an instance of MyClass\n",
    "```"
   ]
  },
  {
   "cell_type": "markdown",
   "id": "b92e00f6",
   "metadata": {},
   "source": [
    "**Q7. What is the process for creating a class?**\n",
    "\n",
    "**Ans:** To create a class in Python, you use the class keyword followed by the name of the class and a colon. Inside the class definition, you can define the properties and methods of the class. The class definition should be indented under the class keyword. For example:\n",
    "\n",
    "```python\n",
    "class MyClass:\n",
    "    pass\n",
    "```"
   ]
  },
  {
   "cell_type": "markdown",
   "id": "1565cf98",
   "metadata": {},
   "source": [
    "**Q8. How would you define the superclasses of a class?**\n",
    "\n",
    "**Ans:** In Python, you can define the superclasses of a class by listing them in parentheses after the class name when defining the class. For example:\n",
    "\n",
    "```python\n",
    "class MySubClass(MySuperClass):\n",
    "    pass\n",
    "```"
   ]
  }
 ],
 "metadata": {
  "kernelspec": {
   "display_name": "Python 3 (ipykernel)",
   "language": "python",
   "name": "python3"
  },
  "language_info": {
   "codemirror_mode": {
    "name": "ipython",
    "version": 3
   },
   "file_extension": ".py",
   "mimetype": "text/x-python",
   "name": "python",
   "nbconvert_exporter": "python",
   "pygments_lexer": "ipython3",
   "version": "3.9.7"
  }
 },
 "nbformat": 4,
 "nbformat_minor": 5
}
