{
 "cells": [
  {
   "cell_type": "markdown",
   "id": "75f5af26",
   "metadata": {},
   "source": [
    "**Q1. Can you create a programme or function that employs both positive and negative indexing? Is there any repercussion if you do so?**\n",
    "\n",
    "**Ans:** Yes, it is possible to create a program or function that employs both positive and negative indexing in Python.\n",
    "\n",
    "Positive indexing refers to the use of positive integers to access elements from the beginning of a sequence, while negative indexing refers to the use of negative integers to access elements from the end of a sequence.\n",
    "\n",
    "There are no reprecussion for using both positive and negative indexing but it could lead into potentially confusion and inconsistance use of indexing hence it should be avoided whenever possible.\n",
    "\n",
    "Here is  the code snippet which employees both negative and positive indexing:"
   ]
  },
  {
   "cell_type": "code",
   "execution_count": 1,
   "id": "896e324f",
   "metadata": {},
   "outputs": [
    {
     "name": "stdout",
     "output_type": "stream",
     "text": [
      "Using positive index: 5\n",
      "Using negative index: 6\n"
     ]
    }
   ],
   "source": [
    "lst = [1,2,3,4,5,6,7,8,9]\n",
    "\n",
    "def custom_indexing(lst, index):\n",
    "    return lst[index]\n",
    "\n",
    "#this can be used for positive index like:\n",
    "print(f\"Using positive index: {custom_indexing(lst, 4)}\")\n",
    "\n",
    "#and for negative index like:\n",
    "print(f\"Using negative index: {custom_indexing(lst, -4)}\")"
   ]
  },
  {
   "cell_type": "markdown",
   "id": "d80cb70b",
   "metadata": {},
   "source": [
    "**Q2. What is the most effective way of starting with 1,000 elements in a Python list? Assume that all elements should be set to the same value.**\n",
    "\n",
    "**Ans:** The most effective way to create a list with 1,000 elements of the same value in Python is to use a list comprehension with the desired value and the desired length. See the code snippet below:\n",
    "\n",
    "```python\n",
    "my_list = [0] * 1000\n",
    "```"
   ]
  },
  {
   "cell_type": "markdown",
   "id": "1b2d9dfd",
   "metadata": {},
   "source": [
    "**Q3. How do you slice a list to get any other part while missing the rest? (For example, suppose you want to make a new list with the elements first, third, fifth, seventh, and so on.)**\n",
    "\n",
    "**Ans:**"
   ]
  },
  {
   "cell_type": "code",
   "execution_count": 2,
   "id": "ae5dc8c8",
   "metadata": {},
   "outputs": [
    {
     "data": {
      "text/plain": [
       "[0, 2, 4, 6, 8, 10]"
      ]
     },
     "execution_count": 2,
     "metadata": {},
     "output_type": "execute_result"
    }
   ],
   "source": [
    "lst = [0,1,2,3,4,5,6,7,8,9,10]\n",
    "new_lst = lst[::2] #start at zeroth index(first element) and step by 2\n",
    "new_lst"
   ]
  },
  {
   "cell_type": "markdown",
   "id": "caf7a8af",
   "metadata": {},
   "source": [
    "**Q4. Explain the distinctions between indexing and slicing.**\n",
    "\n",
    "**Ans:** Indexing refers to **accessing a specific character of a string by its position, or index, within the string**. Slicing refers to **accessing a range of charcters from a string**"
   ]
  },
  {
   "cell_type": "code",
   "execution_count": 3,
   "id": "1a433df3",
   "metadata": {},
   "outputs": [
    {
     "name": "stdout",
     "output_type": "stream",
     "text": [
      "First char = H\n",
      "Last char = !\n",
      "First four char = Hell\n",
      "Last four char = rld!\n"
     ]
    }
   ],
   "source": [
    "my_string = \"Hello, World!\"\n",
    "\n",
    "# indexing\n",
    "print(f\"First char = {my_string[0]}\")\n",
    "print(f\"Last char = {my_string[-1]}\")\n",
    "\n",
    "# slicing\n",
    "print(f\"First four char = {my_string[:4]}\")\n",
    "print(f\"Last four char = {my_string[-4:]}\")"
   ]
  },
  {
   "cell_type": "markdown",
   "id": "0ee74b2c",
   "metadata": {},
   "source": [
    "**Q5. What happens if one of the slicing expression's indexes is out of range?**\n",
    "\n",
    "**Ans:** If start index is out of range, the slicing will result in empty string if positive indexing is used. It will return whole string in case of negative index.\n",
    "\n",
    "If step value is out of range than it will return first charcter of string in case pf positive step value and last charcter if negative step is provided.\n",
    "\n",
    "See below examples:"
   ]
  },
  {
   "cell_type": "code",
   "execution_count": 4,
   "id": "ac936591",
   "metadata": {},
   "outputs": [
    {
     "data": {
      "text/plain": [
       "''"
      ]
     },
     "execution_count": 4,
     "metadata": {},
     "output_type": "execute_result"
    }
   ],
   "source": [
    "my_string = \"Hello\"\n",
    "my_string[6:] "
   ]
  },
  {
   "cell_type": "code",
   "execution_count": 5,
   "id": "e9edaf3f",
   "metadata": {},
   "outputs": [
    {
     "data": {
      "text/plain": [
       "'Hello'"
      ]
     },
     "execution_count": 5,
     "metadata": {},
     "output_type": "execute_result"
    }
   ],
   "source": [
    "my_string[-9:]"
   ]
  },
  {
   "cell_type": "code",
   "execution_count": 6,
   "id": "f9ed964d",
   "metadata": {},
   "outputs": [
    {
     "data": {
      "text/plain": [
       "'H'"
      ]
     },
     "execution_count": 6,
     "metadata": {},
     "output_type": "execute_result"
    }
   ],
   "source": [
    "my_string[::6]"
   ]
  },
  {
   "cell_type": "code",
   "execution_count": 7,
   "id": "1e63df66",
   "metadata": {},
   "outputs": [
    {
     "data": {
      "text/plain": [
       "'o'"
      ]
     },
     "execution_count": 7,
     "metadata": {},
     "output_type": "execute_result"
    }
   ],
   "source": [
    "my_string[::-6]"
   ]
  },
  {
   "cell_type": "markdown",
   "id": "6c354c3a",
   "metadata": {},
   "source": [
    "**Q6. If you pass a list to a function, and if you want the function to be able to change the values of the list—so that the list is different after the function returns—what action should you avoid?**\n",
    "\n",
    "**Ans:** In Python, when you pass a list to a function, the function receives a reference to the list object, not a copy of the list. This means that any changes made to the list inside the function will affect the original list object outside the function as well.\n",
    "\n",
    "However, if you create a new list object with the same name inside the function, you will be replacing the reference to the original list object with a reference to the new list object. Any changes made to the new list object will not affect the original list object, as they are now two separate objects."
   ]
  },
  {
   "cell_type": "code",
   "execution_count": 8,
   "id": "1e585074",
   "metadata": {},
   "outputs": [
    {
     "name": "stdout",
     "output_type": "stream",
     "text": [
      "Before change = [1, 2, 3]\n",
      "After change = [1, 2, 3, 2, 10]\n"
     ]
    }
   ],
   "source": [
    "def update_lst(lst):\n",
    "    lst.append(2)\n",
    "    lst.append(10)\n",
    "\n",
    "my_lst = [1,2,3]\n",
    "print(f\"Before change = {my_lst}\")\n",
    "update_lst(my_lst)\n",
    "print(f\"After change = {my_lst}\")\n",
    "    "
   ]
  },
  {
   "cell_type": "code",
   "execution_count": 9,
   "id": "25934e14",
   "metadata": {},
   "outputs": [
    {
     "name": "stdout",
     "output_type": "stream",
     "text": [
      "Before change = [1, 2, 3]\n",
      "After change = [1, 2, 3]\n"
     ]
    }
   ],
   "source": [
    "def update_lst(lst):\n",
    "    my_list = [4,5,6]\n",
    "my_lst = [1,2,3]\n",
    "print(f\"Before change = {my_lst}\")\n",
    "update_lst(my_lst)\n",
    "print(f\"After change = {my_lst}\")"
   ]
  },
  {
   "cell_type": "markdown",
   "id": "22bbfcc2",
   "metadata": {},
   "source": [
    "**Q7. What is the concept of an unbalanced matrix?**\n",
    "\n",
    "**Ans:** An unbalanced matrix is a matrix that has a different number of elements in each row. Unbalanced matrices can be problematic because they do not have a fixed shape, which makes it difficult to perform certain operations such as matrix multiplication. In addition, some matrix operations may produce unexpected results when working with unbalanced matrices.\n",
    "\n",
    "**Q8. Why is it necessary to use either list comprehension or a loop to create arbitrarily large matrices?**\n",
    "\n",
    "**Ans:**  It is necessary to use either list comprehension or a loop to create arbitrarily large matrices because the size of the matrix needs to be specified beforehand, and this requires allocating memory for all the elements in the matrix. If the size of the matrix is not known beforehand, then it is not possible to allocate the required amount of memory in advance.\n",
    "\n",
    "List comprehension is a concise and efficient way to create lists and matrices with a specified number of elements. It allows you to define the elements of the matrix in a compact and readable way, without the need for a separate loop. For example, you can create a matrix of size n x m with all elements set to 0 using list comprehension as follows:\n",
    "\n",
    "```python\n",
    "matrix = [[0 for j in range(m)] for i in range(n)]\n",
    "```\n",
    "\n",
    "Similarly, you can use a loop to create a matrix of arbitrary size by iterating over the rows and columns and assigning values to each element. For example:\n",
    "\n",
    "```python\n",
    "matrix = []\n",
    "for i in range(n):\n",
    "    row = []\n",
    "    for j in range(m):\n",
    "        row.append(0)\n",
    "    matrix.append(row)\n",
    "```\n",
    "\n",
    "This method is more verbose than list comprehension, but it provides more control over the matrix creation process, which can be useful in certain situations. Overall, list comprehension and loops are both valid approaches for creating arbitrarily large matrices in Python."
   ]
  }
 ],
 "metadata": {
  "kernelspec": {
   "display_name": "Python 3 (ipykernel)",
   "language": "python",
   "name": "python3"
  },
  "language_info": {
   "codemirror_mode": {
    "name": "ipython",
    "version": 3
   },
   "file_extension": ".py",
   "mimetype": "text/x-python",
   "name": "python",
   "nbconvert_exporter": "python",
   "pygments_lexer": "ipython3",
   "version": "3.10.9"
  }
 },
 "nbformat": 4,
 "nbformat_minor": 5
}
