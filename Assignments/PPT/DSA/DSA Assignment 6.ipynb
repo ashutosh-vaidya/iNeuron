{
 "cells": [
  {
   "cell_type": "markdown",
   "id": "56e58192",
   "metadata": {},
   "source": [
    "💡 **Question 1**\n",
    "\n",
    "A permutation perm of n + 1 integers of all the integers in the range [0, n] can be represented as a string s of length n where:\n",
    "\n",
    "- s[i] == 'I' if perm[i] < perm[i + 1], and\n",
    "- s[i] == 'D' if perm[i] > perm[i + 1].\n",
    "\n",
    "Given a string s, reconstruct the permutation perm and return it. If there are multiple valid permutations perm, return **any of them**.\n",
    "\n",
    "**Example 1:**\n",
    "\n",
    "**Input:** s = \"IDID\"\n",
    "\n",
    "**Output:**\n",
    "\n",
    "[0,4,1,3,2]\n",
    "\n",
    "**Approach: Two Pointer**\n",
    "- Create an array perm of size n + 1 to store the reconstructed permutation.\n",
    "- Initialize start as 0 and end as n (the maximum value in the range).\n",
    "- Iterate over each character s[i] in the string s.\n",
    "- If s[i] is 'I', set perm[i] as start and increment start by 1.\n",
    "- If s[i] is 'D', set perm[i] as end and decrement end by 1.\n",
    "- Set perm[n] as start to fill in the last element of the permutation.\n",
    "- Return the reconstructed permutation perm."
   ]
  },
  {
   "cell_type": "code",
   "execution_count": 1,
   "id": "66667f45",
   "metadata": {},
   "outputs": [],
   "source": [
    "def reconstructed_permutation(s):\n",
    "    n = len(s)\n",
    "    perm = [0] * (n + 1) #to store reconstructed permutation\n",
    "    start = 0\n",
    "    end = n\n",
    "    for i in range(n):\n",
    "        if s[i] == \"I\":\n",
    "            perm[i] = start\n",
    "            start += 1\n",
    "        else:\n",
    "            perm[i] = end\n",
    "            end -= 1\n",
    "    perm[n] = start\n",
    "    return perm"
   ]
  },
  {
   "cell_type": "code",
   "execution_count": 2,
   "id": "d76e0b9a",
   "metadata": {},
   "outputs": [
    {
     "data": {
      "text/plain": [
       "[0, 4, 1, 3, 2]"
      ]
     },
     "execution_count": 2,
     "metadata": {},
     "output_type": "execute_result"
    }
   ],
   "source": [
    "s = \"IDID\"\n",
    "reconstructed_permutation(s)"
   ]
  },
  {
   "cell_type": "markdown",
   "id": "f04e912b",
   "metadata": {},
   "source": [
    "**TC: O(N) , SC: O(N)** where N is length of string s"
   ]
  },
  {
   "cell_type": "markdown",
   "id": "ce5d11a4",
   "metadata": {},
   "source": [
    "💡 **Question 2**\n",
    "\n",
    "You are given an m x n integer matrix matrix with the following two properties:\n",
    "\n",
    "- Each row is sorted in non-decreasing order.\n",
    "- The first integer of each row is greater than the last integer of the previous row.\n",
    "\n",
    "Given an integer target, return true *if* target *is in* matrix *or* false *otherwise*.\n",
    "\n",
    "You must write a solution in O(log(m * n)) time complexity.\n",
    "\n",
    "**Example 1:**\n",
    "    \n",
    "**Input:** matrix = [[1,3,5,7],[10,11,16,20],[23,30,34,60]], target = 3\n",
    "\n",
    "**Output:** true\n",
    "\n",
    "**Approach: Two Pointer with binary search**"
   ]
  },
  {
   "cell_type": "code",
   "execution_count": 3,
   "id": "4b1bbb47",
   "metadata": {},
   "outputs": [],
   "source": [
    "def find_target(matrix, target):    \n",
    "    rows = len(matrix)\n",
    "    cols = len(matrix[0])\n",
    "    \n",
    "    start = 0\n",
    "    end = rows * cols - 1 #total number of ele\n",
    "    \n",
    "    while start <= end:\n",
    "        mid = (start + end) // 2\n",
    "        mid_val = matrix[mid // cols][mid % cols]\n",
    "        \n",
    "        if mid_val == target:\n",
    "            return True\n",
    "        elif mid_val < target:\n",
    "            start = mid + 1\n",
    "        else:\n",
    "            end = mid - 1\n",
    "    \n",
    "    return False "
   ]
  },
  {
   "cell_type": "code",
   "execution_count": 4,
   "id": "984f487e",
   "metadata": {},
   "outputs": [
    {
     "data": {
      "text/plain": [
       "True"
      ]
     },
     "execution_count": 4,
     "metadata": {},
     "output_type": "execute_result"
    }
   ],
   "source": [
    "matrix = [[1,3,5,7],[10,11,16,20],[23,30,34,60]]\n",
    "target = 3\n",
    "find_target(matrix, target)"
   ]
  },
  {
   "cell_type": "code",
   "execution_count": 5,
   "id": "88c5e526",
   "metadata": {},
   "outputs": [
    {
     "data": {
      "text/plain": [
       "False"
      ]
     },
     "execution_count": 5,
     "metadata": {},
     "output_type": "execute_result"
    }
   ],
   "source": [
    "find_target(matrix, 22)"
   ]
  },
  {
   "cell_type": "markdown",
   "id": "160be70a",
   "metadata": {},
   "source": [
    "**TC: O(log(m * n)) , SC: O1)**"
   ]
  },
  {
   "attachments": {},
   "cell_type": "markdown",
   "id": "abd9c150",
   "metadata": {},
   "source": [
    "💡 **Question 3**\n",
    "\n",
    "Given an array of integers arr, return *true if and only if it is a valid mountain array*.\n",
    "\n",
    "Recall that arr is a mountain array if and only if:\n",
    "\n",
    "- arr.length >= 3\n",
    "- There exists some i with 0 < i < arr.length - 1 such that:\n",
    "    - arr[0] < arr[1] < ... < arr[i - 1] < arr[i]\n",
    "    - arr[i] > arr[i + 1] > ... > arr[arr.length - 1]\n",
    "    \n",
    "**Example 1:**\n",
    "\n",
    "**Input:** arr = [2,1]\n",
    "\n",
    "**Output:** false\n",
    "\n",
    "**Approach:**\n",
    "1. Check if length of array is less than 3, if true then arr is not valid mountain array so return False\n",
    "2. intialize start with 0 and iterate thorugh array while current element is less than next\n",
    "3. if start is still 0 or euqal to n - 1 then it is not a valid mountain array so return False\n",
    "4. now continue iterating while current element is greater than next element\n",
    "5. if start has reach the end point then its valid mountain array else invalid"
   ]
  },
  {
   "cell_type": "code",
   "execution_count": 6,
   "id": "9a646684",
   "metadata": {},
   "outputs": [],
   "source": [
    "def is_Valid_Mountain_Array(arr):\n",
    "    n = len(arr)\n",
    "    #if arr length is less than 3 return false\n",
    "    if n < 3:\n",
    "        return False\n",
    "    \n",
    "    start = 0\n",
    "    end = n - 1\n",
    "    \n",
    "    #check for increasing sequence\n",
    "    while start < end and arr[start] < arr[start + 1]:\n",
    "        start += 1\n",
    "        \n",
    "    #the peak of mountain should not be first or last element\n",
    "    if start == 0 or start == end:\n",
    "        return False\n",
    "    \n",
    "    #check for decreasing sequence\n",
    "    while start < end and arr[start] > arr[start + 1]:\n",
    "        start += 1\n",
    "    \n",
    "    return start == end"
   ]
  },
  {
   "cell_type": "code",
   "execution_count": 7,
   "id": "02b959bb",
   "metadata": {},
   "outputs": [
    {
     "data": {
      "text/plain": [
       "False"
      ]
     },
     "execution_count": 7,
     "metadata": {},
     "output_type": "execute_result"
    }
   ],
   "source": [
    "arr = [2,1]\n",
    "is_Valid_Mountain_Array(arr)"
   ]
  },
  {
   "cell_type": "code",
   "execution_count": 8,
   "id": "5d35fe02",
   "metadata": {},
   "outputs": [
    {
     "data": {
      "text/plain": [
       "True"
      ]
     },
     "execution_count": 8,
     "metadata": {},
     "output_type": "execute_result"
    }
   ],
   "source": [
    "arr = [1,2,3,8,6,5]\n",
    "is_Valid_Mountain_Array(arr)"
   ]
  },
  {
   "cell_type": "markdown",
   "id": "31855949",
   "metadata": {},
   "source": [
    "**TC: O(N), SC: O(1)**"
   ]
  },
  {
   "cell_type": "markdown",
   "id": "fc56d04e",
   "metadata": {},
   "source": [
    "💡 **Question 4**\n",
    "\n",
    "Given a binary array nums, return *the maximum length of a contiguous subarray with an equal number of* 0 *and* 1.\n",
    "\n",
    "**Example 1:**\n",
    "\n",
    "**Input:** nums = [0,1]\n",
    "\n",
    "**Output:** 2\n",
    "\n",
    "**Explanation:**\n",
    "\n",
    "[0, 1] is the longest contiguous subarray with an equal number of 0 and 1.\n",
    "\n",
    "**Approach: Running Sum**\n"
   ]
  },
  {
   "cell_type": "code",
   "execution_count": 9,
   "id": "a18caecd",
   "metadata": {},
   "outputs": [],
   "source": [
    "def find_max_len(nums):\n",
    "    max_len = 0\n",
    "    count = 0\n",
    "    count_map = {0: -1}\n",
    "    \n",
    "    for i in range(len(nums)):\n",
    "        count += 1 if nums[i] == 1 else -1\n",
    "        \n",
    "        if count in count_map:\n",
    "            max_len = max(max_len, i - count_map[count])\n",
    "        else:\n",
    "            count_map[count] = i\n",
    "        \n",
    "    return max_len"
   ]
  },
  {
   "cell_type": "code",
   "execution_count": 10,
   "id": "e34b06c7",
   "metadata": {},
   "outputs": [
    {
     "data": {
      "text/plain": [
       "2"
      ]
     },
     "execution_count": 10,
     "metadata": {},
     "output_type": "execute_result"
    }
   ],
   "source": [
    "find_max_len([0,1])"
   ]
  },
  {
   "cell_type": "code",
   "execution_count": 11,
   "id": "2fa0181d",
   "metadata": {},
   "outputs": [
    {
     "data": {
      "text/plain": [
       "6"
      ]
     },
     "execution_count": 11,
     "metadata": {},
     "output_type": "execute_result"
    }
   ],
   "source": [
    "find_max_len([0,0,1,1,0,0,1])"
   ]
  },
  {
   "cell_type": "markdown",
   "id": "9142b9f0",
   "metadata": {},
   "source": [
    "**TC: O(N), SC: O(N)**"
   ]
  },
  {
   "cell_type": "markdown",
   "id": "dfdea1f4",
   "metadata": {},
   "source": [
    "💡 **Question 5**\n",
    "\n",
    "The **product sum** of two equal-length arrays a and b is equal to the sum of a[i] * b[i] for all 0 <= i < a.length (**0-indexed**).\n",
    "\n",
    "- For example, if a = [1,2,3,4] and b = [5,2,3,1], the **product sum** would be 1 * 5 + 2 * 2 + 3 * 3 + 4 * 1 = 22.\n",
    "\n",
    "Given two arrays nums1 and nums2 of length n, return *the **minimum product sum** if you are allowed to **rearrange** the **order** of the elements in* nums1.\n",
    "\n",
    "**Example 1:**\n",
    "\n",
    "**Input:** nums1 = [5,3,4,2], nums2 = [4,2,2,5]\n",
    "\n",
    "**Output:** 40\n",
    "\n",
    "**Explanation:**\n",
    "\n",
    "We can rearrange nums1 to become [3,5,4,2]. The product sum of [3,5,4,2] and [4,2,2,5] is 3 * 4 + 5 * 2 + 4 * 2 + 2 * 5 = 40."
   ]
  },
  {
   "cell_type": "code",
   "execution_count": 12,
   "id": "7caf2c32",
   "metadata": {},
   "outputs": [],
   "source": [
    "def min_prod_sum(num1, num2):\n",
    "    num1.sort()\n",
    "    num2.sort(reverse=True)\n",
    "\n",
    "    product_sum = sum(num1[i] * num2[i] for i in range(len(num1)))\n",
    "    return product_sum"
   ]
  },
  {
   "cell_type": "code",
   "execution_count": 13,
   "id": "873a2393",
   "metadata": {},
   "outputs": [
    {
     "data": {
      "text/plain": [
       "40"
      ]
     },
     "execution_count": 13,
     "metadata": {},
     "output_type": "execute_result"
    }
   ],
   "source": [
    "num1 = [5,3,4,2]\n",
    "num2 = [4,2,2,5]\n",
    "min_prod_sum(num1, num2)"
   ]
  },
  {
   "cell_type": "markdown",
   "id": "619aecf8",
   "metadata": {},
   "source": [
    "**TC: O(NLogN) SC: O(1)**"
   ]
  },
  {
   "cell_type": "markdown",
   "id": "98f5e2eb",
   "metadata": {},
   "source": [
    "💡 **Question 6**\n",
    "\n",
    "An integer array original is transformed into a **doubled** array changed by appending **twice the value** of every element in original, and then randomly **shuffling** the resulting array.\n",
    "\n",
    "Given an array changed, return original *if* changed *is a **doubled** array. If* changed *is not a **doubled** array, return an empty array. The elements in* original *may be returned in **any** order*.\n",
    "\n",
    "**Example 1:**\n",
    "\n",
    "**Input:** changed = [1,3,4,2,6,8]\n",
    "\n",
    "**Output:** [1,3,4]\n",
    "\n",
    "**Explanation:** One possible original array could be [1,3,4]:\n",
    "\n",
    "- Twice the value of 1 is 1 * 2 = 2.\n",
    "- Twice the value of 3 is 3 * 2 = 6.\n",
    "- Twice the value of 4 is 4 * 2 = 8.\n",
    "\n",
    "Other original arrays could be [4,3,1] or [3,1,4]."
   ]
  },
  {
   "cell_type": "code",
   "execution_count": 14,
   "id": "f4c192cb",
   "metadata": {},
   "outputs": [],
   "source": [
    "def findOriginalArray(changed):\n",
    "    if len(changed) % 2 != 0:\n",
    "        return []\n",
    "\n",
    "    freq = {}\n",
    "    for num in changed:\n",
    "        freq[num] = freq.get(num, 0) + 1\n",
    "\n",
    "    original = []\n",
    "    for num in sorted(changed):\n",
    "        if freq[num] > 0 and freq.get(num * 2, 0) > 0:\n",
    "            original.append(num)\n",
    "            freq[num] -= 1\n",
    "            freq[num * 2] -= 1\n",
    "\n",
    "    if sum(freq.values()) > 0:\n",
    "        return []\n",
    "\n",
    "    return original"
   ]
  },
  {
   "cell_type": "code",
   "execution_count": 15,
   "id": "b5e498ab",
   "metadata": {},
   "outputs": [
    {
     "name": "stdout",
     "output_type": "stream",
     "text": [
      "[1, 3, 4]\n"
     ]
    }
   ],
   "source": [
    "changed = [1,3,4,2,6,8]\n",
    "print(findOriginalArray(changed))"
   ]
  },
  {
   "cell_type": "markdown",
   "id": "0e2a06ff",
   "metadata": {},
   "source": [
    "**TC: O(NLogN) SC: O(1)**"
   ]
  },
  {
   "cell_type": "markdown",
   "id": "31d329ac",
   "metadata": {},
   "source": [
    "**Question 7**\n",
    "\n",
    "Given a positive integer n, generate an n x n matrix filled with elements from 1 to n2 in spiral order.\n",
    "\n",
    "**Example 1:**\n",
    "\n",
    "**Input:** n = 3\n",
    "\n",
    "**Output:** [[1,2,3],[8,9,4],[7,6,5]]💡 "
   ]
  },
  {
   "cell_type": "code",
   "execution_count": 16,
   "id": "6de9a73c",
   "metadata": {},
   "outputs": [],
   "source": [
    "def generateMatrix(n):\n",
    "    matrix = [[0] * n for _ in range(n)]\n",
    "    num = 1\n",
    "    top = 0\n",
    "    bottom = n - 1\n",
    "    left = 0\n",
    "    right = n - 1\n",
    "\n",
    "    while num <= n * n:\n",
    "        # Traverse top row from left to right\n",
    "        for i in range(left, right + 1):\n",
    "            matrix[top][i] = num\n",
    "            num += 1\n",
    "        top += 1\n",
    "\n",
    "        # Traverse right column from top to bottom\n",
    "        for i in range(top, bottom + 1):\n",
    "            matrix[i][right] = num\n",
    "            num += 1\n",
    "        right -= 1\n",
    "\n",
    "        # Traverse bottom row from right to left\n",
    "        for i in range(right, left - 1, -1):\n",
    "            matrix[bottom][i] = num\n",
    "            num += 1\n",
    "        bottom -= 1\n",
    "\n",
    "        # Traverse left column from bottom to top\n",
    "        for i in range(bottom, top - 1, -1):\n",
    "            matrix[i][left] = num\n",
    "            num += 1\n",
    "        left += 1\n",
    "\n",
    "    return matrix"
   ]
  },
  {
   "cell_type": "code",
   "execution_count": 17,
   "id": "4f32a11c",
   "metadata": {},
   "outputs": [
    {
     "data": {
      "text/plain": [
       "[[1, 2, 3], [8, 9, 4], [7, 6, 5]]"
      ]
     },
     "execution_count": 17,
     "metadata": {},
     "output_type": "execute_result"
    }
   ],
   "source": [
    "generateMatrix(3)"
   ]
  },
  {
   "cell_type": "code",
   "execution_count": 18,
   "id": "a9421ab4",
   "metadata": {},
   "outputs": [
    {
     "data": {
      "text/plain": [
       "[[1, 2, 3, 4], [12, 13, 14, 5], [11, 16, 15, 6], [10, 9, 8, 7]]"
      ]
     },
     "execution_count": 18,
     "metadata": {},
     "output_type": "execute_result"
    }
   ],
   "source": [
    "generateMatrix(4)"
   ]
  },
  {
   "cell_type": "markdown",
   "id": "5e250306",
   "metadata": {},
   "source": [
    "💡 **Question 8**\n",
    "\n",
    "Given two [sparse matrices](https://en.wikipedia.org/wiki/Sparse_matrix) mat1 of size m x k and mat2 of size k x n, return the result of mat1 x mat2. You may assume that multiplication is always possible.\n",
    "\n",
    "**Example 1:**\n",
    "\n",
    "**Input:** mat1 = [[1,0,0],[-1,0,3]], mat2 = [[7,0,0],[0,0,0],[0,0,1]]\n",
    "\n",
    "**Output:**\n",
    "\n",
    "[[7,0,0],[-7,0,3]]"
   ]
  },
  {
   "cell_type": "code",
   "execution_count": 19,
   "id": "ba6cc33b",
   "metadata": {},
   "outputs": [],
   "source": [
    "def multiply(mat1, mat2):\n",
    "    m, k = len(mat1), len(mat1[0])\n",
    "    k, n = len(mat2), len(mat2[0])\n",
    "\n",
    "    # Initialize the result matrix with zeros\n",
    "    result = [[0] * n for _ in range(m)]\n",
    "\n",
    "    # Perform matrix multiplication\n",
    "    for i in range(m):\n",
    "        for j in range(n):\n",
    "            for p in range(k):\n",
    "                result[i][j] += mat1[i][p] * mat2[p][j]\n",
    "\n",
    "    return result"
   ]
  },
  {
   "cell_type": "code",
   "execution_count": 20,
   "id": "1de42f15",
   "metadata": {},
   "outputs": [
    {
     "data": {
      "text/plain": [
       "[[7, 0, 0], [-7, 0, 3]]"
      ]
     },
     "execution_count": 20,
     "metadata": {},
     "output_type": "execute_result"
    }
   ],
   "source": [
    "mat1 = [[1,0,0],[-1,0,3]]\n",
    "mat2 = [[7,0,0],[0,0,0],[0,0,1]]\n",
    "multiply(mat1, mat2)"
   ]
  },
  {
   "cell_type": "code",
   "execution_count": null,
   "id": "1655aba0",
   "metadata": {},
   "outputs": [],
   "source": []
  }
 ],
 "metadata": {
  "kernelspec": {
   "display_name": "Python 3 (ipykernel)",
   "language": "python",
   "name": "python3"
  },
  "language_info": {
   "codemirror_mode": {
    "name": "ipython",
    "version": 3
   },
   "file_extension": ".py",
   "mimetype": "text/x-python",
   "name": "python",
   "nbconvert_exporter": "python",
   "pygments_lexer": "ipython3",
   "version": "3.11.3"
  }
 },
 "nbformat": 4,
 "nbformat_minor": 5
}
