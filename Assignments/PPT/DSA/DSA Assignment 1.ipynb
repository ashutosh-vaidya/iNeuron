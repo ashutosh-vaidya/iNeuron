{
 "cells": [
  {
   "cell_type": "markdown",
   "id": "9622bac8",
   "metadata": {},
   "source": [
    "💡 **Q1.** Given an array of integers nums and an integer target, return indices of the two numbers such that they add up to target.\n",
    "\n",
    "You may assume that each input would have exactly one solution, and you may not use the same element twice.\n",
    "\n",
    "You can return the answer in any order.\n",
    "\n",
    "**Example:**\n",
    "Input: nums = [2,7,11,15], target = 9\n",
    "Output0 [0,1]\n",
    "\n",
    "**Explanation:** Because nums[0] + nums[1] == 9, we return [0, 1]\n",
    "\n",
    "**Algorithm:** Hashmap approach\n",
    "1. Create a hashmap (dictionary) where we will store the element as a key and its index as a value\n",
    "2. Then traverse the list assign the first element to x and y will be target - x\n",
    "3. Check if each element's (x) pair (y) (target−nums[i]) exists in the hash table. \n",
    "4. IF it does not exist add index of element as a value with key as a target (y)\n",
    "4. If it does exist, we return current element's index and its pair's index."
   ]
  },
  {
   "cell_type": "code",
   "execution_count": 1,
   "id": "06472785",
   "metadata": {},
   "outputs": [],
   "source": [
    "def twoSum(nums: [], target: int) -> []:\n",
    "    pair = dict()\n",
    "    for i in range(0, len(nums)):\n",
    "        x = nums[i]\n",
    "        y = target - x\n",
    "        if x in pair:\n",
    "            return [i, pair[x]]\n",
    "        else:\n",
    "            pair[y] = i"
   ]
  },
  {
   "cell_type": "code",
   "execution_count": 2,
   "id": "9b9b430b",
   "metadata": {},
   "outputs": [
    {
     "name": "stdout",
     "output_type": "stream",
     "text": [
      "[1, 0]\n"
     ]
    }
   ],
   "source": [
    "print(twoSum([2,7,11,15], 9))"
   ]
  },
  {
   "cell_type": "code",
   "execution_count": 3,
   "id": "04eeb69e",
   "metadata": {},
   "outputs": [
    {
     "name": "stdout",
     "output_type": "stream",
     "text": [
      "[2, 1]\n"
     ]
    }
   ],
   "source": [
    "print(twoSum([3,2,4], 6))"
   ]
  },
  {
   "cell_type": "markdown",
   "id": "d3d6981f",
   "metadata": {},
   "source": [
    "**Time Complexity:**\n",
    "The code uses a dictionary to store the complement values needed to reach the target sum. It iterates through the list once, performing constant-time operations for each element. The dictionary lookups and insertions are considered average constant time on average.\n",
    "\n",
    "Therefore, the time complexity of the code is **O(n)**, where `n` is the length of the `nums` list.\n",
    "\n",
    "**Space Complexity:**\n",
    "The code uses a dictionary to store the complements, which can contain at most n-1 entries, where n is the length of the nums list. In the worst case, where all elements are unique and there is no pair that sums up to the target, the dictionary will contain n-1 entries.\n",
    "\n",
    "Thus, the space complexity of the code is **O(n)**.\n",
    "\n",
    "---"
   ]
  },
  {
   "cell_type": "markdown",
   "id": "59163efe",
   "metadata": {},
   "source": [
    "💡 **Q2.** Given an integer array nums and an integer val, remove all occurrences of val in nums in-place. The order of the elements may be changed. Then return the number of elements in nums which are not equal to val.\n",
    "\n",
    "Consider the number of elements in nums which are not equal to val be k, to get accepted, you need to do the following things:\n",
    "\n",
    "- Change the array nums such that the first k elements of nums contain the elements which are not equal to val. The remaining elements of nums are not important as well as the size of nums.\n",
    "- Return k.\n",
    "\n",
    "**Example :**\n",
    "Input: nums = [3,2,2,3], val = 3\n",
    "Output: 2, nums = [2,2,_*,_*]\n",
    "\n",
    "**Explanation:** Your function should return k = 2, with the first two elements of nums being 2. It does not matter what you leave beyond the returned k (hence they are underscores)\n",
    "\n",
    "**Algorithm:** Two pointer approach\n",
    "1. Intialize k with 0\n",
    "2. iterate over nums\n",
    "3. if the current item is not equal to value then replace the nums[k] with the current item\n",
    "4. increment k with +1\n",
    "5. repeate until the loop ends and return k"
   ]
  },
  {
   "cell_type": "code",
   "execution_count": 4,
   "id": "b0ab5ad3",
   "metadata": {},
   "outputs": [],
   "source": [
    "def removeElement(nums: [], val: int) -> int:\n",
    "    k = 0\n",
    "    for x in nums:\n",
    "        if x != val:\n",
    "            nums[k] = x\n",
    "            k += 1\n",
    "    return k"
   ]
  },
  {
   "cell_type": "code",
   "execution_count": 5,
   "id": "d9170b24",
   "metadata": {},
   "outputs": [
    {
     "name": "stdout",
     "output_type": "stream",
     "text": [
      "Output = 2, nums = [2, 2, 2, 3]\n"
     ]
    }
   ],
   "source": [
    "nums = [3,2,2,3]\n",
    "val = 3\n",
    "print(f\"Output = {removeElement(nums, val)}, nums = {nums}\")"
   ]
  },
  {
   "cell_type": "code",
   "execution_count": 6,
   "id": "3c7190ee",
   "metadata": {},
   "outputs": [
    {
     "name": "stdout",
     "output_type": "stream",
     "text": [
      "Output = 5, nums = [0, 1, 3, 0, 4, 0, 4, 2]\n"
     ]
    }
   ],
   "source": [
    "nums = [0,1,2,2,3,0,4,2]\n",
    "val = 2\n",
    "print(f\"Output = {removeElement(nums, val)}, nums = {nums}\")"
   ]
  },
  {
   "cell_type": "markdown",
   "id": "1a263e17",
   "metadata": {},
   "source": [
    "**Time Complexity:**\n",
    "The code iterates through each element in the list once and performs constant-time operations for each element. Therefore, the time complexity is **O(n)**\n",
    "\n",
    "**Space Complexity:**\n",
    "The code does not use any extra data structures that grow with the input size. It modifies the input list in-place. Therefore, the space complexity is **O(1)**, constant space.\n",
    "\n",
    "---"
   ]
  },
  {
   "cell_type": "markdown",
   "id": "3ddf08b6",
   "metadata": {},
   "source": [
    "💡 **Q3.** Given a sorted array of distinct integers and a target value, return the index if the target is found. If not, return the index where it would be if it were inserted in order.\n",
    "\n",
    "You must write an algorithm with O(log n) runtime complexity.\n",
    "\n",
    "**Example 1:**\n",
    "Input: nums = [1,3,5,6], target = 5\n",
    "\n",
    "Output: 2\n",
    "\n",
    "**Algorithm:** Using binary search\n",
    "1. assign left as a 0th index and right as last index \n",
    "2. iterate until left is less than or equal to right\n",
    "3. calculate mid index inside the iteration\n",
    "4. if nums[mid] is equal to target return mid\n",
    "5. else if nums[mid] is less than target than increase left index by 1\n",
    "6. else if nums[mid] is greater than target than reduce right index by 1\n",
    "7. if target not found return left since there target needs to be inserted"
   ]
  },
  {
   "cell_type": "code",
   "execution_count": 7,
   "id": "1951f78f",
   "metadata": {},
   "outputs": [],
   "source": [
    "def searchInsert(nums, target):\n",
    "    left = 0\n",
    "    right = len(nums) - 1\n",
    "\n",
    "    while left <= right:\n",
    "        mid = left + (right - left) // 2\n",
    "\n",
    "        if nums[mid] == target:\n",
    "            return mid\n",
    "        elif nums[mid] < target:\n",
    "            left = mid + 1\n",
    "        else:\n",
    "            right = mid - 1\n",
    "\n",
    "    return left"
   ]
  },
  {
   "cell_type": "code",
   "execution_count": 8,
   "id": "8f3e50b4",
   "metadata": {},
   "outputs": [
    {
     "name": "stdout",
     "output_type": "stream",
     "text": [
      "2\n"
     ]
    }
   ],
   "source": [
    "nums = [1,3,5,6]\n",
    "target = 5\n",
    "print(searchInsert(nums,target))"
   ]
  },
  {
   "cell_type": "code",
   "execution_count": 9,
   "id": "1c142c94",
   "metadata": {},
   "outputs": [
    {
     "name": "stdout",
     "output_type": "stream",
     "text": [
      "4\n"
     ]
    }
   ],
   "source": [
    "nums = [1,3,5,6]\n",
    "target = 8\n",
    "print(searchInsert(nums,target))"
   ]
  },
  {
   "cell_type": "code",
   "execution_count": 10,
   "id": "2ade15ab",
   "metadata": {},
   "outputs": [
    {
     "name": "stdout",
     "output_type": "stream",
     "text": [
      "4\n"
     ]
    }
   ],
   "source": [
    "nums = [2,4,5,6,9]\n",
    "target = 9\n",
    "print(searchInsert(nums,target))"
   ]
  },
  {
   "cell_type": "markdown",
   "id": "5c7bad65",
   "metadata": {},
   "source": [
    "**Time Complexity:** The binary search algorithm has a time complexity of **O(log n)** since it halves the search space in each iteration.\n",
    "\n",
    "**Space Complexity:** The code has a space complexity of **O(1)** since it only uses a constant amount of additional space to store the pointers and variables.\n",
    "\n",
    "---"
   ]
  },
  {
   "cell_type": "markdown",
   "id": "53cc2e4e",
   "metadata": {},
   "source": [
    "💡 **Q4.** You are given a large integer represented as an integer array digits, where each digits[i] is the ith digit of the integer. The digits are ordered from most significant to least significant in left-to-right order. The large integer does not contain any leading 0's.\n",
    "\n",
    "Increment the large integer by one and return the resulting array of digits.\n",
    "\n",
    "**Example 1:**\n",
    "Input: digits = [1,2,3]\n",
    "Output: [1,2,4]\n",
    "\n",
    "**Explanation:** The array represents the integer 123.\n",
    "\n",
    "Incrementing by one gives 123 + 1 = 124.\n",
    "Thus, the result should be [1,2,4].\n",
    "\n",
    "**Algorithm:** \n",
    "1. Iterates through the array in reverse order\n",
    "2. check if the current digit is less than 9, if true then increment the digit by 1 and return the updated array\n",
    "3. else if current digit is 9 then set it to 0 and continue\n",
    "4. if loop ended without returning, then prepend a 1 to the digits for carry over ex. [9,9,9] will be [1,0,0,0]"
   ]
  },
  {
   "cell_type": "code",
   "execution_count": 11,
   "id": "2b57f242",
   "metadata": {},
   "outputs": [],
   "source": [
    "def plusOne(digits: []):\n",
    "    for i in range(len(digits) - 1, -1, -1): #reverses the array\n",
    "        if digits[i] < 9:\n",
    "            digits[i] += 1\n",
    "            return digits\n",
    "        elif digits[i] == 9:\n",
    "            digits[i] = 0 #carry-over\n",
    "    return [1] + digits"
   ]
  },
  {
   "cell_type": "code",
   "execution_count": 12,
   "id": "d1e82246",
   "metadata": {},
   "outputs": [
    {
     "name": "stdout",
     "output_type": "stream",
     "text": [
      "[1, 2, 4]\n"
     ]
    }
   ],
   "source": [
    "digits = [1,2,3]\n",
    "print(plusOne(digits))"
   ]
  },
  {
   "cell_type": "code",
   "execution_count": 13,
   "id": "87b06d41",
   "metadata": {},
   "outputs": [
    {
     "name": "stdout",
     "output_type": "stream",
     "text": [
      "[1, 0, 0, 0]\n"
     ]
    }
   ],
   "source": [
    "digits = [9,9,9]\n",
    "print(plusOne(digits))"
   ]
  },
  {
   "cell_type": "markdown",
   "id": "fa5b222a",
   "metadata": {},
   "source": [
    "**Time Complexity:** Single iteration over the array therefore, the time complexity is **O(n)**.\n",
    "\n",
    "**Space Complexity:** In the worst case, if we have a carry-over from the most significant digit, the resulting array will be one element longer than the original array. Thus, the space complexity is **O(n)**\n",
    "\n",
    "---"
   ]
  },
  {
   "cell_type": "markdown",
   "id": "03e28835",
   "metadata": {},
   "source": [
    "💡 **Q5.** You are given two integer arrays nums1 and nums2, sorted in non-decreasing order, and two integers m and n, representing the number of elements in nums1 and nums2 respectively.\n",
    "\n",
    "Merge nums1 and nums2 into a single array sorted in non-decreasing order.\n",
    "\n",
    "The final sorted array should not be returned by the function, but instead be stored inside the array nums1. To accommodate this, nums1 has a length of m + n, where the first m elements denote the elements that should be merged, and the last n elements are set to 0 and should be ignored. nums2 has a length of n.\n",
    "\n",
    "**Example 1:**\n",
    "Input: nums1 = [1,2,3,0,0,0], m = 3, nums2 = [2,5,6], n = 3\n",
    "Output: [1,2,2,3,5,6]\n",
    "\n",
    "**Explanation:** The arrays we are merging are [1,2,3] and [2,5,6].\n",
    "The result of the merge is [1,2,2,3,5,6] with the underlined elements coming from nums1.\n",
    "\n",
    "**Algorithm:** (Two pointer)\n",
    "1. initilize i,j to 0\n",
    "2. iterate unitl i is less than m and j is less than n\n",
    "3. check if num1[i] is greater than num2[j],\n",
    "4. if true, \n",
    "    then insert num2[j] on the i th position in num1\n",
    "    increment j by 1 and also increment m by 1 since we have added element in num1\n",
    "5. increment i by 1\n",
    "6. if there are remaining elements in num2 after loop ends (j < n) then append all remaining element to num1 using slice operator\n",
    "7. If there are remaining elements in nums1 after the loop completes (i < m), they are removed from nums1 using del nums1[-n:] as they are no longer needed. (Corner case)"
   ]
  },
  {
   "cell_type": "code",
   "execution_count": 14,
   "id": "56de6374",
   "metadata": {},
   "outputs": [],
   "source": [
    "def merge(nums1, nums2, m, n):\n",
    "    if nums2:\n",
    "        i = j = 0\n",
    "        while i < m and j < n:\n",
    "            if nums1[i] > nums2[j]:\n",
    "                nums1.insert(i, nums2[j])\n",
    "                j += 1\n",
    "                m += 1\n",
    "            i += 1\n",
    "        if j < n:\n",
    "            nums1[m:] = nums2[j:]\n",
    "        else:\n",
    "            del nums1[-n:]"
   ]
  },
  {
   "cell_type": "code",
   "execution_count": 15,
   "id": "e822984c",
   "metadata": {},
   "outputs": [
    {
     "data": {
      "text/plain": [
       "[1, 2, 2, 3, 5, 6]"
      ]
     },
     "execution_count": 15,
     "metadata": {},
     "output_type": "execute_result"
    }
   ],
   "source": [
    "nums1 = [1,2,3,0,0,0]\n",
    "nums2 = [2,5,6]\n",
    "m = 3\n",
    "n = 3\n",
    "merge(nums1, nums2, m, n)\n",
    "nums1"
   ]
  },
  {
   "cell_type": "code",
   "execution_count": 16,
   "id": "2bda5855",
   "metadata": {},
   "outputs": [
    {
     "data": {
      "text/plain": [
       "[1]"
      ]
     },
     "execution_count": 16,
     "metadata": {},
     "output_type": "execute_result"
    }
   ],
   "source": [
    "nums1 = [1]\n",
    "nums2 = []\n",
    "m = 1\n",
    "n = 0\n",
    "merge(nums1, nums2, m, n)\n",
    "nums1"
   ]
  },
  {
   "cell_type": "code",
   "execution_count": 17,
   "id": "518a34cd",
   "metadata": {},
   "outputs": [
    {
     "data": {
      "text/plain": [
       "[1]"
      ]
     },
     "execution_count": 17,
     "metadata": {},
     "output_type": "execute_result"
    }
   ],
   "source": [
    "nums1 = [0]\n",
    "nums2 = [1]\n",
    "m = 0\n",
    "n = 1\n",
    "merge(nums1, nums2, m, n)\n",
    "nums1"
   ]
  },
  {
   "cell_type": "code",
   "execution_count": 18,
   "id": "151d382a",
   "metadata": {},
   "outputs": [
    {
     "data": {
      "text/plain": [
       "[1, 2]"
      ]
     },
     "execution_count": 18,
     "metadata": {},
     "output_type": "execute_result"
    }
   ],
   "source": [
    "nums1 = [2,0]\n",
    "nums2 = [1]\n",
    "m = 1\n",
    "n = 1\n",
    "merge(nums1, nums2, m, n)\n",
    "nums1"
   ]
  },
  {
   "cell_type": "markdown",
   "id": "46f8aaef",
   "metadata": {},
   "source": [
    "**Time Complexity:** The code uses a while loop to iterate over the elements of both nums1 and nums2 at most once. Therefore, the time complexity is **O(m + n)**, where m and n are the lengths of nums1 and nums2 respectively.\n",
    "\n",
    "**Space Complexity:** The code does not use any additional data structures or dynamically allocate memory based on the input size. So it is **O(1)**\n",
    "\n",
    "---"
   ]
  },
  {
   "cell_type": "markdown",
   "id": "d9f0b9ef",
   "metadata": {},
   "source": [
    "💡 **Q6.** Given an integer array nums, return true if any value appears at least twice in the array, and return false if every element is distinct.\n",
    "\n",
    "**Example 1:**\n",
    "Input: nums = [1,2,3,1]\n",
    "\n",
    "Output: true\n",
    "\n",
    "**Algorithm:** HashSet approach\n",
    "1. sort the array. (This will be efficient in case the numbers which are repeated are smaller) \n",
    "2. declare a set to keep the distinct numbers.\n",
    "3. iterate over the array\n",
    "4. if the number is present in the set return true\n",
    "5. if loop ends without returning then all elements are unique return false"
   ]
  },
  {
   "cell_type": "code",
   "execution_count": 19,
   "id": "447bf94c",
   "metadata": {},
   "outputs": [],
   "source": [
    "def containsDuplicate(nums: []):\n",
    "    distinctNumSet = set()\n",
    "    nums.sort()\n",
    "    for i in nums:\n",
    "        if i in distinctNumSet:\n",
    "            return True\n",
    "        else:\n",
    "            distinctNumSet.add(i)\n",
    "    return False"
   ]
  },
  {
   "cell_type": "code",
   "execution_count": 20,
   "id": "5bfb8316",
   "metadata": {},
   "outputs": [
    {
     "name": "stdout",
     "output_type": "stream",
     "text": [
      "True\n"
     ]
    }
   ],
   "source": [
    "nums = [1,2,3,1]\n",
    "print(containsDuplicate(nums))"
   ]
  },
  {
   "cell_type": "code",
   "execution_count": 21,
   "id": "6181e8f1",
   "metadata": {},
   "outputs": [
    {
     "name": "stdout",
     "output_type": "stream",
     "text": [
      "False\n"
     ]
    }
   ],
   "source": [
    "nums = [1,2,3,4]\n",
    "print(containsDuplicate(nums))"
   ]
  },
  {
   "cell_type": "code",
   "execution_count": 22,
   "id": "edfdba25",
   "metadata": {},
   "outputs": [
    {
     "name": "stdout",
     "output_type": "stream",
     "text": [
      "True\n"
     ]
    }
   ],
   "source": [
    "nums = [1,1,1,3,3,4,3,2,4,2]\n",
    "print(containsDuplicate(nums))"
   ]
  },
  {
   "cell_type": "markdown",
   "id": "b2b0a1a8",
   "metadata": {},
   "source": [
    "**Time complexity:** The time complexity of this approach is **O(nlogn)** due to the sorting operation, where n is the length of the nums array.\n",
    "\n",
    "**Space complexity:** **O(n)** as the set distinctNumSet may store all distinct elements in the worst case.\n",
    "\n",
    "---"
   ]
  },
  {
   "cell_type": "markdown",
   "id": "a4d197ab",
   "metadata": {},
   "source": [
    "💡 **Q7.** Given an integer array nums, move all 0's to the end of it while maintaining the relative order of the nonzero elements.\n",
    "\n",
    "Note that you must do this in-place without making a copy of the array.\n",
    "\n",
    "**Example 1:**\n",
    "Input: nums = [0,1,0,3,12]\n",
    "Output: [1,3,12,0,0]\n",
    "\n",
    "**Algorithm:** Two Pointer approach\n",
    "1. intialize nz to track the position where the next non-zero element should be placed\n",
    "2. iterate over nums where i is the pointer to current element\n",
    "3. if nums[i] is non zero than swap the nums[i] with nums[nz] and increase the nz pointer by 1\n",
    "4. repeate the steps until all non zero elements are moved towards the beginning of the list"
   ]
  },
  {
   "cell_type": "code",
   "execution_count": 23,
   "id": "dcf6e819",
   "metadata": {},
   "outputs": [],
   "source": [
    "def moveZeroes(nums: []):\n",
    "    nz = 0 \n",
    "    for i in range(len(nums)):\n",
    "        if nums[i] != 0:\n",
    "            nums[nz], nums[i] = nums[i], nums[nz]\n",
    "            nz += 1"
   ]
  },
  {
   "cell_type": "code",
   "execution_count": 24,
   "id": "dbe67a0c",
   "metadata": {},
   "outputs": [
    {
     "name": "stdout",
     "output_type": "stream",
     "text": [
      "[1, 3, 12, 0, 0]\n"
     ]
    }
   ],
   "source": [
    "nums = [0,1,0,3,12]\n",
    "moveZeroes(nums)\n",
    "print(nums)"
   ]
  },
  {
   "cell_type": "markdown",
   "id": "0ad1c0d1",
   "metadata": {},
   "source": [
    "**Time Complexity:** The code iterates through each element in the list once therefore, the time complexity is **O(n)**\n",
    "\n",
    "**Space Complexity:** The space complexity is **O(1)**, no extra space required since in-place moving\n",
    "\n",
    "---"
   ]
  },
  {
   "cell_type": "markdown",
   "id": "9a4beb45",
   "metadata": {},
   "source": [
    "💡 **Q8.** You have a set of integers s, which originally contains all the numbers from 1 to n. Unfortunately, due to some error, one of the numbers in s got duplicated to another number in the set, which results in repetition of one number and loss of another number.\n",
    "\n",
    "You are given an integer array nums representing the data status of this set after the error.\n",
    "\n",
    "Find the number that occurs twice and the number that is missing and return them in the form of an array.\n",
    "\n",
    "**Example 1:**\n",
    "Input: nums = [1,2,2,4]\n",
    "Output: [2,3]\n"
   ]
  },
  {
   "cell_type": "code",
   "execution_count": 25,
   "id": "6cd5cfe2",
   "metadata": {},
   "outputs": [],
   "source": [
    "def findErrorNums(nums: []):\n",
    "    num_freq = {}    \n",
    "    duplicate = missing = 0\n",
    "    for num in nums:\n",
    "        num_freq[num] = num_freq.get(num, 0) + 1\n",
    "    \n",
    "    for num in range(1, len(nums) + 1):\n",
    "        if num in num_freq:\n",
    "            if num_freq[num] == 2:\n",
    "                duplicate = num\n",
    "        else:\n",
    "            missing = num\n",
    "    \n",
    "    return [duplicate, missing]"
   ]
  },
  {
   "cell_type": "code",
   "execution_count": 26,
   "id": "2e222784",
   "metadata": {},
   "outputs": [
    {
     "name": "stdout",
     "output_type": "stream",
     "text": [
      "[2, 3]\n"
     ]
    }
   ],
   "source": [
    "nums = [1,2,2,4]\n",
    "print(findErrorNums(nums))"
   ]
  },
  {
   "cell_type": "code",
   "execution_count": 27,
   "id": "d0cc7d50",
   "metadata": {},
   "outputs": [
    {
     "name": "stdout",
     "output_type": "stream",
     "text": [
      "[5, 2]\n"
     ]
    }
   ],
   "source": [
    "nums = [1,3,4,5,5,7,6]\n",
    "print(findErrorNums(nums))"
   ]
  },
  {
   "cell_type": "markdown",
   "id": "61233d88",
   "metadata": {},
   "source": [
    "Time Complxity : O(n)\n",
    "    \n",
    "Space Complxity: O(n)"
   ]
  }
 ],
 "metadata": {
  "kernelspec": {
   "display_name": "Python 3 (ipykernel)",
   "language": "python",
   "name": "python3"
  },
  "language_info": {
   "codemirror_mode": {
    "name": "ipython",
    "version": 3
   },
   "file_extension": ".py",
   "mimetype": "text/x-python",
   "name": "python",
   "nbconvert_exporter": "python",
   "pygments_lexer": "ipython3",
   "version": "3.10.9"
  }
 },
 "nbformat": 4,
 "nbformat_minor": 5
}
