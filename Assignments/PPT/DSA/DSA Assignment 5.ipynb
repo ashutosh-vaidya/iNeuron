{
 "cells": [
  {
   "cell_type": "markdown",
   "id": "64602a5d",
   "metadata": {},
   "source": [
    "💡 **Question 1**\n",
    "\n",
    "Convert 1D Array Into 2D Array\n",
    "\n",
    "You are given a **0-indexed** 1-dimensional (1D) integer array original, and two integers, m and n. You are tasked with creating a 2-dimensional (2D) array with  m rows and n columns using **all** the elements from original.\n",
    "\n",
    "The elements from indices 0 to n - 1 (**inclusive**) of original should form the first row of the constructed 2D array, the elements from indices n to 2 * n - 1 (**inclusive**) should form the second row of the constructed 2D array, and so on.\n",
    "\n",
    "Return *an* m x n *2D array constructed according to the above procedure, or an empty 2D array if it is impossible*.\n",
    "\n",
    "**Example 1:**\n",
    "\n",
    "**Input:** original = [1,2,3,4], m = 2, n = 2\n",
    "\n",
    "**Output:** [[1,2],[3,4]]\n",
    "\n",
    "**Explanation:** The constructed 2D array should contain 2 rows and 2 columns.\n",
    "\n",
    "The first group of n=2 elements in original, [1,2], becomes the first row in the constructed 2D array.\n",
    "\n",
    "The second group of n=2 elements in original, [3,4], becomes the second row in the constructed 2D array."
   ]
  },
  {
   "cell_type": "code",
   "execution_count": 7,
   "id": "4df70579",
   "metadata": {},
   "outputs": [],
   "source": [
    "def convertTo2D(original, m, n):\n",
    "    if m * n != len(original):\n",
    "        return []\n",
    "\n",
    "    result = []\n",
    "    for i in range(m):\n",
    "        row = original[i * n: (i + 1) * n]\n",
    "        result.append(row)\n",
    "\n",
    "    return result"
   ]
  },
  {
   "cell_type": "code",
   "execution_count": 8,
   "id": "e88d5119",
   "metadata": {},
   "outputs": [
    {
     "name": "stdout",
     "output_type": "stream",
     "text": [
      "[[1, 2], [3, 4]]\n"
     ]
    }
   ],
   "source": [
    "original = [1, 2, 3, 4]\n",
    "m = 2\n",
    "n = 2\n",
    "converted_array = convertTo2D(original, m, n)\n",
    "print(converted_array)"
   ]
  },
  {
   "cell_type": "markdown",
   "id": "52b4cc41",
   "metadata": {},
   "source": [
    "💡 Question 2 You have n coins and you want to build a staircase with these coins. The staircase consists of k rows where the ith row has exactly i coins. The last row of the staircase may be incomplete.\n",
    "\n",
    "Given the integer n, return the number of complete rows of the staircase you will build.\n",
    "\n",
    "Example 1:\n",
    "\n",
    "Input: n = 5\n",
    "\n",
    "Output: 2\n",
    "\n",
    "Explanation: Because the 3rd row is incomplete, we return 2."
   ]
  },
  {
   "cell_type": "code",
   "execution_count": 1,
   "id": "8cdba35f",
   "metadata": {},
   "outputs": [],
   "source": [
    "#approach using binary search\n",
    "def coin_staircase(n):\n",
    "    left, right = 1, n\n",
    "    \n",
    "    while left <= right:\n",
    "        k = left + (right - left) // 2\n",
    "        coins_needed = (k * (k + 1)) // 2\n",
    "        \n",
    "        if coins_needed == n:\n",
    "            return k\n",
    "        \n",
    "        if coins_needed < n:\n",
    "            left = k + 1\n",
    "        else:\n",
    "            right = k - 1\n",
    "    \n",
    "    return right"
   ]
  },
  {
   "cell_type": "code",
   "execution_count": 2,
   "id": "ff080676",
   "metadata": {},
   "outputs": [
    {
     "data": {
      "text/plain": [
       "2"
      ]
     },
     "execution_count": 2,
     "metadata": {},
     "output_type": "execute_result"
    }
   ],
   "source": [
    "n = 5\n",
    "coin_staircase(n)"
   ]
  },
  {
   "cell_type": "code",
   "execution_count": 3,
   "id": "7122269d",
   "metadata": {},
   "outputs": [
    {
     "data": {
      "text/plain": [
       "4"
      ]
     },
     "execution_count": 3,
     "metadata": {},
     "output_type": "execute_result"
    }
   ],
   "source": [
    "n = 10\n",
    "coin_staircase(n)"
   ]
  },
  {
   "cell_type": "code",
   "execution_count": 4,
   "id": "c1b33cb7",
   "metadata": {},
   "outputs": [
    {
     "data": {
      "text/plain": [
       "5"
      ]
     },
     "execution_count": 4,
     "metadata": {},
     "output_type": "execute_result"
    }
   ],
   "source": [
    "n = 15\n",
    "coin_staircase(n)"
   ]
  },
  {
   "cell_type": "markdown",
   "id": "3725cc11",
   "metadata": {},
   "source": [
    "**TC: O(logN), SC: O(1)**"
   ]
  },
  {
   "cell_type": "markdown",
   "id": "deb99646",
   "metadata": {},
   "source": [
    "💡 Question 3 Given an integer array nums sorted in non-decreasing order, return an array of the squares of each number sorted in non-decreasing order.\n",
    "\n",
    "Example 1:\n",
    "\n",
    "Input: nums = [-4,-1,0,3,10]\n",
    "\n",
    "Output: [0,1,9,16,100]\n",
    "\n",
    "Explanation: After squaring, the array becomes [16,1,0,9,100]. After sorting, it becomes [0,1,9,16,100]\n",
    "\n",
    "Approach Two pointer"
   ]
  },
  {
   "cell_type": "code",
   "execution_count": 5,
   "id": "0b5a8a64",
   "metadata": {},
   "outputs": [],
   "source": [
    "def sorted_square(nums):\n",
    "    n = len(nums) \n",
    "    result = [0]* n\n",
    "    left = 0\n",
    "    right = n - 1\n",
    "    index = n - 1\n",
    "    \n",
    "    while left <= right:\n",
    "        if nums[left] ** 2 > nums[right] ** 2:\n",
    "            result[index] = nums[left] ** 2\n",
    "            left += 1\n",
    "        else:\n",
    "            result[index] = nums[right] ** 2\n",
    "            right -= 1\n",
    "        index -= 1\n",
    "    \n",
    "    return result "
   ]
  },
  {
   "cell_type": "code",
   "execution_count": 6,
   "id": "20bb80f5",
   "metadata": {},
   "outputs": [
    {
     "data": {
      "text/plain": [
       "[0, 9, 16, 36, 49, 100]"
      ]
     },
     "execution_count": 6,
     "metadata": {},
     "output_type": "execute_result"
    }
   ],
   "source": [
    "nums = [-6, -3, 0, 4, 7, 10]\n",
    "sorted_square(nums)"
   ]
  },
  {
   "cell_type": "markdown",
   "id": "f6161bd2",
   "metadata": {},
   "source": [
    "**TC: O(N), SC: O(N)**"
   ]
  },
  {
   "cell_type": "markdown",
   "id": "2a748c78",
   "metadata": {},
   "source": [
    "💡 **Question 4**\n",
    "\n",
    "Given two **0-indexed** integer arrays nums1 and nums2, return *a list* answer *of size* 2 *where:*\n",
    "\n",
    "- answer[0] *is a list of all **distinct** integers in* nums1 *which are **not** present in* nums2*.*\n",
    "- answer[1] *is a list of all **distinct** integers in* nums2 *which are **not** present in* nums1.\n",
    "\n",
    "**Note** that the integers in the lists may be returned in **any** order.\n",
    "\n",
    "**Example 1:**\n",
    "\n",
    "**Input:** nums1 = [1,2,3], nums2 = [2,4,6]\n",
    "\n",
    "**Output:** [[1,3],[4,6]]\n",
    "\n",
    "**Explanation:**\n",
    "\n",
    "For nums1, nums1[1] = 2 is present at index 0 of nums2, whereas nums1[0] = 1 and nums1[2] = 3 are not present in nums2. Therefore, answer[0] = [1,3].\n",
    "\n",
    "For nums2, nums2[0] = 2 is present at index 1 of nums1, whereas nums2[1] = 4 and nums2[2] = 6 are not present in nums2. Therefore, answer[1] = [4,6]."
   ]
  },
  {
   "cell_type": "code",
   "execution_count": 9,
   "id": "8c2247d5",
   "metadata": {},
   "outputs": [],
   "source": [
    "def find_distinct(nums1, nums2):\n",
    "    set1 = set(nums1)\n",
    "    set2 = set(nums2)\n",
    "    \n",
    "    distinct_nums1 = [num for num in nums1 if num not in set2]\n",
    "    distinct_nums2 = [num for num in nums2 if num not in set1]\n",
    "    \n",
    "    return [distinct_nums1, distinct_nums2]"
   ]
  },
  {
   "cell_type": "code",
   "execution_count": 10,
   "id": "2878b01a",
   "metadata": {},
   "outputs": [
    {
     "data": {
      "text/plain": [
       "[[1, 3], [4, 6]]"
      ]
     },
     "execution_count": 10,
     "metadata": {},
     "output_type": "execute_result"
    }
   ],
   "source": [
    "nums1 = [1,2,3]\n",
    "nums2 = [2,4,6]\n",
    "find_distinct(nums1,nums2)"
   ]
  },
  {
   "cell_type": "markdown",
   "id": "4690ea42",
   "metadata": {},
   "source": [
    "**TC: O(N+M), SC: O(N+M)**\n",
    "\n",
    "N is length of nums1\n",
    "\n",
    "M is length on nums2"
   ]
  },
  {
   "cell_type": "markdown",
   "id": "087b32cc",
   "metadata": {},
   "source": [
    "💡 **Question 5**\n",
    "\n",
    "Given two integer arrays arr1 and arr2, and the integer d, *return the distance value between the two arrays*.\n",
    "\n",
    "The distance value is defined as the number of elements arr1[i] such that there is not any element arr2[j] where |arr1[i]-arr2[j]| <= d.\n",
    "\n",
    "**Example 1:**\n",
    "\n",
    "**Input:** arr1 = [4,5,8], arr2 = [10,9,1,8], d = 2\n",
    "\n",
    "**Output:** 2\n",
    "\n",
    "**Explanation:**\n",
    "\n",
    "For arr1[0]=4 we have:\n",
    "\n",
    "|4-10|=6 > d=2\n",
    "\n",
    "|4-9|=5 > d=2\n",
    "\n",
    "|4-1|=3 > d=2\n",
    "\n",
    "|4-8|=4 > d=2\n",
    "\n",
    "For arr1[1]=5 we have:\n",
    "\n",
    "|5-10|=5 > d=2\n",
    "\n",
    "|5-9|=4 > d=2\n",
    "\n",
    "|5-1|=4 > d=2\n",
    "\n",
    "|5-8|=3 > d=2\n",
    "\n",
    "For arr1[2]=8 we have:\n",
    "\n",
    "**|8-10|=2 <= d=2**\n",
    "\n",
    "**|8-9|=1 <= d=2**\n",
    "\n",
    "|8-1|=7 > d=2\n",
    "\n",
    "**|8-8|=0 <= d=2**"
   ]
  },
  {
   "cell_type": "code",
   "execution_count": 11,
   "id": "a3d9f4d6",
   "metadata": {},
   "outputs": [],
   "source": [
    "def distanceValue(arr1, arr2, d):\n",
    "    arr2.sort()\n",
    "    distance = 0\n",
    "    for num1 in arr1:\n",
    "        left = 0\n",
    "        right = len(arr2) - 1\n",
    "        valid = True\n",
    "        while left <= right:\n",
    "            mid = (left + right) // 2\n",
    "            if abs(num1 - arr2[mid]) <= d:\n",
    "                valid = False\n",
    "                break\n",
    "            elif num1 < arr2[mid]:\n",
    "                right = mid - 1\n",
    "            else:\n",
    "                left = mid + 1\n",
    "        if valid:\n",
    "            distance += 1\n",
    "    return distance"
   ]
  },
  {
   "cell_type": "code",
   "execution_count": 13,
   "id": "97c477be",
   "metadata": {},
   "outputs": [
    {
     "data": {
      "text/plain": [
       "2"
      ]
     },
     "execution_count": 13,
     "metadata": {},
     "output_type": "execute_result"
    }
   ],
   "source": [
    "arr1 = [4, 5, 8]\n",
    "arr2 = [10, 9, 1, 8]\n",
    "d = 2\n",
    "distanceValue(arr1, arr2, d)"
   ]
  },
  {
   "cell_type": "markdown",
   "id": "1bcbf6d9",
   "metadata": {},
   "source": [
    "**TC: O(mlogn)** where m is length of array 1 n is length of array 2, log n since we sorted array 2\n",
    "\n",
    "**SC: O(1)**"
   ]
  },
  {
   "cell_type": "markdown",
   "id": "bc1344b6",
   "metadata": {},
   "source": [
    "💡 **Question 6**\n",
    "\n",
    "Given an integer array nums of length n where all the integers of nums are in the range [1, n] and each integer appears **once** or **twice**, return *an array of all the integers that appears **twice***.\n",
    "\n",
    "You must write an algorithm that runs in O(n) time and uses only constant extra space.\n",
    "\n",
    "**Example 1:**\n",
    "\n",
    "**Input:** nums = [4,3,2,7,8,2,3,1]\n",
    "\n",
    "**Output:**\n",
    "\n",
    "[2,3]"
   ]
  },
  {
   "cell_type": "code",
   "execution_count": 14,
   "id": "d70b27b3",
   "metadata": {},
   "outputs": [],
   "source": [
    "def findDuplicates(nums):\n",
    "    duplicates = []\n",
    "    for num in nums:\n",
    "        if nums[abs(num) - 1] < 0:\n",
    "            duplicates.append(abs(num))\n",
    "        else:\n",
    "            nums[abs(num) - 1] *= -1\n",
    "    return duplicates"
   ]
  },
  {
   "cell_type": "code",
   "execution_count": 15,
   "id": "2361ec3f",
   "metadata": {},
   "outputs": [
    {
     "name": "stdout",
     "output_type": "stream",
     "text": [
      "[2, 3]\n"
     ]
    }
   ],
   "source": [
    "nums = [4, 3, 2, 7, 8, 2, 3, 1]\n",
    "result = findDuplicates(nums)\n",
    "print(result)"
   ]
  },
  {
   "cell_type": "markdown",
   "id": "91ffdc98",
   "metadata": {},
   "source": [
    "💡 **Question 7**\n",
    "\n",
    "Suppose an array of length n sorted in ascending order is **rotated** between 1 and n times. For example, the array nums = [0,1,2,4,5,6,7] might become:\n",
    "\n",
    "- [4,5,6,7,0,1,2] if it was rotated 4 times.\n",
    "- [0,1,2,4,5,6,7] if it was rotated 7 times.\n",
    "\n",
    "Notice that **rotating** an array [a[0], a[1], a[2], ..., a[n-1]] 1 time results in the array [a[n-1], a[0], a[1], a[2], ..., a[n-2]].\n",
    "\n",
    "Given the sorted rotated array nums of **unique** elements, return *the minimum element of this array*.\n",
    "\n",
    "You must write an algorithm that runs in O(log n) time.\n",
    "\n",
    "**Example 1:**\n",
    "\n",
    "**Input:** nums = [3,4,5,1,2]\n",
    "\n",
    "**Output:** 1\n",
    "\n",
    "**Explanation:**\n",
    "\n",
    "The original array was [1,2,3,4,5] rotated 3 times."
   ]
  },
  {
   "cell_type": "code",
   "execution_count": 16,
   "id": "e335e4b9",
   "metadata": {},
   "outputs": [],
   "source": [
    "def findMin(nums):\n",
    "    left = 0\n",
    "    right = len(nums) - 1\n",
    "    \n",
    "    # Check if the array is already sorted\n",
    "    if nums[left] < nums[right]:\n",
    "        return nums[left]\n",
    "    \n",
    "    # Perform binary search\n",
    "    while left < right:\n",
    "        mid = (left + right) // 2\n",
    "        \n",
    "        # Check if the mid element is greater than the right element\n",
    "        if nums[mid] > nums[right]:\n",
    "            left = mid + 1\n",
    "        else:\n",
    "            right = mid\n",
    "    \n",
    "    # Return the minimum element\n",
    "    return nums[left]"
   ]
  },
  {
   "cell_type": "code",
   "execution_count": 17,
   "id": "4df01292",
   "metadata": {},
   "outputs": [
    {
     "name": "stdout",
     "output_type": "stream",
     "text": [
      "1\n"
     ]
    }
   ],
   "source": [
    "nums = [3, 4, 5, 1, 2]\n",
    "result = findMin(nums)\n",
    "print(result)"
   ]
  },
  {
   "cell_type": "code",
   "execution_count": 18,
   "id": "b94a06de",
   "metadata": {},
   "outputs": [
    {
     "name": "stdout",
     "output_type": "stream",
     "text": [
      "0\n"
     ]
    }
   ],
   "source": [
    "nums = [4,5,6,7,0,1,2]\n",
    "result = findMin(nums)\n",
    "print(result)"
   ]
  },
  {
   "cell_type": "markdown",
   "id": "d7295f3e",
   "metadata": {},
   "source": [
    "💡 **Question 8**\n",
    "\n",
    "An integer array original is transformed into a **doubled** array changed by appending **twice the value** of every element in original, and then randomly **shuffling** the resulting array.\n",
    "\n",
    "Given an array changed, return original *if* changed *is a **doubled** array. If* changed *is not a **doubled** array, return an empty array. The elements in* original *may be returned in **any** order*.\n",
    "\n",
    "**Example 1:**\n",
    "\n",
    "**Input:** changed = [1,3,4,2,6,8]\n",
    "\n",
    "**Output:** [1,3,4]\n",
    "\n",
    "**Explanation:** One possible original array could be [1,3,4]:\n",
    "\n",
    "- Twice the value of 1 is 1 * 2 = 2.\n",
    "- Twice the value of 3 is 3 * 2 = 6.\n",
    "- Twice the value of 4 is 4 * 2 = 8.\n",
    "\n",
    "Other original arrays could be [4,3,1] or [3,1,4]."
   ]
  },
  {
   "cell_type": "code",
   "execution_count": 19,
   "id": "7825f499",
   "metadata": {},
   "outputs": [],
   "source": [
    "from collections import defaultdict\n",
    "\n",
    "def findOriginalArray(changed):\n",
    "    if len(changed) % 2 != 0:\n",
    "        return []\n",
    "    \n",
    "    count = defaultdict(int)\n",
    "    for num in changed:\n",
    "        count[num] += 1\n",
    "    \n",
    "    original = []\n",
    "    for num in changed:\n",
    "        if count[num] == 0:\n",
    "            continue\n",
    "        if count[2 * num] == 0:\n",
    "            return []\n",
    "        original.append(num)\n",
    "        count[num] -= 1\n",
    "        count[2 * num] -= 1\n",
    "    \n",
    "    for value in count.values():\n",
    "        if value != 0:\n",
    "            return []\n",
    "    \n",
    "    return original"
   ]
  },
  {
   "cell_type": "code",
   "execution_count": 20,
   "id": "963b846e",
   "metadata": {},
   "outputs": [
    {
     "name": "stdout",
     "output_type": "stream",
     "text": [
      "[1, 3, 4]\n"
     ]
    }
   ],
   "source": [
    "changed = [1, 3, 4, 2, 6, 8]\n",
    "original = findOriginalArray(changed)\n",
    "print(original)"
   ]
  }
 ],
 "metadata": {
  "kernelspec": {
   "display_name": "Python 3 (ipykernel)",
   "language": "python",
   "name": "python3"
  },
  "language_info": {
   "codemirror_mode": {
    "name": "ipython",
    "version": 3
   },
   "file_extension": ".py",
   "mimetype": "text/x-python",
   "name": "python",
   "nbconvert_exporter": "python",
   "pygments_lexer": "ipython3",
   "version": "3.11.3"
  }
 },
 "nbformat": 4,
 "nbformat_minor": 5
}
