{
 "cells": [
  {
   "cell_type": "markdown",
   "id": "3a21c96f",
   "metadata": {},
   "source": [
    "💡 **Question 1**\n",
    "\n",
    "Given an integer `n`, return *`true` if it is a power of two. Otherwise, return `false`*.\n",
    "\n",
    "An integer `n` is a power of two, if there exists an integer `x` such that `n == 2x`.\n",
    "\n",
    "**Example 1:**\n",
    "Input: n = 1 \n",
    "\n",
    "Output: true\n",
    "\n",
    "**Example 2:**\n",
    "Input: n = 16 \n",
    "\n",
    "Output: true\n",
    "\n",
    "**Example 3:**\n",
    "Input: n = 3 \n",
    "\n",
    "Output: false\n",
    "\n",
    "</aside>"
   ]
  },
  {
   "cell_type": "code",
   "execution_count": 2,
   "id": "97725dcc",
   "metadata": {},
   "outputs": [],
   "source": [
    "import math\n",
    "def log2(x):\n",
    "    if x == 0:\n",
    "        return False\n",
    "    return (math.log10(x)/math.log10(2))\n",
    "\n",
    "def isPowerofTwo(n):\n",
    "    if n == 0:\n",
    "        return False\n",
    "    return (math.ceil(log2(n)) == math.floor(log2(n)))"
   ]
  },
  {
   "cell_type": "code",
   "execution_count": 5,
   "id": "cb1dd6eb",
   "metadata": {},
   "outputs": [
    {
     "data": {
      "text/plain": [
       "True"
      ]
     },
     "execution_count": 5,
     "metadata": {},
     "output_type": "execute_result"
    }
   ],
   "source": [
    "isPowerofTwo(1)"
   ]
  },
  {
   "cell_type": "code",
   "execution_count": 6,
   "id": "3087cf65",
   "metadata": {},
   "outputs": [
    {
     "data": {
      "text/plain": [
       "True"
      ]
     },
     "execution_count": 6,
     "metadata": {},
     "output_type": "execute_result"
    }
   ],
   "source": [
    "isPowerofTwo(16)"
   ]
  },
  {
   "cell_type": "code",
   "execution_count": 7,
   "id": "738dea71",
   "metadata": {},
   "outputs": [
    {
     "data": {
      "text/plain": [
       "False"
      ]
     },
     "execution_count": 7,
     "metadata": {},
     "output_type": "execute_result"
    }
   ],
   "source": [
    "isPowerofTwo(55)"
   ]
  },
  {
   "cell_type": "markdown",
   "id": "6eccd316",
   "metadata": {},
   "source": [
    "💡 **Question 2**\n",
    "\n",
    "Given a number n, find the sum of the first natural numbers.\n",
    "\n",
    "**Example 1:**\n",
    "\n",
    "Input: n = 3 \n",
    "\n",
    "Output: 6\n",
    "\n",
    "**Example 2:**\n",
    "\n",
    "Input  : 5 \n",
    "\n",
    "Output : 15"
   ]
  },
  {
   "cell_type": "code",
   "execution_count": 8,
   "id": "4d1f8ed2",
   "metadata": {},
   "outputs": [],
   "source": [
    "def naturalNumSum(n):\n",
    "    if n == 1:\n",
    "        return 1\n",
    "    return n + naturalNumSum(n - 1)"
   ]
  },
  {
   "cell_type": "code",
   "execution_count": 9,
   "id": "de4ed9e0",
   "metadata": {},
   "outputs": [
    {
     "data": {
      "text/plain": [
       "6"
      ]
     },
     "execution_count": 9,
     "metadata": {},
     "output_type": "execute_result"
    }
   ],
   "source": [
    "naturalNumSum(3)"
   ]
  },
  {
   "cell_type": "code",
   "execution_count": 10,
   "id": "186eec4c",
   "metadata": {},
   "outputs": [
    {
     "data": {
      "text/plain": [
       "15"
      ]
     },
     "execution_count": 10,
     "metadata": {},
     "output_type": "execute_result"
    }
   ],
   "source": [
    "naturalNumSum(5)"
   ]
  },
  {
   "cell_type": "code",
   "execution_count": 11,
   "id": "d7b48c85",
   "metadata": {},
   "outputs": [
    {
     "data": {
      "text/plain": [
       "55"
      ]
     },
     "execution_count": 11,
     "metadata": {},
     "output_type": "execute_result"
    }
   ],
   "source": [
    "naturalNumSum(10)"
   ]
  },
  {
   "cell_type": "markdown",
   "id": "c192f683",
   "metadata": {},
   "source": [
    "💡 **Question 3**\n",
    "\n",
    "****Given a positive integer, N. Find the factorial of N. \n",
    "\n",
    "**Example 1:**\n",
    "\n",
    "Input: N = 5 \n",
    "\n",
    "Output: 120\n",
    "\n",
    "**Example 2:**\n",
    "\n",
    "Input: N = 4\n",
    "\n",
    "Output: 24"
   ]
  },
  {
   "cell_type": "code",
   "execution_count": 12,
   "id": "87f22e3b",
   "metadata": {},
   "outputs": [],
   "source": [
    "def factorial(n):\n",
    "    if n == 1 or n == 0:\n",
    "        return 1\n",
    "    return n * factorial(n - 1)"
   ]
  },
  {
   "cell_type": "code",
   "execution_count": 13,
   "id": "4b02d3cc",
   "metadata": {},
   "outputs": [
    {
     "data": {
      "text/plain": [
       "120"
      ]
     },
     "execution_count": 13,
     "metadata": {},
     "output_type": "execute_result"
    }
   ],
   "source": [
    "factorial(5)"
   ]
  },
  {
   "cell_type": "code",
   "execution_count": 14,
   "id": "a228269a",
   "metadata": {},
   "outputs": [
    {
     "data": {
      "text/plain": [
       "24"
      ]
     },
     "execution_count": 14,
     "metadata": {},
     "output_type": "execute_result"
    }
   ],
   "source": [
    "factorial(4)"
   ]
  },
  {
   "cell_type": "markdown",
   "id": "f4b6d587",
   "metadata": {},
   "source": [
    "💡 **Question 4**\n",
    "\n",
    "Given a number N and a power P, the task is to find the exponent of this number raised to the given power, i.e. N^P.\n",
    "\n",
    "**Example 1 :** \n",
    "\n",
    "Input: N = 5, P = 2\n",
    "\n",
    "Output: 25\n",
    "\n",
    "**Example 2 :**\n",
    "Input: N = 2, P = 5\n",
    "\n",
    "Output: 32"
   ]
  },
  {
   "cell_type": "code",
   "execution_count": 18,
   "id": "c3fadd2a",
   "metadata": {},
   "outputs": [],
   "source": [
    "def findExponent(N, P):\n",
    "    if P == 0:\n",
    "        return 1\n",
    "    return N * findExponent(N, P-1)"
   ]
  },
  {
   "cell_type": "code",
   "execution_count": 19,
   "id": "c92a7516",
   "metadata": {},
   "outputs": [
    {
     "data": {
      "text/plain": [
       "32"
      ]
     },
     "execution_count": 19,
     "metadata": {},
     "output_type": "execute_result"
    }
   ],
   "source": [
    "findExponent(2,5)"
   ]
  },
  {
   "cell_type": "code",
   "execution_count": 20,
   "id": "c19a9165",
   "metadata": {},
   "outputs": [
    {
     "data": {
      "text/plain": [
       "25"
      ]
     },
     "execution_count": 20,
     "metadata": {},
     "output_type": "execute_result"
    }
   ],
   "source": [
    "findExponent(5,2)"
   ]
  },
  {
   "cell_type": "markdown",
   "id": "f4a6e990",
   "metadata": {},
   "source": [
    "💡 **Question 5**\n",
    "\n",
    "Given an array of integers **arr**, the task is to find maximum element of that array using recursion.\n",
    "\n",
    "**Example 1:**\n",
    "\n",
    "Input: arr = {1, 4, 3, -5, -4, 8, 6};\n",
    "Output: 8\n",
    "\n",
    "**Example 2:**\n",
    "\n",
    "Input: arr = {1, 4, 45, 6, 10, -8};\n",
    "Output: 45\n",
    "For finding Maximum\n",
    "\n",
    "Take array Arr[] as input.\n",
    "\n",
    "Function recforMax(int arr[], int len) takes input array and its length and returns maximum in the array using recursion.\n",
    "\n",
    "Take the integer variable maximum.\n",
    "\n",
    "If the current index len is 1 then set maximum=arr[0] and return maximum.\n",
    "\n",
    "Else set minimum = maximum of arr[len] or recforMax(arr,len-1) and return it.\n",
    "\n",
    "At the end the maximum element will be returned.\n",
    "\n",
    "Print result obtained inside main.\n"
   ]
  },
  {
   "cell_type": "code",
   "execution_count": 25,
   "id": "b2e1d9bc",
   "metadata": {},
   "outputs": [],
   "source": [
    "def findMax(arr, n, i):\n",
    "    if (i == n - 1):\n",
    "        return arr[i]    \n",
    "    maximum = findMax(arr, n, i + 1)\n",
    "    return max(maximum, arr[i])"
   ]
  },
  {
   "cell_type": "code",
   "execution_count": 26,
   "id": "268b353d",
   "metadata": {},
   "outputs": [
    {
     "data": {
      "text/plain": [
       "8"
      ]
     },
     "execution_count": 26,
     "metadata": {},
     "output_type": "execute_result"
    }
   ],
   "source": [
    "arr = [1, 4, 3, -5, -4, 8, 6]\n",
    "n = len(arr)\n",
    "findMax(arr, n, 0)"
   ]
  },
  {
   "cell_type": "code",
   "execution_count": 27,
   "id": "f70df46b",
   "metadata": {},
   "outputs": [
    {
     "data": {
      "text/plain": [
       "45"
      ]
     },
     "execution_count": 27,
     "metadata": {},
     "output_type": "execute_result"
    }
   ],
   "source": [
    "arr = [1, 4, 45, 6, 10, -8]\n",
    "n = len(arr)\n",
    "findMax(arr, n, 0)"
   ]
  },
  {
   "cell_type": "markdown",
   "id": "d063e31e",
   "metadata": {},
   "source": [
    "💡 **Question 6**\n",
    "\n",
    "Given first term (a), common difference (d) and a integer N of the Arithmetic Progression series, the task is to find Nth term of the series.\n",
    "\n",
    "**Example 1:**\n",
    "\n",
    "Input : a = 2 d = 1 N = 5\n",
    "Output : 6\n",
    "The 5th term of the series is : 6\n",
    "\n",
    "**Example 2:**\n",
    "\n",
    "Input : a = 5 d = 2 N = 10\n",
    "Output : 23\n",
    "The 10th term of the series is : 23"
   ]
  },
  {
   "cell_type": "code",
   "execution_count": 41,
   "id": "99a0b637",
   "metadata": {},
   "outputs": [],
   "source": [
    "def nthTerm(a, d, n):\n",
    "    if n == 1:\n",
    "        return a\n",
    "    else:\n",
    "        return nthTerm(a + d, d, n - 1)"
   ]
  },
  {
   "cell_type": "code",
   "execution_count": 42,
   "id": "d0c15258",
   "metadata": {},
   "outputs": [
    {
     "data": {
      "text/plain": [
       "6"
      ]
     },
     "execution_count": 42,
     "metadata": {},
     "output_type": "execute_result"
    }
   ],
   "source": [
    "a = 2\n",
    "d = 1 \n",
    "N = 5\n",
    "nthTerm(a, d, N)"
   ]
  },
  {
   "cell_type": "code",
   "execution_count": 43,
   "id": "728bc19b",
   "metadata": {},
   "outputs": [
    {
     "data": {
      "text/plain": [
       "23"
      ]
     },
     "execution_count": 43,
     "metadata": {},
     "output_type": "execute_result"
    }
   ],
   "source": [
    "a = 5\n",
    "d = 2\n",
    "N = 10\n",
    "nthTerm(a, d, N)"
   ]
  },
  {
   "cell_type": "markdown",
   "id": "e713d13b",
   "metadata": {},
   "source": [
    "💡 **Question 7**\n",
    "\n",
    "Given a string S, the task is to write a program to print all permutations of a given string.\n",
    "\n",
    "**Example 1:**\n",
    "\n",
    "***Input:***\n",
    "\n",
    "*S = “ABC”*\n",
    "\n",
    "***Output:***\n",
    "\n",
    "*“ABC”, “ACB”, “BAC”, “BCA”, “CBA”, “CAB”*\n",
    "\n",
    "**Example 2:**\n",
    "\n",
    "***Input:***\n",
    "\n",
    "*S = “XY”*\n",
    "\n",
    "***Output:***\n",
    "\n",
    "*“XY”, “YX”*"
   ]
  },
  {
   "cell_type": "code",
   "execution_count": 50,
   "id": "269dfb66",
   "metadata": {},
   "outputs": [],
   "source": [
    "def permute_string(s):\n",
    "    result = []  # List to store permutations\n",
    "\n",
    "    # Helper function to generate permutations\n",
    "    def backtrack(string, perm):\n",
    "        if not string:  # Base case: no characters left to choose from\n",
    "            result.append(perm)  # Found a permutation\n",
    "            return\n",
    "\n",
    "        for i in range(len(string)):\n",
    "            # Choose a character\n",
    "            char = string[i]\n",
    "\n",
    "            # Recursively generate permutations for the remaining characters\n",
    "            remaining = string[:i] + string[i + 1:]\n",
    "            backtrack(remaining, perm + char)\n",
    "\n",
    "    # Start with an empty permutation and the original string\n",
    "    backtrack(s, \"\")\n",
    "\n",
    "    return result"
   ]
  },
  {
   "cell_type": "code",
   "execution_count": 51,
   "id": "9484c258",
   "metadata": {},
   "outputs": [
    {
     "data": {
      "text/plain": [
       "['ABC', 'ACB', 'BAC', 'BCA', 'CAB', 'CBA']"
      ]
     },
     "execution_count": 51,
     "metadata": {},
     "output_type": "execute_result"
    }
   ],
   "source": [
    "S = \"ABC\"\n",
    "permute_string(S)"
   ]
  },
  {
   "cell_type": "code",
   "execution_count": 53,
   "id": "49f323c7",
   "metadata": {},
   "outputs": [
    {
     "data": {
      "text/plain": [
       "['XY', 'YX']"
      ]
     },
     "execution_count": 53,
     "metadata": {},
     "output_type": "execute_result"
    }
   ],
   "source": [
    "S = \"XY\"\n",
    "permute_string(S)"
   ]
  },
  {
   "cell_type": "markdown",
   "id": "22dd7b2c",
   "metadata": {},
   "source": [
    "💡 **Question 8**\n",
    "\n",
    "Given an array, find a product of all array elements.\n",
    "\n",
    "**Example 1:**\n",
    "\n",
    "Input  : arr[] = {1, 2, 3, 4, 5}\n",
    "Output : 120\n",
    "**Example 2:**\n",
    "\n",
    "Input  : arr[] = {1, 6, 3}\n",
    "Output : 18"
   ]
  },
  {
   "cell_type": "code",
   "execution_count": 56,
   "id": "296660c3",
   "metadata": {},
   "outputs": [],
   "source": [
    "def findProduct(arr, n):\n",
    "    if n == 0:\n",
    "        return 1\n",
    "    return arr[n - 1] * findProduct(arr, n - 1)"
   ]
  },
  {
   "cell_type": "code",
   "execution_count": 57,
   "id": "de2d3607",
   "metadata": {},
   "outputs": [
    {
     "data": {
      "text/plain": [
       "120"
      ]
     },
     "execution_count": 57,
     "metadata": {},
     "output_type": "execute_result"
    }
   ],
   "source": [
    "arr = [1, 2, 3, 4, 5]\n",
    "n = len(arr)\n",
    "findProduct(arr,n)"
   ]
  },
  {
   "cell_type": "code",
   "execution_count": 58,
   "id": "e3789a82",
   "metadata": {},
   "outputs": [
    {
     "data": {
      "text/plain": [
       "18"
      ]
     },
     "execution_count": 58,
     "metadata": {},
     "output_type": "execute_result"
    }
   ],
   "source": [
    "arr = [1, 6, 3]\n",
    "n = len(arr)\n",
    "findProduct(arr,n)"
   ]
  }
 ],
 "metadata": {
  "kernelspec": {
   "display_name": "Python 3 (ipykernel)",
   "language": "python",
   "name": "python3"
  },
  "language_info": {
   "codemirror_mode": {
    "name": "ipython",
    "version": 3
   },
   "file_extension": ".py",
   "mimetype": "text/x-python",
   "name": "python",
   "nbconvert_exporter": "python",
   "pygments_lexer": "ipython3",
   "version": "3.11.3"
  }
 },
 "nbformat": 4,
 "nbformat_minor": 5
}
