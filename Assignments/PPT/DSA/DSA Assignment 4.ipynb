{
 "cells": [
  {
   "cell_type": "markdown",
   "id": "785dd79f",
   "metadata": {},
   "source": [
    "💡 **Question 1**\n",
    "Given three integer arrays arr1, arr2 and arr3 **sorted** in **strictly increasing** order, return a sorted array of **only** the integers that appeared in **all** three arrays.\n",
    "\n",
    "**Example 1:**\n",
    "\n",
    "Input: arr1 = [1,2,3,4,5], arr2 = [1,2,5,7,9], arr3 = [1,3,4,5,8]\n",
    "\n",
    "Output: [1,5]\n",
    "\n",
    "**Explanation:** Only 1 and 5 appeared in the three arrays.\n",
    "\n",
    "**Algo:** 3 pointer approach\n",
    "Assumption is all three array are of the same length\n",
    "1. define empty list to hold common element\n",
    "2. define j = k = 0 (we will use i in the loop)\n",
    "3. calculate n = len(arr1) \n",
    "4. iterate over n\n",
    "5. for 1st iteration i,j and k will all be 0, compare the element at oth index\n",
    "6. if same then add to the list to be return \n",
    "7. while j is less than n and if arr2[j] < arr[i] then increase j by 1\n",
    "8. while k is less than n and if arr3[k] < arr[i] then increase k by 1"
   ]
  },
  {
   "cell_type": "code",
   "execution_count": 1,
   "id": "f8986a99",
   "metadata": {},
   "outputs": [],
   "source": [
    "def common_elements(arr1=[], arr2=[], arr3=[]):\n",
    "    # Assuming all three arrays are of the same length\n",
    "    n = len(arr1)\n",
    "    commons = []\n",
    "    j = k = 0\n",
    "    for i in range(n):\n",
    "        while j < n and arr2[j] < arr1[i]:\n",
    "            j += 1\n",
    "        while k < n and arr3[k] < arr1[i]:\n",
    "            k += 1\n",
    "        if j < n and k < n and arr1[i] == arr2[j] == arr3[k]:\n",
    "            commons.append(arr1[i])\n",
    "            j += 1\n",
    "            k += 1\n",
    "    return commons        "
   ]
  },
  {
   "cell_type": "code",
   "execution_count": null,
   "id": "e5df79e3",
   "metadata": {},
   "outputs": [],
   "source": [
    "arr1 = [1,2,3,4,5]\n",
    "arr2 = [1,2,5,7,9]\n",
    "arr3 = [1,3,4,5,8]\n",
    "\n",
    "common_elements(arr1,arr2,arr3)"
   ]
  },
  {
   "cell_type": "markdown",
   "id": "31030018",
   "metadata": {},
   "source": [
    "**TC: O(N), SC: O(1)**"
   ]
  },
  {
   "cell_type": "markdown",
   "id": "c2e1e1ef",
   "metadata": {},
   "source": [
    "💡 **Question 2**\n",
    "\n",
    "Given two **0-indexed** integer arrays nums1 and nums2, return *a list* answer *of size* 2 *where:*\n",
    "\n",
    "- answer[0] *is a list of all **distinct** integers in* nums1 *which are **not** present in* nums2*.*\n",
    "- answer[1] *is a list of all **distinct** integers in* nums2 *which are **not** present in* nums1.\n",
    "\n",
    "**Note** that the integers in the lists may be returned in **any** order.\n",
    "\n",
    "**Example 1:**\n",
    "\n",
    "**Input:** nums1 = [1,2,3], nums2 = [2,4,6]\n",
    "\n",
    "**Output:** [[1,3],[4,6]]\n",
    "\n",
    "**Explanation:**\n",
    "\n",
    "For nums1, nums1[1] = 2 is present at index 0 of nums2, whereas nums1[0] = 1 and nums1[2] = 3 are not present in nums2. Therefore, answer[0] = [1,3].\n",
    "\n",
    "For nums2, nums2[0] = 2 is present at index 1 of nums1, whereas nums2[1] = 4 and nums2[2] = 6 are not present in nums2. Therefore, answer[1] = [4,6].\n",
    "\n",
    "**Apprach** Using list comperhensions"
   ]
  },
  {
   "cell_type": "code",
   "execution_count": 3,
   "id": "63564d12",
   "metadata": {},
   "outputs": [],
   "source": [
    "def find_distinct(nums1, nums2):\n",
    "    set1 = set(nums1)\n",
    "    set2 = set(nums2)\n",
    "    \n",
    "    distinct_nums1 = [num for num in nums1 if num not in set2]\n",
    "    distinct_nums2 = [num for num in nums2 if num not in set1]\n",
    "    \n",
    "    return [distinct_nums1, distinct_nums2]"
   ]
  },
  {
   "cell_type": "code",
   "execution_count": 4,
   "id": "a8ab0d62",
   "metadata": {},
   "outputs": [
    {
     "data": {
      "text/plain": [
       "[[1, 3], [4, 6]]"
      ]
     },
     "execution_count": 4,
     "metadata": {},
     "output_type": "execute_result"
    }
   ],
   "source": [
    "nums1 = [1,2,3]\n",
    "nums2 = [2,4,6]\n",
    "find_distinct(nums1,nums2)"
   ]
  },
  {
   "cell_type": "markdown",
   "id": "3e6b154f",
   "metadata": {},
   "source": [
    "**TC: O(N+M), SC: O(N+M)**\n",
    "\n",
    "N is length of nums1\n",
    "\n",
    "M is length on nums2"
   ]
  },
  {
   "cell_type": "markdown",
   "id": "2ece1188",
   "metadata": {},
   "source": [
    "💡 **Question 3**\n",
    "Given a 2D integer array matrix, return *the **transpose** of* matrix.\n",
    "\n",
    "The **transpose** of a matrix is the matrix flipped over its main diagonal, switching the matrix's row and column indices.\n",
    "\n",
    "**Example 1:**\n",
    "\n",
    "Input: matrix = [[1,2,3],[4,5,6],[7,8,9]]\n",
    "\n",
    "Output: [[1,4,7],[2,5,8],[3,6,9]]\n",
    "\n",
    "**Approch** Two pointer,\n",
    "- Define array with row length equal to column length of original array and column with row length with all values 0\n",
    "- two loops i till range of rows and j till range of columns \n",
    "- swap element at array[j][i] with array[i][j]\n",
    "- return the transposed array"
   ]
  },
  {
   "cell_type": "code",
   "execution_count": 5,
   "id": "8e037251",
   "metadata": {},
   "outputs": [],
   "source": [
    "def transpose(matrix):\n",
    "    rows = len(matrix)\n",
    "    cols = len(matrix[0])\n",
    "    \n",
    "    transpose_matrix = [[0 for _ in range(rows)] for _ in range(cols)]\n",
    "    \n",
    "    for i in range(rows):\n",
    "        for j in range(cols):\n",
    "            transpose_matrix[j][i] = matrix[i][j]\n",
    "    \n",
    "    return transpose_matrix"
   ]
  },
  {
   "cell_type": "code",
   "execution_count": 6,
   "id": "1054f53f",
   "metadata": {},
   "outputs": [
    {
     "data": {
      "text/plain": [
       "[[1, 2, 3], [4, 5, 6], [7, 8, 9]]"
      ]
     },
     "execution_count": 6,
     "metadata": {},
     "output_type": "execute_result"
    }
   ],
   "source": [
    "matrix = [[1,2,3],[4,5,6],[7,8,9]]\n",
    "transpose(matrix)\n",
    "matrix"
   ]
  },
  {
   "cell_type": "code",
   "execution_count": 7,
   "id": "40968d38",
   "metadata": {},
   "outputs": [
    {
     "data": {
      "text/plain": [
       "[[1, 2, 3], [4, 5, 6]]"
      ]
     },
     "execution_count": 7,
     "metadata": {},
     "output_type": "execute_result"
    }
   ],
   "source": [
    "matrix = [[1,2,3],[4,5,6]]\n",
    "transpose(matrix)\n",
    "matrix"
   ]
  },
  {
   "cell_type": "markdown",
   "id": "61adf29c",
   "metadata": {},
   "source": [
    "**TC: O(N * M), SC: O(N * M)**\n",
    "\n",
    "N is length of rows\n",
    "\n",
    "M is length on columns "
   ]
  },
  {
   "cell_type": "markdown",
   "id": "7040c0c3",
   "metadata": {},
   "source": [
    "💡 **Question 4**\n",
    "Given an integer array nums of 2n integers, group these integers into n pairs (a1, b1), (a2, b2), ..., (an, bn) such that the sum of min(ai, bi) for all i is **maximized**. Return *the maximized sum*.\n",
    "\n",
    "**Example 1:**\n",
    "\n",
    "Input: nums = [1,4,3,2]\n",
    "\n",
    "Output: 4\n",
    "\n",
    "**Explanation:** All possible pairings (ignoring the ordering of elements) are:\n",
    "\n",
    "1. (1, 4), (2, 3) -> min(1, 4) + min(2, 3) = 1 + 2 = 3\n",
    "\n",
    "2. (1, 3), (2, 4) -> min(1, 3) + min(2, 4) = 1 + 2 = 3\n",
    "\n",
    "3. (1, 2), (3, 4) -> min(1, 2) + min(3, 4) = 1 + 3 = 4\n",
    "\n",
    "So the maximum possible sum is 4.\n",
    "\n",
    "**Approach**\n",
    "1. We will sort the array since we need maximized sum\n",
    "2. iterate over each 2nd element of an array and add to the sum\n",
    "3. return the sum"
   ]
  },
  {
   "cell_type": "code",
   "execution_count": 8,
   "id": "bb835a4c",
   "metadata": {},
   "outputs": [],
   "source": [
    "def arrayPairSum(nums):\n",
    "    nums.sort()\n",
    "    n = len(nums)\n",
    "    max_sum = 0\n",
    "    \n",
    "    for i in range(0, n, 2):\n",
    "        max_sum += nums[i]\n",
    "    \n",
    "    return max_sum"
   ]
  },
  {
   "cell_type": "code",
   "execution_count": 9,
   "id": "9bf2bef9",
   "metadata": {},
   "outputs": [
    {
     "data": {
      "text/plain": [
       "4"
      ]
     },
     "execution_count": 9,
     "metadata": {},
     "output_type": "execute_result"
    }
   ],
   "source": [
    "nums = [1,4,3,2]\n",
    "arrayPairSum(nums)"
   ]
  },
  {
   "cell_type": "markdown",
   "id": "072d440f",
   "metadata": {},
   "source": [
    "**TC: O(NlogN), SC: O(1)**"
   ]
  },
  {
   "cell_type": "markdown",
   "id": "858c8c61",
   "metadata": {},
   "source": [
    "💡 **Question 5**\n",
    "You have n coins and you want to build a staircase with these coins. The staircase consists of k rows where the ith row has exactly i coins. The last row of the staircase **may be** incomplete.\n",
    "\n",
    "Given the integer n, return *the number of **complete rows** of the staircase you will build*.\n",
    "\n",
    "**Example 1:**\n",
    "    \n",
    "**Input:** n = 5\n",
    "\n",
    "**Output:** 2\n",
    "\n",
    "**Explanation:** Because the 3rd row is incomplete, we return 2.\n",
    "\n",
    "**Approach** \n",
    "1. intialized completed_row as 0\n",
    "2. iterate over n from i = 1 till n + 1\n",
    "3. each i th row has i coins, so calculate if there are sufficient coins by n - i >= 0\n",
    "4. if there are sufficient coins, increase completed_row by 1 and decrease n by i\n",
    "5. else return the completed_rows\n",
    "6. in case loop is exhausted then also return completed_rows"
   ]
  },
  {
   "cell_type": "code",
   "execution_count": null,
   "id": "2e711d00",
   "metadata": {},
   "outputs": [],
   "source": [
    "def coin_staircase(n):\n",
    "    completed_rows = 0\n",
    "    for i in range(1, n+1):\n",
    "        if n - i >= 0:\n",
    "            n -= i\n",
    "            completed_rows += 1\n",
    "        else:\n",
    "            return completed_rows\n",
    "    completed_rows"
   ]
  },
  {
   "cell_type": "code",
   "execution_count": null,
   "id": "30fe070e",
   "metadata": {},
   "outputs": [],
   "source": [
    "n = 5\n",
    "coin_staircase(n)"
   ]
  },
  {
   "cell_type": "code",
   "execution_count": null,
   "id": "f42eb176",
   "metadata": {},
   "outputs": [],
   "source": [
    "n = 7\n",
    "coin_staircase(n)"
   ]
  },
  {
   "cell_type": "code",
   "execution_count": null,
   "id": "6cc721f2",
   "metadata": {},
   "outputs": [],
   "source": [
    "n = 15\n",
    "coin_staircase(n)"
   ]
  },
  {
   "cell_type": "markdown",
   "id": "e69dcf13",
   "metadata": {},
   "source": [
    "**TC: O(N), SC: O(1)**"
   ]
  },
  {
   "cell_type": "code",
   "execution_count": null,
   "id": "f63d7649",
   "metadata": {},
   "outputs": [],
   "source": [
    "#approach using binary search\n",
    "def coin_staircase(n):\n",
    "    left, right = 1, n\n",
    "    \n",
    "    while left <= right:\n",
    "        k = left + (right - left) // 2\n",
    "        coins_needed = (k * (k + 1)) // 2\n",
    "        \n",
    "        if coins_needed == n:\n",
    "            return k\n",
    "        \n",
    "        if coins_needed < n:\n",
    "            left = k + 1\n",
    "        else:\n",
    "            right = k - 1\n",
    "    \n",
    "    return right"
   ]
  },
  {
   "cell_type": "code",
   "execution_count": null,
   "id": "c5575eaf",
   "metadata": {},
   "outputs": [],
   "source": [
    "n = 5\n",
    "coin_staircase(n)"
   ]
  },
  {
   "cell_type": "code",
   "execution_count": null,
   "id": "76345a0b",
   "metadata": {},
   "outputs": [],
   "source": [
    "n = 7\n",
    "coin_staircase(n)"
   ]
  },
  {
   "cell_type": "code",
   "execution_count": null,
   "id": "eb649d5d",
   "metadata": {},
   "outputs": [],
   "source": [
    "n = 15\n",
    "coin_staircase(n)"
   ]
  },
  {
   "cell_type": "markdown",
   "id": "feae3110",
   "metadata": {},
   "source": [
    "**TC: O(logN), SC: O(1)**"
   ]
  },
  {
   "cell_type": "markdown",
   "id": "42ff0f5f",
   "metadata": {},
   "source": [
    "💡 **Question 6**\n",
    "Given an integer array nums sorted in **non-decreasing** order, return *an array of **the squares of each number** sorted in non-decreasing order*.\n",
    "\n",
    "**Example 1:**\n",
    "\n",
    "Input: nums = [-4,-1,0,3,10]\n",
    "\n",
    "Output: [0,1,9,16,100]\n",
    "\n",
    "**Explanation:** After squaring, the array becomes [16,1,0,9,100].\n",
    "After sorting, it becomes [0,1,9,16,100]\n",
    "\n",
    "**Approach** Two pointer\n",
    "1. intialize result array with n length where n is length of input array\n",
    "2. assign left = 0 and right = n - 1\n",
    "3. assign index = n - 1 this will be used to insert element in result array\n",
    "4. while left is less or equal to right, check the square of nums[left] with nums[right]\n",
    "    4.1 if left is greater, then insert square of nums[left] into result array at index and increase left by 1\n",
    "    4.2 else insert nums[right] square and decrease right by 1\n",
    "    4.3 reduce index by 1\n",
    "5. at the end of loop return the result"
   ]
  },
  {
   "cell_type": "code",
   "execution_count": null,
   "id": "89872a3d",
   "metadata": {},
   "outputs": [],
   "source": [
    "def sorted_square(nums):\n",
    "    n = len(nums) \n",
    "    result = [0]* n\n",
    "    left = 0\n",
    "    right = n - 1\n",
    "    index = n - 1\n",
    "    \n",
    "    while left <= right:\n",
    "        if nums[left] ** 2 > nums[right] ** 2:\n",
    "            result[index] = nums[left] ** 2\n",
    "            left += 1\n",
    "        else:\n",
    "            result[index] = nums[right] ** 2\n",
    "            right -= 1\n",
    "        index -= 1\n",
    "    \n",
    "    return result    "
   ]
  },
  {
   "cell_type": "code",
   "execution_count": null,
   "id": "1398fc85",
   "metadata": {},
   "outputs": [],
   "source": [
    "nums = [-4, -1, 0, 3, 10]\n",
    "sorted_square(nums)"
   ]
  },
  {
   "cell_type": "markdown",
   "id": "ede27e73",
   "metadata": {},
   "source": [
    "**TC: O(N), SC: O(N)**"
   ]
  },
  {
   "cell_type": "markdown",
   "id": "1c35dee5",
   "metadata": {},
   "source": [
    "💡 **Question 7**\n",
    "You are given an m x n matrix M initialized with all 0's and an array of operations ops, where ops[i] = [ai, bi] means M[x][y] should be incremented by one for all 0 <= x < ai and 0 <= y < bi.\n",
    "\n",
    "Count and return *the number of maximum integers in the matrix after performing all the operations*\n",
    "\n",
    "**Example 1:**\n",
    "    \n",
    "**Input:** m = 3, n = 3, ops = [[2,2],[3,3]]\n",
    "\n",
    "**Output:** 4\n",
    "\n",
    "**Explanation:** The maximum integer in M is 2, and there are four of it in M. So return 4."
   ]
  },
  {
   "cell_type": "code",
   "execution_count": null,
   "id": "2349a0e1",
   "metadata": {},
   "outputs": [],
   "source": [
    "def maxCount(m, n, ops):\n",
    "    min_a = m\n",
    "    min_b = n\n",
    "\n",
    "    for op in ops:\n",
    "        min_a = min(min_a, op[0])\n",
    "        min_b = min(min_b, op[1])\n",
    "\n",
    "    return min_a * min_b"
   ]
  },
  {
   "cell_type": "code",
   "execution_count": null,
   "id": "06dfcea8",
   "metadata": {},
   "outputs": [],
   "source": [
    "m = 3\n",
    "n = 3\n",
    "ops = [[2,2],[3,3]]\n",
    "maxCount(m, n, ops)"
   ]
  },
  {
   "cell_type": "markdown",
   "id": "af4af058",
   "metadata": {},
   "source": [
    "**TC: O(n)** where n is length of ops, **SC: O(1)**"
   ]
  },
  {
   "cell_type": "markdown",
   "id": "b2bf6fff",
   "metadata": {},
   "source": [
    "💡 **Question 8**\n",
    "Given the array nums consisting of 2n elements in the form [x1,x2,...,xn,y1,y2,...,yn].\n",
    "\n",
    "Return the array in the form [x1,y1,x2,y2,...,xn,yn].\n",
    "\n",
    "Example 1:\n",
    "\n",
    "Input: nums = [2,5,1,3,4,7], n = 3\n",
    "\n",
    "Output: [2,3,5,4,1,7]\n",
    "\n",
    "Explanation: Since x1=2, x2=5, x3=1, y1=3, y2=4, y3=7 then the answer is [2,3,5,4,1,7]."
   ]
  },
  {
   "cell_type": "code",
   "execution_count": null,
   "id": "ec4da768",
   "metadata": {},
   "outputs": [],
   "source": [
    "def shuffle(nums, n):\n",
    "    for i in range(n):\n",
    "        j = i + n\n",
    "        while j > i + 1:\n",
    "            nums[j], nums[j-1] = nums[j-1], nums[j]\n",
    "            j -= 1\n",
    "    return nums"
   ]
  },
  {
   "cell_type": "code",
   "execution_count": null,
   "id": "ae927bf7",
   "metadata": {},
   "outputs": [],
   "source": [
    "nums = [2,5,1,3,4,7]\n",
    "n = 3\n",
    "shuffle(nums, n)"
   ]
  },
  {
   "cell_type": "markdown",
   "id": "226d5fea",
   "metadata": {},
   "source": [
    "**TC: O(n) where n is length of nums, SC: O(1)**"
   ]
  }
 ],
 "metadata": {
  "kernelspec": {
   "display_name": "Python 3 (ipykernel)",
   "language": "python",
   "name": "python3"
  },
  "language_info": {
   "codemirror_mode": {
    "name": "ipython",
    "version": 3
   },
   "file_extension": ".py",
   "mimetype": "text/x-python",
   "name": "python",
   "nbconvert_exporter": "python",
   "pygments_lexer": "ipython3",
   "version": "3.11.3"
  }
 },
 "nbformat": 4,
 "nbformat_minor": 5
}
