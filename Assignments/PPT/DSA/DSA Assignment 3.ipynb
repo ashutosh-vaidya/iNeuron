{
 "cells": [
  {
   "cell_type": "markdown",
   "id": "934c89e0",
   "metadata": {},
   "source": [
    "**Question 1**\n",
    "Given an integer array nums of length n and an integer target, find three integers\n",
    "in nums such that the sum is closest to the target.\n",
    "Return the sum of the three integers.\n",
    "\n",
    "You may assume that each input would have exactly one solution.\n",
    "\n",
    "Example 1:\n",
    "Input: nums = [-1,2,1,-4], target = 1\n",
    "Output: 2\n",
    "\n",
    "Explanation: The sum that is closest to the target is 2. (-1 + 2 + 1 = 2)."
   ]
  },
  {
   "cell_type": "code",
   "execution_count": 1,
   "id": "7252de7e",
   "metadata": {},
   "outputs": [],
   "source": [
    "def threeSumClosest(nums: [], target: int):\n",
    "    n = len(nums)\n",
    "    nums.sort()\n",
    "    ans = float('inf')\n",
    "    for i in range(n-1):\n",
    "        l, r = i+1, n-1 # starting the search\n",
    "        while l < r:\n",
    "            temp_sum = nums[l] + nums[r] + nums[i]\n",
    "            # if we are above the target, reduce the bigger element\n",
    "            if temp_sum > target: \n",
    "                r -= 1\n",
    "            # if we are below the target, increase the smaller element\n",
    "            elif temp_sum < target: \n",
    "                l += 1\n",
    "            # if we are *at* the target, we have the best possible answer.\n",
    "            else: \n",
    "                return temp_sum\n",
    "            ans = min(ans, temp_sum, key=lambda x: abs(target-x))\n",
    "    return ans"
   ]
  },
  {
   "cell_type": "code",
   "execution_count": 2,
   "id": "ffcc0bf0",
   "metadata": {},
   "outputs": [
    {
     "data": {
      "text/plain": [
       "2"
      ]
     },
     "execution_count": 2,
     "metadata": {},
     "output_type": "execute_result"
    }
   ],
   "source": [
    "nums = [-1,2,1,-4]\n",
    "target = 1\n",
    "threeSumClosest(nums, target)"
   ]
  },
  {
   "cell_type": "markdown",
   "id": "03a35f32",
   "metadata": {},
   "source": [
    "**TC: O(N^2)** two iterations\n",
    "\n",
    "**SC: O(1)** constance amount of space used"
   ]
  },
  {
   "cell_type": "markdown",
   "id": "d9b9021b",
   "metadata": {},
   "source": [
    "**Question 2**\n",
    "Given an array nums of n integers, return an array of all the unique quadruplets\n",
    "\n",
    "[nums[a], nums[b], nums[c], nums[d]] such that:\n",
    "\n",
    "           ● 0 <= a, b, c, d < n\n",
    "           ● a, b, c, and d are distinct.\n",
    "           ● nums[a] + nums[b] + nums[c] + nums[d] == target\n",
    "\n",
    "You may return the answer in any order.\n",
    "\n",
    "Example 1:\n",
    "Input: nums = [1,0,-1,0,-2,2], target = 0\n",
    "Output: [[-2,-1,1,2],[-2,0,0,2],[-1,0,0,1]]"
   ]
  },
  {
   "cell_type": "code",
   "execution_count": 3,
   "id": "30d4875b",
   "metadata": {},
   "outputs": [],
   "source": [
    "#18. 4Sum (LeetCode)\n",
    "def fourSum(nums: [], target: int):\n",
    "    def kSum(nums: [], target: int, k: int):\n",
    "        res = []\n",
    "        # If we have run out of numbers to add, return res.\n",
    "        if not nums:\n",
    "            return res\n",
    "        \n",
    "        # There are k remaining values to add to the sum. The \n",
    "        # average of these values is at least target // k.\n",
    "        average_value = target // k\n",
    "            \n",
    "        # We cannot obtain a sum of target if the smallest value\n",
    "        # in nums is greater than target // k or if the largest \n",
    "        # value in nums is smaller than target // k.\n",
    "        if average_value < nums[0] or nums[-1] < average_value:\n",
    "            return res\n",
    "        \n",
    "        if k == 2:\n",
    "            return twoSum(nums, target)\n",
    "        \n",
    "        for i in range(len(nums)):\n",
    "            if i == 0 or nums[i - 1] != nums[i]:\n",
    "                for subset in kSum(nums[i + 1:], target - nums[i], k - 1):\n",
    "                    res.append([nums[i]] + subset)\n",
    "        \n",
    "        return res\n",
    "\n",
    "    def twoSum(nums: [], target: int):\n",
    "        res = []\n",
    "        s = set()\n",
    "        \n",
    "        for i in range(len(nums)):\n",
    "            if len(res) == 0 or res[-1][1] != nums[i]:\n",
    "                if target - nums[i] in s:\n",
    "                    res.append([target - nums[i], nums[i]])\n",
    "            s.add(nums[i])\n",
    "        \n",
    "        return res\n",
    "\n",
    "    nums.sort()\n",
    "    return kSum(nums, target, 4)"
   ]
  },
  {
   "cell_type": "code",
   "execution_count": 4,
   "id": "85c39e52",
   "metadata": {},
   "outputs": [
    {
     "data": {
      "text/plain": [
       "[[-2, -1, 1, 2], [-2, 0, 0, 2], [-1, 0, 0, 1]]"
      ]
     },
     "execution_count": 4,
     "metadata": {},
     "output_type": "execute_result"
    }
   ],
   "source": [
    "nums = [1,0,-1,0,-2,2]\n",
    "target = 0\n",
    "fourSum(nums, target)"
   ]
  },
  {
   "cell_type": "markdown",
   "id": "be22bc8f",
   "metadata": {},
   "source": [
    "**TC: O(N^3)**\n",
    "\n",
    "**SC: O(N)**"
   ]
  },
  {
   "cell_type": "markdown",
   "id": "e48b56a9",
   "metadata": {},
   "source": [
    "💡 **Question 3**\n",
    "A permutation of an array of integers is an arrangement of its members into a\n",
    "sequence or linear order.\n",
    "\n",
    "For example, for arr = [1,2,3], the following are all the permutations of arr:\n",
    "[1,2,3], [1,3,2], [2, 1, 3], [2, 3, 1], [3,1,2], [3,2,1].\n",
    "\n",
    "The next permutation of an array of integers is the next lexicographically greater\n",
    "permutation of its integer. More formally, if all the permutations of the array are\n",
    "sorted in one container according to their lexicographical order, then the next\n",
    "permutation of that array is the permutation that follows it in the sorted container.\n",
    "\n",
    "If such an arrangement is not possible, the array must be rearranged as the\n",
    "lowest possible order (i.e., sorted in ascending order).\n",
    "\n",
    "    ● For example, the next permutation of arr = [1,2,3] is [1,3,2].\n",
    "    ● Similarly, the next permutation of arr = [2,3,1] is [3,1,2].\n",
    "    ● While the next permutation of arr = [3,2,1] is [1,2,3] because [3,2,1] does not have a lexicographical larger rearrangement.\n",
    "\n",
    "Given an array of integers nums, find the next permutation of nums.\n",
    "The replacement must be in place and use only constant extra memory.\n",
    "\n",
    "**Example 1:**\n",
    "Input: nums = [1,2,3]\n",
    "Output: [1,3,2]"
   ]
  },
  {
   "cell_type": "code",
   "execution_count": 5,
   "id": "3ef14202",
   "metadata": {},
   "outputs": [],
   "source": [
    "def nextPermutation(nums:[]):\n",
    "    # To find next permutations, we'll start from the end\n",
    "    i = j = len(nums)-1\n",
    "    # First we'll find the first non-increasing element starting from the end\n",
    "    while i > 0 and nums[i-1] >= nums[i]:\n",
    "        i -= 1\n",
    "    # After completion of the first loop, there will be two cases\n",
    "    # 1. Our i becomes zero (This will happen if the given array is sorted decreasingly). \n",
    "    #In this case, we'll simply reverse the sequence and will return \n",
    "    if i == 0:\n",
    "        nums.reverse()\n",
    "        return \n",
    "    # 2. If it's not zero then we'll find the first number grater then nums[i-1] starting from end\n",
    "    while nums[j] <= nums[i-1]:\n",
    "        j -= 1\n",
    "    # Now out pointer is pointing at two different positions\n",
    "    # i. first non-assending number from end\n",
    "    # j. first number greater than nums[i-1]\n",
    "        \n",
    "    # We'll swap these two numbers\n",
    "    nums[i-1], nums[j] = nums[j], nums[i-1]\n",
    "        \n",
    "    # We'll reverse a sequence strating from i to end\n",
    "    nums[i:]= nums[len(nums)-1:i-1:-1]\n",
    "        \n",
    "    # We don't need to return anything as we've modified nums in-place"
   ]
  },
  {
   "cell_type": "code",
   "execution_count": 6,
   "id": "fee82256",
   "metadata": {},
   "outputs": [
    {
     "data": {
      "text/plain": [
       "[1, 3, 2]"
      ]
     },
     "execution_count": 6,
     "metadata": {},
     "output_type": "execute_result"
    }
   ],
   "source": [
    "nums = [1,2,3]\n",
    "nextPermutation(nums)\n",
    "nums"
   ]
  },
  {
   "cell_type": "code",
   "execution_count": 7,
   "id": "3d24adea",
   "metadata": {},
   "outputs": [
    {
     "data": {
      "text/plain": [
       "[1, 5, 1]"
      ]
     },
     "execution_count": 7,
     "metadata": {},
     "output_type": "execute_result"
    }
   ],
   "source": [
    "nums = [1,1,5]\n",
    "nextPermutation(nums)\n",
    "nums"
   ]
  },
  {
   "cell_type": "markdown",
   "id": "381367ce",
   "metadata": {},
   "source": [
    "The **time complexity** of this code is **O(n)**, where n is the length of the nums list. The two while loops perform a linear scan of the list, and the reverse operation takes O(n/2) time, which simplifies to O(n) asymptotically.\n",
    "\n",
    "The **space complexity** is **O(1)** since the code uses only a constant amount of extra space, regardless of the input size."
   ]
  },
  {
   "cell_type": "markdown",
   "id": "5f122241",
   "metadata": {},
   "source": [
    "**Question 4**\n",
    "Given a sorted array of distinct integers and a target value, return the index if the\n",
    "target is found. If not, return the index where it would be if it were inserted in\n",
    "order.\n",
    "\n",
    "You must write an algorithm with O(log n) runtime complexity.\n",
    "\n",
    "Example 1:\n",
    "Input: nums = [1,3,5,6], target = 5\n",
    "Output: 2"
   ]
  },
  {
   "cell_type": "code",
   "execution_count": 8,
   "id": "1df999ee",
   "metadata": {},
   "outputs": [],
   "source": [
    "def searchInsert(nums, target):\n",
    "    left = 0\n",
    "    right = len(nums) - 1\n",
    "\n",
    "    while left <= right:\n",
    "        mid = left + (right - left) // 2\n",
    "\n",
    "        if nums[mid] == target:\n",
    "            return mid\n",
    "        elif nums[mid] < target:\n",
    "            left = mid + 1\n",
    "        else:\n",
    "            right = mid - 1\n",
    "\n",
    "    return left"
   ]
  },
  {
   "cell_type": "code",
   "execution_count": 9,
   "id": "8923345c",
   "metadata": {},
   "outputs": [
    {
     "name": "stdout",
     "output_type": "stream",
     "text": [
      "2\n"
     ]
    }
   ],
   "source": [
    "nums = [1,3,5,6]\n",
    "target = 5\n",
    "print(searchInsert(nums,target))"
   ]
  },
  {
   "cell_type": "markdown",
   "id": "536db4a4",
   "metadata": {},
   "source": [
    "**Time Complexity:** The binary search algorithm has a time complexity of **O(log n)** since it halves the search space in each iteration.\n",
    "\n",
    "**Space Complexity:** The code has a space complexity of **O(1)** since it only uses a constant amount of additional space to store the pointers and variables."
   ]
  },
  {
   "cell_type": "markdown",
   "id": "ec678bff",
   "metadata": {},
   "source": [
    "💡 **Question 5**\n",
    "You are given a large integer represented as an integer array digits, where each\n",
    "digits[i] is the ith digit of the integer. The digits are ordered from most significant\n",
    "to least significant in left-to-right order. The large integer does not contain any\n",
    "leading 0's.\n",
    "\n",
    "Increment the large integer by one and return the resulting array of digits.\n",
    "\n",
    "**Example 1:**\n",
    "Input: digits = [1,2,3]\n",
    "Output: [1,2,4]\n",
    "\n",
    "**Explanation:** The array represents the integer 123.\n",
    "Incrementing by one gives 123 + 1 = 124.\n",
    "Thus, the result should be [1,2,4]."
   ]
  },
  {
   "cell_type": "code",
   "execution_count": 10,
   "id": "bba0c2bb",
   "metadata": {},
   "outputs": [],
   "source": [
    "def plusOne(digits: []):\n",
    "    for i in range(len(digits) - 1, -1, -1): #reverses the array\n",
    "        if digits[i] < 9:\n",
    "            digits[i] += 1\n",
    "            return digits\n",
    "        elif digits[i] == 9:\n",
    "            digits[i] = 0 #carry-over\n",
    "    return [1] + digits"
   ]
  },
  {
   "cell_type": "code",
   "execution_count": 11,
   "id": "d04c55fe",
   "metadata": {},
   "outputs": [
    {
     "name": "stdout",
     "output_type": "stream",
     "text": [
      "[1, 2, 4]\n"
     ]
    }
   ],
   "source": [
    "digits = [1,2,3]\n",
    "print(plusOne(digits))"
   ]
  },
  {
   "cell_type": "markdown",
   "id": "e6d35634",
   "metadata": {},
   "source": [
    "**Time Complexity:** Single iteration over the array therefore, the time complexity is **O(n)**.\n",
    "\n",
    "**Space Complexity:** In the worst case, if we have a carry-over from the most significant digit, the resulting array will be one element longer than the original array. Thus, the space complexity is **O(n)**"
   ]
  },
  {
   "cell_type": "markdown",
   "id": "ce8e4c74",
   "metadata": {},
   "source": [
    "**Question 6**\n",
    "Given a non-empty array of integers nums, every element appears twice except\n",
    "for one. Find that single one.\n",
    "\n",
    "You must implement a solution with a linear runtime complexity and use only\n",
    "constant extra space.\n",
    "\n",
    "Example 1:\n",
    "Input: nums = [2,2,1]\n",
    "Output: 1"
   ]
  },
  {
   "cell_type": "code",
   "execution_count": 12,
   "id": "ce501c29",
   "metadata": {},
   "outputs": [],
   "source": [
    "def singleNumber(nums):\n",
    "    for i in range(1,len(nums)):\n",
    "        nums[0] ^= nums[i]\n",
    "    return nums[0]"
   ]
  },
  {
   "cell_type": "code",
   "execution_count": 13,
   "id": "d10d97b7",
   "metadata": {},
   "outputs": [
    {
     "data": {
      "text/plain": [
       "1"
      ]
     },
     "execution_count": 13,
     "metadata": {},
     "output_type": "execute_result"
    }
   ],
   "source": [
    "nums = [2,2,1]\n",
    "singleNumber(nums)"
   ]
  },
  {
   "cell_type": "markdown",
   "id": "d0f7918e",
   "metadata": {},
   "source": [
    "**Time Complexity:** Single iteration over the array therefore, the time complexity is **O(n)**.\n",
    "\n",
    "**Space Complexity: O(1)**"
   ]
  },
  {
   "cell_type": "markdown",
   "id": "dd148575",
   "metadata": {},
   "source": [
    "**Question 7**\n",
    "You are given an inclusive range [lower, upper] and a sorted unique integer array\n",
    "nums, where all elements are within the inclusive range.\n",
    "\n",
    "A number x is considered missing if x is in the range [lower, upper] and x is not in\n",
    "nums.\n",
    "\n",
    "Return the shortest sorted list of ranges that exactly covers all the missing\n",
    "numbers. That is, no element of nums is included in any of the ranges, and each\n",
    "missing number is covered by one of the ranges.\n",
    "\n",
    "Example 1:\n",
    "Input: nums = [0,1,3,50,75], lower = 0, upper = 99\n",
    "Output: [[2,2],[4,49],[51,74],[76,99]]\n",
    "\n",
    "Explanation: The ranges are:\n",
    "[2,2]\n",
    "[4,49]\n",
    "[51,74]\n",
    "[76,99]"
   ]
  },
  {
   "cell_type": "code",
   "execution_count": 14,
   "id": "a3a8b4f8",
   "metadata": {},
   "outputs": [],
   "source": [
    "def findMissingRanges(nums, lower, upper):\n",
    "    result = []\n",
    "    last = lower - 1\n",
    "\n",
    "    for num in nums:\n",
    "        if num > last + 1:\n",
    "            result.append([last + 1, num - 1])\n",
    "        last = num\n",
    "\n",
    "    if last < upper:\n",
    "        result.append([last + 1, upper])\n",
    "\n",
    "    return result"
   ]
  },
  {
   "cell_type": "code",
   "execution_count": 15,
   "id": "87add37f",
   "metadata": {},
   "outputs": [
    {
     "data": {
      "text/plain": [
       "[[2, 2], [4, 49], [51, 74], [76, 99]]"
      ]
     },
     "execution_count": 15,
     "metadata": {},
     "output_type": "execute_result"
    }
   ],
   "source": [
    "nums = [0,1,3,50,75]\n",
    "lower = 0\n",
    "upper = 99\n",
    "findMissingRanges(nums,lower,upper)"
   ]
  },
  {
   "cell_type": "markdown",
   "id": "0d5656ee",
   "metadata": {},
   "source": [
    "**Time Complexity:** Single iteration over the array therefore, the time complexity is **O(n)**.\n",
    "\n",
    "**Space Complexity: O(1)**"
   ]
  },
  {
   "cell_type": "markdown",
   "id": "c7ec13db",
   "metadata": {},
   "source": [
    "**Question 8**\n",
    "Given an array of meeting time intervals where intervals[i] = [starti, endi],\n",
    "determine if a person could attend all meetings.\n",
    "\n",
    "Example 1:\n",
    "Input: intervals = [[0,30],[5,10],[15,20]]\n",
    "Output: false"
   ]
  },
  {
   "cell_type": "code",
   "execution_count": 16,
   "id": "631272db",
   "metadata": {},
   "outputs": [],
   "source": [
    "def canAttendMeetings(intervals):\n",
    "    intervals.sort(key=lambda x: x[0])  # Sort intervals based on start time\n",
    "\n",
    "    for i in range(1, len(intervals)):\n",
    "        if intervals[i][0] < intervals[i-1][1]:\n",
    "            return False\n",
    "\n",
    "    return True"
   ]
  },
  {
   "cell_type": "code",
   "execution_count": 17,
   "id": "f0ddc0f1",
   "metadata": {},
   "outputs": [
    {
     "data": {
      "text/plain": [
       "False"
      ]
     },
     "execution_count": 17,
     "metadata": {},
     "output_type": "execute_result"
    }
   ],
   "source": [
    "intervals = [[0,30],[5,10],[15,20]]\n",
    "canAttendMeetings(intervals)"
   ]
  },
  {
   "cell_type": "markdown",
   "id": "2226a9da",
   "metadata": {},
   "source": [
    "**Time Complexity:** Using sort so **O(nlogn)**.\n",
    "\n",
    "**Space Complexity: O(1)**"
   ]
  }
 ],
 "metadata": {
  "kernelspec": {
   "display_name": "Python 3 (ipykernel)",
   "language": "python",
   "name": "python3"
  },
  "language_info": {
   "codemirror_mode": {
    "name": "ipython",
    "version": 3
   },
   "file_extension": ".py",
   "mimetype": "text/x-python",
   "name": "python",
   "nbconvert_exporter": "python",
   "pygments_lexer": "ipython3",
   "version": "3.10.9"
  }
 },
 "nbformat": 4,
 "nbformat_minor": 5
}
