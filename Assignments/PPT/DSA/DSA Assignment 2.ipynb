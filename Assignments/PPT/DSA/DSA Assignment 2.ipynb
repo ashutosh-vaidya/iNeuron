{
 "cells": [
  {
   "cell_type": "markdown",
   "id": "97c39920",
   "metadata": {},
   "source": [
    "💡 **Question 1**\n",
    "Given an integer array nums of 2n integers, group these integers into n pairs (a1, b1), (a2, b2),..., (an, bn) such that the sum of min(ai, bi) for all i is maximized. Return the maximized sum.\n",
    "\n",
    "**Example 1:**\n",
    "Input: nums = [1,4,3,2]\n",
    "Output: 4\n",
    "\n",
    "**Explanation:** All possible pairings (ignoring the ordering of elements) are:\n",
    "\n",
    "1. (1, 4), (2, 3) -> min(1, 4) + min(2, 3) = 1 + 2 = 3\n",
    "2. (1, 3), (2, 4) -> min(1, 3) + min(2, 4) = 1 + 2 = 3\n",
    "3. (1, 2), (3, 4) -> min(1, 2) + min(3, 4) = 1 + 3 = 4\n",
    "So the maximum possible sum is 4\n",
    "\n",
    "**Algorithm:**\n",
    "1. Sort the array ascending so that we can minimize the waste by pairing smallest number with next smallest number\n",
    "2. intialize the maxSum as 0\n",
    "3. Iterate over each even index of an array such as (0,2,.. etc.) and add the value to the maxSum\n",
    "4. Return the maxSum"
   ]
  },
  {
   "cell_type": "code",
   "execution_count": 1,
   "id": "c6396ad7",
   "metadata": {},
   "outputs": [],
   "source": [
    "def arrayPairSum(nums:[]):\n",
    "    nums.sort()\n",
    "    maxSum = 0\n",
    "    for i in range(0, len(nums), 2):\n",
    "        maxSum += nums[i]\n",
    "    return maxSum"
   ]
  },
  {
   "cell_type": "code",
   "execution_count": 2,
   "id": "5236f5d8",
   "metadata": {},
   "outputs": [
    {
     "data": {
      "text/plain": [
       "4"
      ]
     },
     "execution_count": 2,
     "metadata": {},
     "output_type": "execute_result"
    }
   ],
   "source": [
    "nums = [1,4,3,2]\n",
    "arrayPairSum(nums)"
   ]
  },
  {
   "cell_type": "code",
   "execution_count": 3,
   "id": "b350c823",
   "metadata": {},
   "outputs": [
    {
     "data": {
      "text/plain": [
       "9"
      ]
     },
     "execution_count": 3,
     "metadata": {},
     "output_type": "execute_result"
    }
   ],
   "source": [
    "nums = [6,2,6,5,1,2]\n",
    "arrayPairSum(nums)"
   ]
  },
  {
   "cell_type": "markdown",
   "id": "a44f9593",
   "metadata": {},
   "source": [
    "**Time Complexity: O(NLogN)** since we are sorting the array and only iterating over half of the elements\n",
    "\n",
    "**Space Complexity: O(N)** we are using just one variable maxSum so ideally it should have been O(1) but since we sort the array it is O(N)\n",
    "\n",
    "---"
   ]
  },
  {
   "cell_type": "markdown",
   "id": "04e7631f",
   "metadata": {},
   "source": [
    "**Question 2**\n",
    "Alice has n candies, where the ith candy is of type candyType[i]. Alice noticed that she started to gain weight, so she visited a doctor. \n",
    "\n",
    "The doctor advised Alice to only eat n / 2 of the candies she has (n is always even). Alice likes her candies very much, and she wants to eat the maximum number of different types of candies while still following the doctor's advice. \n",
    "\n",
    "Given the integer array candyType of length n, return the maximum number of different types of candies she can eat if she only eats n / 2 of them.\n",
    "\n",
    "**Example 1:**\n",
    "Input: candyType = [1,1,2,2,3,3]\n",
    "Output: 3\n",
    "\n",
    "**Explanation:** Alice can only eat 6 / 2 = 3 candies. Since there are only 3 types, she can eat one of each type.\n",
    "\n",
    "**Algo:** \n",
    "1. Calculate the max candies can be eaten using n/2\n",
    "2. Create a set from the array to remove duplicate candies and to get unique candies\n",
    "3. compare number of unique candies with max candies allowed\n",
    "   a. if unique candies are less than max candies then return unique candies\n",
    "   b. else return max candies"
   ]
  },
  {
   "cell_type": "code",
   "execution_count": 4,
   "id": "88bef053",
   "metadata": {},
   "outputs": [],
   "source": [
    "def distributeCandies(candyType:[]):\n",
    "    maxCandies = len(candyType)//2 #integer divide\n",
    "    uniqueCandies = len(set(candyType)) #removes duplicate\n",
    "    if maxCandies > uniqueCandies:\n",
    "        return uniqueCandies\n",
    "    else:\n",
    "        return maxCandies"
   ]
  },
  {
   "cell_type": "code",
   "execution_count": 5,
   "id": "5be12098",
   "metadata": {},
   "outputs": [
    {
     "data": {
      "text/plain": [
       "3"
      ]
     },
     "execution_count": 5,
     "metadata": {},
     "output_type": "execute_result"
    }
   ],
   "source": [
    "candyType = [1,1,2,2,3,3]\n",
    "distributeCandies(candyType)"
   ]
  },
  {
   "cell_type": "code",
   "execution_count": 6,
   "id": "c725fa65",
   "metadata": {},
   "outputs": [
    {
     "data": {
      "text/plain": [
       "2"
      ]
     },
     "execution_count": 6,
     "metadata": {},
     "output_type": "execute_result"
    }
   ],
   "source": [
    "candyType = [1,1,2,3]\n",
    "distributeCandies(candyType)"
   ]
  },
  {
   "cell_type": "code",
   "execution_count": 7,
   "id": "4944d650",
   "metadata": {},
   "outputs": [
    {
     "data": {
      "text/plain": [
       "1"
      ]
     },
     "execution_count": 7,
     "metadata": {},
     "output_type": "execute_result"
    }
   ],
   "source": [
    "candyType = [6,6,6,6]\n",
    "distributeCandies(candyType)"
   ]
  },
  {
   "cell_type": "markdown",
   "id": "8d2d1b9c",
   "metadata": {},
   "source": [
    "**Time Complexity : O(N)** Since we are using set\n",
    "\n",
    "**Space Complexity : O(N)** Since we are using set to store the unique candies\n",
    "\n",
    "---"
   ]
  },
  {
   "cell_type": "markdown",
   "id": "c018916e",
   "metadata": {},
   "source": [
    "**Question 3**\n",
    "We define a harmonious array as an array where the difference between its maximum value\n",
    "and its minimum value is exactly 1.\n",
    "\n",
    "Given an integer array nums, return the length of its longest harmonious subsequence\n",
    "among all its possible subsequences.\n",
    "\n",
    "A subsequence of an array is a sequence that can be derived from the array by deleting some or no elements without changing the order of the remaining elements.\n",
    "\n",
    "**Example 1:**\n",
    "Input: nums = [1,3,2,2,5,2,3,7]\n",
    "Output: 5\n",
    "\n",
    "**Explanation:** The longest harmonious subsequence is [3,2,2,2,3].\n",
    "\n",
    "**Algo:**\n",
    "1. Count the freq of the numbers and store in hashmap\n",
    "2. Intialize the max length for harmonious subsequence\n",
    "3. Iterate through hashmap and check if numbers adjucent exist in hashmap\n",
    "4. if exists add the freq of number and its adjuacent one and compare it with max length\n",
    "5. if its greater than max length replace max length with\n",
    "6. repeate until loop ends\n",
    "7. return the max length"
   ]
  },
  {
   "cell_type": "code",
   "execution_count": 8,
   "id": "5966bb85",
   "metadata": {},
   "outputs": [],
   "source": [
    "from collections import Counter\n",
    "def findLHS(nums:[]):\n",
    "    #Better approach\n",
    "    freq = Counter(nums)\n",
    "    max_length = 0\n",
    "    \n",
    "    for key in freq:\n",
    "        if key + 1 in freq:\n",
    "            max_length = max(max_length, freq[key] + freq[key+1])\n",
    "    return max_length\n",
    "\n",
    "#def findLHS(nums:[]):\n",
    "#    num_freq = dict()\n",
    "#    max_length = 0\n",
    "#    \n",
    "#    for num in nums:\n",
    "#        if num in num_freq:\n",
    "#            num_freq[num] += 1\n",
    "#        else:\n",
    "#            num_freq[num] = 1\n",
    "#    for num in nums:\n",
    "#        if num + 1 in num_freq:\n",
    "#            length = num_freq[num] + num_freq[num + 1]\n",
    "#            if max_length < length:\n",
    "#                max_length = length\n",
    "#    \n",
    "#    return max_length "
   ]
  },
  {
   "cell_type": "code",
   "execution_count": 9,
   "id": "1592aa1d",
   "metadata": {},
   "outputs": [
    {
     "data": {
      "text/plain": [
       "5"
      ]
     },
     "execution_count": 9,
     "metadata": {},
     "output_type": "execute_result"
    }
   ],
   "source": [
    "nums = [1,3,2,2,5,2,3,7]\n",
    "findLHS(nums)"
   ]
  },
  {
   "cell_type": "markdown",
   "id": "11b6f4a2",
   "metadata": {},
   "source": [
    "**TC: O(N)** we iterate through nums twice, and each iteration takes linear time.\n",
    "\n",
    "**SC: O(N)** for using a dictionary to store the freq of the number\n",
    "\n",
    "---"
   ]
  },
  {
   "cell_type": "markdown",
   "id": "04bb41d2",
   "metadata": {},
   "source": [
    "**Question 4**\n",
    "You have a long flowerbed in which some of the plots are planted, and some are not.\n",
    "However, flowers cannot be planted in adjacent plots.\n",
    "Given an integer array flowerbed containing 0's and 1's, where 0 means empty and 1 means not empty, and an integer n, return true if n new flowers can be planted in the flowerbed without violating the no-adjacent-flowers rule and false otherwise.\n",
    "\n",
    "**Example 1:**\n",
    "Input: flowerbed = [1,0,0,0,1], n = 1\n",
    "Output: true\n",
    "\n",
    "**Algo:** \n",
    "1. intialize the variable count to zero\n",
    "2. iterate over array\n",
    "3. check if current plot is empty\n",
    "4. if current plot is empty, check if left and right plots to the current are empty\n",
    "5. if both plants are empty we can plant a flower. increase the count by 1\n",
    "6. return true if count >= n else return false\n"
   ]
  },
  {
   "cell_type": "code",
   "execution_count": 10,
   "id": "0d4279da",
   "metadata": {},
   "outputs": [],
   "source": [
    "def canPlaceFlowers(flowerbed: [], n: int):\n",
    "    count = 0\n",
    "    for i in range(len(flowerbed)):\n",
    "        # Check if the current plot is empty.\n",
    "        if flowerbed[i] == 0:\n",
    "            # Check if the left and right plots are empty.\n",
    "            empty_left_plot = (i == 0) or (flowerbed[i - 1] == 0)\n",
    "            empty_right_lot = (i == len(flowerbed) - 1) or (flowerbed[i + 1] == 0)\n",
    "            \n",
    "            # If both plots are empty, we can plant a flower here.\n",
    "            if empty_left_plot and empty_right_lot:\n",
    "                flowerbed[i] = 1\n",
    "                count += 1\n",
    "    return count >= n"
   ]
  },
  {
   "cell_type": "code",
   "execution_count": 11,
   "id": "104af3ba",
   "metadata": {},
   "outputs": [
    {
     "data": {
      "text/plain": [
       "True"
      ]
     },
     "execution_count": 11,
     "metadata": {},
     "output_type": "execute_result"
    }
   ],
   "source": [
    "flowerbed = [1,0,0,0,1]\n",
    "n = 1\n",
    "canPlaceFlowers(flowerbed, n)"
   ]
  },
  {
   "cell_type": "code",
   "execution_count": 12,
   "id": "24c96313",
   "metadata": {},
   "outputs": [
    {
     "data": {
      "text/plain": [
       "False"
      ]
     },
     "execution_count": 12,
     "metadata": {},
     "output_type": "execute_result"
    }
   ],
   "source": [
    "flowerbed = [1,0,0,0,1]\n",
    "n = 2\n",
    "canPlaceFlowers(flowerbed, n)"
   ]
  },
  {
   "cell_type": "markdown",
   "id": "b731e7ea",
   "metadata": {},
   "source": [
    "**TC: O(N)** we iterate through array once\n",
    "\n",
    "**SC: O(1)** No extra space is used\n",
    "\n",
    "---"
   ]
  },
  {
   "cell_type": "markdown",
   "id": "42f69e47",
   "metadata": {},
   "source": [
    "**Question 5**\n",
    "Given an integer array nums, find three numbers whose product is maximum and return the maximum product.\n",
    "\n",
    "**Example 1:**\n",
    "Input: nums = [1,2,3]\n",
    "Output: 6\n",
    "\n",
    "**Algo:**\n",
    "1. reverse sort array\n",
    "2. get the product of first 3 elements\n",
    "3. get the product of first element and last two elements(in case negative numbers)\n",
    "4. compare the product from 2nd and 3rd step and return the max product"
   ]
  },
  {
   "cell_type": "code",
   "execution_count": 13,
   "id": "6cd34865",
   "metadata": {},
   "outputs": [],
   "source": [
    "def maxProd(nums):\n",
    "    nums.sort(reverse = True)\n",
    "    return max(nums[0]*nums[1]*nums[2], nums[0]*nums[-1]*nums[-2])"
   ]
  },
  {
   "cell_type": "code",
   "execution_count": 14,
   "id": "a8b01e2f",
   "metadata": {},
   "outputs": [
    {
     "data": {
      "text/plain": [
       "6"
      ]
     },
     "execution_count": 14,
     "metadata": {},
     "output_type": "execute_result"
    }
   ],
   "source": [
    "nums = [1,2,3]\n",
    "maxProd(nums)"
   ]
  },
  {
   "cell_type": "code",
   "execution_count": 15,
   "id": "55176e6a",
   "metadata": {},
   "outputs": [
    {
     "data": {
      "text/plain": [
       "-6"
      ]
     },
     "execution_count": 15,
     "metadata": {},
     "output_type": "execute_result"
    }
   ],
   "source": [
    "nums = [-1,-2,-3]\n",
    "maxProd(nums)"
   ]
  },
  {
   "cell_type": "code",
   "execution_count": 16,
   "id": "1b1aef09",
   "metadata": {},
   "outputs": [
    {
     "data": {
      "text/plain": [
       "39200"
      ]
     },
     "execution_count": 16,
     "metadata": {},
     "output_type": "execute_result"
    }
   ],
   "source": [
    "nums = [-100,-98,-1,2,3,4]\n",
    "maxProd(nums)"
   ]
  },
  {
   "cell_type": "markdown",
   "id": "53a56ce4",
   "metadata": {},
   "source": [
    "**TC: O(n log n)** since we are sorting the list\n",
    "\n",
    "**SC: O(1)** since it uses only a constant amount of extra space, regardless of the input size.\n",
    "\n",
    "---"
   ]
  },
  {
   "cell_type": "markdown",
   "id": "4c328b7f",
   "metadata": {},
   "source": [
    "**Question 6**\n",
    "Given an array of integers nums which is sorted in ascending order, and an integer target,\n",
    "write a function to search target in nums. If target exists, then return its index. Otherwise,\n",
    "return -1.\n",
    "\n",
    "You must write an algorithm with O(log n) runtime complexity.\n",
    "\n",
    "Input: nums = [-1,0,3,5,9,12], target = 9\n",
    "Output: 4\n",
    "\n",
    "**Explanation:** 9 exists in nums and its index is 4\n",
    "\n",
    "**Algo:** Using binary search\n",
    "\n",
    "1. assign left as a 0th index and right as last index\n",
    "2. iterate until left is less than or equal to right\n",
    "3. calculate mid index inside the iteration\n",
    "4. if nums[mid] is equal to target return mid\n",
    "5. else if nums[mid] is less than target than increase left index by mid + 1\n",
    "6. else if nums[mid] is greater than target than reduce right index by mid - 1\n",
    "7. if target not found return -1"
   ]
  },
  {
   "cell_type": "code",
   "execution_count": 17,
   "id": "d012bd83",
   "metadata": {},
   "outputs": [],
   "source": [
    "def search(nums, target):\n",
    "    left = 0\n",
    "    right = len(nums) - 1\n",
    "\n",
    "    while left <= right:\n",
    "        mid = left + (right - left) // 2\n",
    "\n",
    "        if nums[mid] == target:\n",
    "            return mid\n",
    "        elif nums[mid] < target:\n",
    "            left = mid + 1\n",
    "        else:\n",
    "            right = mid - 1\n",
    "\n",
    "    return -1"
   ]
  },
  {
   "cell_type": "code",
   "execution_count": 18,
   "id": "7047241b",
   "metadata": {},
   "outputs": [
    {
     "data": {
      "text/plain": [
       "4"
      ]
     },
     "execution_count": 18,
     "metadata": {},
     "output_type": "execute_result"
    }
   ],
   "source": [
    "nums = [-1,0,3,5,9,12]\n",
    "target = 9\n",
    "search(nums, target)"
   ]
  },
  {
   "cell_type": "code",
   "execution_count": 19,
   "id": "5609e2b6",
   "metadata": {},
   "outputs": [
    {
     "data": {
      "text/plain": [
       "-1"
      ]
     },
     "execution_count": 19,
     "metadata": {},
     "output_type": "execute_result"
    }
   ],
   "source": [
    "nums = [-1,0,3,5,9,12]\n",
    "target = 2\n",
    "search(nums, target)"
   ]
  },
  {
   "cell_type": "markdown",
   "id": "7481293b",
   "metadata": {},
   "source": [
    "**Time Complexity:** The binary search algorithm has a time complexity of **O(log n)** since it halves the search space in each iteration.\n",
    "\n",
    "**Space Complexity:** The code has a space complexity of **O(1)** since it only uses a constant amount of additional space to store the pointers and variables.\n",
    "\n",
    "---"
   ]
  },
  {
   "cell_type": "markdown",
   "id": "bda10671",
   "metadata": {},
   "source": [
    "**Question 7**\n",
    "An array is monotonic if it is either monotone increasing or monotone decreasing.\n",
    "\n",
    "An array nums is monotone increasing if for all i <= j, nums[i] <= nums[j]. An array nums is\n",
    "monotone decreasing if for all i <= j, nums[i] >= nums[j].\n",
    "\n",
    "Given an integer array nums, return true if the given array is monotonic, or false otherwise.\n",
    "\n",
    "Example 1:\n",
    "Input: nums = [1,2,2,3]\n",
    "Output: true\n",
    "\n",
    "**Algo:**\n",
    "1. intialize the flag increasing and decreasing to true\n",
    "2. iterate over array and compare the current element with the next\n",
    "3. If next number is greater than current, mark decreasing flag to false\n",
    "4. Else If next number is smaller than current, mark increasing flag to true\n",
    "5. after the loop ends, return (incrasing or decreasing) if they are true, else false"
   ]
  },
  {
   "cell_type": "code",
   "execution_count": 20,
   "id": "51d34cee",
   "metadata": {},
   "outputs": [],
   "source": [
    "def isMonotonic(nums):\n",
    "    #return nums == sorted(nums) or nums == sorted(nums, reverse=True)\n",
    "    increasing = decreasing = True\n",
    "\n",
    "    for i in range(1, len(nums)):\n",
    "        if nums[i] < nums[i - 1]:\n",
    "            increasing = False\n",
    "        if nums[i] > nums[i - 1]:\n",
    "            decreasing = False\n",
    "\n",
    "    return increasing or decreasing"
   ]
  },
  {
   "cell_type": "code",
   "execution_count": 21,
   "id": "bca2ed6a",
   "metadata": {},
   "outputs": [
    {
     "data": {
      "text/plain": [
       "True"
      ]
     },
     "execution_count": 21,
     "metadata": {},
     "output_type": "execute_result"
    }
   ],
   "source": [
    "nums = [1,2,2,3]\n",
    "isMonotonic(nums)"
   ]
  },
  {
   "cell_type": "code",
   "execution_count": 22,
   "id": "5e5b4401",
   "metadata": {},
   "outputs": [
    {
     "data": {
      "text/plain": [
       "True"
      ]
     },
     "execution_count": 22,
     "metadata": {},
     "output_type": "execute_result"
    }
   ],
   "source": [
    "nums = [6,5,4,4]\n",
    "isMonotonic(nums)"
   ]
  },
  {
   "cell_type": "code",
   "execution_count": 23,
   "id": "66a38adf",
   "metadata": {},
   "outputs": [
    {
     "data": {
      "text/plain": [
       "False"
      ]
     },
     "execution_count": 23,
     "metadata": {},
     "output_type": "execute_result"
    }
   ],
   "source": [
    "nums = [1,3,2]\n",
    "isMonotonic(nums)"
   ]
  },
  {
   "cell_type": "markdown",
   "id": "2af2433c",
   "metadata": {},
   "source": [
    "**TC: O(N)**\n",
    "\n",
    "**SC: O(1)**\n",
    "\n",
    "---"
   ]
  },
  {
   "cell_type": "markdown",
   "id": "4767585a",
   "metadata": {},
   "source": [
    "**Question 8**\n",
    "You are given an integer array nums and an integer k.\n",
    "\n",
    "In one operation, you can choose any index i where 0 <= i < nums.length and change nums[i] to nums[i] + x where x is an integer from the range [-k, k]. You can apply this operation at most once for each index i.\n",
    "\n",
    "The score of nums is the difference between the maximum and minimum elements in nums.\n",
    "\n",
    "Return the minimum score of nums after applying the mentioned operation at most once for each index in it.\n",
    "\n",
    "Example 1:\n",
    "Input: nums = [1], k = 0\n",
    "Output: 0\n",
    "\n",
    "**Explanation:** The score is max(nums) - min(nums) = 1 - 1 = 0."
   ]
  },
  {
   "cell_type": "code",
   "execution_count": 24,
   "id": "eac10b70",
   "metadata": {},
   "outputs": [],
   "source": [
    "def smallestRange(nums: [], k: int):\n",
    "    maximum, minimum = max(nums), min(nums)\n",
    "    difference = maximum - minimum\n",
    "    \n",
    "    if difference <= 2 * k:\n",
    "        return 0\n",
    "    else:\n",
    "        return difference - 2 * k"
   ]
  },
  {
   "cell_type": "code",
   "execution_count": 25,
   "id": "013b8990",
   "metadata": {},
   "outputs": [
    {
     "data": {
      "text/plain": [
       "0"
      ]
     },
     "execution_count": 25,
     "metadata": {},
     "output_type": "execute_result"
    }
   ],
   "source": [
    "nums = [1]\n",
    "smallestRange(nums, 0)"
   ]
  },
  {
   "cell_type": "code",
   "execution_count": 26,
   "id": "1082f325",
   "metadata": {},
   "outputs": [
    {
     "data": {
      "text/plain": [
       "6"
      ]
     },
     "execution_count": 26,
     "metadata": {},
     "output_type": "execute_result"
    }
   ],
   "source": [
    "nums = [0,10]\n",
    "smallestRange(nums, 2)"
   ]
  },
  {
   "cell_type": "code",
   "execution_count": 27,
   "id": "8f9a4b42",
   "metadata": {},
   "outputs": [
    {
     "data": {
      "text/plain": [
       "0"
      ]
     },
     "execution_count": 27,
     "metadata": {},
     "output_type": "execute_result"
    }
   ],
   "source": [
    "nums = [1,3,6]\n",
    "smallestRange(nums, 3)"
   ]
  },
  {
   "cell_type": "markdown",
   "id": "f2191f2c",
   "metadata": {},
   "source": [
    "**TC: O(N)**\n",
    "\n",
    "**SC: O(1)**\n",
    "\n",
    "---"
   ]
  }
 ],
 "metadata": {
  "kernelspec": {
   "display_name": "Python 3 (ipykernel)",
   "language": "python",
   "name": "python3"
  },
  "language_info": {
   "codemirror_mode": {
    "name": "ipython",
    "version": 3
   },
   "file_extension": ".py",
   "mimetype": "text/x-python",
   "name": "python",
   "nbconvert_exporter": "python",
   "pygments_lexer": "ipython3",
   "version": "3.10.9"
  }
 },
 "nbformat": 4,
 "nbformat_minor": 5
}
